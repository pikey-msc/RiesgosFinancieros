{
  "nbformat": 4,
  "nbformat_minor": 0,
  "metadata": {
    "colab": {
      "provenance": [],
      "include_colab_link": true
    },
    "kernelspec": {
      "name": "python3",
      "display_name": "Python 3"
    },
    "accelerator": "GPU"
  },
  "cells": [
    {
      "cell_type": "markdown",
      "metadata": {
        "id": "view-in-github",
        "colab_type": "text"
      },
      "source": [
        "<a href=\"https://colab.research.google.com/github/pikey-msc/RiesgosFinancieros/blob/master/2024-1/Insumos/BonoM_Cup%C3%B3nCero_c_trad_Python.ipynb\" target=\"_parent\"><img src=\"https://colab.research.google.com/assets/colab-badge.svg\" alt=\"Open In Colab\"/></a>"
      ]
    },
    {
      "cell_type": "code",
      "metadata": {
        "id": "mcpxuWG2cb0S",
        "outputId": "0df5814e-976a-4dd8-e43e-4b2af56f4c1d",
        "colab": {
          "base_uri": "https://localhost:8080/"
        }
      },
      "source": [
        "%load_ext rpy2.ipython\n",
        "!rm -rf RiesgosFinancieros\n",
        "!git clone \"https://github.com/pikey-msc/RiesgosFinancieros/\""
      ],
      "execution_count": null,
      "outputs": [
        {
          "output_type": "stream",
          "name": "stdout",
          "text": [
            "Cloning into 'RiesgosFinancieros'...\n",
            "remote: Enumerating objects: 903, done.\u001b[K\n",
            "remote: Counting objects: 100% (135/135), done.\u001b[K\n",
            "remote: Compressing objects: 100% (70/70), done.\u001b[K\n",
            "remote: Total 903 (delta 84), reused 99 (delta 64), pack-reused 768\u001b[K\n",
            "Receiving objects: 100% (903/903), 62.95 MiB | 18.70 MiB/s, done.\n",
            "Resolving deltas: 100% (589/589), done.\n",
            "Updating files: 100% (415/415), done.\n"
          ]
        }
      ]
    },
    {
      "cell_type": "code",
      "metadata": {
        "id": "Q3rz-S3FEYpc"
      },
      "source": [
        "%%R\n",
        "#Tasa alambrada\n",
        "talamb=function(nodos,curva,plazos) #función de interpolación de tasas por el método alamabrada\n",
        "{\n",
        "  n=max(ncol(plazos),1)\n",
        "  m=max(ncol(nodos),1)\n",
        "  TC=matrix(0,1,n)\n",
        "  TL=matrix(0,1,n)\n",
        "  TF=matrix(0,1,n)\n",
        "  for (j in 1:n)\n",
        "  {\n",
        "    i=1\n",
        "    repeat\n",
        "    {\n",
        "      if(nodos[i]<= plazos[j] && plazos[j] <=nodos[i+1])\n",
        "      {\n",
        "        TC[j]=curva[i]\n",
        "        TL[j]=curva[i+1]\n",
        "        TF[j]=((((1+TL[j]*nodos[i+1]/360)/(1+TC[j]*nodos[i]/360))^((plazos[j]-nodos[i])/(nodos[i+1]-nodos[i]))*(1+TC[j]*nodos[i]/360))-1)*360/plazos[j]\n",
        "        break\n",
        "      }\n",
        "      else if (plazos[j]<nodos[1])\n",
        "      {\n",
        "        TC[j]=curva[1]\n",
        "        TL[j]=curva[1]\n",
        "        TF[j]=curva[1]\n",
        "        break\n",
        "      }\n",
        "      else if (plazos[j]>nodos[m])\n",
        "      {\n",
        "        TC[j]=curva[m]\n",
        "        TL[j]=curva[m]\n",
        "        TF[j]=curva[m]\n",
        "        break\n",
        "      }\n",
        "      else\n",
        "      {i=i+1}\n",
        "    }\n",
        "  }\n",
        "  as.matrix(t(as.numeric(rbind(TF))))\n",
        "}"
      ],
      "execution_count": null,
      "outputs": []
    },
    {
      "cell_type": "code",
      "metadata": {
        "id": "6KmugOBNc1ay"
      },
      "source": [
        "%%R\n",
        "btasadesc=\"RiesgosFinancieros/2020-1/Insumos/tasa_guber.txt\"\n",
        "tfcupon=cbind( 0.065,\t0.0675,\t0.07,\t0.075,\t0.078) #Tasafija del cupón\n",
        "plazos=cbind( 378,\t405,\t550,\t1200,\t1800) #Vencimiento del bono\n",
        "plazocupon=cbind( 182,\t182, 182, 182, 182) #plazos fijos de cada cupón\n",
        "contratos=cbind(22000, -29000, 29000, -46000, 10000) #posición invertida\n",
        "nominal=100\n",
        "itpl=0 #poner 0 si se quiere interpolación lineal o 1 si se quiere tasa alambrada"
      ],
      "execution_count": null,
      "outputs": []
    },
    {
      "cell_type": "code",
      "metadata": {
        "id": "Z0vImHjQdAH_",
        "outputId": "d3b81b8f-5e5a-4279-fa5d-c982621a6561",
        "colab": {
          "base_uri": "https://localhost:8080/"
        }
      },
      "source": [
        "%%R\n",
        "#carga de datos\n",
        "#carga de tasas de descuento\n",
        "data1<-read.table(btasadesc)\n",
        "n<-nrow(data1)\n",
        "m_orig=ncol(data1)\n",
        "X_orig=data.frame(data1[2:n,2:m_orig])\n",
        "nodos=data.frame(data1[1,2:m_orig])\n",
        "n=n-1\n",
        "#Posición inicial\n",
        "#interpolación de tasas y volatilidades\n",
        "m=ncol(plazos)\n",
        "\n",
        "\n",
        "      N=as.integer(plazos/plazocupon)+1 #número de cupones a pagar\n",
        "      VTplazos=matrix(0,1,sum(N)) #vector de todos los plazos de todos los contratos\n",
        "      contratosT=matrix(0,1,sum(N)) #vector de todos los contratos de todos los flujos de todos los contratos\n",
        "      nominalT=matrix(0,1,sum(N)) #vector de todos los nominales de todos los flujos de todos los contratos\n",
        "      plazocuponT=matrix(0,1,sum(N)) #vector de todos los plazoscupon de todos los flujos de todos los contratos\n",
        "      tasafijaT=matrix(0,1,sum(N)) #vector de tasas fijas de todos los flujos de todos los contratos\n",
        "      ulNomT=matrix(0,1,sum(N)) #vector de contratos a final de flujo\n",
        "\n",
        "\n",
        "      plazini=plazos-plazocupon*(N-1) #vector de plazos iniciales\n",
        "\n",
        "      for (j in (1:m))\n",
        "      {\n",
        "        if (j==1)\n",
        "        {\n",
        "          VTplazos[,1:sum(N[1:j])]=seq(plazini[j],plazos[j], by=plazocupon[j])\n",
        "          contratosT[,1:sum(N[1:j])]=seq(contratos[j],contratos[j])\n",
        "          plazocuponT[,1:sum(N[1:j])]=seq(plazocupon[j],plazocupon[j])\n",
        "          tasafijaT[,1:sum(N[1:j])]=seq(tfcupon[j],tfcupon[j])\n",
        "          ulNomT[,sum(N[1:j])]=contratos[j]\n",
        "        }\n",
        "        else\n",
        "        {\n",
        "          VTplazos[,(sum(N[1:j-1])+1):sum(N[1:j])]=seq(plazini[j],plazos[j], by=plazocupon[j])\n",
        "          contratosT[,(sum(N[1:j-1])+1):sum(N[1:j])]=seq(contratos[j],contratos[j])\n",
        "          plazocuponT[,(sum(N[1:j-1])+1):sum(N[1:j])]=seq(plazocupon[j],plazocupon[j])\n",
        "          tasafijaT[,(sum(N[1:j-1])+1):sum(N[1:j])]=seq(tfcupon[j],tfcupon[j])\n",
        "          ulNomT[,sum(N[1:j])]=contratos[j]\n",
        "        }\n",
        "      }\n",
        "\n",
        "      Xvp=matrix(0,n,ncol(VTplazos))\n",
        "\n",
        "      for (i in (1:n))\n",
        "      {\n",
        "        Xvp[i,]=if(itpl==0){approx(nodos,X_orig[i,],VTplazos)$y}else{talamb(nodos,X_orig[i,],VTplazos)}\n",
        "\n",
        "      }\n",
        "\n",
        "      print(VTplazos)\n",
        "      ulNomT\n",
        "      print(tasafijaT)\n",
        "      N"
      ],
      "execution_count": null,
      "outputs": [
        {
          "output_type": "stream",
          "name": "stdout",
          "text": [
            "     [,1] [,2] [,3] [,4] [,5] [,6] [,7] [,8] [,9] [,10] [,11] [,12] [,13] [,14]\n",
            "[1,]   14  196  378   41  223  405    4  186  368   550   108   290   472   654\n",
            "     [,15] [,16] [,17] [,18] [,19] [,20] [,21] [,22] [,23] [,24] [,25] [,26]\n",
            "[1,]   836  1018  1200   162   344   526   708   890  1072  1254  1436  1618\n",
            "     [,27]\n",
            "[1,]  1800\n",
            "      [,1]  [,2]  [,3]   [,4]   [,5]   [,6] [,7] [,8] [,9] [,10] [,11] [,12]\n",
            "[1,] 0.065 0.065 0.065 0.0675 0.0675 0.0675 0.07 0.07 0.07  0.07 0.075 0.075\n",
            "     [,13] [,14] [,15] [,16] [,17] [,18] [,19] [,20] [,21] [,22] [,23] [,24]\n",
            "[1,] 0.075 0.075 0.075 0.075 0.075 0.078 0.078 0.078 0.078 0.078 0.078 0.078\n",
            "     [,25] [,26] [,27]\n",
            "[1,] 0.078 0.078 0.078\n",
            "[1]  3  3  4  7 10\n"
          ]
        }
      ]
    },
    {
      "cell_type": "markdown",
      "metadata": {
        "id": "6axC72nndTjb"
      },
      "source": [
        "$$ V_{cc}=\\sum_{i=1}^{n}\\frac{N\\cdot C \\cdot t_{c}\\cdot p_c/360}{(1+t_{vp_{p_i}} \\cdot p_i/360)} + \\frac{N\\cdot C}{(1+t_{vp_{p_n}} \\cdot p_n/360)}$$\n",
        "\n",
        "Donde\n",
        "$V_{cc}$: Valor del Bono bajo tasa de curva cupón cero (Precio Sucio)\n",
        "$N$: Valor Nominal del bono.\n",
        "$C$: Número de contratos.\n",
        "$p_{c}$: Plazo fijo para cada pago de intereses del cupón.\n",
        "$p_{i}$: Plazo acumulado (en días) al cupón $i$.\n",
        "$t_{c}$: Tasa cupón fija\n",
        "$t_{vp_{p_i}}$: Tasa valor presente que depende de la curva de bonos cupón cero según el plazo acumulado al pago del cupón $i$\n",
        "Se tiene nun factor de riesgo subyacente (curva gubernamental) y $n$ factores de riesgos.\n"
      ]
    },
    {
      "cell_type": "code",
      "metadata": {
        "id": "B8HWAri4dO35",
        "outputId": "3d5456bf-2876-414e-b6ca-e39d63c5335e",
        "colab": {
          "base_uri": "https://localhost:8080/"
        }
      },
      "source": [
        "%%R\n",
        "# library(plyr)\n",
        "bonoMcccero=function(contratosT, nominal, tasafijaT, plazocuponT, VTplazos, Xvp, N)\n",
        "{\n",
        "        V0=matrix(0,1,nrow(as.matrix(N)))\n",
        "          V0f=((((contratosT*(tasafijaT)*(plazocuponT/360))+ulNomT)/(1+Xvp*VTplazos/360)))*nominal\n",
        "        for (j in (1:nrow(as.matrix(N))))\n",
        "        {\n",
        "          if(j==1)\n",
        "          {\n",
        "            V0[j]=sum(V0f[j:N[j]])\n",
        "          }\n",
        "          else\n",
        "          {\n",
        "            V0[j]=sum(V0f[(sum(N[1:j-1])+1):(sum(N[1:j]))])\n",
        "          }\n",
        "        }\n",
        "        V0\n",
        "}\n",
        "\n",
        "\n",
        "V0=bonoMcccero(contratosT, nominal, tasafijaT, plazocuponT, VTplazos, Xvp[1,], N)\n",
        "V0"
      ],
      "execution_count": null,
      "outputs": [
        {
          "output_type": "stream",
          "name": "stdout",
          "text": [
            "        [,1]     [,2]    [,3]     [,4]    [,5]\n",
            "[1,] 2236227 -2941747 2968292 -4643548 1009418\n"
          ]
        }
      ]
    },
    {
      "cell_type": "markdown",
      "source": [
        "##TRADUCCIÓN A PYTHON"
      ],
      "metadata": {
        "id": "BEcd_eLIKUpP"
      }
    },
    {
      "cell_type": "code",
      "source": [
        "#celda 1\n",
        "import numpy as np\n",
        "\n",
        "def talamb(nodos, curva, plazos):\n",
        "    n = max(plazos.shape[1], 1)\n",
        "    m = max(nodos.shape[1], 1)\n",
        "    TC = np.zeros((1, n))\n",
        "    TL = np.zeros((1, n))\n",
        "    TF = np.zeros((1, n))\n",
        "\n",
        "    for j in range(n):\n",
        "        i = 0\n",
        "        while i < m - 1:\n",
        "            if nodos[0, i] <= plazos[0, j] <= nodos[0, i + 1]:\n",
        "                TC[0, j] = curva[0, i]\n",
        "                TL[0, j] = curva[0, i + 1]\n",
        "                TF[0, j] = ((((1 + TL[0, j] * nodos[0, i + 1] / 360) / (1 + TC[0, j] * nodos[0, i] / 360)) **\n",
        "                            ((plazos[0, j] - nodos[0, i]) / (nodos[0, i + 1] - nodos[0, i])) *\n",
        "                            (1 + TC[0, j] * nodos[0, i] / 360)) - 1) * 360 / plazos[0, j]\n",
        "                break\n",
        "            elif plazos[0, j] < nodos[0, 0]:\n",
        "                TC[0, j] = curva[0, 0]\n",
        "                TL[0, j] = curva[0, 0]\n",
        "                TF[0, j] = curva[0, 0]\n",
        "                break\n",
        "            elif plazos[0, j] > nodos[0, m - 1]:\n",
        "                TC[0, j] = curva[0, m - 1]\n",
        "                TL[0, j] = curva[0, m - 1]\n",
        "                TF[0, j] = curva[0, m - 1]\n",
        "                break\n",
        "            else:\n",
        "                i += 1\n",
        "\n",
        "    return TF\n",
        "\n",
        "\n"
      ],
      "metadata": {
        "id": "G1onr2u5KX80"
      },
      "execution_count": null,
      "outputs": []
    },
    {
      "cell_type": "code",
      "source": [
        "#celda 2\n",
        "import numpy as np\n",
        "\n",
        "# Ruta del archivo de tasas\n",
        "btasadesc = \"RiesgosFinancieros/2020-1/Insumos/tasa_guber.txt\"\n",
        "\n",
        "# Tasas fijas del cupón\n",
        "tfcupon = np.array([0.065, 0.0675, 0.07, 0.075, 0.078])\n",
        "\n",
        "# Vencimiento del bono\n",
        "plazos = np.array([378, 405, 550, 1200, 1800])\n",
        "\n",
        "# Plazos fijos de cada cupón\n",
        "plazocupon = np.array([182, 182, 182, 182, 182])\n",
        "\n",
        "# Posición invertida\n",
        "contratos = np.array([22000, -29000, 29000, -46000, 10000])\n",
        "\n",
        "# Nominal\n",
        "nominal = 100\n",
        "\n",
        "# Tipo de interpolación (0 para interpolación lineal, 1 para tasa alambrada)\n",
        "itpl = 1\n"
      ],
      "metadata": {
        "id": "cuQamccxKZyk"
      },
      "execution_count": null,
      "outputs": []
    },
    {
      "cell_type": "code",
      "source": [
        "#celda 3\n",
        "import numpy as np\n",
        "import pandas as pd\n",
        "\n",
        "# Carga de datos - supongamos que los datos se encuentran en un archivo CSV llamado \"btasadesc.csv\"\n",
        "# Asegúrate de proporcionar la ruta completa al archivo o que el archivo esté en el directorio actual.\n",
        "# data1 = pd.read_(\"btasadesc.txt\", header=None)\n",
        "data1 = pd.read_csv(\"RiesgosFinancieros/2020-1/Insumos/tasa_guber.txt\", sep=\"\\t\", header=None)\n",
        "\n",
        "# Obtiene el número de filas y columnas de data1\n",
        "n, m_orig= data1.shape\n",
        "\n",
        "# Crear un DataFrame con los datos sin la primera fila y la primera columna\n",
        "X_orig = np.matrix(pd.DataFrame(data1.values[1:, 1:len(data1.values[0])-1], dtype=float))\n",
        "\n",
        "# Obtener nodos\n",
        "nodos = pd.DataFrame(data1.values[0, 1:(len(data1.values[0])-1)], dtype=int)\n",
        "n = n - 1\n",
        "\n",
        "# Define las variables plazos, plazocupon, tfcupon y itpl que faltan en tu código\n",
        "plazos = np.array([378, 405, 550, 1200, 1800])\n",
        "plazocupon = np.array([182, 182, 182, 182, 182])\n",
        "tfcupon = np.array([0.065, 0.0675, 0.07, 0.075, 0.078])\n",
        "itpl = 0  # Pon 0 si se quiere interpolación lineal o 1 si se quiere tasa alambrada\n",
        "\n",
        "m=len(plazos)\n"
      ],
      "metadata": {
        "id": "DafqnTxsKa8s"
      },
      "execution_count": null,
      "outputs": []
    },
    {
      "cell_type": "code",
      "source": [
        "import numpy as np\n",
        "\n",
        "# Número de cupones a pagar\n",
        "N = (plazos / plazocupon).astype(int) + 1\n",
        "\n",
        "# Vector de todos los plazos de todos los contratos\n",
        "VTplazos = np.zeros((1, int(np.sum(N))))\n",
        "\n",
        "# Vector de todos los contratos de todos los flujos de todos los contratos\n",
        "contratosT = np.zeros((1, int(np.sum(N))))\n",
        "\n",
        "# Vector de todos los nominales de todos los flujos de todos los contratos\n",
        "nominalT = np.zeros((1, int(np.sum(N))))\n",
        "\n",
        "# Vector de todos los plazos de cupón de todos los flujos de todos los contratos\n",
        "plazocuponT = np.zeros((1, int(np.sum(N))))\n",
        "\n",
        "# Vector de tasas fijas de todos los flujos de todos los contratos\n",
        "tasafijaT = np.zeros((1, int(np.sum(N))))\n",
        "\n",
        "# Vector de contratos a final de flujo\n",
        "ulNomT = np.zeros((1, int(np.sum(N))))\n",
        "\n",
        "# Vector de plazos iniciales\n",
        "plazini = plazos - plazocupon * (N - 1)\n",
        "\n",
        "for j in range(m):\n",
        "  # print(j)\n",
        "  if j == 0:\n",
        "      VTplazos[:, 0:int(np.sum(N[0:j+1]))] = np.arange(plazini[j], plazos[j] + plazocupon[j], plazocupon[j])\n",
        "      contratosT[:, 0:int(np.sum(N[0:j+1]))] = np.arange(contratos[j], contratos[j] + 1)\n",
        "      plazocuponT[:, 0:int(np.sum(N[0:j+1]))] = plazocupon[j] * np.ones(int(np.sum(N[0:j+1])))\n",
        "      tasafijaT[:, 0:int(np.sum(N[0:j+1]))] = tfcupon[j] * np.ones(int(np.sum(N[0:j+1])))\n",
        "      ulNomT[:, N[j]-1] = contratos[j]\n",
        "  else:\n",
        "      VTplazos[:, int(np.sum(N[0:j])):int(np.sum(N[0:j+1]))] = np.arange(plazini[j], plazos[j] + plazocupon[j], plazocupon[j])\n",
        "      contratosT[:, int(np.sum(N[0:j])):int(np.sum(N[0:j+1]))] = np.arange(contratos[j], contratos[j] + 1)\n",
        "      plazocuponT[:, int(np.sum(N[0:j])):int(np.sum(N[0:j+1]))] = plazocupon[j] * np.ones(int(np.sum(N[j:j+1])))\n",
        "      tasafijaT[:, int(np.sum(N[0:j])):int(np.sum(N[0:j+1]))] = tfcupon[j] * np.ones(int(np.sum(N[j:j+1])))\n",
        "      ulNomT[:, int(np.sum(N[0:j+1]))-1] = contratos[j]\n",
        "\n",
        "Xvp = np.zeros((n, VTplazos.shape[1]))\n",
        "\n",
        "for i in range(n):\n",
        "    if itpl == 0:\n",
        "        # Utiliza interpolación lineal\n",
        "        Xvp[i, :] = np.interp(VTplazos[0, :],np.array(nodos[0]), np.array(X_orig[i])[0])\n",
        "    else:\n",
        "        # Utiliza la función talamb\n",
        "        # (Asegúrate de que tengas definida la función talamb)\n",
        "        Xvp[i, :] = talamb(nodos, X_orig[i, :], VTplazos[0, :])\n",
        "\n",
        "print(VTplazos)\n",
        "print(ulNomT)\n",
        "print(contratosT)\n",
        "print(tasafijaT)\n",
        "print(np.array(X_orig[i][0]))\n",
        "# print(N)\n",
        "print(N[0])\n",
        "ulNomT[:, N[0]]\n",
        "contratos[0]"
      ],
      "metadata": {
        "colab": {
          "base_uri": "https://localhost:8080/"
        },
        "id": "h6eKtjywQiPq",
        "outputId": "a1ea1279-ed8a-4ccc-ac72-901d72b23c29"
      },
      "execution_count": null,
      "outputs": [
        {
          "output_type": "stream",
          "name": "stdout",
          "text": [
            "[[  14.  196.  378.   41.  223.  405.    4.  186.  368.  550.  108.  290.\n",
            "   472.  654.  836. 1018. 1200.  162.  344.  526.  708.  890. 1072. 1254.\n",
            "  1436. 1618. 1800.]]\n",
            "[[     0.      0.  22000.      0.      0. -29000.      0.      0.      0.\n",
            "   29000.      0.      0.      0.      0.      0.      0. -46000.      0.\n",
            "       0.      0.      0.      0.      0.      0.      0.      0.  10000.]]\n",
            "[[ 22000.  22000.  22000. -29000. -29000. -29000.  29000.  29000.  29000.\n",
            "   29000. -46000. -46000. -46000. -46000. -46000. -46000. -46000.  10000.\n",
            "   10000.  10000.  10000.  10000.  10000.  10000.  10000.  10000.  10000.]]\n",
            "[[0.065  0.065  0.065  0.0675 0.0675 0.0675 0.07   0.07   0.07   0.07\n",
            "  0.075  0.075  0.075  0.075  0.075  0.075  0.075  0.078  0.078  0.078\n",
            "  0.078  0.078  0.078  0.078  0.078  0.078  0.078 ]]\n",
            "[[0.07906    0.07671229 0.07142146 0.07607202 0.08243597 0.08497519\n",
            "  0.08559156 0.08727407 0.09459063 0.10000798 0.10205611 0.10166534\n",
            "  0.10144164 0.10201717 0.10292152 0.10526908 0.12043427 0.13153081\n",
            "  0.14328258 0.23541265]]\n",
            "3\n"
          ]
        },
        {
          "output_type": "execute_result",
          "data": {
            "text/plain": [
              "22000"
            ]
          },
          "metadata": {},
          "execution_count": 47
        }
      ]
    },
    {
      "cell_type": "markdown",
      "source": [
        "# Ingresar la ecuación al chat (que lo haga para valuar varios bonos en una función):\n",
        "$$ V_{cc}=\\sum_{i=1}^{n}\\frac{N\\cdot C \\cdot t_{c}\\cdot p_c/360}{(1+t_{vp_{p_i}} \\cdot p_i/360)} + \\frac{N\\cdot C}{(1+t_{vp_{p_n}} \\cdot p_n/360)}$$\n",
        "\n",
        "Donde\n",
        "$V_{cc}$: Valor del Bono bajo tasa de curva cupón cero (Precio Sucio)\\\n",
        "$N$: Valor Nominal del bono.\\\n",
        "$C$: Número de contratos.\\\n",
        "$p_{c}$: Plazo fijo para cada pago de intereses del cupón.\\\n",
        "$p_{i}$: Plazo acumulado (en días) al cupón $i$.\\\n",
        "$t_{c}$: Tasa cupón fija\\\n",
        "$t_{vp_{p_i}}$: Tasa valor presente que depende de la curva de bonos cupón cero según el plazo acumulado al pago del cupón $i$\\\n",
        "Se tiene nun factor de riesgo subyacente (curva gubernamental) y $n$ factores de riesgos.\n"
      ],
      "metadata": {
        "id": "f57v_VoLKcxg"
      }
    },
    {
      "cell_type": "code",
      "source": [
        "import numpy as np\n",
        "\n",
        "def bonoMcccero(contratosT, nominal, tasafijaT, plazocuponT, VTplazos, Xvp, N):\n",
        "    V0 = np.zeros((1, len(N)))[0]\n",
        "    V0f = ((((contratosT * tasafijaT * (plazocuponT / 360)) + ulNomT) / (1 + Xvp * VTplazos / 360)) * nominal)[0]\n",
        "    for j in range(len(N)):\n",
        "        if j == 0:\n",
        "            V0[j] = np.sum(V0f[j:N[j]])\n",
        "        else:\n",
        "            V0[j] = np.sum(V0f[sum(N[0:j]):sum(N[0:j+1])])\n",
        "    return V0\n",
        "\n",
        "V0 = bonoMcccero(contratosT[0], nominal, tasafijaT[0], plazocuponT[0], VTplazos[0], Xvp[0], N)\n",
        "print(V0)\n"
      ],
      "metadata": {
        "id": "DETs4kELKiW3",
        "colab": {
          "base_uri": "https://localhost:8080/"
        },
        "outputId": "bede2477-7cba-4611-caff-67fdc41af2ec"
      },
      "execution_count": null,
      "outputs": [
        {
          "output_type": "stream",
          "name": "stdout",
          "text": [
            "[ 2236227.49404477 -2941747.37154949  2968292.0331245  -4643547.65817406\n",
            "  1009417.93928807]\n"
          ]
        }
      ]
    }
  ]
}