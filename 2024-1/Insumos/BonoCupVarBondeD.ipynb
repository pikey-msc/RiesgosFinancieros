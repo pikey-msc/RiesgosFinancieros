{
  "nbformat": 4,
  "nbformat_minor": 0,
  "metadata": {
    "colab": {
      "name": "BonoCupVarBondeD.ipynb",
      "provenance": [],
      "include_colab_link": true
    },
    "kernelspec": {
      "name": "python3",
      "display_name": "Python 3"
    },
    "accelerator": "GPU"
  },
  "cells": [
    {
      "cell_type": "markdown",
      "metadata": {
        "id": "view-in-github",
        "colab_type": "text"
      },
      "source": [
        "<a href=\"https://colab.research.google.com/github/pikey-msc/RiesgosFinancieros/blob/master/2024-1/Insumos/BonoCupVarBondeD.ipynb\" target=\"_parent\"><img src=\"https://colab.research.google.com/assets/colab-badge.svg\" alt=\"Open In Colab\"/></a>"
      ]
    },
    {
      "cell_type": "code",
      "metadata": {
        "id": "6SAjq-MmfGOa",
        "outputId": "be07a2c9-bddb-4e6f-a9cb-3a570c4605fd",
        "colab": {
          "base_uri": "https://localhost:8080/"
        }
      },
      "source": [
        "%load_ext rpy2.ipython\n",
        "!rm -rf RiesgosFinancieros\n",
        "!git clone \"https://github.com/pikey-msc/RiesgosFinancieros/\""
      ],
      "execution_count": 21,
      "outputs": [
        {
          "output_type": "stream",
          "name": "stdout",
          "text": [
            "The rpy2.ipython extension is already loaded. To reload it, use:\n",
            "  %reload_ext rpy2.ipython\n",
            "Cloning into 'RiesgosFinancieros'...\n",
            "remote: Enumerating objects: 913, done.\u001b[K\n",
            "remote: Counting objects: 100% (145/145), done.\u001b[K\n",
            "remote: Compressing objects: 100% (78/78), done.\u001b[K\n",
            "remote: Total 913 (delta 88), reused 99 (delta 64), pack-reused 768\u001b[K\n",
            "Receiving objects: 100% (913/913), 62.96 MiB | 14.74 MiB/s, done.\n",
            "Resolving deltas: 100% (593/593), done.\n",
            "Updating files: 100% (417/417), done.\n"
          ]
        }
      ]
    },
    {
      "cell_type": "code",
      "metadata": {
        "id": "dGPE3USPgxY8",
        "outputId": "2dd34145-6d3a-427c-9ee9-87af2cc26112",
        "colab": {
          "base_uri": "https://localhost:8080/"
        }
      },
      "source": [
        "%%R\n",
        "library(dplyr)\n",
        "install.packages(\"data.table\")\n",
        "require(data.table)\n",
        "#FUNCIÓN DE INTERPOLACIÓN ALAMBRADA\n",
        "\n",
        "talamb=function(nodos,curva,plazos) #función de interpolación de tasas por el método alamabrada\n",
        "{\n",
        "  n=max(ncol(plazos),1)\n",
        "  m=max(ncol(nodos),1)\n",
        "  TC=matrix(0,1,n)\n",
        "  TL=matrix(0,1,n)\n",
        "  TF=matrix(0,1,n)\n",
        "  for (j in 1:n)\n",
        "  {\n",
        "    i=1\n",
        "    repeat\n",
        "    {\n",
        "      if(nodos[i]<= plazos[j] && plazos[j] <=nodos[i+1])\n",
        "      {\n",
        "        TC[j]=curva[i]\n",
        "        TL[j]=curva[i+1]\n",
        "        TF[j]=((((1+TL[j]*nodos[i+1]/360)/(1+TC[j]*nodos[i]/360))^((plazos[j]-nodos[i])/(nodos[i+1]-nodos[i]))*(1+TC[j]*nodos[i]/360))-1)*360/plazos[j]\n",
        "        break\n",
        "      }\n",
        "      else if (plazos[j]<nodos[1])\n",
        "      {\n",
        "        TC[j]=curva[1]\n",
        "        TL[j]=curva[1]\n",
        "        TF[j]=curva[1]\n",
        "        break\n",
        "      }\n",
        "      else if (plazos[j]>nodos[m])\n",
        "      {\n",
        "        TC[j]=curva[m]\n",
        "        TL[j]=curva[m]\n",
        "        TF[j]=curva[m]\n",
        "        break\n",
        "      }\n",
        "      else\n",
        "      {i=i+1}\n",
        "    }\n",
        "  }\n",
        "  as.matrix(t(as.numeric(rbind(TF))))\n",
        "}\n"
      ],
      "execution_count": 22,
      "outputs": [
        {
          "output_type": "stream",
          "name": "stderr",
          "text": [
            "WARNING:rpy2.rinterface_lib.callbacks:R[write to console]: Installing package into ‘/usr/local/lib/R/site-library’\n",
            "(as ‘lib’ is unspecified)\n",
            "\n",
            "WARNING:rpy2.rinterface_lib.callbacks:R[write to console]: trying URL 'https://cran.rstudio.com/src/contrib/data.table_1.14.8.tar.gz'\n",
            "\n",
            "WARNING:rpy2.rinterface_lib.callbacks:R[write to console]: Content type 'application/x-gzip'\n",
            "WARNING:rpy2.rinterface_lib.callbacks:R[write to console]:  length 5338582 bytes (5.1 MB)\n",
            "\n",
            "WARNING:rpy2.rinterface_lib.callbacks:R[write to console]: =\n",
            "WARNING:rpy2.rinterface_lib.callbacks:R[write to console]: =\n",
            "WARNING:rpy2.rinterface_lib.callbacks:R[write to console]: =\n",
            "WARNING:rpy2.rinterface_lib.callbacks:R[write to console]: =\n",
            "WARNING:rpy2.rinterface_lib.callbacks:R[write to console]: =\n",
            "WARNING:rpy2.rinterface_lib.callbacks:R[write to console]: =\n",
            "WARNING:rpy2.rinterface_lib.callbacks:R[write to console]: =\n",
            "WARNING:rpy2.rinterface_lib.callbacks:R[write to console]: =\n",
            "WARNING:rpy2.rinterface_lib.callbacks:R[write to console]: =\n",
            "WARNING:rpy2.rinterface_lib.callbacks:R[write to console]: =\n",
            "WARNING:rpy2.rinterface_lib.callbacks:R[write to console]: =\n",
            "WARNING:rpy2.rinterface_lib.callbacks:R[write to console]: =\n",
            "WARNING:rpy2.rinterface_lib.callbacks:R[write to console]: =\n",
            "WARNING:rpy2.rinterface_lib.callbacks:R[write to console]: =\n",
            "WARNING:rpy2.rinterface_lib.callbacks:R[write to console]: =\n",
            "WARNING:rpy2.rinterface_lib.callbacks:R[write to console]: =\n",
            "WARNING:rpy2.rinterface_lib.callbacks:R[write to console]: =\n",
            "WARNING:rpy2.rinterface_lib.callbacks:R[write to console]: =\n",
            "WARNING:rpy2.rinterface_lib.callbacks:R[write to console]: =\n",
            "WARNING:rpy2.rinterface_lib.callbacks:R[write to console]: =\n",
            "WARNING:rpy2.rinterface_lib.callbacks:R[write to console]: =\n",
            "WARNING:rpy2.rinterface_lib.callbacks:R[write to console]: =\n",
            "WARNING:rpy2.rinterface_lib.callbacks:R[write to console]: =\n",
            "WARNING:rpy2.rinterface_lib.callbacks:R[write to console]: =\n",
            "WARNING:rpy2.rinterface_lib.callbacks:R[write to console]: =\n",
            "WARNING:rpy2.rinterface_lib.callbacks:R[write to console]: =\n",
            "WARNING:rpy2.rinterface_lib.callbacks:R[write to console]: =\n",
            "WARNING:rpy2.rinterface_lib.callbacks:R[write to console]: =\n",
            "WARNING:rpy2.rinterface_lib.callbacks:R[write to console]: =\n",
            "WARNING:rpy2.rinterface_lib.callbacks:R[write to console]: =\n",
            "WARNING:rpy2.rinterface_lib.callbacks:R[write to console]: =\n",
            "WARNING:rpy2.rinterface_lib.callbacks:R[write to console]: =\n",
            "WARNING:rpy2.rinterface_lib.callbacks:R[write to console]: =\n",
            "WARNING:rpy2.rinterface_lib.callbacks:R[write to console]: =\n",
            "WARNING:rpy2.rinterface_lib.callbacks:R[write to console]: =\n",
            "WARNING:rpy2.rinterface_lib.callbacks:R[write to console]: =\n",
            "WARNING:rpy2.rinterface_lib.callbacks:R[write to console]: =\n",
            "WARNING:rpy2.rinterface_lib.callbacks:R[write to console]: =\n",
            "WARNING:rpy2.rinterface_lib.callbacks:R[write to console]: =\n",
            "WARNING:rpy2.rinterface_lib.callbacks:R[write to console]: =\n",
            "WARNING:rpy2.rinterface_lib.callbacks:R[write to console]: =\n",
            "WARNING:rpy2.rinterface_lib.callbacks:R[write to console]: =\n",
            "WARNING:rpy2.rinterface_lib.callbacks:R[write to console]: =\n",
            "WARNING:rpy2.rinterface_lib.callbacks:R[write to console]: =\n",
            "WARNING:rpy2.rinterface_lib.callbacks:R[write to console]: =\n",
            "WARNING:rpy2.rinterface_lib.callbacks:R[write to console]: =\n",
            "WARNING:rpy2.rinterface_lib.callbacks:R[write to console]: =\n",
            "WARNING:rpy2.rinterface_lib.callbacks:R[write to console]: =\n",
            "WARNING:rpy2.rinterface_lib.callbacks:R[write to console]: =\n",
            "WARNING:rpy2.rinterface_lib.callbacks:R[write to console]: =\n",
            "WARNING:rpy2.rinterface_lib.callbacks:R[write to console]: \n",
            "\n",
            "WARNING:rpy2.rinterface_lib.callbacks:R[write to console]: downloaded 5.1 MB\n",
            "\n",
            "\n",
            "WARNING:rpy2.rinterface_lib.callbacks:R[write to console]: \n",
            "\n",
            "WARNING:rpy2.rinterface_lib.callbacks:R[write to console]: \n",
            "WARNING:rpy2.rinterface_lib.callbacks:R[write to console]: The downloaded source packages are in\n",
            "\t‘/tmp/RtmpbEodi0/downloaded_packages’\n",
            "WARNING:rpy2.rinterface_lib.callbacks:R[write to console]: \n",
            "WARNING:rpy2.rinterface_lib.callbacks:R[write to console]: \n",
            "\n"
          ]
        }
      ]
    },
    {
      "cell_type": "markdown",
      "metadata": {
        "id": "nNRpKccihBQf"
      },
      "source": [
        "**Características**\n",
        "\n",
        "Valor nominal: Generalmente, 100 pesos pero varía por emisora.\n",
        "\n",
        "Plazo: de 1 a 360 días, según las necesidades de financiamiento de la empresa emisora.\n",
        "\n",
        "Rendimiento: al igual que los bonos, este instrumento se compra a descuento respecto de su valor nominal, pero por lo general pagan una sobretasa referenciada a tasa fija o variable.\n",
        "\n",
        "Garantía: este título, por ser un pagaré, no ofrece ninguna garantía, por lo que es importante evaluar bien al emisor.\n",
        "\n"
      ]
    },
    {
      "cell_type": "code",
      "metadata": {
        "id": "kynmbPWKfY4s"
      },
      "source": [
        "%%R\n",
        "btasadesc=\"RiesgosFinancieros/2020-1/Insumos/tasa_guber.txt\"\n",
        "btasadescst=\"RiesgosFinancieros/2020-1/Insumos/tasa_guber_st.txt\"\n",
        "btasafondeo=\"RiesgosFinancieros/2020-1/Insumos/tfondeo.txt\"\n",
        "fval=as.Date(\"20180629\",format=\"%Y%m%d\") #Fecha de valoración\n",
        "plazos=cbind( 358,\t405,\t550,\t1200,\t1800) #Vencimiento del bono\n",
        "plazocupon=cbind( 28,\t28, 28, 28, 28) #plazos fijos de cada cupón\n",
        "contratos=cbind(22000, -29000, 29000, -46000, 10000) #posición invertida\n",
        "nominal=100\n",
        "itpl=0 #poner 0 si se quiere interpolación lineal o 1 si se quiere tasa alambrada\n"
      ],
      "execution_count": 23,
      "outputs": []
    },
    {
      "cell_type": "code",
      "metadata": {
        "id": "0O_QdKk3fp7T"
      },
      "source": [
        "%%R\n",
        "#carga de datos\n",
        "#carga de tasas de descuento\n",
        "data1<-read.table(btasadesc)\n",
        "n<-nrow(data1)\n",
        "m_orig=ncol(data1)\n",
        "X_orig=data.frame(data1[2:n,2:m_orig])\n",
        "X1_orig=mutate(data.frame(data1[2:n,1:m_orig]), V1=as.Date(V1,format=\"%Y%m%d\"))\n",
        "nodos=data.frame(data1[1,2:m_orig])\n",
        "n=n-1\n",
        "\n",
        "data3<-read.table(btasadescst)\n",
        "n3<-nrow(data3)\n",
        "m3_orig=ncol(data3)\n",
        "X3_orig=data.frame(data3[2:n3,2:m3_orig])\n",
        "X3a_orig=mutate(data.frame(data1[2:n,1:m_orig]), V1=as.Date(V1,format=\"%Y%m%d\"))\n",
        "nodos3=data.frame(data3[1,2:m3_orig])\n",
        "n3=n3-1\n",
        "\n",
        "\n",
        "data2<-read.table(btasafondeo)\n",
        "n2<-nrow(data2)\n",
        "X2_orig=data.frame(data2[2:n2,1:2])\n",
        "X2a_orig=mutate(X2_orig, V1=as.Date(V1,format=\"%Y%m%d\"), V2=as.numeric(as.character(V2)))\n",
        "tfh=seq(as.Date(\"20170629\",format=\"%Y%m%d\"), as.Date(\"20180629\",format=\"%Y%m%d\"), \"days\") #sucesión de dias para tasa fondeo\n",
        "#tfhd=data.frame(ID=1:count(tfh),fecha=tfh)\n",
        "tfhd=CJ(fecha=tfh)\n",
        "#tfhd"
      ],
      "execution_count": 25,
      "outputs": []
    },
    {
      "cell_type": "code",
      "metadata": {
        "id": "2bH9hZkYvnDm"
      },
      "source": [
        "\n",
        "%%R\n",
        "#Cruzar la sucesión de todos los días versus el de tasa de fondeo\n",
        "tfhd=setDT(tfhd)[, join_date := tfh][order(-join_date)]\n",
        "X2a_orig=setDT(X2a_orig)[, join_date := V1][order(-join_date)]\n",
        "X2a_orig=X2a_orig[tfhd, on = .(join_date), roll = Inf]\n"
      ],
      "execution_count": 27,
      "outputs": []
    },
    {
      "cell_type": "code",
      "metadata": {
        "id": "wiqmKcHBY_yd"
      },
      "source": [
        "%%R\n",
        "#Cruzar la sucesión de todos los días versus el de tasa de fondeo\n",
        "#buscar fecha de valuación en tfondeo\n",
        "tf_act=X2a_orig[fecha==fval,]$V2/100\n",
        "tf_int=X2a_orig[fecha<=fval & fecha>=(fval-plazocupon[1])]$V2/100\n",
        "\n",
        "X1_orig=setDT(X1_orig)[, join_date := V1][order(-join_date)] #Para alinear con valor presente y tasa de fondeo.\n",
        "X2_pr=X2a_orig[X1_orig, on = .(join_date)] #Se alinea la tasa de fondeo por fecha con la tasa de valor presente.\n"
      ],
      "execution_count": 42,
      "outputs": []
    },
    {
      "cell_type": "code",
      "metadata": {
        "id": "yRoYgSKBf15S",
        "colab": {
          "base_uri": "https://localhost:8080/"
        },
        "outputId": "1178e9f3-4529-4ece-bea1-826f74635e7c"
      },
      "source": [
        "%%R\n",
        "m=ncol(plazos)\n",
        "\n",
        "\n",
        "N=as.integer(plazos/plazocupon)+1 #número de cupones a pagar\n",
        "VTplazos=matrix(0,1,sum(N)) #vector de todos los plazos de todos los contratos\n",
        "contratosT=matrix(0,1,sum(N)) #vector de todos los contratos de todos los flujos de todos los contratos\n",
        "nominalT=matrix(0,1,sum(N)) #vector de todos los nominales de todos los flujos de todos los contratos\n",
        "plazocuponT=matrix(0,1,sum(N)) #vector de todos los plazoscupon de todos los flujos de todos los contratos\n",
        "tasafijaT=matrix(0,1,sum(N)) #vector de tasas fijas de todos los flujos de todos los contratos\n",
        "ulNomT=matrix(0,1,sum(N)) #vector de contratos a final de flujo\n",
        "\n",
        "\n",
        "plazini=plazos-plazocupon*(N-1) #vector de plazos iniciales\n",
        "ddv=plazocupon-plazini #dias trasncurridos del cupón vigente\n",
        "tfcupon=matrix(0,1,m)  #El primero cupón de cada bono\n",
        "tfcupondev=matrix(0,1,m) #cupón de los días devengados\n",
        "tfcupgen=((1+tf_act/360)^(plazocupon[1])-1)*360/plazocupon[1] #el segundo al último cupón de todos los bonos\n",
        "\n",
        "\n",
        "for (j in (1:m))\n",
        "{\n",
        "  tfcupondev[j]=(prod(1+tf_int[(1:ddv[j])]/360)-1)*360/ddv[j]\n",
        "  tfcupon[j]=((1+tfcupondev[j]*ddv[j]/360)*(1+tf_act/360)^(plazocupon[1]-ddv[j])-1)*360/plazocupon[1]\n",
        "}\n",
        "\n"
      ],
      "execution_count": 49,
      "outputs": [
        {
          "output_type": "stream",
          "name": "stdout",
          "text": [
            "     [,1] [,2] [,3] [,4] [,5]\n",
            "[1,]    0    0    0    0    0\n",
            "           [,1]      [,2]       [,3]       [,4]       [,5]\n",
            "[1,] 0.07804226 0.0769081 0.07764526 0.07830053 0.07661949\n",
            "           [,1]       [,2]       [,3]       [,4]       [,5]\n",
            "[1,] 0.07941412 0.07827887 0.07904407 0.07956142 0.07755682\n"
          ]
        }
      ]
    },
    {
      "cell_type": "code",
      "source": [
        "%%R\n",
        "#calcula cupones de bonos\n",
        "\n",
        "for (j in (1:m))\n",
        "{\n",
        "  if (j==1)\n",
        "  {\n",
        "    VTplazos[,1:sum(N[1:j])]=seq(plazini[j],plazos[j], by=plazocupon[j])\n",
        "    contratosT[,1:sum(N[1:j])]=seq(contratos[j],contratos[j])\n",
        "    plazocuponT[,1:sum(N[1:j])]=seq(plazocupon[j],plazocupon[j])\n",
        "    ulNomT[,sum(N[1:j])]=contratos[j]\n",
        "    tasafijaT[,1]=tfcupon[j]\n",
        "    tasafijaT[,2:sum(N[1:j])]=seq(tfcupgen,tfcupgen)\n",
        "  }\n",
        "  else\n",
        "  {\n",
        "    VTplazos[,(sum(N[1:j-1])+1):sum(N[1:j])]=seq(plazini[j],plazos[j], by=plazocupon[j])\n",
        "    contratosT[,(sum(N[1:j-1])+1):sum(N[1:j])]=seq(contratos[j],contratos[j])\n",
        "    plazocuponT[,(sum(N[1:j-1])+1):sum(N[1:j])]=seq(plazocupon[j],plazocupon[j])\n",
        "    tasafijaT[,(sum(N[1:j-1])+1)]=tfcupon[j]\n",
        "    tasafijaT[,(sum(N[1:j-1])+2):sum(N[1:j])]=seq(tfcupgen,tfcupgen)\n",
        "    ulNomT[,sum(N[1:j])]=contratos[j]\n",
        "  }\n",
        "}\n",
        "\n",
        "Xvp=matrix(0,n,ncol(VTplazos))\n",
        "Xst=matrix(0,n,ncol(VTplazos))\n",
        "\n",
        "for (i in (1:n))\n",
        "{\n",
        "  Xvp[i,]=if(itpl==0){approx(nodos,X_orig[i,],VTplazos)$y}else{talamb(nodos,X_orig[i,],VTplazos)}\n",
        "  Xst[i,]=if(itpl==0){approx(nodos3,X3_orig[i,],VTplazos)$y}else{talamb(nodos3,X3_orig[i,],VTplazos)}\n",
        "\n",
        "}\n",
        "\n"
      ],
      "metadata": {
        "id": "NXPM0BfZKYnf"
      },
      "execution_count": 57,
      "outputs": []
    },
    {
      "cell_type": "markdown",
      "metadata": {
        "id": "VB6TTh1YhRl-"
      },
      "source": [
        "\n",
        "$$\\Large V=\\sum_{i=1}^{n}\\frac{N\\cdot C \\cdot t_{c_{p_i}}\\cdot p_c/360}{(1+t_{vp_{p_i}} \\cdot p_i/360)} + \\frac{N\\cdot C}{(1+t_{vp_{p_n}} \\cdot p_n/360)}$$\n",
        "\tDonde: \\\\\n",
        "$N$: Valor Nominal del bono\\\n",
        "$C$: Número de contratos\\\n",
        "$p_{c}$: Plazo fijo para cada pago de intereses del cupón.\\\n",
        "$p_{i}$: Plazo acumulado (en días) al cupón $i$.\\\n",
        "$t_{c_{p_i}}$: Tasa cupón variable, se obtiene de la curva subyacente que le corresponda, casi siempre con la tasa forward entre $p_{i-1}$ y $p_i$.\\\n",
        "$t_{vp_{p_i}}$: Tasa valor presente que depende de la curva de bonos según el plazo acumulado al pago del cupón $i$.\n",
        "\n",
        "\n",
        "En general tenemos dos factores de riesgo subyacente (la curva de valor presente y la curva de cupones) pero como cada cupón tiene ``$n$'' flujos entonces tiene $n$ factores de riesgo para los valores presentes y $n$ factores de riesgo para los cupones, por lo que tienen $2n$ factores de riesgo específicos que provienen de dos factores de riesgo subyacentes.\n",
        "Para el caso de $K$ bonos cupón variable el número de factores de riesgo sería $2\\sum_{i=1}^{K}n_i$, donde $n_i$ es el número de cupones a pagar del bono $i$."
      ]
    },
    {
      "cell_type": "code",
      "metadata": {
        "id": "21h364lEgA3j",
        "outputId": "322561d9-1048-4458-b496-f3992d237be6",
        "colab": {
          "base_uri": "https://localhost:8080/"
        }
      },
      "source": [
        "%%R\n",
        "\n",
        "bondeD=function(contratosT, nominal, tasafijaT, plazocuponT, VTplazos, Xvp, Xst, N)\n",
        "{\n",
        "  V0=matrix(0,1,nrow(as.matrix(N)))\n",
        "  V0f=((((contratosT*(tasafijaT)*(plazocuponT/360))+ulNomT)/(1+(Xvp+Xst)*VTplazos/360)))*nominal\n",
        "  for (j in (1:nrow(as.matrix(N))))\n",
        "  {\n",
        "    if(j==1)\n",
        "    {\n",
        "      V0[j]=sum(V0f[j:N[j]])\n",
        "    }\n",
        "    else\n",
        "    {\n",
        "      V0[j]=sum(V0f[(sum(N[1:j-1])+1):(sum(N[1:j]))])\n",
        "    }\n",
        "  }\n",
        "  V0\n",
        "}\n",
        "\n",
        "V0=bondeD(contratosT, nominal, tasafijaT, plazocuponT, VTplazos, Xvp[1,], Xst[1,], N)\n",
        "\n",
        "V0"
      ],
      "execution_count": 81,
      "outputs": [
        {
          "output_type": "stream",
          "name": "stdout",
          "text": [
            "        [,1]     [,2]    [,3]     [,4]     [,5]\n",
            "[1,] 2155549 -2840104 2817830 -4342999 933071.2\n"
          ]
        }
      ]
    },
    {
      "cell_type": "code",
      "source": [
        "(930116.72280706/933071.2-1)*100\n",
        "(-2834587.18559718/-2840104-1)*100"
      ],
      "metadata": {
        "id": "hkvediTHTsfM",
        "outputId": "9de904eb-8b88-449e-9747-cd262f31eb76",
        "colab": {
          "base_uri": "https://localhost:8080/"
        }
      },
      "execution_count": 115,
      "outputs": [
        {
          "output_type": "execute_result",
          "data": {
            "text/plain": [
              "-0.19424691500100622"
            ]
          },
          "metadata": {},
          "execution_count": 115
        }
      ]
    },
    {
      "cell_type": "markdown",
      "source": [
        "#Python traducción"
      ],
      "metadata": {
        "id": "vMXq-4UIZhXW"
      }
    },
    {
      "cell_type": "code",
      "source": [
        "import numpy as np\n",
        "import pandas as pd\n",
        "from datetime import datetime\n",
        "\n",
        "btasadesc = \"RiesgosFinancieros/2020-1/Insumos/tasa_guber.txt\"\n",
        "btasadescst = \"RiesgosFinancieros/2020-1/Insumos/tasa_guber_st.txt\"\n",
        "btasafondeo = \"RiesgosFinancieros/2020-1/Insumos/tfondeo.txt\"\n",
        "\n",
        "# Fecha de valoración\n",
        "fval = datetime.strptime(\"20180629\", \"%Y%m%d\")\n",
        "\n",
        "# Parámetros de los bonos\n",
        "plazos = np.array([358, 405, 550, 1200, 1800])\n",
        "plazocupon = np.array([28, 28, 28, 28, 28])\n",
        "contratos = np.array([22000, -29000, 29000, -46000, 10000])\n",
        "nominal = 100\n",
        "itpl = 0  # 0 para interpolación lineal, 1 para tasa alambrada\n"
      ],
      "metadata": {
        "id": "u8tMbm2blxgz"
      },
      "execution_count": 24,
      "outputs": []
    },
    {
      "cell_type": "code",
      "source": [
        "import pandas as pd\n",
        "import numpy as np\n",
        "from datetime import datetime, timedelta\n",
        "\n",
        "# Leer datos de tasa_guber.txt\n",
        "data1 = pd.read_table(btasadesc, sep=\"\\t\", header=None)\n",
        "n = data1.shape[0]\n",
        "m_orig = data1.shape[1]\n",
        "X_orig = data1.iloc[1:n, 1:m_orig]\n",
        "X1_orig = data1.iloc[1:n, 0:m_orig]\n",
        "X1_orig[0] = pd.to_datetime(X1_orig[0], format='%Y%m%d')\n",
        "nodos = data1.iloc[0, 1:m_orig-1]\n",
        "n -= 1\n",
        "\n",
        "# Leer datos de tasa_guber_st.txt\n",
        "data3 = pd.read_table(btasadescst, sep=\"\\t\", header=None)\n",
        "n3 = data3.shape[0]\n",
        "m3_orig = data3.shape[1]\n",
        "X3_orig = data3.iloc[1:n3, 1:m3_orig]\n",
        "X3a_orig = data3.iloc[1:n3, 0:m3_orig]\n",
        "X3a_orig[0] = pd.to_datetime(X3a_orig[0], format='%Y%m%d')\n",
        "nodos3 = data3.iloc[0, 1:m3_orig]\n",
        "n3 -= 1\n",
        "\n",
        "# # Leer datos de tfondeo.txt\n",
        "data2 = pd.read_table(btasafondeo, sep=\"\\t\", header=None)\n",
        "n2 = data2.shape[0]\n",
        "X2_orig = data2.iloc[1:n2, 0:2]\n",
        "X2a_orig = X2_orig.copy()\n",
        "X2a_orig[0] = pd.to_datetime(X2a_orig[0], format='%Y%m%d')\n",
        "X2a_orig[1] = X2a_orig[1].astype(float)\n",
        "\n",
        "# # Sucesión de días para tasa fondeo\n",
        "tfh = pd.date_range(start='2017-06-29', end='2018-06-29', freq='D')\n",
        "tfhd = pd.DataFrame({'fecha': tfh})\n"
      ],
      "metadata": {
        "id": "IGbp8yujmtqJ"
      },
      "execution_count": 40,
      "outputs": []
    },
    {
      "cell_type": "code",
      "source": [
        "# Asegúrate de que ambos DataFrames estén ordenados por la columna de fecha de manera descendente\n",
        "tfhd = tfhd.sort_values(by='fecha', ascending=True)\n",
        "X2a_orig = X2a_orig.sort_values(by=0, ascending=True)  # Asumiendo que la columna 'V1' es ahora la columna 0\n",
        "\n",
        "# Renombrar columnas para preparar para merge_asof\n",
        "# tfhd = tfhd.rename(columns={'fecha': 'join_date'})\n",
        "X2a_orig = X2a_orig.rename(columns={0: 'fecha'})\n",
        "\n",
        "# Realizar el rolling join con merge_asof\n",
        "X2a_orig = pd.merge_asof(tfhd, X2a_orig, on='fecha', direction='backward')\n",
        "\n",
        "\n",
        "# Si quieres que el resultado esté en el DataFrame original (tfhd), puedes hacer lo siguiente:\n",
        "X2a_orig = pd.merge(tfhd, X2a_orig, on='fecha', how='outer')\n"
      ],
      "metadata": {
        "id": "l66bTilOpoGo"
      },
      "execution_count": 41,
      "outputs": []
    },
    {
      "cell_type": "code",
      "source": [
        "import pandas as pd\n",
        "\n",
        "from datetime import timedelta, datetime\n",
        "\n",
        "X1_orig = X1_orig.rename(columns={0: \"fecha\"})\n",
        "# Filtrar tasas de fondeo\n",
        "\n",
        "tf_act = X2a_orig.loc[X2a_orig['fecha'] == fval, 1].values[0] / 100\n",
        "tf_int = X2a_orig.loc[(X2a_orig['fecha'] <= fval) & (X2a_orig['fecha'] >= (fval -  timedelta(int(plazocupon[0])))), 1] / 100\n",
        "tf_int=tf_int[::-1]  # se hace este cambio para ordenar de mayor a menor\n",
        "\n",
        "\n",
        "# Ordenar el DataFrame por la columna de unión\n",
        "X1_orig = X1_orig.sort_values('fecha', ascending=True)\n",
        "\n",
        "# Agregar la columna join_date al DataFrame X1_orig\n",
        "X1_orig['join_date'] = X1_orig['fecha']\n",
        "\n",
        "# Ordenar el DataFrame X2a_orig por la columna de unión\n",
        "X2a_orig = X2a_orig.sort_values('fecha', ascending=True)\n",
        "\n",
        "# Hacer el merge (join) de los DataFrames\n",
        "X2_pr = pd.merge_asof(X1_orig, X2a_orig, on='fecha')\n",
        "# X2a_orig = pd.merge(X2a_orig, X2_pr, on='fecha', how='outer')"
      ],
      "metadata": {
        "id": "NOKkEnowszCZ"
      },
      "execution_count": 43,
      "outputs": []
    },
    {
      "cell_type": "code",
      "source": [
        "import numpy as np\n",
        "\n",
        "# Inicialización de variables\n",
        "m = len(plazos)\n",
        "N = (plazos // plazocupon) + 1  # número de cupones a pagar\n",
        "\n",
        "# Inicialización de matrices/vectores\n",
        "VTplazos = np.zeros(np.sum(N))\n",
        "contratosT = np.zeros(np.sum(N))\n",
        "nominalT = np.zeros(np.sum(N))\n",
        "plazocuponT = np.zeros(np.sum(N))\n",
        "tasafijaT = np.zeros(np.sum(N))\n",
        "ulNomT = np.zeros(np.sum(N))\n",
        "\n",
        "# Cálculos adicionales\n",
        "plazini = plazos - plazocupon * (N - 1)\n",
        "ddv = plazocupon - plazini\n",
        "tfcupon = np.zeros(m)\n",
        "tfcupondev = np.zeros(m)\n",
        "tfcupgen = ((1 + tf_act / 360)**(plazocupon[0]) - 1) * 360 / plazocupon[0]\n",
        "\n",
        "# Bucle para calcular tasas de cupón\n",
        "for j in range(m):  # en Python los índices comienzan en 0\n",
        "    tfcupondev[j] = ((np.prod(1 + tf_int[0:ddv[j]] / 360) - 1) * 360) / ddv[j]\n",
        "    tfcupon[j] = (((1 + tfcupondev[j] * ddv[j] / 360) * (1 + tf_act / 360)**(plazocupon[0] - ddv[j]) - 1) * 360) / plazocupon[0]\n",
        "\n",
        "print(tfcupondev)\n",
        "print(tfcupon)"
      ],
      "metadata": {
        "id": "ZqE7oHkwCvYo",
        "outputId": "0616edb3-7dea-4a35-ec3a-ecb1ec9493d4",
        "colab": {
          "base_uri": "https://localhost:8080/"
        }
      },
      "execution_count": 50,
      "outputs": [
        {
          "output_type": "stream",
          "name": "stdout",
          "text": [
            "[0.07804226 0.0769081  0.07764526 0.07830053 0.07661949]\n",
            "[0.07941412 0.07827887 0.07904407 0.07956142 0.07755682]\n"
          ]
        }
      ]
    },
    {
      "cell_type": "code",
      "source": [
        "import numpy as np\n",
        "from scipy.interpolate import interp1d\n",
        "\n",
        "# Suponemos que m, N, plazos, plazocupon, contratos, tfcupon, tfcupgen, etc. ya están definidos\n",
        "# También asumimos que nodos, X_orig, nodos3, X3_orig y itpl están definidos\n",
        "\n",
        "# Inicialización\n",
        "VTplazos = np.zeros(np.sum(N))\n",
        "contratosT = np.zeros(np.sum(N))\n",
        "plazocuponT = np.zeros(np.sum(N))\n",
        "tasafijaT = np.zeros(np.sum(N))\n",
        "ulNomT = np.zeros(np.sum(N))\n",
        "Xvp = np.zeros((n, len(VTplazos)))\n",
        "Xst = np.zeros((n, len(VTplazos)))\n",
        "\n",
        "for j in range(m):\n",
        "    sum_N = np.sum(N[:j+1])\n",
        "    sum_N_prev = np.sum(N[:j]) if j > 0 else 0\n",
        "\n",
        "    if j == 0:\n",
        "        VTplazos[:sum_N] = np.arange(plazini[j], plazos[j] + 1, plazocupon[j])\n",
        "        contratosT[:sum_N] = contratos[j]\n",
        "        plazocuponT[:sum_N] = plazocupon[j]\n",
        "        ulNomT[sum_N - 1] = contratos[j]\n",
        "        tasafijaT[0] = tfcupon[j]\n",
        "        tasafijaT[1:sum_N] = tfcupgen\n",
        "    else:\n",
        "        VTplazos[sum_N_prev:sum_N] = np.arange(plazini[j], plazos[j] + 1, plazocupon[j])\n",
        "        contratosT[sum_N_prev:sum_N] = contratos[j]\n",
        "        plazocuponT[sum_N_prev:sum_N] = plazocupon[j]\n",
        "        tasafijaT[sum_N_prev] = tfcupon[j]\n",
        "        tasafijaT[sum_N_prev + 1:sum_N] = tfcupgen\n",
        "        ulNomT[sum_N - 1] = contratos[j]\n",
        "\n",
        "for i in range(n):\n",
        "    if itpl == 0:\n",
        "        interpolator = interp1d(nodos, X_orig.iloc[i, :-1], kind='linear', fill_value=\"interpolate\")\n",
        "        Xvp[i, :] = interpolator(VTplazos)\n",
        "\n",
        "        interpolator3 = interp1d(nodos3, X3_orig.iloc[i, :], kind='linear', fill_value=\"interpolate\")\n",
        "        Xst[i, :] = interpolator3(VTplazos)\n",
        "    else:\n",
        "        # Código para interpolación 'talamb' (no definido en el ejemplo de R original)\n",
        "        pass\n"
      ],
      "metadata": {
        "id": "VtaKlF-UMjU7"
      },
      "execution_count": 89,
      "outputs": []
    },
    {
      "cell_type": "code",
      "source": [
        "import numpy as np\n",
        "\n",
        "def bondeD(contratosT, nominal, tasafijaT, plazocuponT, VTplazos, Xvp, Xst, N):\n",
        "    V0 = np.zeros(len(N))  # Inicializa V0, equivalente a matrix(0, 1, nrow(as.matrix(N))) en R\n",
        "    V0f = (((contratosT * tasafijaT * (plazocuponT / 360)) + ulNomT) / (1 + (Xvp + Xst) * VTplazos / 360)) * nominal\n",
        "\n",
        "    for j in range(len(N)):  # Cambia índices de 1:nrow(as.matrix(N)) a 0:(len(N)-1)\n",
        "        if j == 0:  # Cambia de j==1 a j==0\n",
        "            V0[j] = np.sum(V0f[:N[j]])\n",
        "        else:\n",
        "            V0[j] = np.sum(V0f[np.sum(N[:j]):np.sum(N[:j+1])])\n",
        "\n",
        "    return V0\n",
        "\n",
        "# Suponiendo que contratosT, nominal, tasafijaT, plazocuponT, VTplazos, Xvp, Xst, y N ya están definidos\n",
        "V0 = bondeD(contratosT, nominal, tasafijaT, plazocuponT, VTplazos, Xvp[0, :], Xst[0, :], N)  # Cambia de Xvp[1, ] y Xst[1, ] a Xvp[0, :] y Xst[0, :]\n",
        "\n",
        "print(V0)\n"
      ],
      "metadata": {
        "id": "CeTmbelTPOcC",
        "outputId": "3bc7144e-e2c7-44d7-b17f-3559715e3eaa",
        "colab": {
          "base_uri": "https://localhost:8080/"
        }
      },
      "execution_count": 90,
      "outputs": [
        {
          "output_type": "stream",
          "name": "stdout",
          "text": [
            "[ 2155549.18937959 -2834587.18559718  2815349.56363984 -4344977.24106617\n",
            "   930116.72280706]\n"
          ]
        }
      ]
    }
  ]
}