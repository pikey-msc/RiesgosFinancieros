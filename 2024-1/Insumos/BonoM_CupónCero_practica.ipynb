{
  "nbformat": 4,
  "nbformat_minor": 0,
  "metadata": {
    "colab": {
      "name": "BonoM CupónCero.ipynb",
      "provenance": [],
      "include_colab_link": true
    },
    "kernelspec": {
      "name": "python3",
      "display_name": "Python 3"
    },
    "accelerator": "GPU"
  },
  "cells": [
    {
      "cell_type": "markdown",
      "metadata": {
        "id": "view-in-github",
        "colab_type": "text"
      },
      "source": [
        "<a href=\"https://colab.research.google.com/github/pikey-msc/RiesgosFinancieros/blob/master/2024-1/Insumos/BonoM_Cup%C3%B3nCero_practica.ipynb\" target=\"_parent\"><img src=\"https://colab.research.google.com/assets/colab-badge.svg\" alt=\"Open In Colab\"/></a>"
      ]
    },
    {
      "cell_type": "code",
      "metadata": {
        "id": "mcpxuWG2cb0S",
        "outputId": "6f9aecb2-1f52-415a-be8e-5aab4213d7f2",
        "colab": {
          "base_uri": "https://localhost:8080/",
          "height": 122
        }
      },
      "source": [
        "%load_ext rpy2.ipython\n",
        "!rm -rf RiesgosFinancieros\n",
        "!git clone \"https://github.com/pikey-msc/RiesgosFinancieros/\""
      ],
      "execution_count": null,
      "outputs": [
        {
          "output_type": "stream",
          "text": [
            "Cloning into 'RiesgosFinancieros'...\n",
            "remote: Enumerating objects: 63, done.\u001b[K\n",
            "remote: Counting objects: 100% (63/63), done.\u001b[K\n",
            "remote: Compressing objects: 100% (58/58), done.\u001b[K\n",
            "remote: Total 63 (delta 17), reused 0 (delta 0), pack-reused 0\u001b[K\n",
            "Unpacking objects: 100% (63/63), done.\n"
          ],
          "name": "stdout"
        }
      ]
    },
    {
      "cell_type": "code",
      "metadata": {
        "id": "Q3rz-S3FEYpc"
      },
      "source": [
        "%%R\n",
        "#Tasa alambrada\n",
        "talamb=function(nodos,curva,plazos) #función de interpolación de tasas por el método alamabrada\n",
        "{\n",
        "  n=max(ncol(plazos),1)\n",
        "  m=max(ncol(nodos),1)\n",
        "  TC=matrix(0,1,n)\n",
        "  TL=matrix(0,1,n)\n",
        "  TF=matrix(0,1,n)\n",
        "  for (j in 1:n)\n",
        "  {\n",
        "    i=1\n",
        "    repeat\n",
        "    {\n",
        "      if(nodos[i]<= plazos[j] && plazos[j] <=nodos[i+1])\n",
        "      {\n",
        "        TC[j]=curva[i]\n",
        "        TL[j]=curva[i+1]\n",
        "        TF[j]=((((1+TL[j]*nodos[i+1]/360)/(1+TC[j]*nodos[i]/360))^((plazos[j]-nodos[i])/(nodos[i+1]-nodos[i]))*(1+TC[j]*nodos[i]/360))-1)*360/plazos[j]\n",
        "        break\n",
        "      }\n",
        "      else if (plazos[j]<nodos[1])\n",
        "      {\n",
        "        TC[j]=curva[1]\n",
        "        TL[j]=curva[1]\n",
        "        TF[j]=curva[1]\n",
        "        break\n",
        "      }\n",
        "      else if (plazos[j]>nodos[m])\n",
        "      {\n",
        "        TC[j]=curva[m]\n",
        "        TL[j]=curva[m]\n",
        "        TF[j]=curva[m]\n",
        "        break\n",
        "      }\n",
        "      else\n",
        "      {i=i+1}\n",
        "    }\n",
        "  }\n",
        "  as.matrix(t(as.numeric(rbind(TF))))\n",
        "}"
      ],
      "execution_count": null,
      "outputs": []
    },
    {
      "cell_type": "code",
      "metadata": {
        "id": "6KmugOBNc1ay"
      },
      "source": [
        "%%R\n",
        "btasadesc=\"RiesgosFinancieros/2020-1/Insumos/tasa_guber.txt\"\n",
        "tfcupon=cbind( 0.065,\t0.0675,\t0.07,\t0.075,\t0.078) #Tasafija del cupón\n",
        "plazos=cbind( 378,\t405,\t550,\t1200,\t1800) #Vencimiento del bono\n",
        "plazocupon=cbind( 182,\t182, 182, 182, 182) #plazos fijos de cada cupón\n",
        "contratos=cbind(22000, -29000, 29000, -46000, 10000) #posición invertida\n",
        "nominal=100\n",
        "itpl=1 #poner 0 si se quiere interpolación lineal o 1 si se quiere tasa alambrada"
      ],
      "execution_count": null,
      "outputs": []
    },
    {
      "cell_type": "code",
      "metadata": {
        "id": "Z0vImHjQdAH_",
        "outputId": "2e4c8271-baa9-4497-dd2c-b7c1baad87e2",
        "colab": {
          "base_uri": "https://localhost:8080/",
          "height": 246
        }
      },
      "source": [
        "%%R\n",
        "#carga de datos\n",
        "#carga de tasas de descuento\n",
        "data1<-read.table(btasadesc)\n",
        "n<-nrow(data1)\n",
        "m_orig=ncol(data1)\n",
        "X_orig=data.frame(data1[2:n,2:m_orig])\n",
        "nodos=data.frame(data1[1,2:m_orig])\n",
        "n=n-1\n",
        "#Posición inicial\n",
        "#interpolación de tasas y volatilidades\n",
        "m=ncol(plazos)\n",
        "\n",
        "\n",
        "      N=as.integer(plazos/plazocupon)+1 #número de cupones a pagar\n",
        "      VTplazos=matrix(0,1,sum(N)) #vector de todos los plazos de todos los contratos\n",
        "      contratosT=matrix(0,1,sum(N)) #vector de todos los contratos de todos los flujos de todos los contratos\n",
        "      nominalT=matrix(0,1,sum(N)) #vector de todos los nominales de todos los flujos de todos los contratos\n",
        "      plazocuponT=matrix(0,1,sum(N)) #vector de todos los plazoscupon de todos los flujos de todos los contratos\n",
        "      tasafijaT=matrix(0,1,sum(N)) #vector de tasas fijas de todos los flujos de todos los contratos\n",
        "      ulNomT=matrix(0,1,sum(N)) #vector de contratos a final de flujo\n",
        "\n",
        "\n",
        "      plazini=plazos-plazocupon*(N-1) #vector de plazos iniciales\n",
        "\n",
        "      for (j in (1:m))\n",
        "      {\n",
        "        if (j==1)\n",
        "        {\n",
        "          VTplazos[,1:sum(N[1:j])]=seq(plazini[j],plazos[j], by=plazocupon[j])\n",
        "          contratosT[,1:sum(N[1:j])]=seq(contratos[j],contratos[j])\n",
        "          plazocuponT[,1:sum(N[1:j])]=seq(plazocupon[j],plazocupon[j])\n",
        "          tasafijaT[,1:sum(N[1:j])]=seq(tfcupon[j],tfcupon[j])\n",
        "          ulNomT[,sum(N[1:j])]=contratos[j]\n",
        "        }\n",
        "        else\n",
        "        {\n",
        "          VTplazos[,(sum(N[1:j-1])+1):sum(N[1:j])]=seq(plazini[j],plazos[j], by=plazocupon[j])\n",
        "          contratosT[,(sum(N[1:j-1])+1):sum(N[1:j])]=seq(contratos[j],contratos[j])\n",
        "          plazocuponT[,(sum(N[1:j-1])+1):sum(N[1:j])]=seq(plazocupon[j],plazocupon[j])\n",
        "          tasafijaT[,(sum(N[1:j-1])+1):sum(N[1:j])]=seq(tfcupon[j],tfcupon[j])\n",
        "          ulNomT[,sum(N[1:j])]=contratos[j]\n",
        "        }\n",
        "      }\n",
        "\n",
        "      Xvp=matrix(0,n,ncol(VTplazos))\n",
        "\n",
        "      for (i in (1:n))\n",
        "      {\n",
        "        Xvp[i,]=if(itpl==0){approx(nodos,X_orig[i,],VTplazos)$y}else{talamb(nodos,X_orig[i,],VTplazos)}\n",
        "\n",
        "      }\n",
        "\n",
        "      print(VTplazos)\n",
        "      ulNomT\n",
        "      print(tasafijaT)\n",
        "      N"
      ],
      "execution_count": null,
      "outputs": [
        {
          "output_type": "display_data",
          "data": {
            "text/plain": [
              "     [,1] [,2] [,3] [,4] [,5] [,6] [,7] [,8] [,9] [,10] [,11] [,12] [,13] [,14]\n",
              "[1,]   14  196  378   41  223  405    4  186  368   550   108   290   472   654\n",
              "     [,15] [,16] [,17] [,18] [,19] [,20] [,21] [,22] [,23] [,24] [,25] [,26]\n",
              "[1,]   836  1018  1200   162   344   526   708   890  1072  1254  1436  1618\n",
              "     [,27]\n",
              "[1,]  1800\n",
              "      [,1]  [,2]  [,3]   [,4]   [,5]   [,6] [,7] [,8] [,9] [,10] [,11] [,12]\n",
              "[1,] 0.065 0.065 0.065 0.0675 0.0675 0.0675 0.07 0.07 0.07  0.07 0.075 0.075\n",
              "     [,13] [,14] [,15] [,16] [,17] [,18] [,19] [,20] [,21] [,22] [,23] [,24]\n",
              "[1,] 0.075 0.075 0.075 0.075 0.075 0.078 0.078 0.078 0.078 0.078 0.078 0.078\n",
              "     [,25] [,26] [,27]\n",
              "[1,] 0.078 0.078 0.078\n",
              "[1]  3  3  4  7 10\n"
            ]
          },
          "metadata": {
            "tags": []
          }
        }
      ]
    },
    {
      "cell_type": "markdown",
      "metadata": {
        "id": "6axC72nndTjb"
      },
      "source": [
        "$$ V_{cc}=\\sum_{i=1}^{n}\\frac{N\\cdot C \\cdot t_{c}\\cdot p_c/360}{(1+t_{vp_{p_i}} \\cdot p_i/360)} + \\frac{N\\cdot C}{(1+t_{vp_{p_n}} \\cdot p_n/360)}$$\n",
        "\n",
        "Donde\n",
        "$V_{cc}$: Valor del Bono bajo tasa de curva cupón cero (Precio Sucio)\n",
        "$N$: Valor Nominal del bono.\n",
        "$C$: Número de contratos.\n",
        "$p_{c}$: Plazo fijo para cada pago de intereses del cupón.\n",
        "$p_{i}$: Plazo acumulado (en días) al cupón $i$.\n",
        "$t_{c}$: Tasa cupón fija\n",
        "$t_{vp_{p_i}}$: Tasa valor presente que depende de la curva de bonos cupón cero según el plazo acumulado al pago del cupón $i$\n",
        "Se tiene nun factor de riesgo subyacente (curva gubernamental) y $n$ factores de riesgos.\n"
      ]
    },
    {
      "cell_type": "code",
      "metadata": {
        "id": "B8HWAri4dO35",
        "outputId": "d8180eff-daa5-4a50-8324-0c02f393f9d0",
        "colab": {
          "base_uri": "https://localhost:8080/",
          "height": 52
        }
      },
      "source": [
        "%%R\n",
        "library(plyr)\n",
        "bonoMcccero=function(contratosT, nominal, tasafijaT, plazocuponT, VTplazos, Xvp, N)\n",
        "{\n",
        "        V0=matrix(0,1,nrow(as.matrix(N)))\n",
        "          V0f=((((contratosT*(tasafijaT)*(plazocuponT/360))+ulNomT)/(1+Xvp*VTplazos/360)))*nominal\n",
        "        for (j in (1:nrow(as.matrix(N))))\n",
        "        {\n",
        "          if(j==1)\n",
        "          {\n",
        "            V0[j]=sum(V0f[j:N[j]])\n",
        "          }\n",
        "          else\n",
        "          {\n",
        "            V0[j]=sum(V0f[(sum(N[1:j-1])+1):(sum(N[1:j]))])\n",
        "          }\n",
        "        }\n",
        "        V0\n",
        "}\n",
        "\n",
        "\n",
        "V0=bonoMcccero(contratosT, nominal, tasafijaT, plazocuponT, VTplazos, Xvp[1,], N)\n",
        "V0"
      ],
      "execution_count": null,
      "outputs": [
        {
          "output_type": "display_data",
          "data": {
            "text/plain": [
              "        [,1]     [,2]    [,3]     [,4]    [,5]\n",
              "[1,] 2236455 -2942426 2969778 -4643930 1009445\n"
            ]
          },
          "metadata": {
            "tags": []
          }
        }
      ]
    },
    {
      "cell_type": "markdown",
      "source": [
        "##TRADUCCIÓN A PYTHON"
      ],
      "metadata": {
        "id": "BEcd_eLIKUpP"
      }
    },
    {
      "cell_type": "code",
      "source": [
        "#celda 1"
      ],
      "metadata": {
        "id": "G1onr2u5KX80"
      },
      "execution_count": null,
      "outputs": []
    },
    {
      "cell_type": "code",
      "source": [
        "#celda 2"
      ],
      "metadata": {
        "id": "cuQamccxKZyk"
      },
      "execution_count": null,
      "outputs": []
    },
    {
      "cell_type": "code",
      "source": [
        "#celda 3"
      ],
      "metadata": {
        "id": "DafqnTxsKa8s"
      },
      "execution_count": null,
      "outputs": []
    },
    {
      "cell_type": "markdown",
      "source": [
        "# Ingresar la ecuación al chat (que lo haga para valuar varios bonos en una función):\n",
        "$$ V_{cc}=\\sum_{i=1}^{n}\\frac{N\\cdot C \\cdot t_{c}\\cdot p_c/360}{(1+t_{vp_{p_i}} \\cdot p_i/360)} + \\frac{N\\cdot C}{(1+t_{vp_{p_n}} \\cdot p_n/360)}$$\n",
        "\n",
        "Donde\n",
        "$V_{cc}$: Valor del Bono bajo tasa de curva cupón cero (Precio Sucio)\\\n",
        "$N$: Valor Nominal del bono.\\\n",
        "$C$: Número de contratos.\\\n",
        "$p_{c}$: Plazo fijo para cada pago de intereses del cupón.\\\n",
        "$p_{i}$: Plazo acumulado (en días) al cupón $i$.\\\n",
        "$t_{c}$: Tasa cupón fija\\\n",
        "$t_{vp_{p_i}}$: Tasa valor presente que depende de la curva de bonos cupón cero según el plazo acumulado al pago del cupón $i$\\\n",
        "Se tiene nun factor de riesgo subyacente (curva gubernamental) y $n$ factores de riesgos.\n"
      ],
      "metadata": {
        "id": "f57v_VoLKcxg"
      }
    },
    {
      "cell_type": "code",
      "source": [],
      "metadata": {
        "id": "DETs4kELKiW3"
      },
      "execution_count": null,
      "outputs": []
    }
  ]
}