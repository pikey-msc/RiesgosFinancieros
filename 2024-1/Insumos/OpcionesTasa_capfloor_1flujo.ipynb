{
  "nbformat": 4,
  "nbformat_minor": 0,
  "metadata": {
    "colab": {
      "name": "OpcionesTasa capfloor 1flujo.ipynb",
      "provenance": [],
      "private_outputs": true,
      "authorship_tag": "ABX9TyMIKJ+2LKuyxBjrIRCW6Iyv",
      "include_colab_link": true
    },
    "kernelspec": {
      "name": "python3",
      "display_name": "Python 3"
    },
    "accelerator": "GPU"
  },
  "cells": [
    {
      "cell_type": "markdown",
      "metadata": {
        "id": "view-in-github",
        "colab_type": "text"
      },
      "source": [
        "<a href=\"https://colab.research.google.com/github/pikey-msc/RiesgosFinancieros/blob/master/2024-1/Insumos/OpcionesTasa_capfloor_1flujo.ipynb\" target=\"_parent\"><img src=\"https://colab.research.google.com/assets/colab-badge.svg\" alt=\"Open In Colab\"/></a>"
      ]
    },
    {
      "cell_type": "code",
      "metadata": {
        "id": "ROM-O_0UcbU2"
      },
      "source": [
        "%load_ext rpy2.ipython\n",
        "!rm -rf RiesgosFinancieros\n",
        "!git clone \"https://github.com/pikey-msc/RiesgosFinancieros/\""
      ],
      "execution_count": null,
      "outputs": []
    },
    {
      "cell_type": "markdown",
      "metadata": {
        "id": "L-yQ5zFYczLu"
      },
      "source": [
        "#Insumos"
      ]
    },
    {
      "cell_type": "code",
      "metadata": {
        "id": "tOIbRmWJc00_"
      },
      "source": [
        "%%R\n",
        "btasadesc=\"tasa_TIIE_SW_OP.txt\"\n",
        "btasaspot=\"tasa_DIRS_SW_OP.txt\"\n",
        "bvolspot=\"tvoltiie_opc.txt\"\n",
        "direc=\"RiesgosFinancieros/2021-1/Insumos/\"\n",
        "plazos=cbind( 39,\t115,\t153,\t245,\t360) #T-t\n",
        "pr=28 #plazo de referencia\n",
        "dct=360 #d_base\n",
        "cp=cbind(1,0,0,0,0) #si es call (cap) o put (floor)\n",
        "K=cbind( 0.07, 0.085, 0.078, 0.085, 0.08)\n",
        "contratos=cbind(2200000, -2900000, 2900000, -4600000, 5000)\n",
        "nominal=1\n",
        "cs=1 #1 si es continua la tasa 0 si es simple\n",
        "itpl=0 #interpolación lineal o 1 alambrada\n",
        "\n",
        "#direc=directorio siempre entre \" \" y cambiar la \"/\" por \"/\"\n",
        "#btasadesc=nombre de base para descontar a importar siempre entre \" \"\n",
        "#btasaspot=nombre de base para spot a importar siempre entre \" \"\n",
        "#bvolspot=nombre de base para volatilidad de spot a importar siempre entre \" \"\n",
        "#plazos= vector de plazos\n",
        "#contratos=vector de contratos\n",
        "#K=vector de strikes\n",
        "#alpha= nivel de confianza\n",
        "#nominal=vector de nominales\n"
      ],
      "execution_count": null,
      "outputs": []
    },
    {
      "cell_type": "markdown",
      "metadata": {
        "id": "aKie_ZtldT8K"
      },
      "source": [
        "#Carga de información"
      ]
    },
    {
      "cell_type": "code",
      "metadata": {
        "id": "6QLpJ6lZdVyA"
      },
      "source": [
        "%%R\n",
        "#setwd(direc)\n",
        "#carga de datos\n",
        "#carga de rho\n",
        "data1<-read.table(btasadesc)\n",
        "n<-nrow(data1)\n",
        "m1_orig=ncol(data1)\n",
        "x1_orig=data.frame(data1[2:n,2:m1_orig])/100\n",
        "nodos1=data.frame(data1[1,2:m1_orig])\n",
        "print(nodos1)\n",
        "\n",
        "print(x1_orig[1,])\n",
        "#carga de tasas spot\n",
        "data2<-read.table(btasaspot)\n",
        "n<-nrow(data2)\n",
        "m2_orig=ncol(data2)\n",
        "x2_orig=data.frame(data2[2:n,2:m2_orig])/100\n",
        "nodos2=data.frame(data2[1,2:m2_orig])\n",
        "print(nodos2)\n",
        "print(x2_orig[1,])\n",
        "#carga de volatilidades de spot\n",
        "data3<-read.table(bvolspot)\n",
        "n<-nrow(data3)\n",
        "m3_orig=ncol(data3)\n",
        "x3_orig=data.frame(data3[2:n,2:m3_orig])\n",
        "nodos3=data.frame(data3[1,2:m3_orig])\n",
        "print(nodos3)\n",
        "x3_orig[1,]"
      ],
      "execution_count": null,
      "outputs": []
    },
    {
      "cell_type": "markdown",
      "metadata": {
        "id": "A4VTfjtmekH5"
      },
      "source": [
        "#Función interpolación alambrada"
      ]
    },
    {
      "cell_type": "code",
      "metadata": {
        "id": "w0GARUEAemJI"
      },
      "source": [
        "%%R\n",
        "#Función de interpolación alambrada\n",
        "talamb=function(nodos,curva,plazos) #función de interpolación de tasas por el método alamabrada\n",
        "{\n",
        "  n=max(ncol(plazos),1)\n",
        "  m=max(ncol(nodos),1)\n",
        "  TC=matrix(0,1,n)\n",
        "  TL=matrix(0,1,n)\n",
        "  TF=matrix(0,1,n)\n",
        "  for (j in 1:n)\n",
        "  {\n",
        "    i=1\n",
        "    repeat\n",
        "    {\n",
        "      if(nodos[i]<= plazos[j] && plazos[j] <=nodos[i+1])\n",
        "      {\n",
        "        TC[j]=curva[i]\n",
        "        TL[j]=curva[i+1]\n",
        "        TF[j]=((((1+TL[j]*nodos[i+1]/360)/(1+TC[j]*nodos[i]/360))^((plazos[j]-nodos[i])/(nodos[i+1]-nodos[i]))*(1+TC[j]*nodos[i]/360))-1)*360/plazos[j]\n",
        "        break\n",
        "      }\n",
        "      else if (plazos[j]<nodos[1])\n",
        "      {\n",
        "        TC[j]=curva[1]\n",
        "        TL[j]=curva[1]\n",
        "        TF[j]=curva[1]\n",
        "        break\n",
        "      }\n",
        "      else if (plazos[j]>nodos[m])\n",
        "      {\n",
        "        TC[j]=curva[m]\n",
        "        TL[j]=curva[m]\n",
        "        TF[j]=curva[m]\n",
        "        break\n",
        "      }\n",
        "      else\n",
        "      {i=i+1}\n",
        "    }\n",
        "  }\n",
        "  as.matrix(t(as.numeric(rbind(TF))))\n",
        "}\n"
      ],
      "execution_count": null,
      "outputs": []
    },
    {
      "cell_type": "markdown",
      "metadata": {
        "id": "y_qZR52EdaqY"
      },
      "source": [
        "# Interpolación de tasas y volatilidades"
      ]
    },
    {
      "cell_type": "code",
      "metadata": {
        "id": "cMJz1713dgrN"
      },
      "source": [
        "%%R\n",
        "m=ncol(plazos)\n",
        "x1=matrix(0,n-1,m)\n",
        "x2tc=matrix(0,n-1,m)\n",
        "x2tl=matrix(0,n-1,m)\n",
        "x2=matrix(0,n-1,m)\n",
        "x3=matrix(0,n-1,m)\n",
        "for (i in 1:(n-1))\n",
        "{\n",
        "x1[i,]=if(itpl==0){approx(nodos1,x1_orig[i,],plazos)$y}else{talamb(nodos1,x1_orig[i,],plazos)}\n",
        "x2tc[i,]=if(itpl==0){approx(nodos2,x2_orig[i,],plazos)$y}else{talamb(nodos2,x2_orig[i,],plazos)}\n",
        "x2tl[i,]=if(itpl==0){approx(nodos2,x2_orig[i,],(plazos+pr))$y}else{talamb(nodos2,x2_orig[i,],(plazos+pr))}\n",
        "x3[i,]=if(itpl==0){approx(nodos3,x3_orig[i,],plazos)$y}else{talamb(nodos3,x3_orig[i,],plazos)}\n",
        "x2[i,]=((1+x2tl[i,]*(plazos+pr)/360)/(1+x2tc[i,]*(plazos)/360)-1)*360/pr\n",
        "}"
      ],
      "execution_count": null,
      "outputs": []
    },
    {
      "cell_type": "markdown",
      "metadata": {
        "id": "gi6ZObV_dxPo"
      },
      "source": [
        "#Posición Inicial"
      ]
    },
    {
      "cell_type": "code",
      "metadata": {
        "id": "FLe3rWbAdzW-"
      },
      "source": [
        "%%R\n",
        "x01=x1[1,] #tasas de descuento\n",
        "x02=x2[1,] #tasas spot\n",
        "x03=x3[1,] #volatilidades\n",
        "\n",
        "print(x01)\n",
        "print(x02)\n",
        "print(x03)"
      ],
      "execution_count": null,
      "outputs": []
    },
    {
      "cell_type": "markdown",
      "metadata": {
        "id": "--rH1cocd2U5"
      },
      "source": [
        "#Función de opciones de tasas de interés\n"
      ]
    },
    {
      "cell_type": "code",
      "metadata": {
        "id": "f5tS56xhd7rl"
      },
      "source": [
        "%%R\n",
        "opctint = function(d,S,K,vol,t,cp,cs,pr,dct)\t#función de una opción europea\n",
        "{\n",
        "  d1=if(cs==1){(log(S/K)+vol^2*t/(365*2))*(1/(vol*sqrt(t/365)))}else{(log(S/K)+vol^2*t/(360*2))*(1/(vol*sqrt(t/360)))}\n",
        "  d2=if(cs==1){(log(S/K)-vol^2*t/(365*2))*(1/(vol*sqrt(t/365)))}else{(log(S/K)-vol^2*t/(360*2))*(1/(vol*sqrt(t/360)))}\n",
        "  vp=if(cs==1){log(1+d*t/360)*365/t}else{d}\n",
        "  (if(cs==1){(S*pnorm(d1*(-1)^cp)-K*pnorm(d2*(-1)^cp))*(exp(-vp*t/365))*(-1)^cp}else{(S*pnorm(d1*(-1)^cp)-K*pnorm(d2*(-1)^cp))*(1/(1+vp*t/360))*(-1)^cp})*(pr/dct)/(1+S*pr/dct)\n",
        "}\n",
        "\n",
        "\n",
        "V0=opctint(x01,x02,K,x03,plazos,cp,cs,pr,dct)*contratos*nominal #Valor del portafolio\n",
        "V0"
      ],
      "execution_count": null,
      "outputs": []
    },
    {
      "cell_type": "markdown",
      "source": [
        "## Valuación Opciones"
      ],
      "metadata": {
        "id": "gSRqtWY9Lwt9"
      }
    },
    {
      "cell_type": "code",
      "source": [
        "%load_ext rpy2.ipython\n",
        "!rm -rf RiesgosFinancieros\n",
        "!git clone \"https://github.com/pikey-msc/RiesgosFinancieros/\""
      ],
      "metadata": {
        "id": "hEcJvR6m_ZxD"
      },
      "execution_count": null,
      "outputs": []
    },
    {
      "cell_type": "code",
      "source": [
        "import numpy as np\n",
        "import scipy.stats as stats\n",
        "import pandas as pd\n",
        "\n",
        "#OPCIONES\n",
        "btasadesc_oir = \"RiesgosFinancieros/2020-2/Insumos/tasa_TIIE_SW_OP.txt\"\n",
        "btasaspot_oir = \"RiesgosFinancieros/2020-2/Insumos/tasa_DIRS_SW_OP.txt\"\n",
        "bvolspot_oir = \"RiesgosFinancieros/2020-2/Insumos/tvoltiie_opc.txt\"\n",
        "plazos_oir = np.array([700, 1700, 400, 350, 200])  # T-t\n",
        "pr_oir = 28  # plazo de referencia\n",
        "dct_oir = 360  # d_base\n",
        "cp_oir = np.array([1, 0, 0, 0, 0])  # si es call (cap) o put (floor)\n",
        "K_oir = np.array([0.07, 0.085, 0.078, 0.085, 0.08])\n",
        "contratos_oir = np.array([2200, -2900, 2900, -460, 5000])\n",
        "nominal_oir = 1\n",
        "cs_oir = 1  # 1 si es continua la tasa 0 si es simple\n",
        "\n",
        "#carga de opciones de tasa de interés\n",
        "data1 = pd.read_table(btasadesc_oir,header=None)\n",
        "n =data1.shape[0]\n",
        "m1_orig_oir = len(data1.columns)\n",
        "x1_orig_oir = pd.DataFrame(data1.iloc[1:n, 1:m1_orig_oir], dtype=float)\n",
        "# x1_orig_oir['Date'] = pd.to_datetime(data1.iloc[1:n, 0], format = '%Y%m%d')\n",
        "nodos1_oir =  data1.iloc[0, 1:m1_orig_oir]\n",
        "\n",
        "# carga de tasas spot\n",
        "data2 = pd.read_table(btasaspot_oir,header=None)\n",
        "n = len(data2)\n",
        "m2_orig_oir = len(data2.columns)\n",
        "x2_orig_oir = pd.DataFrame(data2.iloc[1:n, 1:m2_orig_oir], dtype=float)\n",
        "# x2_orig_oir['Date'] = pd.to_datetime(data2.iloc[1:n, 0], format=\"%Y%m%d\")\n",
        "nodos2_oir = data2.iloc[0, 1:m2_orig_oir]\n",
        "\n",
        "# carga de volatilidades de spot\n",
        "data3 = pd.read_table(bvolspot_oir,header=None)\n",
        "n = len(data3)\n",
        "m3_orig_oir = len(data3.columns)\n",
        "x3_orig_oir = pd.DataFrame(data3.iloc[1:n, 1:m3_orig_oir], dtype=float)\n",
        "# x3_orig_oir['Date'] = pd.to_datetime(data3.iloc[1:n, 0], format=\"%Y%m%d\")\n",
        "nodos3_oir = data3.iloc[0, 1:m3_orig_oir]\n",
        "\n",
        "#x1[i, :] = np.interp(plazos_oir, nodos1_oir.index, x1_orig_oir.iloc[i, :-1].astype(\"float64\")/100)\n",
        "# print( x1_orig_oir.iloc[i, :-1].astype(\"float64\"))\n",
        "print(nodos1_oir.index)\n",
        "\n",
        "\n",
        "\n",
        "# Opciones de tasa de interés, cálculo con inicio el día de la valuación\n",
        "\n",
        "# Posición inicial\n",
        "\n",
        "# Interpolación de tasas y volatilidades\n",
        "m = len(plazos_oir)\n",
        "x1 = np.zeros((n, m))\n",
        "x2tc = np.zeros((n, m))\n",
        "x2tl = np.zeros((n, m))\n",
        "x2 = np.zeros((n, m))\n",
        "x3 = np.zeros((n, m))\n",
        "for i in range(n-1):\n",
        "    x1[i, :] = np.interp(plazos_oir, nodos1_oir, x1_orig_oir.iloc[i, :])\n",
        "    x2tc[i, :] = np.interp(plazos_oir, nodos2_oir, x2_orig_oir.iloc[i, :])\n",
        "    x2tl[i, :] = np.interp(plazos_oir + pr_oir, nodos2_oir, x2_orig_oir.iloc[i, :])\n",
        "    x3[i, :] = np.interp(plazos_oir, nodos3_oir, x3_orig_oir.iloc[i, :])\n",
        "    x2[i, :] = (((1 + x2tl[i, :] * ((plazos_oir + pr_oir) / 360)) / (1 + x2tc[i, :] * (plazos_oir / 360))) - 1) * 360 / pr_oir\n",
        "\n",
        "x01 = x1[0, :]  # Tasas de descuento\n",
        "x02 = x2[0, :]  # Tasas spot\n",
        "x03 = x3[0, :]  # Volatilidades\n",
        "\n",
        "\n",
        "X_oir = np.column_stack((x1, x2, x3))\n",
        "def opctint(d, S, K_oir, vol, t, cp_oir, cs_oir, pr_oir, dct_oir):\n",
        "    d1 = ((np.log(S / K_oir) + (vol ** 2) * t / (365 * 2)) * (1 / (vol * np.sqrt(t / 365)))) if cs_oir == 1 else ((np.log(S / K_oir) + (vol ** 2) * t / (360 * 2)) * (1 / (vol * np.sqrt(t / 360))))\n",
        "    d2 = ((np.log(S / K_oir) - (vol ** 2) * t / (365 * 2)) * (1 / (vol * np.sqrt(t / 365)))) if cs_oir == 1 else ((np.log(S / K_oir) - (vol ** 2) * t / (360 * 2)) * (1 / (vol * np.sqrt(t / 360))))\n",
        "    vp = (np.log(1 + d * t / 360) * 365 / t) if cs_oir == 1 else d\n",
        "    f=((S * stats.norm.cdf(d1 * (-1) ** cp_oir) - K_oir * stats.norm.cdf(d2 * (-1) ** cp_oir)) * (np.exp(-vp * t / 365)) * (-1) ** cp_oir)* (pr_oir / dct_oir) / (1 + S * pr_oir / dct_oir) if cs_oir == 1 else ((S * stats.norm.cdf(d1 * (-1) ** cp_oir) - K_oir * stats.norm.cdf(d2 * (-1) ** cp_oir)) * (1 / (1 + vp * t / 360)) * (-1) ** cp_oir) * (pr_oir / dct_oir) / (1 + S * pr_oir / dct_oir)\n",
        "    return f\n",
        "\n",
        "V0_oir = opctint(x01, x02, K_oir, x03, plazos_oir, cp_oir, cs_oir, pr_oir, dct_oir) * contratos_oir * nominal_oir  # Valor del portafolio\n",
        "V0_oir\n"
      ],
      "metadata": {
        "id": "Hr60Tv6u90jJ"
      },
      "execution_count": null,
      "outputs": []
    }
  ]
}