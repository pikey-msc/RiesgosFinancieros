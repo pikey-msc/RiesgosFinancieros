{
  "cells": [
    {
      "cell_type": "markdown",
      "metadata": {
        "id": "view-in-github",
        "colab_type": "text"
      },
      "source": [
        "<a href=\"https://colab.research.google.com/github/pikey-msc/RiesgosFinancieros/blob/master/2022-1/Insumos/Acc_Div_SMMC_python.ipynb\" target=\"_parent\"><img src=\"https://colab.research.google.com/assets/colab-badge.svg\" alt=\"Open In Colab\"/></a>"
      ]
    },
    {
      "cell_type": "markdown",
      "metadata": {
        "id": "qaNMAFEoC_cG"
      },
      "source": [
        "#Riesgo de Mercado (Simulación Montecarlo)\n",
        "\n",
        "Existen trés métodos principales para medir el riesgo de mercado\n",
        "* Simulación histórica\n",
        "* Paramétrico\n",
        "* Simulación de Monte Carlo\n",
        "\n",
        "\n",
        "\n",
        "   **Pérdidas y Ganancias simulación histórica (sin alisado)**\n",
        "   \n",
        "Un enfoque más claro es suponer que tenemos:\n",
        "1.   Una matriz $X_{(n+1)\\times m}$ de $m$ factores de riesgo y $n+1$ observaciones. \n",
        "2.   Denotemos el vector de precios actual como $X_{00}:=(x_{0,1},x_{0,2},\\ldots,x_{0,m})$. \n",
        "3.   Sea $r$ el número de instrumentos de un portafolio, entonces cada instrumento tiene una función de valuación $f_i\\colon A_i \\to R$ para todo $x\\in X$, $i=1,\\ldots, r$, donde $A_i\\subset X_i$ con $\\#(A_i)\\leq \\#(X_i)$.\n",
        "4.   Sea $r$ el número de instrumentos de un portafolio, entonces cada instrumento tiene una función de valuación $f_i\\colon A_i \\to R$ para todo $x\\in X$, $i=1,\\ldots, r$, donde $A_i\\subset X_i$ con $\\#(A_i)\\leq \\#(X_i)$.\n",
        "5.   Sea $M_{1\\times r}=(m_1,\\ldots,m_r)$ el vector de posiciones nominales de cada instrumento, es decir, el número de contratos que se tienen por instrumento $m_i\\in R$ $(i=1,\\ldots,r)$."
      ]
    },
    {
      "cell_type": "code",
      "execution_count": 12,
      "metadata": {
        "colab": {
          "base_uri": "https://localhost:8080/"
        },
        "id": "ZfObh47fDDLe",
        "outputId": "0c29ef41-38bb-499e-9647-207e627f7941"
      },
      "outputs": [
        {
          "output_type": "stream",
          "name": "stdout",
          "text": [
            "Requirement already satisfied: yfinance in /usr/local/lib/python3.7/dist-packages (0.1.70)\n",
            "Requirement already satisfied: numpy>=1.15 in /usr/local/lib/python3.7/dist-packages (from yfinance) (1.21.6)\n",
            "Requirement already satisfied: requests>=2.26 in /usr/local/lib/python3.7/dist-packages (from yfinance) (2.27.1)\n",
            "Requirement already satisfied: multitasking>=0.0.7 in /usr/local/lib/python3.7/dist-packages (from yfinance) (0.0.10)\n",
            "Requirement already satisfied: lxml>=4.5.1 in /usr/local/lib/python3.7/dist-packages (from yfinance) (4.8.0)\n",
            "Requirement already satisfied: pandas>=0.24.0 in /usr/local/lib/python3.7/dist-packages (from yfinance) (1.3.5)\n",
            "Requirement already satisfied: python-dateutil>=2.7.3 in /usr/local/lib/python3.7/dist-packages (from pandas>=0.24.0->yfinance) (2.8.2)\n",
            "Requirement already satisfied: pytz>=2017.3 in /usr/local/lib/python3.7/dist-packages (from pandas>=0.24.0->yfinance) (2022.1)\n",
            "Requirement already satisfied: six>=1.5 in /usr/local/lib/python3.7/dist-packages (from python-dateutil>=2.7.3->pandas>=0.24.0->yfinance) (1.15.0)\n",
            "Requirement already satisfied: certifi>=2017.4.17 in /usr/local/lib/python3.7/dist-packages (from requests>=2.26->yfinance) (2021.10.8)\n",
            "Requirement already satisfied: idna<4,>=2.5 in /usr/local/lib/python3.7/dist-packages (from requests>=2.26->yfinance) (2.10)\n",
            "Requirement already satisfied: charset-normalizer~=2.0.0 in /usr/local/lib/python3.7/dist-packages (from requests>=2.26->yfinance) (2.0.12)\n",
            "Requirement already satisfied: urllib3<1.27,>=1.21.1 in /usr/local/lib/python3.7/dist-packages (from requests>=2.26->yfinance) (1.24.3)\n"
          ]
        }
      ],
      "source": [
        "!pip install yfinance\n",
        "import yfinance as yf\n",
        "import pandas as pd\n"
      ]
    },
    {
      "cell_type": "code",
      "execution_count": 13,
      "metadata": {
        "colab": {
          "base_uri": "https://localhost:8080/"
        },
        "id": "gfH-istCZBOg",
        "outputId": "7a515e26-8fbf-40b2-e9ac-283e0e5bb06f"
      },
      "outputs": [
        {
          "output_type": "stream",
          "name": "stdout",
          "text": [
            "[*********************100%***********************]  4 of 4 completed\n"
          ]
        }
      ],
      "source": [
        "start = '2020-01-01'\n",
        "\n",
        "symbol = ['AAPL','MSFT','SQ','AMZN']\n",
        "stock_data = yf.download(symbol,start)\n",
        "# stock_data = stock_data.history(start=start)#, end=end) \n",
        "# symbol1='APPL'\n",
        "# stock_data = yf.Ticker(symbol)\n",
        "# stock_data = stock_data.history(start=start)#, end=end) \n"
      ]
    },
    {
      "cell_type": "markdown",
      "metadata": {
        "id": "9I7OT80dy24f"
      },
      "source": [
        "\n",
        "##Paso 1.\n",
        " (Generación de rendimientos) Construir ${\\Delta X}_{n\\times m}$ que es la matriz de diferencias basados en el operador $T_j$, es decir\n",
        "\t\t$${\\Delta X}_t=\\Big[ T_j(\\frac{x_{t,1}}{x_{t+1,1}}), T_j(\\frac{x_{t,2}}{x_{t+1,2}}),\\ldots, T_j(\\frac{x_{t,m}}{x_{t+1,m}})\\Big]\\quad t=0,1,\\ldots, n-1.$$"
      ]
    },
    {
      "cell_type": "code",
      "execution_count": 14,
      "metadata": {
        "colab": {
          "base_uri": "https://localhost:8080/"
        },
        "id": "dzMJ_z_SYCCd",
        "outputId": "7e65d804-37be-4377-e798-1fc029f46e7f"
      },
      "outputs": [
        {
          "output_type": "stream",
          "name": "stdout",
          "text": [
            "                 AAPL         AMZN        MSFT         SQ\n",
            "Date                                                     \n",
            "2020-01-02  75.087502  1898.010010  160.619995  63.830002\n",
            "2020-01-03  74.357498  1874.969971  158.619995  63.000000\n",
            "2020-01-06  74.949997  1902.880005  159.029999  62.570000\n",
            "2020-01-07  74.597504  1906.859985  157.580002  64.589996\n",
            "2020-01-08  75.797501  1891.969971  160.089996  67.599998\n",
            "                AAPL      AMZN      MSFT        SQ\n",
            "Date                                              \n",
            "2020-01-03 -0.009770 -0.012213 -0.012530 -0.013089\n",
            "2020-01-06  0.007937  0.014776  0.002581 -0.006849\n",
            "2020-01-07 -0.004714  0.002089 -0.009160  0.031774\n",
            "2020-01-08  0.015958 -0.007839  0.015803  0.045548\n",
            "2020-01-09  0.021018  0.004788  0.012416  0.004870\n",
            "                  AAPL         AMZN        MSFT         SQ\n",
            "Date                                                      \n",
            "2022-05-12  142.559998  2138.610107  255.350006  75.760002\n"
          ]
        }
      ],
      "source": [
        "# yf.download?\n",
        "print(stock_data.Close.head(5))\n",
        "\n",
        "import numpy as np\n",
        "X=stock_data.Close\n",
        "X0=stock_data.Close.tail(1)\n",
        "DeltaX=np.log(stock_data.Close/stock_data.Close.shift(1))\n",
        "DeltaX=DeltaX.dropna()\n",
        "\n",
        "print(DeltaX.head())\n",
        "print(X0)\n"
      ]
    },
    {
      "cell_type": "code",
      "execution_count": 15,
      "metadata": {
        "colab": {
          "base_uri": "https://localhost:8080/"
        },
        "id": "C99BKappr5Za",
        "outputId": "6d98f4dd-839d-4621-8ef0-52de523b4ea4"
      },
      "outputs": [
        {
          "output_type": "stream",
          "name": "stdout",
          "text": [
            "[1000 5000 2000  100]\n"
          ]
        },
        {
          "output_type": "execute_result",
          "data": {
            "text/plain": [
              "AAPL    1.425600e+05\n",
              "AMZN    1.069305e+07\n",
              "MSFT    5.107000e+05\n",
              "SQ      7.576000e+03\n",
              "Name: 2022-05-12 00:00:00, dtype: float64"
            ]
          },
          "metadata": {},
          "execution_count": 15
        }
      ],
      "source": [
        "import pandas as pd\n",
        "M=np.array([1000,5000,2000,100])\n",
        "print(M)\n",
        "\n",
        "#Valoración\n",
        "\n",
        "Y0=X0.squeeze()*M\n",
        "\n",
        "Y0\n",
        "\n"
      ]
    },
    {
      "cell_type": "markdown",
      "source": [
        "## Simulación"
      ],
      "metadata": {
        "id": "_YzLApAlzT_0"
      }
    },
    {
      "cell_type": "markdown",
      "source": [
        "\t\n",
        "\t\tPaso 1. Construir ${\\Delta X}_{n\\times m}$ que es la matriz de diferencias basados en el operador $T_j$ (\t\tdonde $T_1(x)=\\ln(x)$ ó $T_2(x)=x-1$), es decir\n",
        "\t\t$${\\Delta X}_\\tau=\\Big[ T_j(\\frac{x_{t,1}}{x_{t+\\tau,1}}), T_j(\\frac{x_{t,2}}{x_{t+\\tau,2}}),\\ldots, T_j(\\frac{x_{t,m}}{x_{t+\\tau,m}})\\Big]\\quad t=0,1,\\ldots, n-1.$$\n",
        "\t\tPaso 2. Calcular la matriz de correlación de ${\\Delta X}_\\tau$, i.e. $\\Omega=\\Corr({\\Delta X}_\\tau)$.\n",
        "\t\tPaso 3. Factorizar $\\Omega=AA^\\top$.\n",
        "\t\tPaso 4. Analizar la distribución individual de las variaciones de los factores de riesgo ${\\Delta X}_{\\tau,k}$ ($k=1,\\ldots,m$) para ajustar a una función de distribución paramétrica conocida ó utilizar la función empírica tal cual.\n",
        "\t\tPaso 5. Calcular matriz $S$ de $N\\times m$ valores con $$S_{i\\cdot}=\\Big[F^{-1}_{{\\Delta X}_{\\tau,1}}(\\alpha_{i 1}),\\ldots,F^{-1}_{{\\Delta X}_{\\tau,m}}(\\alpha_{i m})\\Big]$$ donde $\\alpha_{i\\cdot}\\sim U(0,1)$ con $N\\times m$ valores a.i.i.d. simulados, y $F^{-1}_{{\\Delta X}_{\\tau,k}}$ es la inversa de la distribución empírica o paramétrica (seleccionada en el paso anterior) de las variaciones del factor de riesgo $k$, i.e. de ${\\Delta X}_{\\tau,k}$ ($k=1,\\ldots,m$).\n",
        "\t\tPaso 6. Calcular matriz $\\Delta X_{s_\\tau}$ como $\\Delta X_{s_\\tau}=S\\cdot A^\\top$. \n",
        "\t\tPaso 7. Construir ${X}_{s_{N\\times m}}$ que es la matriz de factores de riesgo simulada basada en el vector de precios actual $X_{00}$\n",
        "\t\t$$X_{s_{i\\cdot}}=\\Big[x_{0,1}T^{-1}_j(\\Delta x_{s_{i1}}), \\ldots, x_{0,m}T^{-1}_j(\\Delta x_{s_{im}})\\Big]\\quad (i=1,\\ldots,N\\quad j=1\\, \\textrm{ó}\\, 2),$$"
      ],
      "metadata": {
        "id": "d7SPqAxa0XXB"
      }
    },
    {
      "cell_type": "markdown",
      "source": [
        "Paso 1. Construir ${\\Delta X}_{n\\times m}$ que es la matriz de diferencias basados en el operador $T_j$ (\t\tdonde $T_1(x)=\\ln(x)$ ó $T_2(x)=x-1$), es decir\n",
        "\t\t$${\\Delta X}_\\tau=\\Big[ T_j(\\frac{x_{t,1}}{x_{t+\\tau,1}}), T_j(\\frac{x_{t,2}}{x_{t+\\tau,2}}),\\ldots, T_j(\\frac{x_{t,m}}{x_{t+\\tau,m}})\\Big]\\quad t=0,1,\\ldots, n-1.$$\n",
        "\t\tPaso 2. Calcular la matriz de correlación de ${\\Delta X}_\\tau$, i.e. $\\Omega=\\Corr({\\Delta X}_\\tau)$.\n",
        "\n",
        "Paso 3. Factorizar $\\Omega=AA^\\top$.\n",
        "\n",
        "Paso 4. Analizar la distribución individual de las variaciones de los factores de riesgo ${\\Delta X}_{\\tau,k}$ ($k=1,\\ldots,m$) para ajustar a una función de distribución paramétrica conocida ó utilizar la función empírica tal cual.\n",
        "\n",
        "Paso 5. Calcular matriz $S$ de $N\\times m$ valores con $$S_{i\\cdot}=\\Big[F^{-1}_{{\\Delta X}_{\\tau,1}}(\\alpha_{i 1}),\\ldots,F^{-1}_{{\\Delta X}_{\\tau,m}}(\\alpha_{i m})\\Big]$$ donde $\\alpha_{i\\cdot}\\sim U(0,1)$ con $N\\times m$ valores a.i.i.d. simulados, y $F^{-1}_{{\\Delta X}_{\\tau,k}}$ es la inversa de la distribución empírica o paramétrica (seleccionada en el paso anterior) de las variaciones del factor de riesgo $k$, i.e. de ${\\Delta X}_{\\tau,k}$ ($k=1,\\ldots,m$).\n",
        "\n",
        "Paso 6. Calcular matriz $\\Delta X_{s_\\tau}$ como $\\Delta X_{s_\\tau}=S\\cdot A^\\top$.\n",
        "\n",
        "Paso 7. Construir ${X}_{s_{N\\times m}}$ que es la matriz de factores de riesgo simulada basada en el vector de precios actual $X_{00}$\n",
        "\t\t$$X_{s_{i\\cdot}}=\\Big[x_{0,1}T^{-1}_j(\\Delta x_{s_{i1}}), \\ldots, x_{0,m}T^{-1}_j(\\Delta x_{s_{im}})\\Big]\\quad (i=1,\\ldots,N\\quad j=1\\, \\textrm{ó}\\, 2),$$"
      ],
      "metadata": {
        "id": "-QAMV2ss0s_i"
      }
    },
    {
      "cell_type": "code",
      "source": [
        "Ns=10000 #Definimos número de simulaciones\n",
        "alpha=0.98 #Nivel de Confianza para las medidas de riesgo\n",
        "ChCP=0  #0 Cholesky, 1 Componentes Principales\n",
        "normempi=0 #0 normal, 1 empírico\n",
        "eta=.85 #Varianza explicada  (sólo aplica para Componentes Principales)\n",
        "DeltaX_port=DeltaX\n",
        "mT=DeltaX_port.shape[1]\n",
        "print(mT)\n",
        "\n",
        "print(np.cov(DeltaX_port.T)*(DeltaX_port.shape[1]/(DeltaX_port.shape[1]-1)))\n",
        "\n",
        "print(((DeltaX_port.shape[1])/(DeltaX_port.shape[1]-1)))\n",
        "\n",
        "\n",
        "VarDeltaX=np.where(ChCP==0,np.corrcoef(DeltaX_port.T),np.cov(DeltaX_port.T)*((DeltaX_port.shape[1])/(DeltaX_port.shape[1]-1)))\n",
        "\n",
        "\n",
        "if(ChCP==0):\n",
        "  CVarDeltaX=np.linalg.cholesky(VarDeltaX)\n",
        "  M=np.zeros([Ns, mT])\n",
        "  print((CVarDeltaX.shape[1]))\n",
        "  print(VarDeltaX.shape[1])\n",
        "  if normempi==1:\n",
        "    for i in range(mT):\n",
        "      M[:,i]=DeltaX_port.iloc[:,i].sort_values(ascending=True).quantile(1-np.random.uniform(0,1,Ns), interpolation = 'higher')\n",
        "    Met='Cholesky Empírico'\n",
        "  else:\n",
        "    for i in range(mT):\n",
        "      M[:,i]=np.random.normal(np.mean(DeltaX_port.iloc[:,i]), np.std(DeltaX_port.iloc[:,i]), size=(Ns))\n",
        "    Met='Cholesky Normal'\n",
        "  DeltaX_s=M.dot(CVarDeltaX) \n",
        "else:\n",
        "  eig = np.linalg.eigh(VarDeltaX)\n",
        "  valoresP = np.flip(eig[0])\n",
        "  vectoresP = np.flip(eig[1])\n",
        "  varacum = valoresP.cumsum()/valoresP.sum()\n",
        "  n_comp = list(varacum).index(varacum[varacum>=eta][0])\n",
        "  Y = (DeltaX_port - np.mean(DeltaX_port, axis = 0)).dot(vectoresP[:,0:n_comp+1])\n",
        "  print(Y.shape)\n",
        "  M=np.zeros([Ns, n_comp+1])\n",
        "\n",
        "  # Simulación\n",
        "  if normempi==1:\n",
        "    for i in range(n_comp+1):\n",
        "      M[:,i]=Y.iloc[:,i].sort_values(ascending=True).quantile(1-np.random.uniform(0,1,Ns), interpolation = 'higher')\n",
        "    Met='PCA Empírico'\n",
        "  else:\n",
        "    for i in range(n_comp+1):\n",
        "      # Aquí hay un problema\n",
        "      M[:,i]=np.random.normal(np.mean(Y.iloc[:,i]), np.std(Y.iloc[:,i]), size=(Ns))\n",
        "    Met='PCA Normal'\n",
        "  DeltaX_s=M.dot(vectoresP[:,0:n_comp+1].T)\n",
        "\n",
        "\n",
        "Met\n",
        "\n",
        "\n",
        "Ms1='Se explica el' \n",
        "Ms2= 'de varianza'\n",
        "Ms3= 'de suma de var-cov'\n",
        "\n",
        "print(Ms1)\n",
        "print(sum(np.diag(np.cov(DeltaX_s.T)))/sum(np.diag(np.cov(DeltaX_port.T)))) #Comprobación de matriz de varianza-cov vs original\n",
        "print(Ms2)\n",
        "\n",
        "print(Ms1)\n",
        "print((np.ones(DeltaX_s.shape[1]).dot(np.cov(DeltaX_s.T)).dot(np.ones(DeltaX_s.shape[1]).T))/(np.ones(DeltaX_s.shape[1]).dot(np.cov(DeltaX_port.T)).dot(np.ones((DeltaX_s.shape[1]))))) #Comprobación de matriz de varianza-cov vs original\n",
        "print(Ms3)\n",
        "\n",
        "print(mT)\n",
        "print(n_comp) #número de variables simuladas  "
      ],
      "metadata": {
        "colab": {
          "base_uri": "https://localhost:8080/"
        },
        "id": "M-94k3EZ1o8V",
        "outputId": "35ae3a0c-f412-44af-e395-ec05552ceca1"
      },
      "execution_count": 23,
      "outputs": [
        {
          "output_type": "stream",
          "name": "stdout",
          "text": [
            "4\n",
            "[[0.00072389 0.00045961 0.00054918 0.00078142]\n",
            " [0.00045961 0.00069512 0.00045514 0.00075333]\n",
            " [0.00054918 0.00045514 0.0006378  0.00079975]\n",
            " [0.00078142 0.00075333 0.00079975 0.0026927 ]]\n",
            "1.3333333333333333\n",
            "4\n",
            "4\n",
            "Se explica el\n",
            "0.9896695333077943\n",
            "de varianza\n",
            "Se explica el\n",
            "0.9706789033334196\n",
            "de suma de var-cov\n",
            "4\n",
            "1\n"
          ]
        }
      ]
    },
    {
      "cell_type": "markdown",
      "metadata": {
        "id": "7Uz38FmizEOO"
      },
      "source": [
        "\n",
        "Paso 8. Construcción de la matriz de reevaluación del portafolio basada en los escenarios simulados $Y_{N\\times r}$ de todos los instrumentos financieros, es decir\n",
        "$$Y_z=[m_1f_1(X_{s_z}), m_2f_2(X_{s_z}),\\ldots, m_rf_r(X_{s_z})]\\quad (z=1,\\ldots,N).$$\n",
        "Paso 9. Construcción de la matriz de pérdidas y ganancias del portafolio basada en los escenarios simulados $\\Delta Y_{N\\times r}$ de todos los instrumentos financieros, es decir\n",
        "$$\\Delta Y_{z\\cdot}=Y_0-Y_{z}=[m_1(f_1(X_{00})-f_1(X_{s_{z\\cdot}})),\\ldots, m_r(f_r(X_{00})-f_r(X_{s_{z\\cdot}}))],$$\n",
        "para $(z=1,\\ldots,N)$. Se puede obtener el vector de pérdidas totales ${\\Delta YT}_{N}$ muy fácilmente, esto es $\\Delta YT=\\sum_{k=1}^r Y_{z\\cdot}$ $(z=1,\\ldots,N)$, incluso se puede hacer lo mismo por tipo de riesgo, ya que para cada tipo de riesgo pueden existir diferentes instrumentos, lo único que se tiene que hacer es sumar los instrumentos de un mismo tipo de riesgo por escenario.\n",
        "Paso 10. Obtener las medidas de riesgo deseada de la matriz ${\\Delta Y}_{\\cdot k}$ $(k=1,\\ldots,r)$ y $\\Delta YT$, ejemplo se puede calcular $\\VaR_\\alpha({\\Delta Y}_{\\cdot k})$, $\\CVaR_\\alpha({\\Delta Y}_{\\cdot k})$, $\\CeR_\\alpha({\\Delta Y}_{\\cdot k})$, $\\mu(\\Delta Y_{\\cdot k})$, $\\sigma(\\Delta Y_{\\cdot k})$, etc. para $k=1,\\ldots,r$. \n",
        "\n"
      ]
    },
    {
      "cell_type": "code",
      "execution_count": 76,
      "metadata": {
        "colab": {
          "base_uri": "https://localhost:8080/"
        },
        "id": "_YpS4IQMs9Hh",
        "outputId": "d9b4faa7-77c6-4863-c3d2-8593b267191b"
      },
      "outputs": [
        {
          "output_type": "stream",
          "name": "stdout",
          "text": [
            "(10000, 4)\n",
            "(1, 4)\n",
            "AAPL     142.559998\n",
            "AMZN    2138.610107\n",
            "MSFT     255.350006\n",
            "SQ        75.760002\n",
            "Name: 2022-05-12 00:00:00, dtype: float64\n"
          ]
        },
        {
          "output_type": "execute_result",
          "data": {
            "text/plain": [
              "<bound method NDFrame.head of                0            1           2          3\n",
              "0     150.382675  2168.990345  258.003884  76.871107\n",
              "1     139.654715  2137.510707  256.992507  78.773486\n",
              "2     137.967185  2100.432758  251.723302  75.026633\n",
              "3     139.040343  2132.555361  250.292220  72.038264\n",
              "4     152.453051  2140.034526  257.214299  78.837977\n",
              "...          ...          ...         ...        ...\n",
              "9995  151.926342  2134.931610  259.449436  77.767081\n",
              "9996  144.135229  2190.048220  252.456898  74.872178\n",
              "9997  141.027135  2144.250299  255.049176  75.207531\n",
              "9998  150.135182  2190.765439  262.269476  81.748660\n",
              "9999  138.559012  2111.585530  256.251075  77.667438\n",
              "\n",
              "[10000 rows x 4 columns]>"
            ]
          },
          "metadata": {},
          "execution_count": 76
        }
      ],
      "source": [
        "print(DeltaX_s.shape)\n",
        "print(X0.shape)\n",
        "print(X0.T.squeeze().T)\n",
        "\n",
        "X_s=np.exp(pd.DataFrame(DeltaX_s).squeeze())*np.array(X0.squeeze())\n",
        "X_s.head"
      ]
    },
    {
      "cell_type": "markdown",
      "metadata": {
        "id": "440v6MiazKEQ"
      },
      "source": [
        "## Paso 3. \n",
        "Construcción de la matriz de reevaluación del portafolio basada en los escenarios históricos $Y_{n\\times r}$ de todos los instrumentos financieros, es decir\n",
        "\t\t$$Y_t=[m_1f_1(X_{t}^\\ast), m_2f_2(X_{t}^\\ast),\\ldots, m_rf_r(X_{t}^\\ast)]\\quad (t=1,\\ldots,n).$$\n",
        "    \n"
      ]
    },
    {
      "cell_type": "code",
      "execution_count": 77,
      "metadata": {
        "colab": {
          "base_uri": "https://localhost:8080/"
        },
        "id": "c-dGnxo5zYgz",
        "outputId": "94542d9a-1374-4535-d84f-83a2011fdf5c"
      },
      "outputs": [
        {
          "output_type": "execute_result",
          "data": {
            "text/plain": [
              "<bound method NDFrame.head of              0          1         2         3\n",
              "0     4.081135  19.573303  3.132681  1.458767\n",
              "1    -4.755681 -33.021594 -1.584196  4.004831\n",
              "2     0.080530 -28.565697 -5.426308 -0.951221\n",
              "3     1.221455  45.273579 -3.341905 -4.729708\n",
              "4     7.851593 -31.189011 -1.278415  4.092201\n",
              "...        ...        ...       ...       ...\n",
              "9995  6.452279 -38.402953  4.411592  2.650348\n",
              "9996  0.835456  88.487712 -3.869137 -1.150370\n",
              "9997 -1.476631  13.332487  0.306277 -0.717450\n",
              "9998 -1.820163  -9.442525  3.630866  8.106213\n",
              "9999 -3.583701 -54.543346 -1.270058  2.517161\n",
              "\n",
              "[10000 rows x 4 columns]>"
            ]
          },
          "metadata": {},
          "execution_count": 77
        }
      ],
      "source": [
        "Y_s=X_s*M.squeeze()\n",
        "Y_s.head\n"
      ]
    },
    {
      "cell_type": "markdown",
      "metadata": {
        "id": "MIrkcbiSzOiR"
      },
      "source": [
        "## Paso 4. \n",
        "Construcción de la matriz de pérdidas y ganancias del portafolio basada en los escenarios históricos $\\Delta Y_{n\\times r}$ de todos los instrumentos financieros, es decir\n",
        "\t\t$$\\Delta Y_t=Y_t-Y_{0}=[m_1(f_1(X_{00})-f_1(X_{t}^\\ast)), m_2( f_2(X_{00})-f_2(X_{t}^\\ast)),\\ldots, m_r(f_r(X_{00})-f_r(X_{t}^\\ast))],$$\n",
        "\t\tpara $(t=1,\\ldots,n)$. Se puede obtener el vector de pérdidas totales ${\\Delta YT}_{n\\times m}$ muy fácilmente, esto es $\\Delta YT=\\sum_{k=1}^r Y_{kt}$ $(t=1,\\ldots,n)$, incluso se puede hacer lo mismo por tipo de riesgo.\n"
      ]
    },
    {
      "cell_type": "code",
      "execution_count": 79,
      "metadata": {
        "colab": {
          "base_uri": "https://localhost:8080/"
        },
        "id": "p--ugkyazdcL",
        "outputId": "6f5dfd98-1bc4-42be-f008-aa3ae10dbfc8"
      },
      "outputs": [
        {
          "output_type": "execute_result",
          "data": {
            "text/plain": [
              "<bound method NDFrame.head of                   0             1              2            3         Total\n",
              "0    -142555.916424 -1.069303e+07 -510696.879526 -7574.541447 -1.135386e+07\n",
              "1    -142564.753240 -1.069308e+07 -510701.596403 -7571.995382 -1.135392e+07\n",
              "2    -142559.917029 -1.069308e+07 -510705.438515 -7576.951434 -1.135392e+07\n",
              "3    -142558.776104 -1.069301e+07 -510703.354112 -7580.729922 -1.135385e+07\n",
              "4    -142552.145966 -1.069308e+07 -510701.290622 -7571.908013 -1.135391e+07\n",
              "...             ...           ...            ...          ...           ...\n",
              "9995 -142553.545279 -1.069309e+07 -510695.600615 -7573.349866 -1.135391e+07\n",
              "9996 -142559.162103 -1.069296e+07 -510703.881344 -7577.150584 -1.135380e+07\n",
              "9997 -142561.474190 -1.069304e+07 -510699.705930 -7576.717664 -1.135388e+07\n",
              "9998 -142561.817721 -1.069306e+07 -510696.381341 -7567.894001 -1.135389e+07\n",
              "9999 -142563.581259 -1.069311e+07 -510701.282265 -7573.483052 -1.135394e+07\n",
              "\n",
              "[10000 rows x 5 columns]>"
            ]
          },
          "metadata": {},
          "execution_count": 79
        }
      ],
      "source": [
        "PL=Y_s-np.array(Y0.squeeze())\n",
        "\n",
        "cols=PL.shape[1]\n",
        "\n",
        "PL['Total']=PL.sum(axis=1)\n",
        "PL.head"
      ]
    },
    {
      "cell_type": "markdown",
      "metadata": {
        "id": "WAdcqcF4znAR"
      },
      "source": [
        "##Paso 5. \n",
        "Obtenerla medida de riesgo basado en un nivel de confianza de la matriz ${\\Delta Y}_{\\cdot k}$ $(k=1,\\ldots,r)$ y $\\Delta YT$.\n",
        "\n",
        "Las pérdidas y ganancias vía simulación histórica sin alisado es donde se ponderan los escenarios históricos con un mismo peso para todos, es decir cada escenario tiene una probabilidad de ocurrencia de $1/n$."
      ]
    },
    {
      "cell_type": "code",
      "execution_count": 80,
      "metadata": {
        "id": "ePaAJfQXAhFb"
      },
      "outputs": [],
      "source": [
        "alpha = 0.98 #@param {type:\"slider\", min:0.8, max:1, step:0.001}"
      ]
    },
    {
      "cell_type": "markdown",
      "metadata": {
        "id": "tetUyVvJzuNi"
      },
      "source": [
        "###Valor en Riesgo (VaR)\n",
        "\n",
        "Es un cuantil a un $\\alpha$ de confianza de la distribución de pérdidas y ganancias, generalmente se expresa en términos monetarios.\n",
        "\n",
        "#VaR\n",
        "\n",
        "El valor en riesgo (VaR) es una estadística utilizada para tratar de cuantificar el nivel de riesgo financiero dentro de una empresa o cartera durante un período de tiempo específico. VaR proporciona una estimación de la pérdida máxima de una posición o cartera determinada durante un período de tiempo, y puede calcularla a través de varios niveles de confianza.\n",
        "\n",
        "Estimar el riesgo de una cartera es importante para el crecimiento del capital a largo plazo y la gestión del riesgo, en particular dentro de empresas o instituciones más grandes. El VaR generalmente se enmarca como algo como esto:\n",
        "\n",
        "“Tenemos un VaR de cartera de 250.000 USD para el próximo mes al 95% de confianza”\n",
        "Esto significa que, con un 95% de confianza, podemos decir que la pérdida de la cartera no superará los 250.000 USD en un mes.\n",
        "En esta publicación, lo guiaré a través de los pasos para calcular esta métrica en una cartera de acciones."
      ]
    },
    {
      "cell_type": "code",
      "execution_count": 85,
      "metadata": {
        "colab": {
          "base_uri": "https://localhost:8080/"
        },
        "id": "2SLu5LbSAHPc",
        "outputId": "46a92df0-9835-44a2-a02d-1340e609c4ea"
      },
      "outputs": [
        {
          "output_type": "stream",
          "name": "stdout",
          "text": [
            "0       -1.425662e+05\n",
            "1       -1.069315e+07\n",
            "2       -5.107110e+05\n",
            "3       -7.582508e+03\n",
            "Total   -1.135398e+07\n",
            "Name: 0.020000000000000018, dtype: float64\n",
            "[-142566.21817564737, -10693145.555554422, -510711.0374065455, -7582.508213973009, -11353981.438475251]\n",
            "11353886.547088623\n"
          ]
        }
      ],
      "source": [
        "VaR=PL.quantile(1-alpha, numeric_only=False)\n",
        "\n",
        "print(VaR)\n",
        "\n",
        "\n",
        "VaR=[]\n",
        "\n",
        "for i in range(0,PL.shape[1]):\n",
        "  VC=PL.iloc[:,i].sort_values(ascending=True).quantile(1-alpha, interpolation = 'higher')\n",
        "  VaR.append(VC)\n",
        "\n",
        "print(VaR)\n",
        "\n",
        "print(sum(Y0))"
      ]
    },
    {
      "cell_type": "markdown",
      "metadata": {
        "id": "o0ZOmnB_z5wL"
      },
      "source": [
        "###Valor en Riesgo Condicional o \"Expected Shortfall\"\n",
        "\n",
        "Es el promedio de las pérdidas que son más severas que el Valor en Riesgo ($VaR_\\alpha$) a un $\\alpha$ de confianza, es decir:\n",
        "$$E(x|x\\le VaR_\\alpha)$$\n"
      ]
    },
    {
      "cell_type": "code",
      "execution_count": 82,
      "metadata": {
        "id": "FLd6lSMXA4pY"
      },
      "outputs": [],
      "source": [
        "def VaR_Cond(x , VaR ):\n",
        "  return np.mean(x[x <= VaR])"
      ]
    },
    {
      "cell_type": "code",
      "execution_count": 86,
      "metadata": {
        "id": "W7ACgPC7ECw8"
      },
      "outputs": [],
      "source": [
        "\n",
        "VaR_C=[]\n",
        "\n",
        "for i in range(0,PL.shape[1]):\n",
        "  VC=VaR_Cond(PL.iloc[:,i],VaR[i])\n",
        "  VaR_C.append(VC)\n"
      ]
    },
    {
      "cell_type": "code",
      "execution_count": 92,
      "metadata": {
        "colab": {
          "base_uri": "https://localhost:8080/"
        },
        "id": "i3rmVoZc0iwR",
        "outputId": "6705c2d7-5e04-4f34-ded9-9d0c5352ca5b"
      },
      "outputs": [
        {
          "output_type": "stream",
          "name": "stdout",
          "text": [
            "[-142566.21817564737, -10693145.555554422, -510711.0374065455, -7582.508213973009, -11353981.438475251]\n",
            "[-142567.29029850083, -10693161.472683161, -510712.88864578586, -7583.6059374901915, -11353997.434505552]\n"
          ]
        }
      ],
      "source": [
        "\n",
        "print(VaR)\n",
        "print(VaR_C)\n",
        "\n"
      ]
    }
  ],
  "metadata": {
    "colab": {
      "name": "Acc_Div_SMMC_python.ipynb",
      "provenance": [],
      "authorship_tag": "ABX9TyOa0HHbDVG4nSjki3OoPbyW",
      "include_colab_link": true
    },
    "kernelspec": {
      "display_name": "Python 3",
      "name": "python3"
    },
    "language_info": {
      "name": "python"
    }
  },
  "nbformat": 4,
  "nbformat_minor": 0
}