{
  "nbformat": 4,
  "nbformat_minor": 0,
  "metadata": {
    "colab": {
      "provenance": [],
      "toc_visible": true,
      "include_colab_link": true
    },
    "kernelspec": {
      "name": "python3",
      "display_name": "Python 3"
    }
  },
  "cells": [
    {
      "cell_type": "markdown",
      "metadata": {
        "id": "view-in-github",
        "colab_type": "text"
      },
      "source": [
        "<a href=\"https://colab.research.google.com/github/pikey-msc/RiesgosFinancieros/blob/master/2026-1/Bonos_python.ipynb\" target=\"_parent\"><img src=\"https://colab.research.google.com/assets/colab-badge.svg\" alt=\"Open In Colab\"/></a>"
      ]
    },
    {
      "cell_type": "code",
      "metadata": {
        "id": "rAfq7pI7buTI",
        "outputId": "e812d077-499f-4283-874b-8b3046fcde28",
        "colab": {
          "base_uri": "https://localhost:8080/"
        }
      },
      "source": [
        "# %load_ext rpy2.ipython\n",
        "!rm -rf RiesgosFinancieros\n",
        "!git clone \"https://github.com/pikey-msc/RiesgosFinancieros/\""
      ],
      "execution_count": 1,
      "outputs": [
        {
          "output_type": "stream",
          "name": "stdout",
          "text": [
            "Cloning into 'RiesgosFinancieros'...\n",
            "remote: Enumerating objects: 1193, done.\u001b[K\n",
            "remote: Counting objects: 100% (425/425), done.\u001b[K\n",
            "remote: Compressing objects: 100% (247/247), done.\u001b[K\n",
            "remote: Total 1193 (delta 248), reused 278 (delta 158), pack-reused 768 (from 1)\u001b[K\n",
            "Receiving objects: 100% (1193/1193), 64.19 MiB | 11.19 MiB/s, done.\n",
            "Resolving deltas: 100% (753/753), done.\n",
            "Updating files: 100% (450/450), done.\n"
          ]
        }
      ]
    },
    {
      "cell_type": "markdown",
      "source": [
        "#Funciones auxiliares"
      ],
      "metadata": {
        "id": "YkUvvJdja8Ay"
      }
    },
    {
      "cell_type": "code",
      "source": [
        "#celda 1\n",
        "import numpy as np\n",
        "\n",
        "def talamb(nodos, curva, plazos):\n",
        "    n = max(plazos.shape[1], 1)\n",
        "    m = max(nodos.shape[1], 1)\n",
        "    TC = np.zeros((1, n))\n",
        "    TL = np.zeros((1, n))\n",
        "    TF = np.zeros((1, n))\n",
        "\n",
        "    for j in range(n):\n",
        "        i = 0\n",
        "        while i < m - 1:\n",
        "            if nodos[0, i] <= plazos[0, j] <= nodos[0, i + 1]:\n",
        "                TC[0, j] = curva[0, i]\n",
        "                TL[0, j] = curva[0, i + 1]\n",
        "                TF[0, j] = ((((1 + TL[0, j] * nodos[0, i + 1] / 360) / (1 + TC[0, j] * nodos[0, i] / 360)) **\n",
        "                            ((plazos[0, j] - nodos[0, i]) / (nodos[0, i + 1] - nodos[0, i])) *\n",
        "                            (1 + TC[0, j] * nodos[0, i] / 360)) - 1) * 360 / plazos[0, j]\n",
        "                break\n",
        "            elif plazos[0, j] < nodos[0, 0]:\n",
        "                TC[0, j] = curva[0, 0]\n",
        "                TL[0, j] = curva[0, 0]\n",
        "                TF[0, j] = curva[0, 0]\n",
        "                break\n",
        "            elif plazos[0, j] > nodos[0, m - 1]:\n",
        "                TC[0, j] = curva[0, m - 1]\n",
        "                TL[0, j] = curva[0, m - 1]\n",
        "                TF[0, j] = curva[0, m - 1]\n",
        "                break\n",
        "            else:\n",
        "                i += 1\n",
        "\n",
        "    return TF\n"
      ],
      "metadata": {
        "id": "BCHNacHva4nN"
      },
      "execution_count": 2,
      "outputs": []
    },
    {
      "cell_type": "markdown",
      "metadata": {
        "id": "hdBgOc9db2vM"
      },
      "source": [
        "# Definición de parámetros para valorar:\n",
        "Bonos sin cupón\n",
        "Bonos M\n",
        "Bondes D"
      ]
    },
    {
      "cell_type": "markdown",
      "source": [
        "## Definición parámetros Python"
      ],
      "metadata": {
        "id": "kUBoiUL3YUHR"
      }
    },
    {
      "cell_type": "code",
      "source": [
        "import numpy as np\n",
        "from datetime import datetime, timedelta\n",
        "\n",
        "fval = datetime.strptime(\"20230310\", \"%Y%m%d\") #Fecha de valoración\n",
        "# Tipo de interpolación (0 para interpolación lineal, 1 para tasa alambrada)\n",
        "itpl = 0 #poner 0 si se quiere interpolación lineal o 1 si se quiere tasa alambrada\n",
        "#setwd(direc)\n",
        "\n",
        "\n",
        "#CETES\n",
        "base = \"RiesgosFinancieros/2024-1/Tarea/tasa_guber.txt\"\n",
        "\n",
        "\n",
        "#BONOS M\n",
        "btasadesc_bm = \"RiesgosFinancieros/2024-1/Insumos/tasa_guber.txt\"\n",
        "# Tasas fijas del cupón\n",
        "tfcupon_bm = np.array([0.065, 0.0675, 0.07, 0.075, 0.078])\n",
        "# Vencimiento del bono\n",
        "plazos_bm = np.array([378, 405, 550, 1200, 1800])\n",
        "# Plazos fijos de cada cupón\n",
        "plazocupon_bm = np.array([182, 182, 182, 182, 182])\n",
        "# Posición invertida\n",
        "contratos_bm = np.array([22000, -29000, 29000, -46000, 10000])\n",
        "# Nominal\n",
        "nominal_bm = 100\n",
        "\n",
        "\n",
        "\n",
        "\n",
        "# BONDES D\n",
        "btasadescst=\"RiesgosFinancieros/2024-1/Tarea/tasa_guber_st.txt\"\n",
        "btasafondeo=\"RiesgosFinancieros/2024-1/Tarea/tfondeo.txt\"\n",
        "plazos_bdm=np.array([358, 405, 550, 1200, 1800])\n",
        "plazocupon_bdm=np.array([28, 28, 28, 28, 28])\n",
        "contratos_bdm=np.array([220, -290, 290, -460, 100])\n",
        "nominal_bdm=100\n"
      ],
      "metadata": {
        "id": "PJYqd7eP8t3O"
      },
      "execution_count": 3,
      "outputs": []
    },
    {
      "cell_type": "markdown",
      "metadata": {
        "id": "wYq9vgjOcix0"
      },
      "source": [
        "# Carga de datos"
      ]
    },
    {
      "cell_type": "code",
      "source": [
        "import pandas as pd\n",
        "\n",
        "#BONOS M\n",
        "\n",
        "# Carga de datos - supongamos que los datos se encuentran en un archivo CSV llamado \"btasadesc.csv\"\n",
        "# Asegúrate de proporcionar la ruta completa al archivo o que el archivo esté en el directorio actual.\n",
        "# data1 = pd.read_(\"btasadesc.txt\", header=None)\n",
        "data = pd.read_csv(base, sep=\"\\t\", header=None)\n",
        "\n",
        "# Obtiene el número de filas y columnas de data1\n",
        "n, m_gov= data.shape\n",
        "\n",
        "# Crear un DataFrame con los datos sin la primera fila y la primera columna\n",
        "x_orig = pd.DataFrame(data.values[1:, 1:len(data.values[0])], dtype=float)\n",
        "x_orig['Date'] = pd.to_datetime(data.values[1:,0], format='%Y%m%d')\n",
        "\n",
        "# Obtener nodos\n",
        "nodos_gov = pd.DataFrame(data.values[0, 1:(len(data.values[0]))], dtype=int)\n",
        "\n",
        "\n",
        "#BONDE D\n",
        "# Leer datos de tasa_guber.txt\n",
        "data1 = pd.read_table(base, sep=\"\\t\", header=None)\n",
        "n = data1.shape[0]\n",
        "m_bd = data1.shape[1]\n",
        "X_orig = data1.iloc[1:n, 0:m_bd]\n",
        "X1_orig = pd.DataFrame(data1.iloc[1:n, 1:m_bd], dtype=float)\n",
        "X1_orig['Date'] = pd.to_datetime(X_orig[0], format='%Y%m%d')\n",
        "nodos = data1.iloc[0, 1:m_bd]\n",
        "n -= 1\n",
        "\n",
        "# Leer datos de tasa_guber_st.txt\n",
        "data3 = pd.read_table(btasadescst, sep=\"\\t\", header=None)\n",
        "n3 = data3.shape[0]\n",
        "m3_bd = data3.shape[1]\n",
        "X3a_orig_bd = data3.iloc[1:n3, 0:m3_bd]\n",
        "X3_orig_bd = pd.DataFrame(data3.iloc[1:n3, 1:m3_bd], dtype=float)\n",
        "X3_orig_bd['Date'] = pd.to_datetime(X3a_orig_bd[0], format='%Y%m%d')\n",
        "nodos3_bd = data3.iloc[0, 1:m3_bd]\n",
        "n3 -= 1\n",
        "\n",
        "# # Leer datos de tfondeo.txt\n",
        "data2 = pd.read_table(btasafondeo, sep=\"\\t\", header=None)\n",
        "n2 = data2.shape[0]\n",
        "X2_orig = data2.iloc[1:n2, 0:2]\n",
        "X2_orig_bd = X2_orig.copy()\n",
        "X2_orig_bd[0] = pd.to_datetime(X2_orig_bd[0], format='%Y%m%d')\n",
        "X2_orig_bd[1] = X2_orig_bd[1].astype(float)\n",
        "\n",
        "# # Sucesión de días para tasa fondeo\n",
        "tfh = pd.date_range(start=min(X2_orig_bd[0]), end=max(X2_orig_bd[0]), freq='D')\n",
        "tfhd = pd.DataFrame({'fecha': tfh})\n",
        "\n",
        "\n",
        "# Asegúrate de que ambos DataFrames estén ordenados por la columna de fecha de manera descendente\n",
        "tfhd = tfhd.sort_values(by='fecha', ascending=True)\n",
        "X2_orig_bd = X2_orig_bd.sort_values(by=0, ascending=True)  # Asumiendo que la columna 'V1' es ahora la columna 0\n",
        "\n",
        "# Renombrar columnas para preparar para merge_asof\n",
        "# tfhd = tfhd.rename(columns={'fecha': 'join_date'})\n",
        "X2_orig_bd = X2_orig_bd.rename(columns={0: 'fecha'})\n",
        "\n",
        "# Realizar el rolling join con merge_asof\n",
        "X2_orig_bd = pd.merge_asof(tfhd, X2_orig_bd, on='fecha', direction='backward')\n",
        "\n",
        "\n",
        "# Si quieres que el resultado esté en el DataFrame original (tfhd), puedes hacer lo siguiente:\n",
        "X2_orig_bd = pd.merge(tfhd, X2_orig_bd, on='fecha', how='outer')\n",
        "\n",
        "X1_orig = X1_orig.rename(columns={0: \"fecha\"})\n",
        "# Filtrar tasas de fondeo\n",
        "\n",
        "tf_act = X2_orig_bd.loc[X2_orig_bd['fecha'] == fval, 1].values[0] / 100\n",
        "tf_int = X2_orig_bd.loc[(X2_orig_bd['fecha'] <= fval) & (X2_orig_bd['fecha'] >= (fval -  timedelta(int(plazocupon_bdm[0])))), 1] / 100\n",
        "tf_int=tf_int[::-1]  # se hace este cambio para ordenar de mayor a menor\n",
        "\n",
        "\n",
        "# Ordenar el DataFrame por la columna de unión\n",
        "X1_orig = X1_orig.sort_values('Date', ascending=True)\n",
        "\n",
        "# Agregar la columna join_date al DataFrame X1_orig\n",
        "X1_orig['join_date'] = X1_orig['Date']\n",
        "\n",
        "# Ordenar el DataFrame X2a_orig por la columna de unión\n",
        "X2_orig_bd = X2_orig_bd.sort_values('fecha', ascending=True)\n",
        "\n",
        "# Hacer el merge (join) de los DataFrames\n",
        "X2_pr = pd.merge_asof(X1_orig, X2_orig_bd, left_on='Date', right_on='fecha')\n",
        "\n",
        "\n"
      ],
      "metadata": {
        "id": "hFKKz4Yk_nt-"
      },
      "execution_count": 6,
      "outputs": []
    },
    {
      "cell_type": "markdown",
      "source": [
        "# Valuación"
      ],
      "metadata": {
        "id": "wxYt2wQFcTf0"
      }
    },
    {
      "cell_type": "markdown",
      "source": [
        "# Bonos M"
      ],
      "metadata": {
        "id": "KzgcaoiPcVyh"
      }
    },
    {
      "cell_type": "code",
      "source": [
        "import numpy as np\n",
        "\n",
        "# Número de cupones a pagar\n",
        "N = (plazos_bm / plazocupon_bm).astype(int) + 1\n",
        "\n",
        "# Vector de todos los plazos de todos los contratos\n",
        "VTplazos = np.zeros((1, int(np.sum(N))))\n",
        "\n",
        "# Vector de todos los contratos de todos los flujos de todos los contratos\n",
        "contratosT = np.zeros((1, int(np.sum(N))))\n",
        "\n",
        "# Vector de todos los nominales de todos los flujos de todos los contratos\n",
        "nominalT = np.zeros((1, int(np.sum(N))))\n",
        "\n",
        "# Vector de todos los plazos de cupón de todos los flujos de todos los contratos\n",
        "plazocuponT = np.zeros((1, int(np.sum(N))))\n",
        "\n",
        "# Vector de tasas fijas de todos los flujos de todos los contratos\n",
        "tasafijaT = np.zeros((1, int(np.sum(N))))\n",
        "\n",
        "# Vector de contratos a final de flujo\n",
        "ulNomT = np.zeros((1, int(np.sum(N))))\n",
        "\n",
        "# Vector de plazos iniciales\n",
        "plazini = plazos_bm - plazocupon_bm * (N - 1)\n",
        "\n",
        "for j in range(len(plazos_bm)):\n",
        "  # print(j)\n",
        "  if j == 0:\n",
        "      VTplazos[:, 0:int(np.sum(N[0:j+1]))] = np.arange(plazini[j], plazos_bm[j] + plazocupon_bm[j], plazocupon_bm[j])\n",
        "      contratosT[:, 0:int(np.sum(N[0:j+1]))] = np.arange(contratos_bm[j], contratos_bm[j] + 1)\n",
        "      plazocuponT[:, 0:int(np.sum(N[0:j+1]))] = plazocupon_bm[j] * np.ones(int(np.sum(N[0:j+1])))\n",
        "      tasafijaT[:, 0:int(np.sum(N[0:j+1]))] = tfcupon_bm[j] * np.ones(int(np.sum(N[0:j+1])))\n",
        "      ulNomT[:, N[j]-1] = contratos_bm[j]\n",
        "  else:\n",
        "      VTplazos[:, int(np.sum(N[0:j])):int(np.sum(N[0:j+1]))] = np.arange(plazini[j], plazos_bm[j] + plazocupon_bm[j], plazocupon_bm[j])\n",
        "      contratosT[:, int(np.sum(N[0:j])):int(np.sum(N[0:j+1]))] = np.arange(contratos_bm[j], contratos_bm[j] + 1)\n",
        "      plazocuponT[:, int(np.sum(N[0:j])):int(np.sum(N[0:j+1]))] = plazocupon_bm[j] * np.ones(int(np.sum(N[j:j+1])))\n",
        "      tasafijaT[:, int(np.sum(N[0:j])):int(np.sum(N[0:j+1]))] = tfcupon_bm[j] * np.ones(int(np.sum(N[j:j+1])))\n",
        "      ulNomT[:, int(np.sum(N[0:j+1]))-1] = contratos_bm[j]\n",
        "\n",
        "Xvp = np.zeros((n, VTplazos.shape[1]))\n",
        "\n",
        "for i in range(n):\n",
        "    if itpl == 0:\n",
        "        # Utiliza interpolación lineal\n",
        "        Xvp[i, :] = np.interp(VTplazos[0, :],np.array(nodos_gov[0]), np.array(x_orig.drop('Date', axis=1).iloc[0]))\n",
        "    else:\n",
        "        # Utiliza la función talamb\n",
        "        # (Asegúrate de que tengas definida la función talamb)\n",
        "        Xvp[i, :] = talamb(nodos, x_orig[i, :], VTplazos[0, :])\n",
        "\n",
        "print(VTplazos)\n",
        "print(ulNomT)\n",
        "print(contratosT)\n",
        "print(tasafijaT)\n",
        "# print(np.array(x_orig[i][0]))\n",
        "# print(N)\n",
        "print(N[0])\n",
        "ulNomT[:, N[0]]\n",
        "contratos_bm[0]"
      ],
      "metadata": {
        "colab": {
          "base_uri": "https://localhost:8080/"
        },
        "id": "roGi95R3cXFt",
        "outputId": "51fb9721-7579-48c6-de80-95240b7c21d0"
      },
      "execution_count": 42,
      "outputs": [
        {
          "output_type": "stream",
          "name": "stdout",
          "text": [
            "[[  14.  196.  378.   41.  223.  405.    4.  186.  368.  550.  108.  290.\n",
            "   472.  654.  836. 1018. 1200.  162.  344.  526.  708.  890. 1072. 1254.\n",
            "  1436. 1618. 1800.]]\n",
            "[[     0.      0.  22000.      0.      0. -29000.      0.      0.      0.\n",
            "   29000.      0.      0.      0.      0.      0.      0. -46000.      0.\n",
            "       0.      0.      0.      0.      0.      0.      0.      0.  10000.]]\n",
            "[[ 22000.  22000.  22000. -29000. -29000. -29000.  29000.  29000.  29000.\n",
            "   29000. -46000. -46000. -46000. -46000. -46000. -46000. -46000.  10000.\n",
            "   10000.  10000.  10000.  10000.  10000.  10000.  10000.  10000.  10000.]]\n",
            "[[0.065  0.065  0.065  0.0675 0.0675 0.0675 0.07   0.07   0.07   0.07\n",
            "  0.075  0.075  0.075  0.075  0.075  0.075  0.075  0.078  0.078  0.078\n",
            "  0.078  0.078  0.078  0.078  0.078  0.078  0.078 ]]\n",
            "3\n"
          ]
        },
        {
          "output_type": "execute_result",
          "data": {
            "text/plain": [
              "np.int64(22000)"
            ]
          },
          "metadata": {},
          "execution_count": 42
        }
      ]
    },
    {
      "cell_type": "code",
      "source": [
        "np.array(x_orig.drop('Date', axis=1).iloc[0])"
      ],
      "metadata": {
        "colab": {
          "base_uri": "https://localhost:8080/"
        },
        "id": "SizfkAACexqD",
        "outputId": "f878e919-cc45-47a8-c489-7739139d0dd2"
      },
      "execution_count": 41,
      "outputs": [
        {
          "output_type": "execute_result",
          "data": {
            "text/plain": [
              "array([0.07968109, 0.07870234, 0.07769828, 0.07959039, 0.0805102 ,\n",
              "       0.08105581, 0.08126982, 0.08174737, 0.08541634, 0.08868915,\n",
              "       0.09203079, 0.09487062, 0.09794559, 0.10221934, 0.10665376,\n",
              "       0.11132426, 0.13989312, 0.17890244, 0.23055418, 0.29968061])"
            ]
          },
          "metadata": {},
          "execution_count": 41
        }
      ]
    },
    {
      "cell_type": "code",
      "source": [
        "VTplazos"
      ],
      "metadata": {
        "colab": {
          "base_uri": "https://localhost:8080/"
        },
        "id": "pl3Md2nHeHf1",
        "outputId": "28ceded2-02a2-4954-caef-1469605e4fd3"
      },
      "execution_count": 19,
      "outputs": [
        {
          "output_type": "execute_result",
          "data": {
            "text/plain": [
              "array([[  14.,  196.,  378.,   41.,  223.,  405.,    4.,  186.,  368.,\n",
              "         550.,  108.,  290.,  472.,  654.,  836., 1018., 1200.,  162.,\n",
              "         344.,  526.,  708.,  890., 1072., 1254., 1436., 1618., 1800.]])"
            ]
          },
          "metadata": {},
          "execution_count": 19
        }
      ]
    },
    {
      "cell_type": "markdown",
      "metadata": {
        "id": "lolA4cfrwiQL"
      },
      "source": [
        "## Bondes D"
      ]
    },
    {
      "cell_type": "code",
      "source": [
        "m = len(plazos_bdm)\n",
        "N_bd = (plazos_bdm // plazocupon_bdm) + 1  # número de cupones a pagar\n",
        "\n",
        "# Inicialización de matrices/vectores\n",
        "VTplazos_bdm = np.zeros(np.sum(N_bd))\n",
        "contratos_bdmT = np.zeros(np.sum(N_bd))\n",
        "plazocupon_bdmT = np.zeros(np.sum(N_bd))\n",
        "tasafijaT_bd = np.zeros(np.sum(N_bd))\n",
        "ulNomT_bd = np.zeros(np.sum(N_bd))\n",
        "Xvp_bd = np.zeros((n, len(VTplazos_bdm)))\n",
        "Xst_bd = np.zeros((n, len(VTplazos_bdm)))\n",
        "\n",
        "# Cálculos adicionales\n",
        "plazini_bd = plazos_bdm - plazocupon_bdm * (N_bd - 1)\n",
        "ddv = plazocupon_bdm - plazini_bd\n",
        "tfcupon = np.zeros(m)\n",
        "tfcupondev = np.zeros(m)\n",
        "tfcupgen = ((1 + tf_act / 360)**(plazocupon_bdm[0]) - 1) * 360 / plazocupon_bdm[0]\n",
        "\n",
        "# Bucle para calcular tasas de cupón\n",
        "for j in range(m):  # en Python los índices comienzan en 0\n",
        "    tfcupondev[j] = ((np.prod(1 + tf_int[0:ddv[j]] / 360) - 1) * 360) / ddv[j]\n",
        "    tfcupon[j] = (((1 + tfcupondev[j] * ddv[j] / 360) * (1 + tf_act / 360)**(plazocupon_bdm[0] - ddv[j]) - 1) * 360) / plazocupon_bdm[0]\n",
        "\n",
        "print(tfcupondev)\n",
        "print(tfcupon)\n",
        "\n",
        "from scipy.interpolate import interp1d\n",
        "\n",
        "for j in range(m):\n",
        "    sum_N_bd = np.sum(N_bd[:j+1])\n",
        "    sum_N_bd_prev = np.sum(N_bd[:j]) if j > 0 else 0\n",
        "\n",
        "    if j == 0:\n",
        "        VTplazos_bdm[:sum_N_bd] = np.arange(plazini_bd[j], plazos_bdm[j] + 1, plazocupon_bdm[j])\n",
        "        contratos_bdmT[:sum_N_bd] = contratos_bdm[j]\n",
        "        plazocupon_bdmT[:sum_N_bd] = plazocupon_bdm[j]\n",
        "        ulNomT_bd[sum_N_bd - 1] = contratos_bdm[j]\n",
        "        tasafijaT_bd[0] = tfcupon[j]\n",
        "        tasafijaT_bd[1:sum_N_bd] = tfcupgen\n",
        "    else:\n",
        "        VTplazos_bdm[sum_N_bd_prev:sum_N_bd] = np.arange(plazini_bd[j], plazos_bdm[j] + 1, plazocupon_bdm[j])\n",
        "        contratos_bdmT[sum_N_bd_prev:sum_N_bd] = contratos_bdm[j]\n",
        "        plazocupon_bdmT[sum_N_bd_prev:sum_N_bd] = plazocupon_bdm[j]\n",
        "        tasafijaT_bd[sum_N_bd_prev] = tfcupon[j]\n",
        "        tasafijaT_bd[sum_N_bd_prev + 1:sum_N_bd] = tfcupgen\n",
        "        ulNomT_bd[sum_N_bd - 1] = contratos_bdm[j]\n",
        "\n",
        "for i in range(n):\n",
        "    if itpl == 0:\n",
        "        interpolator = interp1d(nodos, x_orig_gov.iloc[i, :], kind='linear', fill_value=\"interpolate\")\n",
        "        Xvp_bd[i, :] = interpolator(VTplazos_bdm)\n",
        "\n",
        "        interpolator3 = interp1d(nodos3_bd, X3_orig_bd.iloc[i, :], kind='linear', fill_value=\"interpolate\")\n",
        "        Xst_bd[i, :] = interpolator3(VTplazos_bdm)\n",
        "    else:\n",
        "        # Código para interpolación 'talamb' (no definido en el ejemplo de R original)\n",
        "        pass\n",
        "\n",
        "X2_pr=pd.merge(X2_orig_bd, current_df, left_on='fecha', right_on=\"Date\", how='inner').sort_values('Date', ascending=False)\n",
        "X_bd_tc = (np.ones((n, len(contratos_bdmT))).T * (np.array(X2_pr[1]) / 100)).T\n",
        "X_bd_ext = np.hstack((X_bd_tc, Xvp_bd, Xst_bd))\n",
        "\n",
        "\n",
        "def bondeD(contratosT, nominal, tasafijaT, plazocuponT, VTplazos, Xvp, Xst, N, ulNomT):\n",
        "    V0 = np.zeros(len(N))  # Inicializa V0, equivalente a matrix(0, 1, nrow(as.matrix(N))) en R\n",
        "    V0f = (((contratosT * tasafijaT * (plazocuponT / 360)) + ulNomT) / (1 + (Xvp + Xst) * VTplazos / 360)) * nominal\n",
        "\n",
        "    for j in range(len(N)):  # Cambia índices de 1:nrow(as.matrix(N)) a 0:(len(N)-1)\n",
        "        if j == 0:  # Cambia de j==1 a j==0\n",
        "            V0[j] = np.sum(V0f[:N[j]])\n",
        "        else:\n",
        "            V0[j] = np.sum(V0f[np.sum(N[:j]):np.sum(N[:j+1])])\n",
        "\n",
        "    return V0\n",
        "\n",
        "# Suponiendo que contratosT, nominal, tasafijaT, plazocuponT, VTplazos, Xvp, Xst, y N ya están definidos\n",
        "V0_bd = bondeD(contratos_bdmT, nominal_bdm, tf_act, plazocupon_bdmT, VTplazos_bdm, Xvp_bd[0,], Xst_bd[0,], N_bd, ulNomT_bd)  # Cambia de Xvp[1, ] y Xst[1, ] a Xvp[0, :] y Xst[0, :]\n",
        "\n",
        "print(V0_bd)"
      ],
      "metadata": {
        "colab": {
          "base_uri": "https://localhost:8080/"
        },
        "id": "v9S-DkVs40eS",
        "outputId": "ac0915a6-66aa-47d8-a982-5ed5aec1a21f"
      },
      "execution_count": null,
      "outputs": [
        {
          "output_type": "stream",
          "name": "stdout",
          "text": [
            "[0.11001729 0.11038289 0.11022157 0.10992531 0.11044562]\n",
            "[0.10980679 0.11015967 0.10996162 0.10974557 0.11031451]\n",
            "[ 22161.21115235 -29320.69510623  29377.07811909 -47181.61323033\n",
            "  10480.40284521]\n"
          ]
        }
      ]
    }
  ]
}