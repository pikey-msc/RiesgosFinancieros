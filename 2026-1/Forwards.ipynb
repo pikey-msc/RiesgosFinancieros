{
  "nbformat": 4,
  "nbformat_minor": 0,
  "metadata": {
    "colab": {
      "provenance": [],
      "toc_visible": true,
      "include_colab_link": true
    },
    "kernelspec": {
      "name": "python3",
      "display_name": "Python 3"
    }
  },
  "cells": [
    {
      "cell_type": "markdown",
      "metadata": {
        "id": "view-in-github",
        "colab_type": "text"
      },
      "source": [
        "<a href=\"https://colab.research.google.com/github/pikey-msc/RiesgosFinancieros/blob/master/2026-1/Forwards.ipynb\" target=\"_parent\"><img src=\"https://colab.research.google.com/assets/colab-badge.svg\" alt=\"Open In Colab\"/></a>"
      ]
    },
    {
      "cell_type": "code",
      "metadata": {
        "id": "rAfq7pI7buTI",
        "outputId": "d88ac8ab-d913-4610-8196-e5e8a2d19a8f",
        "colab": {
          "base_uri": "https://localhost:8080/"
        }
      },
      "source": [
        "# %load_ext rpy2.ipython\n",
        "!rm -rf RiesgosFinancieros\n",
        "!git clone \"https://github.com/pikey-msc/RiesgosFinancieros/\""
      ],
      "execution_count": 1,
      "outputs": [
        {
          "output_type": "stream",
          "name": "stdout",
          "text": [
            "Cloning into 'RiesgosFinancieros'...\n",
            "remote: Enumerating objects: 1218, done.\u001b[K\n",
            "remote: Counting objects: 100% (450/450), done.\u001b[K\n",
            "remote: Compressing objects: 100% (272/272), done.\u001b[K\n",
            "remote: Total 1218 (delta 261), reused 279 (delta 158), pack-reused 768 (from 1)\u001b[K\n",
            "Receiving objects: 100% (1218/1218), 64.25 MiB | 16.52 MiB/s, done.\n",
            "Resolving deltas: 100% (766/766), done.\n",
            "Updating files: 100% (453/453), done.\n"
          ]
        }
      ]
    },
    {
      "cell_type": "markdown",
      "source": [
        "#Funciones auxiliares"
      ],
      "metadata": {
        "id": "KvxLNe8dUdom"
      }
    },
    {
      "cell_type": "code",
      "source": [
        "import numpy as np\n",
        "\n",
        "def talamb(nodos, curva, plazos):\n",
        "    nodos = nodos.flatten()\n",
        "    curva = curva.flatten()\n",
        "    plazos = plazos.flatten()\n",
        "\n",
        "    # Ensure nodos are sorted for np.interp\n",
        "    sorted_indices = np.argsort(nodos)\n",
        "    nodos_sorted = nodos[sorted_indices]\n",
        "    curva_sorted = curva[sorted_indices]\n",
        "\n",
        "    # Handle edge cases: plazos outside the range of nodos\n",
        "    TC = np.interp(plazos, nodos_sorted, curva_sorted, left=curva_sorted[0], right=curva_sorted[-1])\n",
        "    TL = np.interp(plazos, nodos_sorted, curva_sorted, left=curva_sorted[0], right=curva_sorted[-1])\n",
        "\n",
        "    # Find indices for interpolation within the range\n",
        "    indices = np.searchsorted(nodos_sorted, plazos) - 1\n",
        "    indices[indices < 0] = 0\n",
        "    indices[indices >= len(nodos_sorted) - 1] = len(nodos_sorted) - 2\n",
        "\n",
        "    nodos_i = nodos_sorted[indices]\n",
        "    nodos_i_plus_1 = nodos_sorted[indices + 1]\n",
        "    TC_interp = curva_sorted[indices]\n",
        "    TL_interp = curva_sorted[indices + 1]\n",
        "\n",
        "    # Calculate TF using vectorized operations\n",
        "    TF = np.where(plazos < nodos_sorted[0], curva_sorted[0],\n",
        "             np.where(plazos > nodos_sorted[-1], curva_sorted[-1],\n",
        "                      ((((1 + TL_interp * nodos_i_plus_1 / 360) / (1 + TC_interp * nodos_i / 360)) **\n",
        "                        ((plazos - nodos_i) / (nodos_i_plus_1 - nodos_i)) *\n",
        "                        (1 + TC_interp * nodos_i / 360)) - 1) * 360 / plazos))\n",
        "\n",
        "    return TF"
      ],
      "metadata": {
        "id": "7yHm48y4Ufr9"
      },
      "execution_count": 2,
      "outputs": []
    },
    {
      "cell_type": "markdown",
      "source": [
        "## Definición parámetros Python"
      ],
      "metadata": {
        "id": "kUBoiUL3YUHR"
      }
    },
    {
      "cell_type": "code",
      "source": [
        "!pip install yfinance\n",
        "import yfinance as yf\n",
        "import numpy as np\n",
        "from datetime import datetime, timedelta\n",
        "\n",
        "fval = datetime.strptime(\"20230310\", \"%Y%m%d\") #Fecha de valoración\n",
        "itpl = 1 #poner 0 si se quiere interpolación lineal o 1 si se quiere tasa alambrada\n",
        "#setwd(direc)\n",
        "nh = 365*5\n",
        "\n",
        "# FORWARDS TDC\n",
        "bext=\"RiesgosFinancieros/2024-1/Tarea/tasa_libor.txt\"\n",
        "bdom=\"RiesgosFinancieros/2024-1/Tarea/tasa_fwd.txt\"\n",
        "SymbolsFX_ftdc=['USDMXN=X']\n",
        "plazos_fwd=np.array([360, 9, 35, 95, 183])\n",
        "contratos_fwd=np.array([500, -290, 290, -460, 440])\n",
        "kst_fwd=[20.5, 19.4, 20.6, 20, 20.5]\n",
        "nominal_fwd=1\n",
        "yext=1 #si se carga información de yahoo en la fecha definida por fval o SymbolsFX, en caso contrario se utiliza información que se tendrá que cargar de tasas_spot.txt\n",
        "trlib=1 #1 si la curva libor viene a 182 0 si no.\n",
        "\n",
        "# FORWARDS DE IPC\n",
        "#Descontamos con gubernamental\n",
        "base=\"RiesgosFinancieros/2024-1/Tarea/tasa_guber.txt\"\n",
        "SymbolsEQ_find=[\"^MXX\"] #tienen que ir en orden alfabético\n",
        "plazos_fwd_ind=np.array([360, 9, 3500])\n",
        "contratos_fwd_ind=np.array([5, -2, 5])\n",
        "kst_fwd_ind=np.array([52000, 49500, 60000])\n",
        "nominal_fwd_ind=1\n"
      ],
      "metadata": {
        "colab": {
          "base_uri": "https://localhost:8080/"
        },
        "id": "PJYqd7eP8t3O",
        "outputId": "29317057-65a0-412b-dffe-2a4a7858b176"
      },
      "execution_count": 8,
      "outputs": [
        {
          "output_type": "stream",
          "name": "stdout",
          "text": [
            "Requirement already satisfied: yfinance in /usr/local/lib/python3.12/dist-packages (0.2.65)\n",
            "Requirement already satisfied: pandas>=1.3.0 in /usr/local/lib/python3.12/dist-packages (from yfinance) (2.2.2)\n",
            "Requirement already satisfied: numpy>=1.16.5 in /usr/local/lib/python3.12/dist-packages (from yfinance) (2.0.2)\n",
            "Requirement already satisfied: requests>=2.31 in /usr/local/lib/python3.12/dist-packages (from yfinance) (2.32.4)\n",
            "Requirement already satisfied: multitasking>=0.0.7 in /usr/local/lib/python3.12/dist-packages (from yfinance) (0.0.12)\n",
            "Requirement already satisfied: platformdirs>=2.0.0 in /usr/local/lib/python3.12/dist-packages (from yfinance) (4.3.8)\n",
            "Requirement already satisfied: pytz>=2022.5 in /usr/local/lib/python3.12/dist-packages (from yfinance) (2025.2)\n",
            "Requirement already satisfied: frozendict>=2.3.4 in /usr/local/lib/python3.12/dist-packages (from yfinance) (2.4.6)\n",
            "Requirement already satisfied: peewee>=3.16.2 in /usr/local/lib/python3.12/dist-packages (from yfinance) (3.18.2)\n",
            "Requirement already satisfied: beautifulsoup4>=4.11.1 in /usr/local/lib/python3.12/dist-packages (from yfinance) (4.13.5)\n",
            "Requirement already satisfied: curl_cffi>=0.7 in /usr/local/lib/python3.12/dist-packages (from yfinance) (0.13.0)\n",
            "Requirement already satisfied: protobuf>=3.19.0 in /usr/local/lib/python3.12/dist-packages (from yfinance) (5.29.5)\n",
            "Requirement already satisfied: websockets>=13.0 in /usr/local/lib/python3.12/dist-packages (from yfinance) (15.0.1)\n",
            "Requirement already satisfied: soupsieve>1.2 in /usr/local/lib/python3.12/dist-packages (from beautifulsoup4>=4.11.1->yfinance) (2.7)\n",
            "Requirement already satisfied: typing-extensions>=4.0.0 in /usr/local/lib/python3.12/dist-packages (from beautifulsoup4>=4.11.1->yfinance) (4.15.0)\n",
            "Requirement already satisfied: cffi>=1.12.0 in /usr/local/lib/python3.12/dist-packages (from curl_cffi>=0.7->yfinance) (1.17.1)\n",
            "Requirement already satisfied: certifi>=2024.2.2 in /usr/local/lib/python3.12/dist-packages (from curl_cffi>=0.7->yfinance) (2025.8.3)\n",
            "Requirement already satisfied: python-dateutil>=2.8.2 in /usr/local/lib/python3.12/dist-packages (from pandas>=1.3.0->yfinance) (2.9.0.post0)\n",
            "Requirement already satisfied: tzdata>=2022.7 in /usr/local/lib/python3.12/dist-packages (from pandas>=1.3.0->yfinance) (2025.2)\n",
            "Requirement already satisfied: charset_normalizer<4,>=2 in /usr/local/lib/python3.12/dist-packages (from requests>=2.31->yfinance) (3.4.3)\n",
            "Requirement already satisfied: idna<4,>=2.5 in /usr/local/lib/python3.12/dist-packages (from requests>=2.31->yfinance) (3.10)\n",
            "Requirement already satisfied: urllib3<3,>=1.21.1 in /usr/local/lib/python3.12/dist-packages (from requests>=2.31->yfinance) (2.5.0)\n",
            "Requirement already satisfied: pycparser in /usr/local/lib/python3.12/dist-packages (from cffi>=1.12.0->curl_cffi>=0.7->yfinance) (2.22)\n",
            "Requirement already satisfied: six>=1.5 in /usr/local/lib/python3.12/dist-packages (from python-dateutil>=2.8.2->pandas>=1.3.0->yfinance) (1.17.0)\n"
          ]
        }
      ]
    },
    {
      "cell_type": "markdown",
      "metadata": {
        "id": "wYq9vgjOcix0"
      },
      "source": [
        "# Carga de datos"
      ]
    },
    {
      "cell_type": "code",
      "source": [
        "import pandas as pd\n",
        "\n",
        "#CARGA DE DATOS DE  FORWARDS DE TDC\n",
        "#datas\n",
        "#data<-read.table(\"tasa_tiie.txt\")\n",
        "data1 = pd.read_table(bext,header=None)\n",
        "data2 = pd.read_table(bdom,header=None)\n",
        "\n",
        "########minimos para parametrizar\n",
        "n1 = data1.shape[0]\n",
        "n2 = data2.shape[0]\n",
        "m1_ftdc = data1.shape[1]\n",
        "m2_ftdc = data2.shape[1]\n",
        "n = min(n1, n2) - 1\n",
        "###NODOS###\n",
        "nodos1_ftdc = data1.iloc[0,1:m1_ftdc]\n",
        "nodos2_ftdc = data2.iloc[0,1:m2_ftdc]\n",
        "####MATRICES DEL MISMO TAMAÑO MENOS DOLAR\n",
        "\n",
        "x1_ftdc = pd.DataFrame(data1.iloc[1:n1,1:m1_ftdc], dtype=float)\n",
        "x1_ftdc['Date'] = pd.to_datetime(data1.iloc[1:n1,0], format=\"%Y%m%d\")\n",
        "x2_ftdc = data2.iloc[1:n1,1:m2_ftdc]\n",
        "x2_ftdc['Date'] = pd.to_datetime(data2.iloc[1:n1, 0], format=\"%Y%m%d\")\n",
        "\n",
        "if yext==1:\n",
        "  start_date=fval- timedelta(days=nh)\n",
        "  start_date = datetime.now().date() - timedelta(days=nh)\n",
        "  X3_ftdc = yf.download(SymbolsFX_ftdc,start_date)\n",
        "  X3_ftdc=X3_ftdc.Close.dropna()\n",
        "  X3_ftdc=X3_ftdc.reset_index()\n",
        "else:\n",
        "  data3=pd.read_table(bext,header=None)\n",
        "  n3 = data3.shape[0]\n",
        "  m3 = data3.shape[1]\n",
        "  x3_ftdc = pd.DataFrame(data3.iloc[1:n3,1:m3], dtype=float)\n",
        "  x3_ftdc['Date'] = pd.to_datetime(data3.iloc[1:n3, 0], format=\"%Y%m%d\")\n",
        "\n",
        "\n",
        "# CARGA DE DATOS DE  FORWARD DE IPC\n",
        "data = pd.read_table(base,header=None)\n",
        "n = data.shape[0]\n",
        "m_gov=data.shape[1]\n",
        "#x_orig_gov=data.frame(data[2:n,1:m_gov])\n",
        "x_orig_gov= pd.DataFrame(data.iloc[1:n,1:m_gov], dtype=float)\n",
        "x_orig_gov['Date'] = pd.to_datetime(data.iloc[1:n,0], format=\"%Y%m%d\")\n",
        "nodos_gov=data.iloc[0,1:m_gov]\n",
        "\n",
        "X3_find = yf.download(SymbolsEQ_find,start_date)\n",
        "X3_find = X3_find.Close.dropna()\n",
        "X3_find=X3_find.reset_index()\n",
        "\n",
        "\n",
        "\n"
      ],
      "metadata": {
        "colab": {
          "base_uri": "https://localhost:8080/"
        },
        "id": "hFKKz4Yk_nt-",
        "outputId": "ce443c46-c0e5-4045-be52-1171f98b5c1b"
      },
      "execution_count": 9,
      "outputs": [
        {
          "output_type": "stream",
          "name": "stderr",
          "text": [
            "/tmp/ipython-input-1748235201.py:28: FutureWarning: YF.download() has changed argument auto_adjust default to True\n",
            "  X3_ftdc = yf.download(SymbolsFX_ftdc,start_date)\n",
            "[*********************100%***********************]  1 of 1 completed\n",
            "/tmp/ipython-input-1748235201.py:48: FutureWarning: YF.download() has changed argument auto_adjust default to True\n",
            "  X3_find = yf.download(SymbolsEQ_find,start_date)\n",
            "[*********************100%***********************]  1 of 1 completed\n"
          ]
        }
      ]
    },
    {
      "cell_type": "markdown",
      "metadata": {
        "id": "8hY4aG-zuvX_"
      },
      "source": [
        "## Forwards de Tipo de Cambio"
      ]
    },
    {
      "cell_type": "code",
      "source": [
        "# Filtrar los dataframes por la fecha fval\n",
        "x1_ftdc_filtered = x1_ftdc[x1_ftdc['Date'] == fval]\n",
        "x2_ftdc_filtered = x2_ftdc[x2_ftdc['Date'] == fval]\n",
        "X3_ftdc_filtered = X3_ftdc[X3_ftdc['Date'] == fval]\n",
        "\n",
        "# Convertir los dataframes filtrados a arrays numpy (excluyendo la columna 'Date')\n",
        "x1_ftdc_array = x1_ftdc_filtered.iloc[:, :-1].values\n",
        "x2_ftdc_array = x2_ftdc_filtered.iloc[:, :-1].values\n",
        "X3_ftdc_array = X3_ftdc_filtered.iloc[:, -1].values # Assuming the last column is the price\n",
        "\n",
        "m = len(plazos_fwd)\n",
        "\n",
        "X1_fwtdc = np.zeros((1, m)) # Only one row since we filtered by date\n",
        "X2_fwtdc = np.zeros((1, m))\n",
        "\n",
        "def approx(x, y, new_x, rule=2):\n",
        "    return np.interp(new_x, x, y)\n",
        "\n",
        "# Convert nodos to numeric, coercing errors\n",
        "nodos1_ftdc_numeric = pd.to_numeric(nodos1_ftdc, errors='coerce').values\n",
        "nodos2_ftdc_numeric = pd.to_numeric(nodos2_ftdc, errors='coerce').values\n",
        "\n",
        "\n",
        "# Since we filtered for a single date, we iterate over the columns\n",
        "if itpl == 0:\n",
        "    X1_fwtdc[0, :] = approx(nodos1_ftdc_numeric, x1_ftdc_array[0, :], plazos_fwd)\n",
        "    X2_fwtdc[0, :] = approx(nodos2_ftdc_numeric, x2_ftdc_array[0, :], plazos_fwd)\n",
        "else:\n",
        "    X1_fwtdc[0, :] = talamb(nodos1_ftdc_numeric, x1_ftdc_array[0, :], plazos_fwd) # Pass numpy arrays\n",
        "    X2_fwtdc[0, :] = talamb(nodos2_ftdc_numeric, x2_ftdc_array[0, :], plazos_fwd) # Pass numpy arrays\n",
        "\n",
        "\n",
        "if trlib == 1:\n",
        "    X1_fwtdc[0, :] = ((1 + X1_fwtdc[0, :]) ** (plazos_fwd / 180) - 1) * 360 / plazos_fwd\n",
        "\n",
        "def futuroTC(t, tl, tn, s, k):\n",
        "    # Ensure t, tl, tn, s, and k are numpy arrays\n",
        "    t = np.array(t)\n",
        "    tl = np.array(tl)\n",
        "    tn = np.array(tn)\n",
        "    s = np.array(s)\n",
        "    k = np.array(k)\n",
        "\n",
        "    f = s * ((1 + tn * t / 360) / (1 + tl * t / 360))\n",
        "    return (f - k) / (1 + t * tn / 360)\n",
        "\n",
        "# Ensure X3_ftdc_array is a numpy array\n",
        "X3_ftdc_array = np.array(X3_ftdc_filtered.iloc[0, -1]) # Select the price for the filtered date\n",
        "\n",
        "# Expand X3_ftdc_array to match the shape for calculation\n",
        "X3_ftdc_expanded = np.full_like(plazos_fwd, X3_ftdc_array)\n",
        "\n",
        "V0_fwtdc = futuroTC(plazos_fwd, X1_fwtdc[0, :], X2_fwtdc[0, :], X3_ftdc_expanded, kst_fwd) * contratos_fwd * nominal_fwd\n",
        "print(V0_fwtdc)"
      ],
      "metadata": {
        "colab": {
          "base_uri": "https://localhost:8080/"
        },
        "id": "N2twfXYzWZVO",
        "outputId": "bfdf0cd0-a811-4281-ca1c-6b23c33f3c81"
      },
      "execution_count": 21,
      "outputs": [
        {
          "output_type": "stream",
          "name": "stdout",
          "text": [
            "[ -374.44249223  -207.9806209    752.79513923 -1440.6165916\n",
            "   551.52402764]\n"
          ]
        }
      ]
    },
    {
      "cell_type": "markdown",
      "metadata": {
        "id": "3xrsdVCFu96d"
      },
      "source": [
        "## FORWARD DE INDICES"
      ]
    },
    {
      "cell_type": "code",
      "source": [
        "# Filtrar los dataframes por la fecha fval\n",
        "x_orig_gov_filtered = x_orig_gov[x_orig_gov['Date'] == fval]\n",
        "X3_find_filtered = X3_find[X3_find['Date'] == fval]\n",
        "\n",
        "\n",
        "m_ind = len(plazos_fwd_ind)\n",
        "\n",
        "X1_fwind = np.zeros((1, m_ind))  # Matriz para DIVIDENDOS, assuming dividends are zero for now\n",
        "X2_fwind = np.zeros((1, m_ind))\n",
        "\n",
        "def approx(x, y, new_x, rule=2):\n",
        "    return np.interp(new_x, x, y)\n",
        "\n",
        "# Convert nodos to numeric, coercing errors\n",
        "nodos_gov_numeric = pd.to_numeric(nodos_gov, errors='coerce').values\n",
        "\n",
        "# Convert the curve data to numeric, coercing errors\n",
        "curva_gov_numeric = pd.to_numeric(x_orig_gov_filtered.iloc[0, :-1], errors='coerce').values\n",
        "\n",
        "\n",
        "# Since we filtered for a single date, we iterate over the columns\n",
        "if itpl == 0:\n",
        "    X2_fwind[0, :] = approx(nodos_gov_numeric, curva_gov_numeric, plazos_fwd_ind)\n",
        "else:\n",
        "    X2_fwind[0, :] = talamb(nodos_gov_numeric, curva_gov_numeric, plazos_fwd_ind)\n",
        "\n",
        "# Get the index price for the filtered date\n",
        "X3_find_price = X3_find_filtered.iloc[0, -1]\n",
        "\n",
        "\n",
        "V0_fwind = futuroTC(plazos_fwd_ind, X1_fwind[0, :], X2_fwind[0, :], X3_find_price, kst_fwd_ind) * contratos_fwd_ind * nominal_fwd_ind\n",
        "\n",
        "print(V0_fwind)"
      ],
      "metadata": {
        "colab": {
          "base_uri": "https://localhost:8080/"
        },
        "id": "Xa7sWIteX3ke",
        "outputId": "b5044ac0-bc1c-4dd6-ceb9-fb4601d260b3"
      },
      "execution_count": 24,
      "outputs": [
        {
          "output_type": "stream",
          "name": "stdout",
          "text": [
            "[ 25441.92613512  -6780.41728228 137589.19625332]\n"
          ]
        }
      ]
    }
  ]
}