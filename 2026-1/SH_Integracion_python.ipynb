{
  "nbformat": 4,
  "nbformat_minor": 0,
  "metadata": {
    "colab": {
      "provenance": [],
      "toc_visible": true,
      "include_colab_link": true
    },
    "kernelspec": {
      "name": "python3",
      "display_name": "Python 3"
    }
  },
  "cells": [
    {
      "cell_type": "markdown",
      "metadata": {
        "id": "view-in-github",
        "colab_type": "text"
      },
      "source": [
        "<a href=\"https://colab.research.google.com/github/pikey-msc/RiesgosFinancieros/blob/master/2026-1/SH_Integracion_python.ipynb\" target=\"_parent\"><img src=\"https://colab.research.google.com/assets/colab-badge.svg\" alt=\"Open In Colab\"/></a>"
      ]
    },
    {
      "cell_type": "code",
      "metadata": {
        "id": "rAfq7pI7buTI",
        "outputId": "9ceb5c48-3ccd-43e7-86ae-28b2ad45a059",
        "colab": {
          "base_uri": "https://localhost:8080/"
        }
      },
      "source": [
        "# %load_ext rpy2.ipython\n",
        "!rm -rf RiesgosFinancieros\n",
        "!git clone \"https://github.com/pikey-msc/RiesgosFinancieros/\""
      ],
      "execution_count": 3,
      "outputs": [
        {
          "output_type": "stream",
          "name": "stdout",
          "text": [
            "Cloning into 'RiesgosFinancieros'...\n",
            "remote: Enumerating objects: 1234, done.\u001b[K\n",
            "remote: Counting objects: 100% (466/466), done.\u001b[K\n",
            "remote: Compressing objects: 100% (288/288), done.\u001b[K\n",
            "remote: Total 1234 (delta 273), reused 279 (delta 158), pack-reused 768 (from 1)\u001b[K\n",
            "Receiving objects: 100% (1234/1234), 64.26 MiB | 22.07 MiB/s, done.\n",
            "Resolving deltas: 100% (778/778), done.\n",
            "Updating files: 100% (455/455), done.\n"
          ]
        }
      ]
    },
    {
      "cell_type": "markdown",
      "source": [
        "#Funciones auxiliares"
      ],
      "metadata": {
        "id": "T6u97nPUT50Y"
      }
    },
    {
      "cell_type": "code",
      "source": [
        "import numpy as np\n",
        "\n",
        "def equantile(v, p=0.5):\n",
        "    \"\"\"\n",
        "    Calcula el cuantil más cercano de un vector.\n",
        "\n",
        "    Args:\n",
        "        v (list or numpy array): La lista o arreglo de números.\n",
        "        p (float): El percentil deseado (0 <= p <= 1).\n",
        "\n",
        "    Returns:\n",
        "        float: El valor del cuantil más cercano.\n",
        "    \"\"\"\n",
        "    if not isinstance(v, (list, np.ndarray)):\n",
        "        raise ValueError(\"v debe ser una lista o un arreglo numpy\")\n",
        "    if not (0 <= p <= 1):\n",
        "        raise ValueError(\"El percentil debe estar en el rango [0, 1]\")\n",
        "\n",
        "    sorted_v = sorted(v)\n",
        "    n = len(sorted_v)\n",
        "    plist = np.cumsum(np.arange(1, n+1) / n)\n",
        "\n",
        "    return sorted_v[np.argmax(plist >= p)]\n",
        "\n",
        "\n",
        "# Ejemplo de uso\n",
        "#v = [4, 7, 1, 9, 3, 5, 8, 2, 6]\n",
        "#p = 0.6\n",
        "#resultado = equantile(v, p)\n",
        "#print(f\"El cuantil más cercano al {p*100}% de v es: {resultado}\")\n",
        "\n",
        "import numpy as np\n",
        "\n",
        "def wquantile(v, w0, p=0.5):\n",
        "    \"\"\"\n",
        "    Calcula el cuantil ponderado de un vector.\n",
        "\n",
        "    Args:\n",
        "        v (list or numpy array): La lista o arreglo de números.\n",
        "        w (list or numpy array): Los pesos correspondientes a los valores en v.\n",
        "            Si no se proporciona, se asumen pesos iguales.\n",
        "        p (float): El percentil deseado (0 <= p <= 1).\n",
        "\n",
        "    Returns:\n",
        "        float: El valor del cuantil ponderado.\n",
        "    \"\"\"\n",
        "    n=len(v)\n",
        "    if not isinstance(v, (list, np.ndarray)):\n",
        "        raise ValueError(\"v debe ser una lista o un arreglo numpy\")\n",
        "\n",
        "    if w0 is None:\n",
        "        w = np.ones(len(v))\n",
        "    else:\n",
        "        w=[w0 * ((1-w0) ** (i-1)) for i in range(1,n+1)]\n",
        "\n",
        "    if not isinstance(w, (list, np.ndarray)):\n",
        "        raise ValueError(\"w debe ser una lista o un arreglo numpy\")\n",
        "    if len(v) != len(w):\n",
        "        raise ValueError(\"Los valores y los pesos deben tener la misma longitud\")\n",
        "\n",
        "    if not (0 <= p <= 1):\n",
        "        raise ValueError(\"El percentil debe estar en el rango [0, 1]\")\n",
        "\n",
        "    if min(w) < 0:\n",
        "        raise ValueError(\"Los pesos deben ser mayores que 0\")\n",
        "\n",
        "    sorted_indices = np.argsort(v)\n",
        "    sorted_v = np.array(v)[sorted_indices]\n",
        "    sorted_w = np.array(w)[sorted_indices]\n",
        "\n",
        "    sum_w = np.cumsum(sorted_w)\n",
        "    plist = sum_w / sum_w[-1]\n",
        "\n",
        "    return np.interp(p, plist, sorted_v)\n",
        "\n",
        "\n",
        "\n",
        "\n",
        "# Ejemplo de uso\n",
        "# v = [4, 7, 1, 9, 3, 5, 8, 2, 6]\n",
        "# w = [1, 2, 1, 1, 2, 1, 1, 1, 2]\n",
        "# p = 0.6\n",
        "\n",
        "# resultado = wquantile(v, 0.05, p)\n",
        "# print(f\"El cuantil ponderado al {p*100}% de v es: {resultado}\")\n",
        "\n",
        "import numpy as np\n",
        "\n",
        "def wcvar(v, w0=None, p=0.5):\n",
        "    \"\"\"\n",
        "    Calcula el Valor en Riesgo Condicional (CVaR) con alisado.\n",
        "\n",
        "    Args:\n",
        "        v (list or numpy array): La lista o arreglo de números.\n",
        "        w (list or numpy array): Los pesos correspondientes a los valores en v.\n",
        "            Si no se proporciona, se asumen pesos iguales.\n",
        "        p (float): El nivel de confianza (0 <= p <= 1).\n",
        "\n",
        "    Returns:\n",
        "        float: El valor del CVaR con alisado.\n",
        "    \"\"\"\n",
        "    n=len(v)\n",
        "    if not isinstance(v, (list, np.ndarray)):\n",
        "        raise ValueError(\"v debe ser una lista o un arreglo numpy\")\n",
        "\n",
        "    if w0 is None:\n",
        "        w = np.ones(len(v))\n",
        "    else:\n",
        "        w=[w0 * ((1-w0) ** (i-1)) for i in range(1,n+1)]\n",
        "\n",
        "    if not isinstance(w, (list, np.ndarray)):\n",
        "        raise ValueError(\"w debe ser una lista o un arreglo numpy\")\n",
        "    elif len(v) != len(w):\n",
        "        raise ValueError(\"Los valores y los pesos deben tener la misma longitud\")\n",
        "    if not (0 <= p <= 1):\n",
        "        raise ValueError(\"El nivel de confianza debe estar en el rango [0, 1]\")\n",
        "    if min(w) < 0:\n",
        "        raise ValueError(\"Los pesos deben ser mayores que 0\")\n",
        "\n",
        "    sorted_indices = np.argsort(v)\n",
        "    sorted_v = np.array(v)[sorted_indices]\n",
        "    sorted_w = np.array(w)[sorted_indices]\n",
        "\n",
        "    sum_w = np.cumsum(sorted_w)\n",
        "    plist = sum_w / sum_w[-1]\n",
        "\n",
        "    loss = sorted_v[plist < p]\n",
        "    esc = sorted_w[plist < p]\n",
        "\n",
        "    return np.sum(loss * esc) / np.sum(esc)\n",
        "\n",
        "\n",
        "# Ejemplo de uso\n",
        "#v = [4, 7, 1, 9, 3, 5, 8, 2, 6]\n",
        "#w = [1, 2, 1, 1, 2, 1, 1, 1, 2]\n",
        "#p = 0.6\n",
        "\n",
        "#resultado = wcvar(v, 0.05, p)\n",
        "#print(f\"El CVaR con alisado al {p*100}% de v es: {resultado}\")\n",
        "\n",
        "\n",
        "def generar_probabilidades(n, w):\n",
        "    \"\"\"\n",
        "    Genera probabilidades según la fórmula p = w * λ^i.\n",
        "\n",
        "    Args:\n",
        "        n (int): Número de probabilidades a generar.\n",
        "        w (float): Valor de w.\n",
        "\n",
        "    Returns:\n",
        "        list: Lista de probabilidades generadas.\n",
        "    \"\"\"\n",
        "    if n <= 0 or w <= 0:\n",
        "        raise ValueError(\"n y w deben ser valores positivos\")\n",
        "\n",
        "    lambda_val = 1-w\n",
        "    probabilidades = [w * ((1-w) ** (i-1)) for i in range(1,n+1)]\n",
        "\n",
        "    return probabilidades\n",
        "\n",
        "\n",
        "# Ejemplo de uso\n",
        "n = 200\n",
        "w = 0.05\n",
        "\n",
        "probabilidades_generadas = generar_probabilidades(n, w)\n",
        "print(f\"Probabilidades generadas: {probabilidades_generadas}\")\n",
        "print(sum(probabilidades_generadas))\n",
        "print(len(probabilidades_generadas))"
      ],
      "metadata": {
        "colab": {
          "base_uri": "https://localhost:8080/"
        },
        "id": "TZmgNF0FTZE2",
        "outputId": "48d517ec-f714-4ada-9d8b-e466d7b95d5b"
      },
      "execution_count": 4,
      "outputs": [
        {
          "output_type": "stream",
          "name": "stdout",
          "text": [
            "Probabilidades generadas: [0.05, 0.0475, 0.045125, 0.04286875, 0.0407253125, 0.038689046874999994, 0.03675459453124999, 0.03491686480468749, 0.03317102156445311, 0.03151247048623045, 0.029936846961918936, 0.028440004613822983, 0.027018004383131834, 0.025667104163975243, 0.02438374895577648, 0.023164561507987652, 0.02200633343258827, 0.020906016760958854, 0.019860715922910912, 0.018867680126765363, 0.017924296120427095, 0.01702808131440574, 0.01617667724868545, 0.01536784338625118, 0.01459945121693862, 0.013869478656091689, 0.013176004723287102, 0.012517204487122747, 0.011891344262766609, 0.011296777049628278, 0.010731938197146865, 0.01019534128728952, 0.009685574222925044, 0.009201295511778791, 0.008741230736189851, 0.008304169199380358, 0.00788896073941134, 0.007494512702440773, 0.007119787067318734, 0.006763797713952796, 0.006425607828255156, 0.006104327436842399, 0.005799111065000279, 0.0055091555117502645, 0.005233697736162751, 0.004972012849354612, 0.004723412206886882, 0.004487241596542538, 0.00426287951671541, 0.00404973554087964, 0.0038472487638356576, 0.0036548863256438747, 0.003472142009361681, 0.0032985349088935968, 0.0031336081634489167, 0.0029769277552764706, 0.0028280813675126467, 0.0026866772991370144, 0.0025523434341801635, 0.0024247262624711554, 0.002303489949347597, 0.0021883154518802174, 0.0020788996792862066, 0.001974954695321896, 0.001876206960555801, 0.001782396612528011, 0.0016932767819016104, 0.0016086129428065296, 0.0015281822956662032, 0.001451773180882893, 0.0013791845218387483, 0.0013102252957468109, 0.0012447140309594703, 0.0011824783294114968, 0.0011233544129409217, 0.0010671866922938756, 0.0010138273576791818, 0.0009631359897952226, 0.0009149791903054615, 0.0008692302307901884, 0.000825768719250679, 0.000784480283288145, 0.0007452562691237377, 0.0007079934556675508, 0.0006725937828841733, 0.0006389640937399645, 0.0006070158890529663, 0.0005766650946003179, 0.000547831839870302, 0.0005204402478767869, 0.0004944182354829475, 0.00046969732370880004, 0.0004462124575233601, 0.00042390183464719204, 0.0004027067429148324, 0.0003825714057690908, 0.00036344283548063623, 0.00034527069370660443, 0.0003280071590212742, 0.00031160680107021046, 0.0002960264610166999, 0.0002812251379658649, 0.00026716388106757166, 0.00025380568701419305, 0.00024111540266348336, 0.0002290596325303092, 0.00021760665090379372, 0.00020672631835860403, 0.0001963900024406738, 0.00018657050231864013, 0.00017724197720270812, 0.0001683798783425727, 0.00015996088442544405, 0.00015196284020417184, 0.00014436469819396325, 0.00013714646328426508, 0.00013028914012005183, 0.00012377468311404924, 0.00011758594895834676, 0.0001117066515104294, 0.00010612131893490793, 0.00010081525298816254, 9.57744903387544e-05, 9.098576582181668e-05, 8.643647753072584e-05, 8.211465365418954e-05, 7.800892097148007e-05, 7.410847492290606e-05, 7.040305117676076e-05, 6.688289861792271e-05, 6.353875368702657e-05, 6.036181600267524e-05, 5.7343725202541474e-05, 5.44765389424144e-05, 5.175271199529368e-05, 4.9165076395528996e-05, 4.670682257575254e-05, 4.437148144696491e-05, 4.215290737461666e-05, 4.0045262005885826e-05, 3.8042998905591536e-05, 3.614084896031196e-05, 3.433380651229636e-05, 3.2617116186681535e-05, 3.098626037734746e-05, 2.9436947358480082e-05, 2.796509999055608e-05, 2.6566844991028275e-05, 2.5238502741476858e-05, 2.3976577604403016e-05, 2.277774872418286e-05, 2.163886128797372e-05, 2.0556918223575033e-05, 1.952907231239628e-05, 1.8552618696776463e-05, 1.762498776193764e-05, 1.6743738373840757e-05, 1.590655145514872e-05, 1.5111223882391282e-05, 1.4355662688271719e-05, 1.3637879553858132e-05, 1.2955985576165223e-05, 1.2308186297356962e-05, 1.1692776982489113e-05, 1.1108138133364658e-05, 1.0552731226696425e-05, 1.0025094665361602e-05, 9.523839932093522e-06, 9.047647935488845e-06, 8.595265538714403e-06, 8.165502261778682e-06, 7.757227148689749e-06, 7.3693657912552595e-06, 7.000897501692496e-06, 6.6508526266078715e-06, 6.318309995277477e-06, 6.002394495513603e-06, 5.702274770737923e-06, 5.417161032201027e-06, 5.146302980590975e-06, 4.888987831561426e-06, 4.644538439983355e-06, 4.4123115179841865e-06, 4.191695942084977e-06, 3.982111144980728e-06, 3.7830055877316917e-06, 3.593855308345107e-06, 3.414162542927851e-06, 3.243454415781458e-06, 3.081281694992385e-06, 2.927217610242766e-06, 2.7808567297306277e-06, 2.6418138932440964e-06, 2.5097231985818913e-06, 2.3842370386527963e-06, 2.2650251867201567e-06, 2.1517739273841488e-06, 2.0441852310149414e-06, 1.941975969464194e-06, 1.8448771709909844e-06]\n",
            "0.9999649473337503\n",
            "200\n"
          ]
        }
      ]
    },
    {
      "cell_type": "markdown",
      "metadata": {
        "id": "hdBgOc9db2vM"
      },
      "source": [
        "# Definición de parámetros para valorar:\n",
        "Acciones\n",
        "Bondes D\n",
        "SWAPS\n",
        "Futuros\n",
        "Opciones"
      ]
    },
    {
      "cell_type": "markdown",
      "source": [
        "## Definición parámetros Python"
      ],
      "metadata": {
        "id": "kUBoiUL3YUHR"
      }
    },
    {
      "cell_type": "code",
      "source": [
        "!pip install yfinance\n",
        "import yfinance as yf\n",
        "import numpy as np\n",
        "from datetime import datetime, timedelta\n",
        "\n",
        "fval = datetime.strptime(\"20230310\", \"%Y%m%d\") #Fecha de valoración\n",
        "itpl = 0 #poner 0 si se quiere interpolación lineal o 1 si se quiere tasa alambrada\n",
        "alpha = 0.98 #Nivel de confianza para obtener estimaciones de riesgo\n",
        "w0=0.9\n",
        "#setwd(direc)\n",
        "\n",
        "#ACCIONES Y DIVISAS\n",
        "#Cargar los símbolos de yahoo finance para EQ\n",
        "Symbols = [\"AMXB.MX\", \"GCARSOA1.MX\", \"WALMEX.MX\"] #tienen que ir en orden alfabético\n",
        "pos_eq = [-5000,1000,1200] #monto inicial invertido en acciones\n",
        "#Cargar los símbolos de yahoo finance para FX\n",
        "SymbolsFX = [\"BTC-USD\",\"EURUSD=X\",\"USDMXN=X\"] #tienen que ir en orden alfabético\n",
        "pos_fx = [1.5,700,1500] #monto inicial invertido en divisas\n",
        "nh = 3660 #días de historia\n",
        "\n",
        "#CETES\n",
        "base = \"RiesgosFinancieros/2024-1/Tarea/tasa_guber.txt\"\n",
        "\n",
        "\n",
        "# BONDES D\n",
        "btasadescst=\"RiesgosFinancieros/2024-1/Tarea/tasa_guber_st.txt\"\n",
        "btasafondeo=\"RiesgosFinancieros/2024-1/Tarea/tfondeo.txt\"\n",
        "plazos_bdm=np.array([358, 405, 550, 1200, 1800])\n",
        "plazocupon_bdm=np.array([28, 28, 28, 28, 28])\n",
        "contratos_bdm=np.array([220, -290, 290, -460, 100])\n",
        "nominal_bdm=100\n",
        "\n",
        "# FORWARDS TDC\n",
        "bext=\"RiesgosFinancieros/2024-1/Tarea/tasa_libor.txt\"\n",
        "bdom=\"RiesgosFinancieros/2024-1/Tarea/tasa_fwd.txt\"\n",
        "SymbolsFX_ftdc=['USDMXN=X']\n",
        "plazos_fwd=np.array([360, 9, 35, 95, 183])\n",
        "contratos_fwd=np.array([500, -290, 290, -460, 440])\n",
        "kst_fwd=[20.5, 19.4, 20.6, 20, 20.5]\n",
        "nominal_fwd=1\n",
        "yext=1 #si se carga información de yahoo en la fecha definida por fval o SymbolsFX, en caso contrario se utiliza información que se tendrá que cargar de tasas_spot.txt\n",
        "trlib=1 #1 si la curva libor viene a 182 0 si no.\n",
        "\n",
        "# FORWARDS DE IPC\n",
        "#Descontamos con gubernamental\n",
        "base=\"RiesgosFinancieros/2024-1/Tarea/tasa_guber.txt\"\n",
        "SymbolsEQ_find=[\"^MXX\"] #tienen que ir en orden alfabético\n",
        "plazos_fwd_ind=np.array([360, 9, 3500])\n",
        "contratos_fwd_ind=np.array([5, -2, 5])\n",
        "kst_fwd_ind=np.array([52000, 49500, 60000])\n",
        "nominal_fwd_ind=1\n",
        "\n",
        "\n",
        "#SWAP\n",
        "btasadesc_sw=\"RiesgosFinancieros/2024-1/Tarea/tasa_TIIE_SW_OP.txt\"\n",
        "btasacupvar_sw=\"RiesgosFinancieros/2024-1/Tarea/tasa_DIRS_SW_OP.txt\"\n",
        "tasafija_sw=np.array([0.079,0.075]) #se establece la tasa fija a pagar para cada swap\n",
        "plazos_sw=np.array([588,360]) #se establece el número de días que vivirá el swap\n",
        "plazocupon_sw=np.array([28,28]) #se establece el número de días que se pagará cada cupón\n",
        "contratos_sw=np.array([-1600,1000]) #se establece el número de contratos_sw de cada swap\n",
        "nominal_sw=np.array([1,1]) #se establece el nominal_sw de cada swap\n",
        "por_sw=np.array([0,0]) #se establece el porcentaje de cada swap\n",
        "\n",
        "\n",
        "#OPCIONES\n",
        "btasadesc_oir = \"RiesgosFinancieros/2024-1/Tarea/tasa_TIIE_SW_OP.txt\"\n",
        "btasaspot_oir = \"RiesgosFinancieros/2024-1/Tarea/tasa_DIRS_SW_OP.txt\"\n",
        "bvolspot_oir = \"RiesgosFinancieros/2024-1/Tarea/tvoltiie_opc.txt\"\n",
        "plazos_oir = np.array([700, 1700, 400, 350, 200])  # T-t\n",
        "pr_oir = 28  # plazo de referencia\n",
        "dct_oir = 360  # d_base\n",
        "cp_oir = np.array([1, 0, 0, 0, 0])  # si es call (cap) o put (floor)\n",
        "K_oir = np.array([0.07, 0.085, 0.078, 0.085, 0.08])\n",
        "contratos_oir = np.array([2200, -2900, 2900, -460, 5000])\n",
        "nominal_oir = 1\n",
        "cs_oir = 1  # 1 si es continua la tasa 0 si es simple"
      ],
      "metadata": {
        "colab": {
          "base_uri": "https://localhost:8080/"
        },
        "id": "PJYqd7eP8t3O",
        "outputId": "1f8d9d0f-409f-4aaf-bf1f-267c2ba6769a"
      },
      "execution_count": 5,
      "outputs": [
        {
          "output_type": "stream",
          "name": "stdout",
          "text": [
            "Requirement already satisfied: yfinance in /usr/local/lib/python3.12/dist-packages (0.2.65)\n",
            "Requirement already satisfied: pandas>=1.3.0 in /usr/local/lib/python3.12/dist-packages (from yfinance) (2.2.2)\n",
            "Requirement already satisfied: numpy>=1.16.5 in /usr/local/lib/python3.12/dist-packages (from yfinance) (2.0.2)\n",
            "Requirement already satisfied: requests>=2.31 in /usr/local/lib/python3.12/dist-packages (from yfinance) (2.32.4)\n",
            "Requirement already satisfied: multitasking>=0.0.7 in /usr/local/lib/python3.12/dist-packages (from yfinance) (0.0.12)\n",
            "Requirement already satisfied: platformdirs>=2.0.0 in /usr/local/lib/python3.12/dist-packages (from yfinance) (4.4.0)\n",
            "Requirement already satisfied: pytz>=2022.5 in /usr/local/lib/python3.12/dist-packages (from yfinance) (2025.2)\n",
            "Requirement already satisfied: frozendict>=2.3.4 in /usr/local/lib/python3.12/dist-packages (from yfinance) (2.4.6)\n",
            "Requirement already satisfied: peewee>=3.16.2 in /usr/local/lib/python3.12/dist-packages (from yfinance) (3.18.2)\n",
            "Requirement already satisfied: beautifulsoup4>=4.11.1 in /usr/local/lib/python3.12/dist-packages (from yfinance) (4.13.5)\n",
            "Requirement already satisfied: curl_cffi>=0.7 in /usr/local/lib/python3.12/dist-packages (from yfinance) (0.13.0)\n",
            "Requirement already satisfied: protobuf>=3.19.0 in /usr/local/lib/python3.12/dist-packages (from yfinance) (5.29.5)\n",
            "Requirement already satisfied: websockets>=13.0 in /usr/local/lib/python3.12/dist-packages (from yfinance) (15.0.1)\n",
            "Requirement already satisfied: soupsieve>1.2 in /usr/local/lib/python3.12/dist-packages (from beautifulsoup4>=4.11.1->yfinance) (2.8)\n",
            "Requirement already satisfied: typing-extensions>=4.0.0 in /usr/local/lib/python3.12/dist-packages (from beautifulsoup4>=4.11.1->yfinance) (4.15.0)\n",
            "Requirement already satisfied: cffi>=1.12.0 in /usr/local/lib/python3.12/dist-packages (from curl_cffi>=0.7->yfinance) (1.17.1)\n",
            "Requirement already satisfied: certifi>=2024.2.2 in /usr/local/lib/python3.12/dist-packages (from curl_cffi>=0.7->yfinance) (2025.8.3)\n",
            "Requirement already satisfied: python-dateutil>=2.8.2 in /usr/local/lib/python3.12/dist-packages (from pandas>=1.3.0->yfinance) (2.9.0.post0)\n",
            "Requirement already satisfied: tzdata>=2022.7 in /usr/local/lib/python3.12/dist-packages (from pandas>=1.3.0->yfinance) (2025.2)\n",
            "Requirement already satisfied: charset_normalizer<4,>=2 in /usr/local/lib/python3.12/dist-packages (from requests>=2.31->yfinance) (3.4.3)\n",
            "Requirement already satisfied: idna<4,>=2.5 in /usr/local/lib/python3.12/dist-packages (from requests>=2.31->yfinance) (3.10)\n",
            "Requirement already satisfied: urllib3<3,>=1.21.1 in /usr/local/lib/python3.12/dist-packages (from requests>=2.31->yfinance) (2.5.0)\n",
            "Requirement already satisfied: pycparser in /usr/local/lib/python3.12/dist-packages (from cffi>=1.12.0->curl_cffi>=0.7->yfinance) (2.22)\n",
            "Requirement already satisfied: six>=1.5 in /usr/local/lib/python3.12/dist-packages (from python-dateutil>=2.8.2->pandas>=1.3.0->yfinance) (1.17.0)\n"
          ]
        }
      ]
    },
    {
      "cell_type": "markdown",
      "metadata": {
        "id": "wYq9vgjOcix0"
      },
      "source": [
        "# Carga de datos"
      ]
    },
    {
      "cell_type": "code",
      "source": [
        "import pandas as pd\n",
        "#acciones\n",
        "pos=[len(pos_fx),len(pos_eq)]\n",
        "start_date = datetime.now().date() - timedelta(days=nh)\n",
        "# Symbols = [\"AMXB.MX\", \"GCARSOA1.MX\", \"WALMEX.MX\"] #tienen que ir en orden alfabético\n",
        "pos_eq = [-5000,1000,1200] #monto inicial invertido en acciones\n",
        "#Cargar los símbolos de yahoo finance para FX\n",
        "# SymbolsFX = [\"BTC-USD\",\"EURUSD=X\",\"USDMXN=X\"] #tienen que ir en orden alfabético\n",
        "symbol=Symbols+SymbolsFX\n",
        "# symbol = ['AAPL','MSFT','SQ','AMZN','USDMXN=X']\n",
        "stock_prices = yf.download(symbol,start_date)\n",
        "stock_prices_EQFX=stock_prices.Close.dropna()\n",
        "stock_prices_EQFX['EURUSD=X']=stock_prices_EQFX['EURUSD=X']*stock_prices_EQFX['USDMXN=X']\n",
        "stock_prices_EQFX['BTC-USD']=stock_prices_EQFX['BTC-USD']*stock_prices_EQFX['USDMXN=X']\n",
        "stock_prices_EQFX=stock_prices_EQFX[symbol]\n",
        "stock_prices_EQFX=stock_prices_EQFX.reset_index()\n",
        "stock_prices_EQFX['Date'] = stock_prices_EQFX['Date'].dt.tz_localize(None)\n",
        "x0=stock_prices_EQFX.tail(1)\n",
        "# aux2=pd.DataFrame(stock_prices_EQFX.index)\n",
        "\n",
        "\n",
        "#BONOS M\n",
        "\n",
        "# Carga de datos - supongamos que los datos se encuentran en un archivo CSV llamado \"btasadesc.csv\"\n",
        "# Asegúrate de proporcionar la ruta completa al archivo o que el archivo esté en el directorio actual.\n",
        "# data1 = pd.read_(\"btasadesc.txt\", header=None)\n",
        "data = pd.read_csv(base, sep=\"\\t\", header=None)\n",
        "\n",
        "# Obtiene el número de filas y columnas de data1\n",
        "n, m_gov= data.shape\n",
        "\n",
        "# Crear un DataFrame con los datos sin la primera fila y la primera columna\n",
        "x_orig = pd.DataFrame(data.values[1:, 1:len(data.values[0])], dtype=float)\n",
        "x_orig['Date'] = pd.to_datetime(data.values[1:,0], format='%Y%m%d')\n",
        "\n",
        "# Obtener nodos\n",
        "nodos_gov = pd.DataFrame(data.values[0, 1:(len(data.values[0]))], dtype=int)\n",
        "\n",
        "\n",
        "\n",
        "# data<-read.table(base)\n",
        "# n<-nrow(data)\n",
        "# m_gov=ncol(data)\n",
        "# #x_orig_gov=data.frame(data[2:n,1:m_gov])\n",
        "# x_orig_gov=as.data.table(mutate(data[2:n,1:m_gov],Date=as.Date(V1,format=\"%Y%m%d\")))\n",
        "# x_orig_gov=x_orig_gov%>%select(-V1)\n",
        "# nodos_gov=data.frame(data[1,2:m_gov])\n",
        "\n",
        "#BONDE D\n",
        "# Leer datos de tasa_guber.txt\n",
        "data1 = pd.read_table(base, sep=\"\\t\", header=None)\n",
        "n = data1.shape[0]\n",
        "m_bd = data1.shape[1]\n",
        "X_orig = data1.iloc[1:n, 0:m_bd]\n",
        "X1_orig = pd.DataFrame(data1.iloc[1:n, 1:m_bd], dtype=float)\n",
        "X1_orig['Date'] = pd.to_datetime(X_orig[0], format='%Y%m%d')\n",
        "nodos = data1.iloc[0, 1:m_bd]\n",
        "n -= 1\n",
        "\n",
        "# Leer datos de tasa_guber_st.txt\n",
        "data3 = pd.read_table(btasadescst, sep=\"\\t\", header=None)\n",
        "n3 = data3.shape[0]\n",
        "m3_bd = data3.shape[1]\n",
        "X3a_orig_bd = data3.iloc[1:n3, 0:m3_bd]\n",
        "X3_orig_bd = pd.DataFrame(data3.iloc[1:n3, 1:m3_bd], dtype=float)\n",
        "X3_orig_bd['Date'] = pd.to_datetime(X3a_orig_bd[0], format='%Y%m%d')\n",
        "nodos3_bd = data3.iloc[0, 1:m3_bd]\n",
        "n3 -= 1\n",
        "\n",
        "# # Leer datos de tfondeo.txt\n",
        "data2 = pd.read_table(btasafondeo, sep=\"\\t\", header=None)\n",
        "n2 = data2.shape[0]\n",
        "X2_orig = data2.iloc[1:n2, 0:2]\n",
        "X2_orig_bd = X2_orig.copy()\n",
        "X2_orig_bd[0] = pd.to_datetime(X2_orig_bd[0], format='%Y%m%d')\n",
        "X2_orig_bd[1] = X2_orig_bd[1].astype(float)\n",
        "\n",
        "# # Sucesión de días para tasa fondeo\n",
        "tfh = pd.date_range(start=min(X2_orig_bd[0]), end=max(X2_orig_bd[0]), freq='D')\n",
        "tfhd = pd.DataFrame({'fecha': tfh})\n",
        "\n",
        "\n",
        "# Asegúrate de que ambos DataFrames estén ordenados por la columna de fecha de manera descendente\n",
        "tfhd = tfhd.sort_values(by='fecha', ascending=True)\n",
        "X2_orig_bd = X2_orig_bd.sort_values(by=0, ascending=True)  # Asumiendo que la columna 'V1' es ahora la columna 0\n",
        "\n",
        "# Renombrar columnas para preparar para merge_asof\n",
        "# tfhd = tfhd.rename(columns={'fecha': 'join_date'})\n",
        "X2_orig_bd = X2_orig_bd.rename(columns={0: 'fecha'})\n",
        "\n",
        "# Realizar el rolling join con merge_asof\n",
        "X2_orig_bd = pd.merge_asof(tfhd, X2_orig_bd, on='fecha', direction='backward')\n",
        "\n",
        "\n",
        "# Si quieres que el resultado esté en el DataFrame original (tfhd), puedes hacer lo siguiente:\n",
        "X2_orig_bd = pd.merge(tfhd, X2_orig_bd, on='fecha', how='outer')\n",
        "\n",
        "X1_orig = X1_orig.rename(columns={0: \"fecha\"})\n",
        "# Filtrar tasas de fondeo\n",
        "\n",
        "tf_act = X2_orig_bd.loc[X2_orig_bd['fecha'] == fval, 1].values[0] / 100\n",
        "tf_int = X2_orig_bd.loc[(X2_orig_bd['fecha'] <= fval) & (X2_orig_bd['fecha'] >= (fval -  timedelta(int(plazocupon_bdm[0])))), 1] / 100\n",
        "tf_int=tf_int[::-1]  # se hace este cambio para ordenar de mayor a menor\n",
        "\n",
        "\n",
        "# Ordenar el DataFrame por la columna de unión\n",
        "X1_orig = X1_orig.sort_values('Date', ascending=True)\n",
        "\n",
        "# Agregar la columna join_date al DataFrame X1_orig\n",
        "X1_orig['join_date'] = X1_orig['Date']\n",
        "\n",
        "# Ordenar el DataFrame X2a_orig por la columna de unión\n",
        "X2_orig_bd = X2_orig_bd.sort_values('fecha', ascending=True)\n",
        "\n",
        "# Hacer el merge (join) de los DataFrames\n",
        "X2_pr = pd.merge_asof(X1_orig, X2_orig_bd, left_on='Date', right_on='fecha')\n",
        "\n",
        "\n",
        "\n",
        "#CARGA DE DATOS DE  FORWARDS DE TDC\n",
        "#datas\n",
        "#data<-read.table(\"tasa_tiie.txt\")\n",
        "data1 = pd.read_table(bext,header=None)\n",
        "data2 = pd.read_table(bdom,header=None)\n",
        "\n",
        "########minimos para parametrizar\n",
        "n1 = data1.shape[0]\n",
        "n2 = data2.shape[0]\n",
        "m1_ftdc = data1.shape[1]\n",
        "m2_ftdc = data2.shape[1]\n",
        "n = min(n1, n2) - 1\n",
        "###NODOS###\n",
        "nodos1_ftdc = data1.iloc[0,1:m1_ftdc]\n",
        "nodos2_ftdc = data2.iloc[0,1:m2_ftdc]\n",
        "####MATRICES DEL MISMO TAMAÑO MENOS DOLAR\n",
        "\n",
        "x1_ftdc = pd.DataFrame(data1.iloc[1:n1,1:m1_ftdc], dtype=float)\n",
        "x1_ftdc['Date'] = pd.to_datetime(data1.iloc[1:n1,0], format=\"%Y%m%d\")\n",
        "x2_ftdc = data2.iloc[1:n1,1:m2_ftdc]\n",
        "x2_ftdc['Date'] = pd.to_datetime(data2.iloc[1:n1, 0], format=\"%Y%m%d\")\n",
        "\n",
        "if yext==1:\n",
        "  start_date=fval- timedelta(days=nh)\n",
        "  start_date = datetime.now().date() - timedelta(days=nh)\n",
        "  X3_ftdc = yf.download(SymbolsFX_ftdc,start_date)\n",
        "  X3_ftdc=X3_ftdc.Close.dropna()\n",
        "  X3_ftdc=X3_ftdc.reset_index()\n",
        "else:\n",
        "  data3=pd.read_table(bext,header=None)\n",
        "  n3 = data3.shape[0]\n",
        "  m3 = data3.shape[1]\n",
        "  x3_ftdc = pd.DataFrame(data3.iloc[1:n3,1:m3], dtype=float)\n",
        "  x3_ftdc['Date'] = pd.to_datetime(data3.iloc[1:n3, 0], format=\"%Y%m%d\")\n",
        "\n",
        "\n",
        "# CARGA DE DATOS DE  FORWARD DE IPC\n",
        "data = pd.read_table(base,header=None)\n",
        "n = data.shape[0]\n",
        "m_gov=data.shape[1]\n",
        "#x_orig_gov=data.frame(data[2:n,1:m_gov])\n",
        "x_orig_gov= pd.DataFrame(data.iloc[1:n,1:m_gov], dtype=float)\n",
        "x_orig_gov['Date'] = pd.to_datetime(data.iloc[1:n,0], format=\"%Y%m%d\")\n",
        "nodos_gov=data.iloc[0,1:m_gov]\n",
        "\n",
        "X3_find = yf.download(SymbolsEQ_find,start_date)\n",
        "X3_find = X3_find.Close.dropna()\n",
        "X3_find=X3_find.reset_index()\n",
        "\n",
        "\n",
        "\n",
        "#CARGA DE DATOS PARA SWAP\n",
        "data1 = pd.read_table(btasadesc_sw,header=None)\n",
        "n1 = data1.shape[0]\n",
        "m1_orig_sw = data1.shape[1]\n",
        "X1_orig_sw = pd.DataFrame(data1.iloc[1:n1, 1:m1_orig_sw], dtype=float)\n",
        "X1_orig_sw['Date'] = pd.to_datetime(data1.iloc[1:n1, 0], format = '%Y%m%d')\n",
        "nodos1_sw = data1.iloc[0, 1:m1_orig_sw]\n",
        "\n",
        "data2 = pd.read_table(btasacupvar_sw,header=None)\n",
        "n2 = data2.shape[0]\n",
        "m2_orig_sw = data2.shape[1]\n",
        "X2_orig_sw = pd.DataFrame(data2.iloc[1:n2, 1:m2_orig_sw], dtype=float)\n",
        "X2_orig_sw['Date'] = pd.to_datetime(data2.iloc[1:n1, 0], format = '%Y%m%d')\n",
        "nodos2_sw = data2.iloc[0, 1:m2_orig_sw]\n",
        "\n",
        "\n",
        "#carga de opciones de tasa de interés\n",
        "data1 = pd.read_table(btasadesc_oir,header=None)\n",
        "n =data1.shape[0]\n",
        "m1_orig_oir = len(data1.columns)\n",
        "x1_orig_oir = pd.DataFrame(data1.iloc[1:n, 1:m1_orig_oir], dtype=float)\n",
        "x1_orig_oir['Date'] = pd.to_datetime(data1.iloc[1:n, 0], format = '%Y%m%d')\n",
        "nodos1_oir =  data1.iloc[0, 1:m1_orig_oir]\n",
        "\n",
        "# carga de tasas spot\n",
        "data2 = pd.read_table(btasaspot_oir,header=None)\n",
        "n = len(data2)\n",
        "m2_orig_oir = len(data2.columns)\n",
        "x2_orig_oir = pd.DataFrame(data2.iloc[1:n, 1:m2_orig_oir], dtype=float)\n",
        "x2_orig_oir['Date'] = pd.to_datetime(data2.iloc[1:n, 0], format=\"%Y%m%d\")\n",
        "nodos2_oir = data2.iloc[0, 1:m2_orig_oir]\n",
        "\n",
        "# carga de volatilidades de spot\n",
        "data3 = pd.read_table(bvolspot_oir,header=None)\n",
        "n = len(data3)\n",
        "m3_orig_oir = len(data3.columns)\n",
        "x3_orig_oir = pd.DataFrame(data3.iloc[1:n, 1:m3_orig_oir], dtype=float)\n",
        "x3_orig_oir['Date'] = pd.to_datetime(data3.iloc[1:n, 0], format=\"%Y%m%d\")\n",
        "nodos3_oir = data3.iloc[0, 1:m3_orig_oir]"
      ],
      "metadata": {
        "colab": {
          "base_uri": "https://localhost:8080/"
        },
        "id": "hFKKz4Yk_nt-",
        "outputId": "04dcd951-4522-4923-ef49-d1719262cede"
      },
      "execution_count": 6,
      "outputs": [
        {
          "output_type": "stream",
          "name": "stderr",
          "text": [
            "/tmp/ipython-input-1413384206.py:11: FutureWarning: YF.download() has changed argument auto_adjust default to True\n",
            "  stock_prices = yf.download(symbol,start_date)\n",
            "[*********************100%***********************]  6 of 6 completed\n",
            "/tmp/ipython-input-1413384206.py:145: FutureWarning: YF.download() has changed argument auto_adjust default to True\n",
            "  X3_ftdc = yf.download(SymbolsFX_ftdc,start_date)\n",
            "[*********************100%***********************]  1 of 1 completed\n",
            "/tmp/ipython-input-1413384206.py:165: FutureWarning: YF.download() has changed argument auto_adjust default to True\n",
            "  X3_find = yf.download(SymbolsEQ_find,start_date)\n",
            "[*********************100%***********************]  1 of 1 completed\n"
          ]
        }
      ]
    },
    {
      "cell_type": "markdown",
      "metadata": {
        "id": "re1W63Xxcqk6"
      },
      "source": [
        "# Integración de Insumos"
      ]
    },
    {
      "cell_type": "markdown",
      "metadata": {
        "id": "dFkiz2PAcuD7"
      },
      "source": [
        "Aseguramiento de que todos los factores de riesgo estén alineados en sus fechas, nos quedamos con la intersección. Posteriormente, filtramos cada histórico factor de riesgo hacia esta intersección de todos."
      ]
    },
    {
      "cell_type": "markdown",
      "source": [
        "## Python Integración de Insumos"
      ],
      "metadata": {
        "id": "XIPHuLZQrxa0"
      }
    },
    {
      "cell_type": "code",
      "source": [
        "from numpy.core.fromnumeric import sort\n",
        "from numpy.core.fromnumeric import sort\n",
        "import pandas as pd\n",
        "\n",
        "def filter_on_date(base_df, join_df, description):\n",
        "    # Asegurarse de que ambos objetos sean DataFrames con una columna 'Date'\n",
        "    if not isinstance(base_df, pd.DataFrame):\n",
        "        base_df = pd.DataFrame({'Date': base_df})\n",
        "    if not isinstance(join_df, pd.DataFrame):\n",
        "        join_df = pd.DataFrame({'Date': join_df})\n",
        "\n",
        "    result = pd.merge(base_df, join_df, on='Date', how='inner')[['Date']].drop_duplicates()\n",
        "    print(f\"Number of rows in {description}: {len(result)}\")\n",
        "    return result\n",
        "\n",
        "# Inicializar DataFrame con la Fecha desde aux2 y x_orig_gov\n",
        "# current_df = filter_on_date(aux2, x_orig_gov, \"lin_gub\")\n",
        "\n",
        "# Lista de DataFrames para hacer join y sus descripciones\n",
        "dataframes_to_join = [\n",
        "    (x_orig_gov, \"lin_gub\"),\n",
        "    (X3_orig_bd, \"lin_gub_bmybdst\"),\n",
        "    (X3_ftdc, \"lin_gub_bmybdst\"),\n",
        "    (x1_ftdc, \"lin_gub_bmybdst_flib\"),\n",
        "    (x2_ftdc, \"lin_gub_bmybdst_flibfwd\"),\n",
        "    (X3_find, \"lin_gub_bmybdst_flibfwdspind\"),\n",
        "    (X1_orig_sw, \"lin_gub_bmybdst_flibfwdspind_swcup\"),\n",
        "    (X2_orig_sw, \"lin_gub_bmybdst_flibfwdspind_swcupvp\"),\n",
        "    (x1_orig_oir, \"lin_gub_bmybdst_flibfwdspind_swcupvp_oirs\"),\n",
        "    (x2_orig_oir, \"lin_gub_bmybdst_flibfwdspind_swcupvp_oirsvp\"),\n",
        "    (x3_orig_oir, \"lin_gub_bmybdst_flibfwdspind_swcupvp_oirsvpvol\")\n",
        "]\n",
        "\n",
        "# Realizar los joins y actualizar el DataFrame actual\n",
        "current_df = stock_prices_EQFX\n",
        "for join_df, description in dataframes_to_join:\n",
        "    current_df = filter_on_date(current_df, join_df, description)\n",
        "\n",
        "# Mostrar el DataFrame final\n",
        "print(current_df.drop_duplicates())\n",
        "\n",
        "import pandas as pd\n",
        "\n",
        "# Suponemos que lin_gub_bmybdst_flibfwdspind_swcupvp_oirsvpvol y otras DataFrames ya están definidas\n",
        "\n",
        "# Calcula el número de filas\n",
        "n = len(current_df)\n",
        "\n",
        "current_df=current_df.sort_values(by=\"Date\", ascending=False)\n",
        "\n",
        "def join_and_drop_date(base_df, join_df, divide_by_100=False):\n",
        "    result = pd.merge(base_df, join_df, on='Date', how='inner').sort_values('Date', ascending=False)\n",
        "    result.drop(columns=['Date'], inplace=True)\n",
        "    if divide_by_100:\n",
        "        result = result / 100\n",
        "    return result\n",
        "\n",
        "# Historia de acciones y divisas\n",
        "stock_prices_EQFX = join_and_drop_date(current_df, stock_prices_EQFX)\n",
        "\n",
        "# Historia de curva gubernamental\n",
        "x_orig_gov = join_and_drop_date(current_df, x_orig_gov)\n",
        "\n",
        "# Historia de curvas de bonde\n",
        "X1_orig = join_and_drop_date(current_df, X1_orig)\n",
        "X3_orig_bd = join_and_drop_date(current_df, X3_orig_bd)\n",
        "\n",
        "# Historia de curvas de forward tdc\n",
        "x1_ftdc = join_and_drop_date(current_df, x1_ftdc, True)\n",
        "x2_ftdc = join_and_drop_date(current_df, x2_ftdc, True)\n",
        "X3_ftdc = join_and_drop_date(current_df, X3_ftdc)\n",
        "\n",
        "# Historia de curvas de forward ind\n",
        "X3_find = join_and_drop_date(current_df, X3_find)\n",
        "\n",
        "# Historia de swaps\n",
        "X1_orig_sw = join_and_drop_date(current_df, X1_orig_sw, True)\n",
        "X2_orig_sw = join_and_drop_date(current_df, X2_orig_sw, True)\n",
        "\n",
        "# Historia de opciones\n",
        "x1_orig_oir = join_and_drop_date(current_df, x1_orig_oir, True)\n",
        "x2_orig_oir = join_and_drop_date(current_df, x2_orig_oir, True)\n",
        "x3_orig_oir = join_and_drop_date(current_df, x3_orig_oir)\n"
      ],
      "metadata": {
        "colab": {
          "base_uri": "https://localhost:8080/"
        },
        "id": "o-BAq0jqr0ie",
        "outputId": "b11e1690-f174-4227-d6d2-e8de59d5f2af"
      },
      "execution_count": 7,
      "outputs": [
        {
          "output_type": "stream",
          "name": "stdout",
          "text": [
            "Number of rows in lin_gub: 255\n",
            "Number of rows in lin_gub_bmybdst: 255\n",
            "Number of rows in lin_gub_bmybdst: 255\n",
            "Number of rows in lin_gub_bmybdst_flib: 255\n",
            "Number of rows in lin_gub_bmybdst_flibfwd: 255\n",
            "Number of rows in lin_gub_bmybdst_flibfwdspind: 255\n",
            "Number of rows in lin_gub_bmybdst_flibfwdspind_swcup: 255\n",
            "Number of rows in lin_gub_bmybdst_flibfwdspind_swcupvp: 255\n",
            "Number of rows in lin_gub_bmybdst_flibfwdspind_swcupvp_oirs: 255\n",
            "Number of rows in lin_gub_bmybdst_flibfwdspind_swcupvp_oirsvp: 255\n",
            "Number of rows in lin_gub_bmybdst_flibfwdspind_swcupvp_oirsvpvol: 255\n",
            "          Date\n",
            "0   2022-09-28\n",
            "1   2022-09-29\n",
            "2   2022-09-30\n",
            "3   2022-10-03\n",
            "4   2022-10-04\n",
            "..         ...\n",
            "250 2023-09-25\n",
            "251 2023-09-26\n",
            "252 2023-09-27\n",
            "253 2023-09-28\n",
            "254 2023-09-29\n",
            "\n",
            "[255 rows x 1 columns]\n"
          ]
        },
        {
          "output_type": "stream",
          "name": "stderr",
          "text": [
            "/tmp/ipython-input-2033783816.py:1: DeprecationWarning: numpy.core.fromnumeric is deprecated and has been renamed to numpy._core.fromnumeric. The numpy._core namespace contains private NumPy internals and its use is discouraged, as NumPy internals can change without warning in any release. In practice, most real-world usage of numpy.core is to access functionality in the public NumPy API. If that is the case, use the public NumPy API. If not, you are using NumPy internals. If you would still like to access an internal attribute, use numpy._core.fromnumeric.sort.\n",
            "  from numpy.core.fromnumeric import sort\n",
            "/tmp/ipython-input-2033783816.py:2: DeprecationWarning: numpy.core.fromnumeric is deprecated and has been renamed to numpy._core.fromnumeric. The numpy._core namespace contains private NumPy internals and its use is discouraged, as NumPy internals can change without warning in any release. In practice, most real-world usage of numpy.core is to access functionality in the public NumPy API. If that is the case, use the public NumPy API. If not, you are using NumPy internals. If you would still like to access an internal attribute, use numpy._core.fromnumeric.sort.\n",
            "  from numpy.core.fromnumeric import sort\n"
          ]
        }
      ]
    },
    {
      "cell_type": "markdown",
      "metadata": {
        "id": "-jBoCn2Wcykt"
      },
      "source": [
        "# Pasos para medir el riesgo por el método de Simulación Histórica"
      ]
    },
    {
      "cell_type": "markdown",
      "metadata": {
        "id": "Bz4Qmyb-cz5p"
      },
      "source": [
        "Para todos los instrumentos hay que definir y calcular los siguientes elementos:\\\n",
        "1.Historico de factores de riesgo\\\n",
        "2.Vector de precios actual\\\n",
        "3.Valoración al día actual"
      ]
    },
    {
      "cell_type": "markdown",
      "metadata": {
        "id": "wAQ_eiVhv2Wv"
      },
      "source": [
        "## Acciones y Divisas\n",
        "\n"
      ]
    },
    {
      "cell_type": "code",
      "source": [
        "m_fx=len(pos_fx)\n",
        "m_acc=len(pos_eq)\n",
        "M_acc_div=pos_eq+pos_fx\n",
        "x0_acc_div=stock_prices_EQFX.iloc[0,:]\n",
        "V0_acc_div=x0_acc_div*M_acc_div\n",
        "print(x0_acc_div)\n",
        "V0_acc_div"
      ],
      "metadata": {
        "colab": {
          "base_uri": "https://localhost:8080/",
          "height": 400
        },
        "id": "6WTjNpoBwhfZ",
        "outputId": "d26f0681-202a-4b13-cfae-46abf5d2689b"
      },
      "execution_count": 8,
      "outputs": [
        {
          "output_type": "stream",
          "name": "stdout",
          "text": [
            "AMXB.MX            14.380024\n",
            "GCARSOA1.MX       123.993317\n",
            "WALMEX.MX          62.218273\n",
            "BTC-USD        472003.066272\n",
            "EURUSD=X           18.525420\n",
            "USDMXN=X           17.538940\n",
            "Name: 0, dtype: float64\n"
          ]
        },
        {
          "output_type": "execute_result",
          "data": {
            "text/plain": [
              "AMXB.MX        -71900.119781\n",
              "GCARSOA1.MX    123993.316650\n",
              "WALMEX.MX       74661.927795\n",
              "BTC-USD        708004.599409\n",
              "EURUSD=X        12967.793781\n",
              "USDMXN=X        26308.410645\n",
              "Name: 0, dtype: float64"
            ],
            "text/html": [
              "<div>\n",
              "<style scoped>\n",
              "    .dataframe tbody tr th:only-of-type {\n",
              "        vertical-align: middle;\n",
              "    }\n",
              "\n",
              "    .dataframe tbody tr th {\n",
              "        vertical-align: top;\n",
              "    }\n",
              "\n",
              "    .dataframe thead th {\n",
              "        text-align: right;\n",
              "    }\n",
              "</style>\n",
              "<table border=\"1\" class=\"dataframe\">\n",
              "  <thead>\n",
              "    <tr style=\"text-align: right;\">\n",
              "      <th></th>\n",
              "      <th>0</th>\n",
              "    </tr>\n",
              "  </thead>\n",
              "  <tbody>\n",
              "    <tr>\n",
              "      <th>AMXB.MX</th>\n",
              "      <td>-71900.119781</td>\n",
              "    </tr>\n",
              "    <tr>\n",
              "      <th>GCARSOA1.MX</th>\n",
              "      <td>123993.316650</td>\n",
              "    </tr>\n",
              "    <tr>\n",
              "      <th>WALMEX.MX</th>\n",
              "      <td>74661.927795</td>\n",
              "    </tr>\n",
              "    <tr>\n",
              "      <th>BTC-USD</th>\n",
              "      <td>708004.599409</td>\n",
              "    </tr>\n",
              "    <tr>\n",
              "      <th>EURUSD=X</th>\n",
              "      <td>12967.793781</td>\n",
              "    </tr>\n",
              "    <tr>\n",
              "      <th>USDMXN=X</th>\n",
              "      <td>26308.410645</td>\n",
              "    </tr>\n",
              "  </tbody>\n",
              "</table>\n",
              "</div><br><label><b>dtype:</b> float64</label>"
            ]
          },
          "metadata": {},
          "execution_count": 8
        }
      ]
    },
    {
      "cell_type": "markdown",
      "metadata": {
        "id": "lolA4cfrwiQL"
      },
      "source": [
        "## Bondes D"
      ]
    },
    {
      "cell_type": "code",
      "source": [
        "m = len(plazos_bdm)\n",
        "N_bd = (plazos_bdm // plazocupon_bdm) + 1  # número de cupones a pagar\n",
        "\n",
        "# Inicialización de matrices/vectores\n",
        "VTplazos_bdm = np.zeros(np.sum(N_bd))\n",
        "contratos_bdmT = np.zeros(np.sum(N_bd))\n",
        "plazocupon_bdmT = np.zeros(np.sum(N_bd))\n",
        "tasafijaT_bd = np.zeros(np.sum(N_bd))\n",
        "ulNomT_bd = np.zeros(np.sum(N_bd))\n",
        "Xvp_bd = np.zeros((n, len(VTplazos_bdm)))\n",
        "Xst_bd = np.zeros((n, len(VTplazos_bdm)))\n",
        "\n",
        "# Cálculos adicionales\n",
        "plazini_bd = plazos_bdm - plazocupon_bdm * (N_bd - 1)\n",
        "ddv = plazocupon_bdm - plazini_bd\n",
        "tfcupon = np.zeros(m)\n",
        "tfcupondev = np.zeros(m)\n",
        "tfcupgen = ((1 + tf_act / 360)**(plazocupon_bdm[0]) - 1) * 360 / plazocupon_bdm[0]\n",
        "\n",
        "# Bucle para calcular tasas de cupón\n",
        "for j in range(m):  # en Python los índices comienzan en 0\n",
        "    tfcupondev[j] = ((np.prod(1 + tf_int[0:ddv[j]] / 360) - 1) * 360) / ddv[j]\n",
        "    tfcupon[j] = (((1 + tfcupondev[j] * ddv[j] / 360) * (1 + tf_act / 360)**(plazocupon_bdm[0] - ddv[j]) - 1) * 360) / plazocupon_bdm[0]\n",
        "\n",
        "print(tfcupondev)\n",
        "print(tfcupon)\n",
        "\n",
        "from scipy.interpolate import interp1d\n",
        "\n",
        "for j in range(m):\n",
        "    sum_N_bd = np.sum(N_bd[:j+1])\n",
        "    sum_N_bd_prev = np.sum(N_bd[:j]) if j > 0 else 0\n",
        "\n",
        "    if j == 0:\n",
        "        VTplazos_bdm[:sum_N_bd] = np.arange(plazini_bd[j], plazos_bdm[j] + 1, plazocupon_bdm[j])\n",
        "        contratos_bdmT[:sum_N_bd] = contratos_bdm[j]\n",
        "        plazocupon_bdmT[:sum_N_bd] = plazocupon_bdm[j]\n",
        "        ulNomT_bd[sum_N_bd - 1] = contratos_bdm[j]\n",
        "        tasafijaT_bd[0] = tfcupon[j]\n",
        "        tasafijaT_bd[1:sum_N_bd] = tfcupgen\n",
        "    else:\n",
        "        VTplazos_bdm[sum_N_bd_prev:sum_N_bd] = np.arange(plazini_bd[j], plazos_bdm[j] + 1, plazocupon_bdm[j])\n",
        "        contratos_bdmT[sum_N_bd_prev:sum_N_bd] = contratos_bdm[j]\n",
        "        plazocupon_bdmT[sum_N_bd_prev:sum_N_bd] = plazocupon_bdm[j]\n",
        "        tasafijaT_bd[sum_N_bd_prev] = tfcupon[j]\n",
        "        tasafijaT_bd[sum_N_bd_prev + 1:sum_N_bd] = tfcupgen\n",
        "        ulNomT_bd[sum_N_bd - 1] = contratos_bdm[j]\n",
        "\n",
        "for i in range(n):\n",
        "    if itpl == 0:\n",
        "        interpolator = interp1d(nodos, x_orig_gov.iloc[i, :], kind='linear', fill_value=\"interpolate\")\n",
        "        Xvp_bd[i, :] = interpolator(VTplazos_bdm)\n",
        "\n",
        "        interpolator3 = interp1d(nodos3_bd, X3_orig_bd.iloc[i, :], kind='linear', fill_value=\"interpolate\")\n",
        "        Xst_bd[i, :] = interpolator3(VTplazos_bdm)\n",
        "    else:\n",
        "        # Código para interpolación 'talamb' (no definido en el ejemplo de R original)\n",
        "        pass\n",
        "\n",
        "X2_pr=pd.merge(X2_orig_bd, current_df, left_on='fecha', right_on=\"Date\", how='inner').sort_values('Date', ascending=False)\n",
        "X_bd_tc = (np.ones((n, len(contratos_bdmT))).T * (np.array(X2_pr[1]) / 100)).T\n",
        "X_bd_ext = np.hstack((X_bd_tc, Xvp_bd, Xst_bd))\n",
        "\n",
        "\n",
        "def bondeD(contratosT, nominal, tasafijaT, plazocuponT, VTplazos, Xvp, Xst, N, ulNomT):\n",
        "    V0 = np.zeros(len(N))  # Inicializa V0, equivalente a matrix(0, 1, nrow(as.matrix(N))) en R\n",
        "    V0f = (((contratosT * tasafijaT * (plazocuponT / 360)) + ulNomT) / (1 + (Xvp + Xst) * VTplazos / 360)) * nominal\n",
        "\n",
        "    for j in range(len(N)):  # Cambia índices de 1:nrow(as.matrix(N)) a 0:(len(N)-1)\n",
        "        if j == 0:  # Cambia de j==1 a j==0\n",
        "            V0[j] = np.sum(V0f[:N[j]])\n",
        "        else:\n",
        "            V0[j] = np.sum(V0f[np.sum(N[:j]):np.sum(N[:j+1])])\n",
        "\n",
        "    return V0\n",
        "\n",
        "# Suponiendo que contratosT, nominal, tasafijaT, plazocuponT, VTplazos, Xvp, Xst, y N ya están definidos\n",
        "V0_bd = bondeD(contratos_bdmT, nominal_bdm, tf_act, plazocupon_bdmT, VTplazos_bdm, Xvp_bd[0,], Xst_bd[0,], N_bd, ulNomT_bd)  # Cambia de Xvp[1, ] y Xst[1, ] a Xvp[0, :] y Xst[0, :]\n",
        "\n",
        "print(V0_bd)"
      ],
      "metadata": {
        "colab": {
          "base_uri": "https://localhost:8080/"
        },
        "id": "v9S-DkVs40eS",
        "outputId": "0e5ecf5b-2493-4434-a344-a27f6debb0b3"
      },
      "execution_count": 9,
      "outputs": [
        {
          "output_type": "stream",
          "name": "stdout",
          "text": [
            "[0.11001729 0.11038289 0.11022157 0.10992531 0.11044562]\n",
            "[0.10980679 0.11015967 0.10996162 0.10974557 0.11031451]\n",
            "[ 22161.21115235 -29320.69510623  29377.07811909 -47181.61323033\n",
            "  10480.40284521]\n"
          ]
        }
      ]
    },
    {
      "cell_type": "markdown",
      "metadata": {
        "id": "8hY4aG-zuvX_"
      },
      "source": [
        "## Forwards de Tipo de Cambio"
      ]
    },
    {
      "cell_type": "code",
      "source": [
        "import numpy as np\n",
        "\n",
        "# Suponemos que plazos_fwd, n, itpl, nodos1_ftdc, nodos2_ftdc, x1_ftdc, x2_ftdc, trlib,\n",
        "# X3_ftdc, kst_fwd, contratos_fwd, y nominal_fwd ya están definidos\n",
        "\n",
        "m = len(plazos_fwd)\n",
        "\n",
        "X1_fwtdc = np.zeros((n, m))\n",
        "X2_fwtdc = np.zeros((n, m))\n",
        "\n",
        "def approx(x, y, new_x, rule=2):\n",
        "    return np.interp(new_x, x, y)\n",
        "\n",
        "\n",
        "for j in range(n):\n",
        "    if itpl == 0:\n",
        "        X1_fwtdc[j, :] = approx(nodos1_ftdc, x1_ftdc.iloc[j, :], plazos_fwd)\n",
        "        X2_fwtdc[j, :] = approx(nodos2_ftdc, x2_ftdc.iloc[j, :], plazos_fwd)\n",
        "    else:\n",
        "        X1_fwtdc[j, :] = talamb(nodos1_ftdc, x1_ftdc.iloc[j, :], plazos_fwd)\n",
        "        X2_fwtdc[j, :] = talamb(nodos2_ftdc, x2_ftdc.iloc[j, :], plazos_fwd)\n",
        "\n",
        "    if trlib == 1:\n",
        "        X1_fwtdc[j, :] = ((1 + X1_fwtdc[j, :]) ** (plazos_fwd / 180) - 1) * 360 / plazos_fwd\n",
        "\n",
        "def futuroTC(t, tl, tn, s, k):\n",
        "    f = s * ((1 + tn * t / 360) / (1 + tl * t / 360))\n",
        "    return (f - k) / (1 + t * tn / 360)\n",
        "\n",
        "X3_ftdc = np.array(X3_ftdc)  # Aseguramos que sea una matriz de NumPy\n",
        "X_futtdc = np.hstack((X1_fwtdc, X2_fwtdc, X3_ftdc))\n",
        "\n",
        "V0_fwtdc = futuroTC(plazos_fwd, X1_fwtdc[0, :], X2_fwtdc[0, :], X3_ftdc[0, :], kst_fwd) * contratos_fwd * nominal_fwd\n",
        "print(V0_fwtdc)"
      ],
      "metadata": {
        "colab": {
          "base_uri": "https://localhost:8080/"
        },
        "id": "Jr8iDjpJChg0",
        "outputId": "2807dad7-9c73-44b0-81ec-586ef94929aa"
      },
      "execution_count": 10,
      "outputs": [
        {
          "output_type": "stream",
          "name": "stdout",
          "text": [
            "[-1110.46395701   533.68768807  -862.82287288  1036.76067149\n",
            " -1121.6482204 ]\n"
          ]
        }
      ]
    },
    {
      "cell_type": "markdown",
      "metadata": {
        "id": "3xrsdVCFu96d"
      },
      "source": [
        "## FORWARD DE INDICES"
      ]
    },
    {
      "cell_type": "code",
      "source": [
        "m_ind = len(plazos_fwd_ind)\n",
        "\n",
        "X1_fwind = np.zeros((n, m_ind))  # Matriz para DIVIDENDOS\n",
        "X2_fwind = np.zeros((n, m_ind))\n",
        "\n",
        "def approx(x, y, new_x, rule=2):\n",
        "    return np.interp(new_x, x, y)\n",
        "\n",
        "\n",
        "for j in range(n):\n",
        "    if itpl == 0:\n",
        "        X2_fwind[j, :] = approx(nodos_gov, x_orig_gov.iloc[j, :], plazos_fwd_ind)\n",
        "    else:\n",
        "        X2_fwind[j, :] = talamb(nodos_gov, x_orig_gov.iloc[j, :], plazos_fwd_ind)\n",
        "X3_find = np.array(X3_find)\n",
        "\n",
        "X_futind = np.hstack((X1_fwind, X2_fwind, X3_find))\n",
        "\n",
        "\n",
        "V0_fwind = futuroTC(plazos_fwd_ind, X1_fwind[0, :], X2_fwind[0, :], X3_find[0, :], kst_fwd_ind) * contratos_fwd_ind * nominal_fwd_ind\n"
      ],
      "metadata": {
        "id": "gzNLp1NXJbR-"
      },
      "execution_count": 11,
      "outputs": []
    },
    {
      "cell_type": "code",
      "source": [
        "V0_fwind"
      ],
      "metadata": {
        "colab": {
          "base_uri": "https://localhost:8080/"
        },
        "id": "uewHwp_RrhaH",
        "outputId": "3feb3060-c7d0-4f67-e5be-c4b07c969c09"
      },
      "execution_count": 12,
      "outputs": [
        {
          "output_type": "execute_result",
          "data": {
            "text/plain": [
              "array([ 13916.8821241 ,  -2944.15147144, 109426.77479725])"
            ]
          },
          "metadata": {},
          "execution_count": 12
        }
      ]
    },
    {
      "cell_type": "markdown",
      "metadata": {
        "id": "EbJH8k5GxWrr"
      },
      "source": [
        "## SWAPS"
      ]
    },
    {
      "cell_type": "code",
      "source": [
        "nodosvp=nodos1_sw\n",
        "nodostc=nodos2_sw\n",
        "curvavp=X1_orig_sw\n",
        "curvatc=X2_orig_sw\n",
        "n1=len(curvavp)\n",
        "n2=len(curvatc)\n",
        "\n",
        "\n",
        "m = len(plazos_sw)\n",
        "N = (plazos_sw // plazocupon_sw) + 1  # número de cupones a pagar\n",
        "\n",
        "# Inicialización de matrices/vectores\n",
        "VTplazos_sw = np.zeros(np.sum(N))\n",
        "VTplazos_swc = np.zeros(np.sum(N))\n",
        "contratos_swT = np.zeros(np.sum(N))\n",
        "por_swT=np.zeros(sum(N)) #vector de todos los dummy si paga o recibe de todos los flujos de todos los contratos_sw\n",
        "plazocupon_swT = np.zeros(np.sum(N))\n",
        "tasafija_swT = np.zeros(np.sum(N))\n",
        "nominal_swT = np.zeros(np.sum(N))\n",
        "Xvp = np.zeros((n, len(VTplazos_sw)))\n",
        "Xtc = np.zeros((n, len(VTplazos_sw)))\n",
        "Xtcc = np.zeros((n, len(VTplazos_sw)))\n",
        "XtfwdT = np.zeros((n, len(VTplazos_sw)))\n",
        "\n",
        "# Cálculos adicionales\n",
        "plazini_sw = plazos_sw - plazocupon_sw * (N - 1)\n",
        "\n",
        "from scipy.interpolate import interp1d\n",
        "\n",
        "for j in range(m):\n",
        "    sum_N = np.sum(N[:j+1])\n",
        "    sum_N_prev = np.sum(N[:j]) if j > 0 else 0\n",
        "\n",
        "    if j == 0:\n",
        "        VTplazos_sw[:sum_N] = np.arange(plazini_sw[j], plazos_sw[j] + 1, plazocupon_sw[j])\n",
        "        VTplazos_swc[:sum_N] = np.concatenate(([0], VTplazos_sw[0:(sum_N - 1)]))\n",
        "        contratos_swT[:sum_N] = contratos_sw[j]\n",
        "        plazocupon_swT[:sum_N] = plazocupon_sw[j]\n",
        "        nominal_swT[:sum_N] = nominal_sw[j]\n",
        "        por_swT[:sum_N] = por_sw[j]\n",
        "        tasafija_swT[:sum_N] = tasafija_sw[j]\n",
        "    else:\n",
        "        VTplazos_sw[sum_N_prev:sum_N] = np.arange(plazini_sw[j], plazos_sw[j] + 1, plazocupon_sw[j])\n",
        "        VTplazos_swc[sum_N_prev:sum_N] = np.concatenate(([0], VTplazos_sw[sum_N_prev:(sum_N - 1)]))\n",
        "        contratos_swT[sum_N_prev:sum_N] = contratos_sw[j]\n",
        "        plazocupon_swT[sum_N_prev:sum_N] = plazocupon_sw[j]\n",
        "        nominal_swT[sum_N_prev:sum_N] = nominal_sw[j]\n",
        "        por_swT[sum_N_prev:sum_N] = por_sw[j]\n",
        "        tasafija_swT[sum_N_prev:sum_N] = tasafija_sw[j]\n",
        "\n",
        "\n",
        "for i in range(n):\n",
        "    if itpl == 0:\n",
        "        Xvp[i, :] = approx(nodosvp, curvavp.iloc[i, :], VTplazos_sw)\n",
        "        Xtc[i, :] = approx(nodostc, curvatc.iloc[i, :], VTplazos_sw)\n",
        "        Xtcc[i, :] = approx(nodostc, curvatc.iloc[i, :], VTplazos_swc)\n",
        "    else:\n",
        "        Xvp[i, :] = talamb(nodosvp, curvavp.iloc[i, :], VTplazos_sw)\n",
        "        Xtc[i, :] = talamb(nodostc, curvatc.iloc[i, :], VTplazos_sw)\n",
        "        Xtcc[i, :] = talamb(nodostc, curvatc.iloc[i, :], VTplazos_swc)\n",
        "\n",
        "    XtfwdT[i, :] = ((1 + Xtc[i, :] * VTplazos_sw / 360) / (1 + Xtcc[i, :] * VTplazos_swc / 360) - 1) * 360 / plazocupon_swT\n",
        "\n",
        "    j = 0\n",
        "    while j < len(VTplazos_sw):\n",
        "        if VTplazos_sw[j] <= plazocupon_swT[j]:\n",
        "            XtfwdT[i, j] = Xtc[i, j]\n",
        "        else:\n",
        "            j = np.sum(N[0:(j+1)]) - 1\n",
        "        j += 1\n",
        "\n",
        "X_sw = np.hstack((XtfwdT, Xvp))\n",
        "\n",
        "def swap(por_swT, contratos_swT, nominal_swT, XtfwdT, tasafija_swT, plazocupon_swT, VTplazos_sw, Xvp, N):\n",
        "    V0 = np.zeros(len(N))\n",
        "    V0f = (contratos_swT * (XtfwdT - tasafija_swT) * (plazocupon_swT / 360)) / ((1 + Xvp * VTplazos_sw / 360) * nominal_swT * ((-1) ** por_swT))\n",
        "\n",
        "    for j in range(len(N)):\n",
        "        if j == 0:\n",
        "            V0[j] = np.sum(V0f[0:N[j]])\n",
        "        else:\n",
        "            V0[j] = np.sum(V0f[np.sum(N[0:j]):np.sum(N[0:(j+1)])])\n",
        "\n",
        "    return V0\n",
        "\n",
        "V0_sw = swap(por_swT, contratos_swT, nominal_swT, XtfwdT[0, :], tasafija_swT, plazocupon_swT, VTplazos_sw, Xvp[0, :], N)\n",
        "print(V0_sw)\n"
      ],
      "metadata": {
        "id": "-Jh0Y7CTLK3N",
        "outputId": "f162db96-9f6f-4c13-cede-4b027ee36ee2",
        "colab": {
          "base_uri": "https://localhost:8080/"
        }
      },
      "execution_count": 13,
      "outputs": [
        {
          "output_type": "stream",
          "name": "stdout",
          "text": [
            "[3.40230964 4.10791942]\n"
          ]
        }
      ]
    },
    {
      "cell_type": "markdown",
      "metadata": {
        "id": "w3o67gb6xj28"
      },
      "source": [
        "##Opciones de Tasa de Interés"
      ]
    },
    {
      "cell_type": "code",
      "source": [
        "#from numpy.core.multiarray import array\n",
        "#x1[i, :] = np.interp(plazos_oir, nodos1_oir.index, x1_orig_oir.iloc[i, :-1].astype(\"float64\")/100)\n",
        "# print( x1_orig_oir.iloc[i, :-1].astype(\"float64\"))\n",
        "print(nodos1_oir.index)\n",
        "\n",
        "import numpy as np\n",
        "import scipy.stats as stats\n",
        "\n",
        "# Opciones de tasa de interés, cálculo con inicio el día de la valuación\n",
        "\n",
        "# Posición inicial\n",
        "\n",
        "# Interpolación de tasas y volatilidades\n",
        "m = len(plazos_oir)\n",
        "x1 = np.zeros((n, m))\n",
        "x2tc = np.zeros((n, m))\n",
        "x2tl = np.zeros((n, m))\n",
        "x2 = np.zeros((n, m))\n",
        "x3 = np.zeros((n, m))\n",
        "for i in range(n-1):\n",
        "    x1[i, :] = np.interp(plazos_oir, nodos1_oir, x1_orig_oir.iloc[i, :])\n",
        "    x2tc[i, :] = np.interp(plazos_oir, nodos2_oir, x2_orig_oir.iloc[i, :])\n",
        "    x2tl[i, :] = np.interp(plazos_oir + pr_oir, nodos2_oir, x2_orig_oir.iloc[i, :])\n",
        "    x3[i, :] = np.interp(plazos_oir, nodos3_oir, x3_orig_oir.iloc[i, :])\n",
        "    x2[i, :] = (((1 + x2tl[i, :] * ((plazos_oir + pr_oir) / 360)) / (1 + x2tc[i, :] * (plazos_oir / 360))) - 1) * 360 / pr_oir\n",
        "\n",
        "x01 = x1[0, :]  # Tasas de descuento\n",
        "x02 = x2[0, :]  # Tasas spot\n",
        "x03 = x3[0, :]  # Volatilidades\n",
        "\n",
        "\n",
        "X_oir = np.column_stack((x1, x2, x3))\n",
        "def opctint(d, S, K_oir, vol, t, cp_oir, cs_oir, pr_oir, dct_oir):\n",
        "    d1 = ((np.log(S / K_oir) + (vol ** 2) * t / (365 * 2)) * (1 / (vol * np.sqrt(t / 365)))) if cs_oir == 1 else ((np.log(S / K_oir) + (vol ** 2) * t / (360 * 2)) * (1 / (vol * np.sqrt(t / 360))))\n",
        "    d2 = ((np.log(S / K_oir) - (vol ** 2) * t / (365 * 2)) * (1 / (vol * np.sqrt(t / 365)))) if cs_oir == 1 else ((np.log(S / K_oir) - (vol ** 2) * t / (360 * 2)) * (1 / (vol * np.sqrt(t / 360))))\n",
        "    vp = (np.log(1 + d * t / 360) * 365 / t) if cs_oir == 1 else d\n",
        "    f=((S * stats.norm.cdf(d1 * (-1) ** cp_oir) - K_oir * stats.norm.cdf(d2 * (-1) ** cp_oir)) * (np.exp(-vp * t / 365)) * (-1) ** cp_oir)* (pr_oir / dct_oir) / (1 + S * pr_oir / dct_oir) if cs_oir == 1 else ((S * stats.norm.cdf(d1 * (-1) ** cp_oir) - K_oir * stats.norm.cdf(d2 * (-1) ** cp_oir)) * (1 / (1 + vp * t / 360)) * (-1) ** cp_oir) * (pr_oir / dct_oir) / (1 + S * pr_oir / dct_oir)\n",
        "    return f\n",
        "\n",
        "V0_oir = opctint(x01, x02, K_oir, x03, plazos_oir, cp_oir, cs_oir, pr_oir, dct_oir) * contratos_oir * nominal_oir  # Valor del portafolio\n",
        "V0_oir\n"
      ],
      "metadata": {
        "colab": {
          "base_uri": "https://localhost:8080/"
        },
        "id": "teSmzD3F0McV",
        "outputId": "fc5ced5d-31e9-49db-fec9-6fbd20c8616d"
      },
      "execution_count": 14,
      "outputs": [
        {
          "output_type": "stream",
          "name": "stdout",
          "text": [
            "Index([1, 2, 3, 4, 5, 6, 7, 8, 9, 10, 11, 12, 13, 14, 15, 16], dtype='int64')\n"
          ]
        },
        {
          "output_type": "execute_result",
          "data": {
            "text/plain": [
              "array([ 1.52929996, -1.01894708,  1.05851526, -0.10334304,  2.31481121])"
            ]
          },
          "metadata": {},
          "execution_count": 14
        }
      ]
    },
    {
      "cell_type": "markdown",
      "metadata": {
        "id": "fomjk490c_Tm"
      },
      "source": [
        "# Integración de factores y cálculo de riesgo en conjunto, y aplicación de simulación"
      ]
    },
    {
      "cell_type": "code",
      "source": [
        "import numpy as np\n",
        "\n",
        "# Suponemos que todas las matrices como stock_prices_EQFX, X_bd_ext, etc., ya están definidas\n",
        "\n",
        "# Número de columnas para cada conjunto de datos\n",
        "n_if = np.zeros((6, 1))\n",
        "n_if[0] = stock_prices_EQFX.shape[1]  # acciones y divisas\n",
        "n_if[1] = X_bd_ext.shape[1]  # bonde\n",
        "n_if[2] = X_sw.shape[1]  # swaps\n",
        "n_if[3] = X_oir.shape[1]  # opciones tasa de interés\n",
        "n_if[4] = X_futtdc.shape[1]  # Forwards de tipo de cambio\n",
        "n_if[5] = X_futind.shape[1]  # Forwards de índices\n",
        "\n",
        "n_if = n_if.astype(int)\n",
        "\n",
        "# Valor del portafolios\n",
        "V0_port = np.hstack((V0_acc_div, V0_bd, V0_sw, V0_oir, V0_fwtdc, V0_fwind))\n",
        "V0T_port = np.sum(V0_port)\n",
        "\n",
        "# Integración de todos los factores de riesgo en una matriz\n",
        "X_port = np.hstack((stock_prices_EQFX, X_bd_ext, X_sw, X_oir, X_futtdc, X_futind))\n",
        "\n",
        "# Cálculo de variaciones Delta_X del portafolios\n",
        "DeltaX_port = np.log(X_port[0:(n - 1), :] / X_port[1:n, :])\n",
        "DeltaX_port[np.isnan(DeltaX_port)] = 0  # quitamos NaN\n",
        "DeltaX_port[np.isinf(DeltaX_port)] = 0  # quitamos Infinitos\n",
        "\n",
        "# Número de escenarios históricos\n",
        "Ns = DeltaX_port.shape[0]\n",
        "\n",
        "# A continuación, las impresiones en R se traducen a Python\n",
        "print(DeltaX_port.shape[1])  # ncol(DeltaX_s)\n",
        "print(DeltaX_port.shape[0])  # nrow(DeltaX_s)\n",
        "print(n_if)\n",
        "print(DeltaX_port.shape)"
      ],
      "metadata": {
        "id": "LpeR-Ul29eBI",
        "colab": {
          "base_uri": "https://localhost:8080/"
        },
        "outputId": "b1b6c764-2cb2-4176-87fd-0612a743a4c5"
      },
      "execution_count": 15,
      "outputs": [
        {
          "output_type": "stream",
          "name": "stdout",
          "text": [
            "577\n",
            "254\n",
            "[[  6]\n",
            " [468]\n",
            " [ 70]\n",
            " [ 15]\n",
            " [ 11]\n",
            " [  7]]\n",
            "(254, 577)\n"
          ]
        },
        {
          "output_type": "stream",
          "name": "stderr",
          "text": [
            "/tmp/ipython-input-3496566507.py:24: RuntimeWarning: divide by zero encountered in divide\n",
            "  DeltaX_port = np.log(X_port[0:(n - 1), :] / X_port[1:n, :])\n",
            "/tmp/ipython-input-3496566507.py:24: RuntimeWarning: invalid value encountered in divide\n",
            "  DeltaX_port = np.log(X_port[0:(n - 1), :] / X_port[1:n, :])\n"
          ]
        }
      ]
    },
    {
      "cell_type": "markdown",
      "metadata": {
        "id": "VXuyQcc622Cx"
      },
      "source": [
        "# Medición de Riesgo"
      ]
    },
    {
      "cell_type": "markdown",
      "metadata": {
        "id": "j2L9uCZl28DD"
      },
      "source": [
        "## Acciones y divisas"
      ]
    },
    {
      "cell_type": "code",
      "source": [
        "import numpy as np\n",
        "import pandas as pd\n",
        "\n",
        "# Inicialización de variables\n",
        "m = m_fx + m_acc\n",
        "# Ns = DeltaX_port.shape[0]\n",
        "n_if_1 = n_if[0]\n",
        "\n",
        "# Inicializar matrices con ceros\n",
        "X_s_acc_div = np.zeros((Ns, n_if_1[0])) # Para simular los precios X*\n",
        "V_acc_div = np.zeros((Ns, m)) # Valor de Y con X*\n",
        "Vfr1_acc_div = np.zeros((Ns, 1)) # Valor de Y* solo de tipo de cambio o divisas\n",
        "Vfr2_acc_div = np.zeros((Ns, 1)) # Valor de Y solo de tipo de acciones\n",
        "PG_acc_div = np.zeros((Ns, m)) # Matriz de \\Delta Y = Y - Y0 Pérdidas y Ganancias\n",
        "PGfr1_acc_div = np.zeros((Ns, 1))  # Matriz de \\Delta Y = Y - Y0 Pérdidas y Ganancias de divisas\n",
        "PGfr2_acc_div = np.zeros((Ns, 1)) # Matriz de \\Delta Y = Y - Y0 Pérdidas y Ganancias de acciones\n",
        "PGT_acc_div = np.zeros(Ns) # Matriz de \\Delta Y = Y - Y0 Pérdidas y Ganancias totales\n",
        "\n",
        "DeltaX_s_acc_div = DeltaX_port[:, :n_if_1[0]] # Matriz de \\Delta X de factores de riesgoo acciones y divisas\n",
        "\n",
        "x0_acc_div = stock_prices_EQFX.loc[0]\n",
        "\n",
        "# Loop principal\n",
        "for i in range(Ns):\n",
        "    X_s_acc_div[i, :] = x0_acc_div * np.exp(DeltaX_s_acc_div[i]) # X*\n",
        "    V_acc_div[i, :] = np.hstack((pos_eq, pos_fx)) * X_s_acc_div[i, :] # Y\n",
        "    Vfr1_acc_div[i, :] = sum(V_acc_div[i, :m_acc]) # Y divisas\n",
        "    Vfr2_acc_div[i, :] = sum(V_acc_div[i, m_acc:]) # Y acciones\n",
        "    PG_acc_div[i, :] = V_acc_div[i, :] - V0_acc_div # \\Delta Y\n",
        "    PGfr1_acc_div[i, :] = Vfr1_acc_div[i] - sum(V0_acc_div[:m_acc])  # \\Delta Y DE DIVISAS\n",
        "    PGfr2_acc_div[i, :] = Vfr2_acc_div[i] - sum(V0_acc_div[m_acc:]) # \\Delta Y de acciones\n",
        "    PGT_acc_div[i] = np.sum(PG_acc_div[i, :]) # \\Delta Y Totales\n",
        "\n",
        "# Calculo de VaR y CVaR\n",
        "VaRCont_acc_div = np.quantile(PG_acc_div, 1-alpha, axis=0)\n",
        "#CVaRCont_acc_div = np.mean(PG_acc_div[PG_acc_div < VaRCont_acc_div], axis=0)\n",
        "\n",
        "CVaR_temp = []\n",
        "for i in range(len(PG_acc_div[0])):\n",
        "  valor = []\n",
        "  for j in range(0,len(PG_acc_div[PG_acc_div[:,i] < VaRCont_acc_div[i]])):\n",
        "    valor += [PG_acc_div[PG_acc_div[:,i] < VaRCont_acc_div[i]][j][i]]\n",
        "  CVaR_temp += [np.mean(valor)]\n",
        "CVaRCont_acc_div = np.array(CVaR_temp)\n",
        "\n",
        "VaRPort_acc_div = np.quantile(PGT_acc_div, 1-alpha, axis=0)\n",
        "CVaRPort_acc_div = np.mean(PGT_acc_div[PGT_acc_div < VaRPort_acc_div], axis=0)\n",
        "\n",
        "VaRCont_fr1 = np.quantile(sum(PGfr1_acc_div), 1-alpha, axis=0)\n",
        "VaRCont_fr2 = np.quantile(sum(PGfr2_acc_div), 1-alpha, axis=0)\n",
        "\n",
        "# Hagamos lo mismo con la función equantile\n",
        "VaR_Cont_acc_div_e = [equantile(PG_acc_div[:,i], 1-alpha) for i in range(PG_acc_div.shape[1])]\n",
        "CVaRCont_acc_div_e = [np.mean(PG_acc_div[PG_acc_div[:,i]<VaR_Cont_acc_div_e[i]]) for i in range(PG_acc_div.shape[1])]\n",
        "\n",
        "# Generaré las mismas medidas pero para con alisado\n",
        "# ayúdame a generarlas\n",
        "VaR_Cont_acc_div_ca = [wquantile(PG_acc_div[:,i],w0,1-alpha) for i in range(PG_acc_div.shape[1])]\n",
        "CVaRCont_acc_div_ca =  [wcvar(PG_acc_div[:,i],w0,1-alpha) for i in range(PG_acc_div.shape[1])]"
      ],
      "metadata": {
        "id": "E3Q3aOpk1R7g"
      },
      "execution_count": 24,
      "outputs": []
    },
    {
      "cell_type": "code",
      "source": [
        "CVaRCont_acc_div_e"
      ],
      "metadata": {
        "id": "Eg-es_qVWL60",
        "outputId": "8528e80c-9295-420e-d28e-18886f0974f8",
        "colab": {
          "base_uri": "https://localhost:8080/"
        }
      },
      "execution_count": 17,
      "outputs": [
        {
          "output_type": "execute_result",
          "data": {
            "text/plain": [
              "[np.float64(-1165.5144689675135),\n",
              " np.float64(-2893.7285151496703),\n",
              " np.float64(-59.08906041196042),\n",
              " np.float64(-14748.190787091267),\n",
              " np.float64(-1557.7549597163295),\n",
              " np.float64(-2290.6643612981466)]"
            ]
          },
          "metadata": {},
          "execution_count": 17
        }
      ]
    },
    {
      "cell_type": "code",
      "source": [
        " wquantile(PG_acc_div[:,0],w0,1-alpha)"
      ],
      "metadata": {
        "colab": {
          "base_uri": "https://localhost:8080/"
        },
        "id": "RvsvBx2AV2bO",
        "outputId": "7378e152-2baa-4bf8-b413-f3f34dbed73a"
      },
      "execution_count": 20,
      "outputs": [
        {
          "output_type": "execute_result",
          "data": {
            "text/plain": [
              "np.float64(-1304.9928702106342)"
            ]
          },
          "metadata": {},
          "execution_count": 20
        }
      ]
    },
    {
      "cell_type": "code",
      "source": [
        "print(pd.DataFrame(V_acc_div).head(2))\n",
        "\n",
        "pd.DataFrame(Vfr1_acc_div).head(2)"
      ],
      "metadata": {
        "id": "TeJwkYZzVO4B",
        "outputId": "488ba2c7-4d89-48f8-f992-a4c2d5e77c73",
        "colab": {
          "base_uri": "https://localhost:8080/",
          "height": 233
        }
      },
      "execution_count": null,
      "outputs": [
        {
          "output_type": "stream",
          "name": "stdout",
          "text": [
            "              0              1             2              3             4  \\\n",
            "0 -74951.194867  123953.547051  78541.973065  699226.254935  12929.225159   \n",
            "1 -76567.505681  125896.428727  79055.578586  731846.913457  12993.327686   \n",
            "\n",
            "              5  \n",
            "0  26088.253162  \n",
            "1  26521.248600  \n"
          ]
        },
        {
          "output_type": "execute_result",
          "data": {
            "text/plain": [
              "               0\n",
              "0  127544.325250\n",
              "1  128384.501632"
            ],
            "text/html": [
              "\n",
              "  <div id=\"df-49175a87-40c9-4760-9d37-d3f908f2ba55\" class=\"colab-df-container\">\n",
              "    <div>\n",
              "<style scoped>\n",
              "    .dataframe tbody tr th:only-of-type {\n",
              "        vertical-align: middle;\n",
              "    }\n",
              "\n",
              "    .dataframe tbody tr th {\n",
              "        vertical-align: top;\n",
              "    }\n",
              "\n",
              "    .dataframe thead th {\n",
              "        text-align: right;\n",
              "    }\n",
              "</style>\n",
              "<table border=\"1\" class=\"dataframe\">\n",
              "  <thead>\n",
              "    <tr style=\"text-align: right;\">\n",
              "      <th></th>\n",
              "      <th>0</th>\n",
              "    </tr>\n",
              "  </thead>\n",
              "  <tbody>\n",
              "    <tr>\n",
              "      <th>0</th>\n",
              "      <td>127544.325250</td>\n",
              "    </tr>\n",
              "    <tr>\n",
              "      <th>1</th>\n",
              "      <td>128384.501632</td>\n",
              "    </tr>\n",
              "  </tbody>\n",
              "</table>\n",
              "</div>\n",
              "    <div class=\"colab-df-buttons\">\n",
              "\n",
              "  <div class=\"colab-df-container\">\n",
              "    <button class=\"colab-df-convert\" onclick=\"convertToInteractive('df-49175a87-40c9-4760-9d37-d3f908f2ba55')\"\n",
              "            title=\"Convert this dataframe to an interactive table.\"\n",
              "            style=\"display:none;\">\n",
              "\n",
              "  <svg xmlns=\"http://www.w3.org/2000/svg\" height=\"24px\" viewBox=\"0 -960 960 960\">\n",
              "    <path d=\"M120-120v-720h720v720H120Zm60-500h600v-160H180v160Zm220 220h160v-160H400v160Zm0 220h160v-160H400v160ZM180-400h160v-160H180v160Zm440 0h160v-160H620v160ZM180-180h160v-160H180v160Zm440 0h160v-160H620v160Z\"/>\n",
              "  </svg>\n",
              "    </button>\n",
              "\n",
              "  <style>\n",
              "    .colab-df-container {\n",
              "      display:flex;\n",
              "      gap: 12px;\n",
              "    }\n",
              "\n",
              "    .colab-df-convert {\n",
              "      background-color: #E8F0FE;\n",
              "      border: none;\n",
              "      border-radius: 50%;\n",
              "      cursor: pointer;\n",
              "      display: none;\n",
              "      fill: #1967D2;\n",
              "      height: 32px;\n",
              "      padding: 0 0 0 0;\n",
              "      width: 32px;\n",
              "    }\n",
              "\n",
              "    .colab-df-convert:hover {\n",
              "      background-color: #E2EBFA;\n",
              "      box-shadow: 0px 1px 2px rgba(60, 64, 67, 0.3), 0px 1px 3px 1px rgba(60, 64, 67, 0.15);\n",
              "      fill: #174EA6;\n",
              "    }\n",
              "\n",
              "    .colab-df-buttons div {\n",
              "      margin-bottom: 4px;\n",
              "    }\n",
              "\n",
              "    [theme=dark] .colab-df-convert {\n",
              "      background-color: #3B4455;\n",
              "      fill: #D2E3FC;\n",
              "    }\n",
              "\n",
              "    [theme=dark] .colab-df-convert:hover {\n",
              "      background-color: #434B5C;\n",
              "      box-shadow: 0px 1px 3px 1px rgba(0, 0, 0, 0.15);\n",
              "      filter: drop-shadow(0px 1px 2px rgba(0, 0, 0, 0.3));\n",
              "      fill: #FFFFFF;\n",
              "    }\n",
              "  </style>\n",
              "\n",
              "    <script>\n",
              "      const buttonEl =\n",
              "        document.querySelector('#df-49175a87-40c9-4760-9d37-d3f908f2ba55 button.colab-df-convert');\n",
              "      buttonEl.style.display =\n",
              "        google.colab.kernel.accessAllowed ? 'block' : 'none';\n",
              "\n",
              "      async function convertToInteractive(key) {\n",
              "        const element = document.querySelector('#df-49175a87-40c9-4760-9d37-d3f908f2ba55');\n",
              "        const dataTable =\n",
              "          await google.colab.kernel.invokeFunction('convertToInteractive',\n",
              "                                                    [key], {});\n",
              "        if (!dataTable) return;\n",
              "\n",
              "        const docLinkHtml = 'Like what you see? Visit the ' +\n",
              "          '<a target=\"_blank\" href=https://colab.research.google.com/notebooks/data_table.ipynb>data table notebook</a>'\n",
              "          + ' to learn more about interactive tables.';\n",
              "        element.innerHTML = '';\n",
              "        dataTable['output_type'] = 'display_data';\n",
              "        await google.colab.output.renderOutput(dataTable, element);\n",
              "        const docLink = document.createElement('div');\n",
              "        docLink.innerHTML = docLinkHtml;\n",
              "        element.appendChild(docLink);\n",
              "      }\n",
              "    </script>\n",
              "  </div>\n",
              "\n",
              "\n",
              "<div id=\"df-8d3c09bf-a6a9-40c9-a6cf-6022e1c32ea0\">\n",
              "  <button class=\"colab-df-quickchart\" onclick=\"quickchart('df-8d3c09bf-a6a9-40c9-a6cf-6022e1c32ea0')\"\n",
              "            title=\"Suggest charts\"\n",
              "            style=\"display:none;\">\n",
              "\n",
              "<svg xmlns=\"http://www.w3.org/2000/svg\" height=\"24px\"viewBox=\"0 0 24 24\"\n",
              "     width=\"24px\">\n",
              "    <g>\n",
              "        <path d=\"M19 3H5c-1.1 0-2 .9-2 2v14c0 1.1.9 2 2 2h14c1.1 0 2-.9 2-2V5c0-1.1-.9-2-2-2zM9 17H7v-7h2v7zm4 0h-2V7h2v10zm4 0h-2v-4h2v4z\"/>\n",
              "    </g>\n",
              "</svg>\n",
              "  </button>\n",
              "\n",
              "<style>\n",
              "  .colab-df-quickchart {\n",
              "      --bg-color: #E8F0FE;\n",
              "      --fill-color: #1967D2;\n",
              "      --hover-bg-color: #E2EBFA;\n",
              "      --hover-fill-color: #174EA6;\n",
              "      --disabled-fill-color: #AAA;\n",
              "      --disabled-bg-color: #DDD;\n",
              "  }\n",
              "\n",
              "  [theme=dark] .colab-df-quickchart {\n",
              "      --bg-color: #3B4455;\n",
              "      --fill-color: #D2E3FC;\n",
              "      --hover-bg-color: #434B5C;\n",
              "      --hover-fill-color: #FFFFFF;\n",
              "      --disabled-bg-color: #3B4455;\n",
              "      --disabled-fill-color: #666;\n",
              "  }\n",
              "\n",
              "  .colab-df-quickchart {\n",
              "    background-color: var(--bg-color);\n",
              "    border: none;\n",
              "    border-radius: 50%;\n",
              "    cursor: pointer;\n",
              "    display: none;\n",
              "    fill: var(--fill-color);\n",
              "    height: 32px;\n",
              "    padding: 0;\n",
              "    width: 32px;\n",
              "  }\n",
              "\n",
              "  .colab-df-quickchart:hover {\n",
              "    background-color: var(--hover-bg-color);\n",
              "    box-shadow: 0 1px 2px rgba(60, 64, 67, 0.3), 0 1px 3px 1px rgba(60, 64, 67, 0.15);\n",
              "    fill: var(--button-hover-fill-color);\n",
              "  }\n",
              "\n",
              "  .colab-df-quickchart-complete:disabled,\n",
              "  .colab-df-quickchart-complete:disabled:hover {\n",
              "    background-color: var(--disabled-bg-color);\n",
              "    fill: var(--disabled-fill-color);\n",
              "    box-shadow: none;\n",
              "  }\n",
              "\n",
              "  .colab-df-spinner {\n",
              "    border: 2px solid var(--fill-color);\n",
              "    border-color: transparent;\n",
              "    border-bottom-color: var(--fill-color);\n",
              "    animation:\n",
              "      spin 1s steps(1) infinite;\n",
              "  }\n",
              "\n",
              "  @keyframes spin {\n",
              "    0% {\n",
              "      border-color: transparent;\n",
              "      border-bottom-color: var(--fill-color);\n",
              "      border-left-color: var(--fill-color);\n",
              "    }\n",
              "    20% {\n",
              "      border-color: transparent;\n",
              "      border-left-color: var(--fill-color);\n",
              "      border-top-color: var(--fill-color);\n",
              "    }\n",
              "    30% {\n",
              "      border-color: transparent;\n",
              "      border-left-color: var(--fill-color);\n",
              "      border-top-color: var(--fill-color);\n",
              "      border-right-color: var(--fill-color);\n",
              "    }\n",
              "    40% {\n",
              "      border-color: transparent;\n",
              "      border-right-color: var(--fill-color);\n",
              "      border-top-color: var(--fill-color);\n",
              "    }\n",
              "    60% {\n",
              "      border-color: transparent;\n",
              "      border-right-color: var(--fill-color);\n",
              "    }\n",
              "    80% {\n",
              "      border-color: transparent;\n",
              "      border-right-color: var(--fill-color);\n",
              "      border-bottom-color: var(--fill-color);\n",
              "    }\n",
              "    90% {\n",
              "      border-color: transparent;\n",
              "      border-bottom-color: var(--fill-color);\n",
              "    }\n",
              "  }\n",
              "</style>\n",
              "\n",
              "  <script>\n",
              "    async function quickchart(key) {\n",
              "      const quickchartButtonEl =\n",
              "        document.querySelector('#' + key + ' button');\n",
              "      quickchartButtonEl.disabled = true;  // To prevent multiple clicks.\n",
              "      quickchartButtonEl.classList.add('colab-df-spinner');\n",
              "      try {\n",
              "        const charts = await google.colab.kernel.invokeFunction(\n",
              "            'suggestCharts', [key], {});\n",
              "      } catch (error) {\n",
              "        console.error('Error during call to suggestCharts:', error);\n",
              "      }\n",
              "      quickchartButtonEl.classList.remove('colab-df-spinner');\n",
              "      quickchartButtonEl.classList.add('colab-df-quickchart-complete');\n",
              "    }\n",
              "    (() => {\n",
              "      let quickchartButtonEl =\n",
              "        document.querySelector('#df-8d3c09bf-a6a9-40c9-a6cf-6022e1c32ea0 button');\n",
              "      quickchartButtonEl.style.display =\n",
              "        google.colab.kernel.accessAllowed ? 'block' : 'none';\n",
              "    })();\n",
              "  </script>\n",
              "</div>\n",
              "\n",
              "    </div>\n",
              "  </div>\n"
            ],
            "application/vnd.google.colaboratory.intrinsic+json": {
              "type": "dataframe",
              "summary": "{\n  \"name\": \"pd\",\n  \"rows\": 2,\n  \"fields\": [\n    {\n      \"column\": 0,\n      \"properties\": {\n        \"dtype\": \"number\",\n        \"std\": 594.0944170476791,\n        \"min\": 127544.3252498422,\n        \"max\": 128384.50163176116,\n        \"num_unique_values\": 2,\n        \"samples\": [\n          128384.50163176116,\n          127544.3252498422\n        ],\n        \"semantic_type\": \"\",\n        \"description\": \"\"\n      }\n    }\n  ]\n}"
            }
          },
          "metadata": {},
          "execution_count": 45
        }
      ]
    },
    {
      "cell_type": "code",
      "source": [
        "# pd.DataFrame(X_s_acc_div[0:10,:])\n",
        "print(\"VaR por posición\")\n",
        "print(VaRCont_acc_div)\n",
        "print(\"CVaR por posición\")\n",
        "print(CVaRCont_acc_div)\n",
        "print(\"VaR Total de acciones y divisas\")\n",
        "print(VaRPort_acc_div)\n",
        "print(\"CVaR Total de acciones y divisas\")\n",
        "print(CVaRPort_acc_div)\n",
        "\n",
        "print(\"VaR Total de acciones\")\n",
        "print(VaRCont_fr1)\n",
        "print(\"VaR Total de divisas\")\n",
        "print(VaRCont_fr2)\n",
        "# # print(np.hstack((pos_fx, pos_eq)))\n",
        "\n",
        "# # pd.DataFrame(PG_acc_div)\n",
        "\n",
        "# print(V0_acc_div)"
      ],
      "metadata": {
        "colab": {
          "base_uri": "https://localhost:8080/"
        },
        "id": "kjxFF_3At_-o",
        "outputId": "b20ce949-2381-4755-c5b9-24c2c84dd58f"
      },
      "execution_count": null,
      "outputs": [
        {
          "output_type": "stream",
          "name": "stdout",
          "text": [
            "VaR por posición\n",
            "[ -1967.45866244  -4624.28340645  -2286.32461372 -38158.6987366\n",
            "   -178.4163708    -360.30537065]\n",
            "CVaR por posición\n",
            "[ -3098.81845212  -6012.64106745  -2570.35982465 -59881.75896391\n",
            "   -198.74043417   -392.87873726]\n",
            "VaR Total de acciones y divisas\n",
            "-42985.95866077218\n",
            "CVaR Total de acciones y divisas\n",
            "-61982.079828087684\n",
            "VaR Total de acciones\n",
            "76349.46802694732\n",
            "VaR Total de divisas\n",
            "203501.2794957012\n"
          ]
        }
      ]
    },
    {
      "cell_type": "code",
      "source": [
        "np.quantile(PGT_acc_div, 1-alpha, axis=0)"
      ],
      "metadata": {
        "colab": {
          "base_uri": "https://localhost:8080/"
        },
        "id": "C4tNJ8S-uc8j",
        "outputId": "679afbfa-a67f-4074-83cb-8ea9ee7d9d55"
      },
      "execution_count": null,
      "outputs": [
        {
          "output_type": "execute_result",
          "data": {
            "text/plain": [
              "-2521255952.785253"
            ]
          },
          "metadata": {},
          "execution_count": 43
        }
      ]
    },
    {
      "cell_type": "code",
      "source": [
        "np.mean(PGT_acc_div[PGT_acc_div < VaRPort_acc_div], axis=0)"
      ],
      "metadata": {
        "colab": {
          "base_uri": "https://localhost:8080/"
        },
        "id": "Cb_-c1cLuBn-",
        "outputId": "e0330ffb-3357-4992-e5fd-f5a9b57ed537"
      },
      "execution_count": null,
      "outputs": [
        {
          "output_type": "execute_result",
          "data": {
            "text/plain": [
              "-2738287291.1819067"
            ]
          },
          "metadata": {},
          "execution_count": 44
        }
      ]
    },
    {
      "cell_type": "code",
      "source": [
        "-4.11997670e+04"
      ],
      "metadata": {
        "colab": {
          "base_uri": "https://localhost:8080/"
        },
        "id": "rxIhqAOLuClD",
        "outputId": "5e837779-123e-43a8-f203-0c79f76c0afd"
      },
      "execution_count": null,
      "outputs": [
        {
          "output_type": "execute_result",
          "data": {
            "text/plain": [
              "-41199.767"
            ]
          },
          "metadata": {},
          "execution_count": 46
        }
      ]
    },
    {
      "cell_type": "code",
      "source": [
        "-4.21678484e+04"
      ],
      "metadata": {
        "colab": {
          "base_uri": "https://localhost:8080/"
        },
        "id": "TBwoVdOjuFRM",
        "outputId": "e52fae54-8a19-46f6-e82a-b89139c7ed4d"
      },
      "execution_count": null,
      "outputs": [
        {
          "output_type": "execute_result",
          "data": {
            "text/plain": [
              "-42167.8484"
            ]
          },
          "metadata": {},
          "execution_count": 33
        }
      ]
    },
    {
      "cell_type": "markdown",
      "source": [
        "## Bonde"
      ],
      "metadata": {
        "id": "gvY5hnDHWAxQ"
      }
    },
    {
      "cell_type": "code",
      "source": [
        "# Translating the given R code to Python\n",
        "import numpy as np\n",
        "\n",
        "# Assuming Ns, n_if, x0_bd, contratos_bdmT, nominal_bdm, plazocupon_bdmT, VTplazos_bdm, N_bd, and ddv are defined\n",
        "\n",
        "m = len(N_bd)  # Key step\n",
        "X_s_bd = np.zeros((Ns, int(n_if[1])))  # Simulated risk factors based on DeltaX_s x0*(1+Delta_Xs)  # Key step\n",
        "V_bd = np.zeros((Ns, m))\n",
        "Vfr1_bd = np.zeros((Ns, m))\n",
        "Vfr2_bd = np.zeros((Ns, m))\n",
        "Vfr3_bd = np.zeros((Ns, m))\n",
        "PG_bd = np.zeros((Ns, m))  # Losses and gains\n",
        "PGfr1_bd = np.zeros((Ns, m))\n",
        "PGfr2_bd = np.zeros((Ns, m))\n",
        "PGfr3_bd = np.zeros((Ns, m))\n",
        "PGT_bd = np.zeros((Ns, 1))\n",
        "PGfr1T_bd = np.zeros((Ns, 1))\n",
        "PGfr2T_bd = np.zeros((Ns, 1))\n",
        "PGfr3T_bd = np.zeros((Ns, 1))\n",
        "\n",
        "# Assuming DeltaX_s is defined\n",
        "DeltaX_s_bd = DeltaX_port[:, int(sum(n_if[:1])) : int(sum(n_if[:2]))]  # Key step\n",
        "\n",
        "# Assuming x0_bd is defined\n",
        "x0_bd = X_bd_ext[0, :]  # Key step\n",
        "\n",
        "for i in range(Ns):\n",
        "    X_s_bd[i, :] = x0_bd * np.exp(DeltaX_s_bd[i, :])\n",
        "    # Key step\n",
        "    # Assuming bondeD is a defined function\n",
        "    V_bd[i, :] = bondeD(\n",
        "        contratos_bdmT,\n",
        "        nominal_bdm,\n",
        "        X_s_bd[i, 0],\n",
        "        plazocupon_bdmT,\n",
        "        VTplazos_bdm,\n",
        "        X_s_bd[i, int(n_if[1] / 3) : int(n_if[1] * 2 / 3)],\n",
        "        X_s_bd[i, int(n_if[1] * 2 / 3) : int(n_if[1])],\n",
        "        N_bd,\n",
        "        ulNomT_bd,\n",
        "    )\n",
        "    # Key step\n",
        "    Vfr1_bd[i, :] = bondeD(\n",
        "        contratos_bdmT,\n",
        "        nominal_bdm,\n",
        "        X_s_bd[i, 0],\n",
        "        plazocupon_bdmT,\n",
        "        VTplazos_bdm,\n",
        "        x0_bd[int(n_if[1] / 3) : int(n_if[1] * 2 / 3)],\n",
        "        x0_bd[int(n_if[1] * 2 / 3) : int(n_if[1])],\n",
        "        N_bd,\n",
        "        ulNomT_bd,\n",
        "    )\n",
        "    # Key step\n",
        "    Vfr2_bd[i, :] = bondeD(\n",
        "        contratos_bdmT,\n",
        "        nominal_bdm,\n",
        "        x0_bd[0],\n",
        "        plazocupon_bdmT,\n",
        "        VTplazos_bdm,\n",
        "        X_s_bd[i, int(n_if[1] / 3) : int(n_if[1] * 2 / 3)],\n",
        "        x0_bd[int(n_if[1] * 2 / 3) : int(n_if[1])],\n",
        "        N_bd,\n",
        "        ulNomT_bd,\n",
        "    )\n",
        "    # Key step\n",
        "    Vfr3_bd[i, :] = bondeD(\n",
        "        contratos_bdmT,\n",
        "        nominal_bdm,\n",
        "        x0_bd[0],\n",
        "        plazocupon_bdmT,\n",
        "        VTplazos_bdm,\n",
        "        x0_bd[int(n_if[1] / 3) : int(n_if[1] * 2 / 3)],\n",
        "        X_s_bd[i, int(n_if[1] * 2 / 3) : int(n_if[1])],\n",
        "        N_bd,\n",
        "        ulNomT_bd,\n",
        "    )\n",
        "    # Key step\n",
        "    PG_bd[i, :] = V_bd[i, :] - V0_bd\n",
        "    PGfr1_bd[i, :] = Vfr1_bd[i, :] - V0_bd\n",
        "    PGfr2_bd[i, :] = Vfr2_bd[i, :] - V0_bd\n",
        "    PGfr3_bd[i, :] = Vfr3_bd[i, :] - V0_bd\n",
        "    PGT_bd[i, 0] = np.sum(PG_bd[i, :])\n",
        "    PGfr1T_bd[i, 0] = np.sum(PGfr1_bd[i, :])\n",
        "    PGfr2T_bd[i, 0] = np.sum(PGfr2_bd[i, :])\n",
        "    PGfr3T_bd[i, 0] = np.sum(PGfr3_bd[i, :])\n",
        "\n",
        "\n",
        "\n",
        "VaRCont_bd = np.zeros(m)\n",
        "VaRfr1_bd = np.zeros(m)\n",
        "VaRfr2_bd = np.zeros(m)\n",
        "VaRfr3_bd = np.zeros(m)\n",
        "CVaRfr1_bd = np.zeros(m)\n",
        "CVaRfr2_bd = np.zeros(m)\n",
        "CVaRfr3_bd = np.zeros(m)\n",
        "CVaRCont_bd = np.zeros(m)\n",
        "\n",
        "# Ciclo for para calcular VaR y CVaR\n",
        "for i in range(m):\n",
        "    VaRCont_bd[i] = np.percentile(PG_bd[:, i], (1 - alpha), axis=0)\n",
        "    VaRfr1_bd[i] = np.percentile(PGfr1_bd[:, i], (1 - alpha), axis=0)\n",
        "    VaRfr2_bd[i] = np.percentile(PGfr2_bd[:, i], (1 - alpha), axis=0)\n",
        "    VaRfr3_bd[i] = np.percentile(PGfr3_bd[:, i], (1 - alpha), axis=0)\n",
        "\n",
        "    CVaRfr1_bd[i] = np.mean(PGfr1_bd[PGfr1_bd[:, i] < VaRfr1_bd[i], i])\n",
        "    CVaRfr2_bd[i] = np.mean(PGfr2_bd[PGfr2_bd[:, i] < VaRfr2_bd[i], i])\n",
        "    CVaRfr3_bd[i] = np.mean(PGfr3_bd[PGfr3_bd[:, i] < VaRfr3_bd[i], i])\n",
        "    CVaRCont_bd[i] = np.mean(PG_bd[PG_bd[:, i] < VaRCont_bd[i], i])\n",
        "\n",
        "# Imprimir resultados\n",
        "print(\"VaRCont_bd:\", VaRCont_bd)\n",
        "print(\"VaRfr1_bd:\", VaRfr1_bd)\n",
        "print(\"VaRfr2_bd:\", VaRfr2_bd)\n",
        "print(\"VaRfr3_bd:\", VaRfr3_bd)\n",
        "print(\"CVaRCont_bd:\", CVaRCont_bd)\n",
        "print(\"CVaRfr1_bd:\", CVaRfr1_bd)\n",
        "print(\"CVaRfr2_bd:\", CVaRfr2_bd)\n",
        "print(\"CVaRfr3_bd:\", CVaRfr3_bd)\n",
        "\n",
        "# VaR Total\n",
        "VaRTotal_bd = np.percentile(PGT_bd, (1 - alpha) * 100)\n",
        "VaRTotalfr1_bd = np.percentile(np.sum(PGfr1_bd, axis=1), (1 - alpha) * 100)\n",
        "VaRTotalfr2_bd = np.percentile(np.sum(PGfr2_bd, axis=1), (1 - alpha) * 100)\n",
        "VaRTotalfr3_bd = np.percentile(np.sum(PGfr3_bd, axis=1), (1 - alpha) * 100)\n",
        "\n",
        "# CVaR Total\n",
        "CVaRTotal_bd = np.mean(PGT_bd[PGT_bd < VaRTotal_bd])\n",
        "CVaRTotalfr1_bd = np.mean(np.sum(PGfr1_bd, axis=1)[np.sum(PGfr1_bd, axis=1) < VaRTotalfr1_bd])\n",
        "CVaRTotalfr2_bd = np.mean(np.sum(PGfr2_bd, axis=1)[np.sum(PGfr2_bd, axis=1) < VaRTotalfr2_bd])\n",
        "CVaRTotalfr3_bd = np.mean(np.sum(PGfr3_bd, axis=1)[np.sum(PGfr3_bd, axis=1) < VaRTotalfr3_bd])\n",
        "\n",
        "print(\"VaRTotal_bd:\", VaRTotal_bd)\n",
        "print(\"VaRTotalfr1_bd:\", VaRTotalfr1_bd)\n",
        "print(\"VaRTotalfr2_bd:\", VaRTotalfr2_bd)\n",
        "print(\"VaRTotalfr3_bd:\", VaRTotalfr3_bd)\n",
        "print(\"CVaRTotalCont_bd:\", CVaRTotal_bd)\n",
        "print(\"CVaRTotalfr1_bd:\", CVaRTotalfr1_bd)\n",
        "print(\"CVaRTotalfr2_bd:\", CVaRTotalfr2_bd)\n",
        "print(\"CVaRTotalfr3_bd:\", CVaRTotalfr3_bd)\n",
        "print(V0_bd)\n",
        "# Imprimir resultados\n",
        "# print(np.c_[VaRTotal_bd, np.sum(V0_bd), VaRCont_bd, V0_bd])\n",
        "# print(np.c_[CVaRTotal_bd, np.sum(V0_bd), CVaRCont_bd, V0_bd])\n",
        "# print(np.c_[VaRTotal_bd, VaRTotalfr1_bd, VaRTotalfr2_bd, VaRTotalfr3_bd])\n",
        "# print(np.c_[CVaRTotal_bd, CVaRTotalfr1_bd, CVaRTotalfr2_bd, CVaRTotalfr3_bd])"
      ],
      "metadata": {
        "id": "NWO1Unc79d-h",
        "colab": {
          "base_uri": "https://localhost:8080/"
        },
        "outputId": "1b8bd18a-cae1-41ab-ffd6-1d73e613c267"
      },
      "execution_count": null,
      "outputs": [
        {
          "output_type": "stream",
          "name": "stderr",
          "text": [
            "<ipython-input-15-f131f79aed7f>:7: DeprecationWarning: Conversion of an array with ndim > 0 to a scalar is deprecated, and will error in future. Ensure you extract a single element from your array before performing this operation. (Deprecated NumPy 1.25.)\n",
            "  X_s_bd = np.zeros((Ns, int(n_if[1])))  # Simulated risk factors based on DeltaX_s x0*(1+Delta_Xs)  # Key step\n",
            "<ipython-input-15-f131f79aed7f>:22: DeprecationWarning: Conversion of an array with ndim > 0 to a scalar is deprecated, and will error in future. Ensure you extract a single element from your array before performing this operation. (Deprecated NumPy 1.25.)\n",
            "  DeltaX_s_bd = DeltaX_port[:, int(sum(n_if[:1])) : int(sum(n_if[:2]))]  # Key step\n",
            "<ipython-input-15-f131f79aed7f>:37: DeprecationWarning: Conversion of an array with ndim > 0 to a scalar is deprecated, and will error in future. Ensure you extract a single element from your array before performing this operation. (Deprecated NumPy 1.25.)\n",
            "  X_s_bd[i, int(n_if[1] / 3) : int(n_if[1] * 2 / 3)],\n",
            "<ipython-input-15-f131f79aed7f>:38: DeprecationWarning: Conversion of an array with ndim > 0 to a scalar is deprecated, and will error in future. Ensure you extract a single element from your array before performing this operation. (Deprecated NumPy 1.25.)\n",
            "  X_s_bd[i, int(n_if[1] * 2 / 3) : int(n_if[1])],\n",
            "<ipython-input-15-f131f79aed7f>:49: DeprecationWarning: Conversion of an array with ndim > 0 to a scalar is deprecated, and will error in future. Ensure you extract a single element from your array before performing this operation. (Deprecated NumPy 1.25.)\n",
            "  x0_bd[int(n_if[1] / 3) : int(n_if[1] * 2 / 3)],\n",
            "<ipython-input-15-f131f79aed7f>:50: DeprecationWarning: Conversion of an array with ndim > 0 to a scalar is deprecated, and will error in future. Ensure you extract a single element from your array before performing this operation. (Deprecated NumPy 1.25.)\n",
            "  x0_bd[int(n_if[1] * 2 / 3) : int(n_if[1])],\n",
            "<ipython-input-15-f131f79aed7f>:61: DeprecationWarning: Conversion of an array with ndim > 0 to a scalar is deprecated, and will error in future. Ensure you extract a single element from your array before performing this operation. (Deprecated NumPy 1.25.)\n",
            "  X_s_bd[i, int(n_if[1] / 3) : int(n_if[1] * 2 / 3)],\n",
            "<ipython-input-15-f131f79aed7f>:62: DeprecationWarning: Conversion of an array with ndim > 0 to a scalar is deprecated, and will error in future. Ensure you extract a single element from your array before performing this operation. (Deprecated NumPy 1.25.)\n",
            "  x0_bd[int(n_if[1] * 2 / 3) : int(n_if[1])],\n",
            "<ipython-input-15-f131f79aed7f>:73: DeprecationWarning: Conversion of an array with ndim > 0 to a scalar is deprecated, and will error in future. Ensure you extract a single element from your array before performing this operation. (Deprecated NumPy 1.25.)\n",
            "  x0_bd[int(n_if[1] / 3) : int(n_if[1] * 2 / 3)],\n",
            "<ipython-input-15-f131f79aed7f>:74: DeprecationWarning: Conversion of an array with ndim > 0 to a scalar is deprecated, and will error in future. Ensure you extract a single element from your array before performing this operation. (Deprecated NumPy 1.25.)\n",
            "  X_s_bd[i, int(n_if[1] * 2 / 3) : int(n_if[1])],\n"
          ]
        },
        {
          "output_type": "stream",
          "name": "stdout",
          "text": [
            "VaRCont_bd: [ 5.06745805e-01 -4.54323911e+02  5.61664787e+01 -1.84725655e+03\n",
            " -2.91195069e+01]\n",
            "VaRfr1_bd: [   46.83876912  -445.94683889    92.56079406 -1820.76939363\n",
            "    88.36581457]\n",
            "VaRfr2_bd: [  11.84931015 -209.34557416   72.69323003 -843.43179669   24.05916773]\n",
            "VaRfr3_bd: [  53.08020203 -144.21945297  120.29651435 -598.32142894   96.51385707]\n",
            "CVaRCont_bd: [-8.37093144e-01 -4.55645172e+02  5.57649648e+01 -1.85037654e+03\n",
            " -3.19222269e+01]\n",
            "CVaRfr1_bd: [   46.74813896  -447.46131394    92.38169456 -1826.95288812\n",
            "    88.1948321 ]\n",
            "CVaRfr2_bd: [  10.67644545 -211.55755289   71.37073187 -844.25232745   22.05265291]\n",
            "CVaRfr3_bd: [  52.68844626 -144.96194791  119.85939781 -598.61146048   95.76323498]\n",
            "VaRTotal_bd: -455.6889666184792\n",
            "VaRTotalfr1_bd: -301.4483820927352\n",
            "VaRTotalfr2_bd: -317.27346353637466\n",
            "VaRTotalfr3_bd: -249.39195413958814\n",
            "CVaRTotalCont_bd: -609.0737249232867\n",
            "CVaRTotalfr1_bd: -560.785714638414\n",
            "CVaRTotalfr2_bd: -363.18253215660087\n",
            "CVaRTotalfr3_bd: -266.55315518751894\n",
            "[ 22161.21115235 -29320.69510623  29377.07811909 -47181.61323033\n",
            "  10480.40284521]\n"
          ]
        }
      ]
    },
    {
      "cell_type": "markdown",
      "source": [
        "## Swaps"
      ],
      "metadata": {
        "id": "89rgIAsiMKRw"
      }
    },
    {
      "cell_type": "code",
      "source": [
        "# Translating the given R code to Python\n",
        "import numpy as np\n",
        "\n",
        "# Assuming Ns, n_if, x0_bd, contratos_bdmT, nominal_bdm, plazocupon_bdmT, VTplazos_bdm, N_bd, and ddv are defined\n",
        "m = N.shape[0]  # Key step\n",
        "\n",
        "\n",
        "X_s_sw = np.zeros((Ns, int(n_if[2])))  # Simulated risk factors based on DeltaX_s x0*(1+Delta_Xs)  # Key step\n",
        "V_sw = np.zeros((Ns, m))\n",
        "Vfr1_sw = np.zeros((Ns,m))\n",
        "Vfr2_sw = np.zeros((Ns, m))\n",
        "PG_sw = np.zeros((Ns, m))  # Losses and gains\n",
        "PGfr1_sw = np.zeros((Ns, m))\n",
        "PGfr2_sw = np.zeros((Ns, m))\n",
        "PGT_sw = np.zeros((Ns, m))\n",
        "PGfr1T_sw = np.zeros((Ns, m))\n",
        "PGfr2T_sw = np.zeros((Ns, m))\n",
        "\n",
        "#N_sw\n",
        "DeltaX_s_sw = DeltaX_port[:, int(sum(n_if[:2])) : int(sum(n_if[:3]))]  # Key step\n",
        "x0_sw = X_sw[0, :]  # Key step\n",
        "\n",
        "for i in range(Ns):\n",
        "  X_s_sw[i,:] = x0_sw * np.exp(DeltaX_s_sw[i])\n",
        "  # PASO CLAVE\n",
        "  V_sw[i] = swap(por_swT, contratos_swT, nominal_swT, X_s_sw[i,:(n_if[2][0]//2)], tasafija_swT, plazocupon_swT, VTplazos_sw, X_s_sw[i,(n_if[2][0]//2):n_if[2][0]], N)\n",
        "  # PASO CLAVE\n",
        "  Vfr1_sw[i] = swap(por_swT, contratos_swT, nominal_swT, X_s_sw[i,:(n_if[2][0]//2)], tasafija_swT, plazocupon_swT, VTplazos_sw, Xvp[0,:], N)\n",
        "  # PASO CLAVE\n",
        "  Vfr2_sw[i] = swap(por_swT, contratos_swT, nominal_swT,  XtfwdT[i,:], tasafija_swT, plazocupon_swT, VTplazos_sw, X_s_sw[i,(n_if[2][0]//2):n_if[2][0]], N)\n",
        "  #PASO CLAVE\n",
        "  PG_sw[i] = V_sw[i] - V0_sw\n",
        "  PGfr1_sw[i] = Vfr1_sw[i] - V0_sw\n",
        "  PGfr2_sw[i] = Vfr2_sw[i] - V0_sw\n",
        "  PGT_sw[i] = np.sum(PG_sw)\n",
        "  PGfr1T_sw[i] = np.sum(PGfr1_sw[i])\n",
        "  PGfr2T_sw[i] = np.sum(PGfr2_sw[i])\n",
        "\n",
        "# VaR por posición\n",
        "VaRCont_sw = np.zeros((1, m))[0]\n",
        "VaRfr1_sw = np.zeros((1, m))[0]\n",
        "VaRfr2_sw = np.zeros((1, m))[0]\n",
        "CVaRCont_sw = np.zeros((1, m))[0]\n",
        "CVaRfr1_sw = np.zeros((1, m))[0]\n",
        "CVaRfr2_sw = np.zeros((1, m))[0]\n",
        "\n",
        "for i in range(m):\n",
        "  VaRCont_sw[i] = np.quantile(PG_sw[:, i], 1-alpha)\n",
        "  VaRfr1_sw[i] = np.quantile(PGfr1_sw[:, i], 1-alpha)\n",
        "  VaRfr2_sw[i] = np.quantile(PGfr2_sw[:, i], 1-alpha)\n",
        "\n",
        "  CVaRfr1_sw[i] = np.mean(np.column_stack((np.arange(0, Ns),PGfr1_sw[:, i]))[np.where(PGfr1_sw[:, i] < VaRfr1_sw[i])[0],1])\n",
        "  CVaRfr2_sw[i] = np.mean(np.column_stack((np.arange(0, Ns),PGfr2_sw[:, i]))[np.where(PGfr2_sw[:, i] < VaRfr2_sw[i])[0],1])\n",
        "  CVaRCont_sw[i] = np.mean(np.column_stack((np.arange(0, Ns),PG_sw[:, i]))[np.where(PG_sw[:, i] < VaRCont_sw[i])[0],1])\n",
        "\n",
        "VaRCont_sw\n",
        "VaRfr1_sw\n",
        "VaRfr2_sw\n",
        "CVaRCont_sw\n",
        "CVaRfr1_sw\n",
        "CVaRfr2_sw\n",
        "\n",
        "VaRTotal_sw = np.quantile(PGT_sw, 1-alpha)\n",
        "VaRTotalfr1_sw = np.quantile(PGfr1T_sw, 1-alpha)\n",
        "VaRTotalfr2_sw= np.quantile(PGfr2T_sw, 1-alpha)\n",
        "\n",
        "CVaRTotal_sw= np.mean(np.column_stack((np.arange(0, Ns),PGT_sw))[np.where(PGT_sw < VaRTotal_sw)[0], np.where(PGT_sw < VaRTotal_sw)[1]][1:][::2])\n",
        "CVaRTotalfr1_sw= np.mean(PGfr1T_sw[np.where(PGfr1T_sw < VaRTotalfr1_sw)])\n",
        "CVaRTotalfr2_sw= np.mean(PGfr2T_sw[np.where(PGfr2T_sw < VaRTotalfr2_sw)])\n",
        "\n",
        "print(\"VaRCont_sw:\", VaRCont_sw)\n",
        "print(\"VaRfr1_sw:\", VaRfr1_sw)\n",
        "print(\"VaRfr2_sw:\", VaRfr2_sw)\n",
        "print(\"CVaRCont_sw:\", CVaRCont_sw)\n",
        "print(\"CVaRfr1_sw:\", CVaRfr1_sw)\n",
        "print(\"CVaRfr2_sw:\", CVaRfr2_sw)\n",
        "\n",
        "print(\"VaR Total:\", VaRTotal_sw)\n",
        "print(\"VaR Total fr1:\", VaRTotalfr1_sw)\n",
        "print(\"VaR Total fr2:\", VaRTotalfr2_sw)\n",
        "print(\"CVaR Total:\", CVaRTotal_sw)\n",
        "print(\"CVaR Total fr1:\", CVaRTotalfr1_sw)\n",
        "print(\"CVaR Total fr2:\", CVaRTotalfr2_sw)\n",
        "#Los de instrumentos estan en el último for"
      ],
      "metadata": {
        "id": "fLUfXsgl9d54",
        "colab": {
          "base_uri": "https://localhost:8080/"
        },
        "outputId": "6963e882-2136-4f1c-f203-c74c3e566820"
      },
      "execution_count": null,
      "outputs": [
        {
          "output_type": "stream",
          "name": "stdout",
          "text": [
            "VaRCont_sw: [-1.76781469 -0.97908154]\n",
            "VaRfr1_sw: [-1.76647183 -0.98026004]\n",
            "VaRfr2_sw: [-4.76626838 -3.87296662]\n",
            "CVaRCont_sw: [-3.01416    -1.33172174]\n",
            "CVaRfr1_sw: [-3.01286391 -1.33180521]\n",
            "CVaRfr2_sw: [-5.45792973 -4.02325129]\n",
            "VaR Total: -7.854654481017954\n",
            "VaR Total fr1: -1.438148654175611\n",
            "VaR Total fr2: -4.327890598728387\n",
            "CVaR Total: -8.066712567847807\n",
            "CVaR Total fr1: -2.3872487515119447\n",
            "CVaR Total fr2: -5.077816095515877\n"
          ]
        },
        {
          "output_type": "stream",
          "name": "stderr",
          "text": [
            "<ipython-input-17-228554a06161>:8: DeprecationWarning: Conversion of an array with ndim > 0 to a scalar is deprecated, and will error in future. Ensure you extract a single element from your array before performing this operation. (Deprecated NumPy 1.25.)\n",
            "  X_s_sw = np.zeros((Ns, int(n_if[2])))  # Simulated risk factors based on DeltaX_s x0*(1+Delta_Xs)  # Key step\n",
            "<ipython-input-17-228554a06161>:20: DeprecationWarning: Conversion of an array with ndim > 0 to a scalar is deprecated, and will error in future. Ensure you extract a single element from your array before performing this operation. (Deprecated NumPy 1.25.)\n",
            "  DeltaX_s_sw = DeltaX_port[:, int(sum(n_if[:2])) : int(sum(n_if[:3]))]  # Key step\n"
          ]
        }
      ]
    },
    {
      "cell_type": "markdown",
      "source": [
        "## Opciones de tasa de interés"
      ],
      "metadata": {
        "id": "adbIaGGwMMl9"
      }
    },
    {
      "cell_type": "code",
      "source": [
        "m = len(plazos_oir)  # Número de columnas en plazos_oir (PASO CLAVE)\n",
        "X_s_oir = np.zeros((Ns, n_if[3][0]))  # Factores de riesgo simulados (PASO CLAVE)\n",
        "V_oir = np.zeros((Ns, m))\n",
        "Vfr1_oir = np.zeros((Ns, m))\n",
        "Vfr2_oir = np.zeros((Ns, m))\n",
        "Vfr3_oir = np.zeros((Ns, m))\n",
        "PG_oir = np.zeros((Ns, m))  # Pérdidas y ganancias\n",
        "PGfr1_oir = np.zeros((Ns, m))\n",
        "PGfr2_oir = np.zeros((Ns, m))\n",
        "PGfr3_oir = np.zeros((Ns, m))\n",
        "PGT_oir = np.zeros((Ns, 1))\n",
        "PGfr1T_oir = np.zeros((Ns, 1))\n",
        "PGfr2T_oir = np.zeros((Ns, 1))\n",
        "PGfr3T_oir = np.zeros((Ns, 1))\n",
        "\n",
        "#N_oir\n",
        "DeltaX_s_oir = DeltaX_port[:, int(sum(n_if[:3])) : int(sum(n_if[:4]))]  # Key step\n",
        "x0_oir = X_oir[0, :]  # Key step\n",
        "\n",
        "for i in range(Ns):\n",
        "  X_s_oir[i, :] = x0_oir * np.exp(DeltaX_s_oir[i, :])\n",
        "\n",
        "  V_oir[i, :] = opctint(X_s_oir[i, :(n_if[3][0]//3)], X_s_oir[i, (n_if[3][0]//3):(n_if[3][0]*2//3)],\n",
        "                        K_oir, X_s_oir[i, (n_if[3][0]*2//3):], plazos_oir, cp_oir, cs_oir, pr_oir, dct_oir) * contratos_oir * nominal_oir\n",
        "\n",
        "  Vfr1_oir[i, :] = opctint(X_s_oir[i, :(n_if[3][0]//3)], x0_oir[(n_if[3][0]//3):(n_if[3][0]*2//3)],\n",
        "                           K_oir, x0_oir[(n_if[3][0]*2//3):], plazos_oir, cp_oir, cs_oir, pr_oir, dct_oir) * contratos_oir * nominal_oir\n",
        "\n",
        "  Vfr2_oir[i, :] = opctint(x0_oir[:(n_if[3][0]//3)], X_s_oir[i, (n_if[3][0]//3):(n_if[3][0]*2//3)],\n",
        "                           K_oir, x0_oir[(n_if[3][0]*2//3):], plazos_oir, cp_oir, cs_oir, pr_oir, dct_oir) * contratos_oir * nominal_oir\n",
        "\n",
        "  Vfr3_oir[i, :] = opctint(x0_oir[:(n_if[3][0]//3)], x0_oir[(n_if[3][0]//3):(n_if[3][0]*2//3)],\n",
        "                           K_oir, X_s_oir[i, (n_if[3][0]*2//3):], plazos_oir, cp_oir, cs_oir, pr_oir, dct_oir) * contratos_oir * nominal_oir\n",
        "\n",
        "  PG_oir[i, :] = V_oir[i, :] - V0_oir\n",
        "  PGfr1_oir[i, :] = Vfr1_oir[i, :] - V0_oir\n",
        "  PGfr2_oir[i, :] = Vfr2_oir[i, :] - V0_oir\n",
        "  PGfr3_oir[i, :] = Vfr3_oir[i, :] - V0_oir\n",
        "\n",
        "  PGT_oir[i, 0] = np.sum(PG_oir[i, :])\n",
        "  PGfr1T_oir[i, 0] = np.sum(PGfr1_oir[i, :])\n",
        "  PGfr2T_oir[i, 0] = np.sum(PGfr2_oir[i, :])\n",
        "  PGfr3T_oir[i, 0] = np.sum(PGfr3_oir[i, :])\n",
        "\n",
        "#VaR por posición\n",
        "VaRCont_oir=np.zeros((1, m))[0]\n",
        "VaRfr1_oir=np.zeros((1, m))[0]\n",
        "VaRfr2_oir=np.zeros((1, m))[0]\n",
        "VaRfr3_oir=np.zeros((1, m))[0]\n",
        "CVaRCont_oir=np.zeros((1, m))[0]\n",
        "CVaRfr1_oir=np.zeros((1, m))[0]\n",
        "CVaRfr2_oir=np.zeros((1, m))[0]\n",
        "CVaRfr3_oir=np.zeros((1, m))[0]\n",
        "\n",
        "for i in range(m):\n",
        "  VaRCont_oir[i] = np.quantile(PG_oir[:, i], 1-alpha)\n",
        "  VaRfr1_oir[i] = np.quantile(PGfr1_oir[:, i], 1-alpha)\n",
        "  VaRfr2_oir[i] = np.quantile(PGfr2_oir[:, i], 1-alpha)\n",
        "  VaRfr3_oir[i] = np.quantile(PGfr3_oir[:, i], 1-alpha)\n",
        "\n",
        "  CVaRfr1_oir[i] = np.mean(np.column_stack((np.arange(0, Ns),PGfr1_oir[:, i]))[np.where(PGfr1_oir[:, i] < VaRfr1_oir[i])[0],1])\n",
        "  CVaRfr2_oir[i] = np.mean(np.column_stack((np.arange(0, Ns),PGfr2_oir[:, i]))[np.where(PGfr2_oir[:, i] < VaRfr2_oir[i])[0],1])\n",
        "  CVaRfr3_oir[i] = np.mean(np.column_stack((np.arange(0, Ns),PGfr3_oir[:, i]))[np.where(PGfr3_oir[:, i] < VaRfr3_oir[i])[0],1])\n",
        "  CVaRCont_oir[i] = np.mean(np.column_stack((np.arange(0, Ns),PG_oir[:, i]))[np.where(PG_oir[:, i] < VaRCont_oir[i])[0],1])\n",
        "\n",
        "VaRCont_oir\n",
        "VaRfr1_oir\n",
        "VaRfr2_oir\n",
        "CVaRCont_oir\n",
        "CVaRfr1_oir\n",
        "CVaRfr2_oir\n",
        "\n",
        "VaRTotal_oir = np.quantile(PGT_oir, 1-alpha)\n",
        "VaRTotalfr1_oir = np.quantile(PGfr1T_oir, 1-alpha)\n",
        "VaRTotalfr2_oir = np.quantile(PGfr2T_oir, 1-alpha)\n",
        "VaRTotalfr3_oir = np.quantile(PGfr3T_oir, 1-alpha)\n",
        "\n",
        "CVaRTotal_oir = np.mean(PGT_oir[np.where(PGT_oir < VaRTotal_oir)])\n",
        "CVaRTotalfr1_oir = np.mean(PGfr1T_oir[np.where(PGfr1T_oir < VaRTotalfr1_oir)])\n",
        "CVaRTotalfr2_oir = np.mean(PGfr2T_oir[np.where(PGfr2T_oir < VaRTotalfr2_oir)])\n",
        "CVaRTotalfr3_oir = np.mean(PGfr3T_oir[np.where(PGfr3T_oir < VaRTotalfr3_oir)])\n",
        "\n",
        "print(\"VaRCont_oir:\", VaRCont_oir)\n",
        "print(\"VaRfr1_oir:\", VaRfr1_oir)\n",
        "print(\"VaRfr2_oir:\", VaRfr2_oir)\n",
        "print(\"CVaRCont_oir:\", CVaRCont_oir)\n",
        "print(\"CVaRfr1_oir:\", CVaRfr1_oir)\n",
        "print(\"CVaRfr2_oir:\", CVaRfr2_oir)\n",
        "\n",
        "print(\"VaR Total:\", VaRTotal_oir)\n",
        "print(\"VaR Total fr1:\", VaRTotalfr1_oir)\n",
        "print(\"VaR Total fr2:\", VaRTotalfr2_oir)\n",
        "print(\"VaR Total fr3:\", VaRTotalfr3_oir)\n",
        "print(\"CVaR Total:\", CVaRTotal_oir)\n",
        "print(\"CVaR Total fr1:\", CVaRTotalfr1_oir)\n",
        "print(\"CVaR Total fr2:\", CVaRTotalfr2_oir)\n",
        "print(\"CVaR Total fr3:\", CVaRTotalfr3_oir)"
      ],
      "metadata": {
        "id": "RNsNe_sg5BsI",
        "colab": {
          "base_uri": "https://localhost:8080/"
        },
        "outputId": "40da25b9-07c1-4b48-d4b1-12e80e2a82dc"
      },
      "execution_count": null,
      "outputs": [
        {
          "output_type": "stream",
          "name": "stderr",
          "text": [
            "<ipython-input-33-950364892ffb>:17: DeprecationWarning: Conversion of an array with ndim > 0 to a scalar is deprecated, and will error in future. Ensure you extract a single element from your array before performing this operation. (Deprecated NumPy 1.25.)\n",
            "  DeltaX_s_oir = DeltaX_port[:, int(sum(n_if[:3])) : int(sum(n_if[:4]))]  # Key step\n"
          ]
        },
        {
          "output_type": "stream",
          "name": "stdout",
          "text": [
            "VaRCont_oir: [-0.18821507 -0.24676105 -0.2284084  -0.0366196  -0.37983541]\n",
            "VaRfr1_oir: [-3.22923941e-03 -6.24926876e-03 -9.35222072e-04 -9.42690643e-05\n",
            " -7.70629163e-04]\n",
            "VaRfr2_oir: [-0.12482202 -0.15741204 -0.14056631 -0.01153866 -0.22718078]\n",
            "CVaRCont_oir: [-0.29679146 -0.30496454 -0.31390285 -0.09292922 -0.55841926]\n",
            "CVaRfr1_oir: [-0.00472425 -0.00958835 -0.00178691 -0.00015315 -0.0015457 ]\n",
            "CVaRfr2_oir: [-0.14295932 -0.20039256 -0.18185362 -0.02060295 -0.29777274]\n",
            "VaR Total: -0.5367370301837612\n",
            "VaR Total fr1: -0.004062002841645053\n",
            "VaR Total fr2: -0.24882721733298174\n",
            "VaR Total fr3: -0.4949123086695819\n",
            "CVaR Total: -0.8011669524317732\n",
            "CVaR Total fr1: -0.006063776689294913\n",
            "CVaR Total fr2: -0.3180421302102308\n",
            "CVaR Total fr3: -0.9398928772247599\n"
          ]
        }
      ]
    },
    {
      "cell_type": "markdown",
      "source": [
        "## Forward TDC"
      ],
      "metadata": {
        "id": "H6AhxDKEIbj6"
      }
    },
    {
      "cell_type": "code",
      "source": [
        "m = len(plazos_fwd) # Número de columnas en plazos_fwd (PASO CLAVE)\n",
        "X_s_fwtdc = np.zeros((Ns, n_if[4][0]))  # Factores de riesgo simulados (PASO CLAVE)\n",
        "V_fwtdc = np.zeros((Ns, m))\n",
        "Vfr1_fwtdc = np.zeros((Ns, m))\n",
        "Vfr2_fwtdc = np.zeros((Ns, m))\n",
        "Vfr3_fwtdc = np.zeros((Ns, m))\n",
        "PG_fwtdc = np.zeros((Ns, m))  # Pérdidas y ganancias\n",
        "PGfr1_fwtdc = np.zeros((Ns, m))\n",
        "PGfr2_fwtdc = np.zeros((Ns, m))\n",
        "PGfr3_fwtdc = np.zeros((Ns, m))\n",
        "\n",
        "PGT_fwtdc = np.zeros((Ns, 1))\n",
        "PGfr1T_fwtdc = np.zeros((Ns, 1))\n",
        "PGfr2T_fwtdc = np.zeros((Ns, 1))\n",
        "PGfr3T_fwtdc = np.zeros((Ns, 1))\n",
        "\n",
        "#N_fwtdc\n",
        "DeltaX_s_fwtdc = DeltaX_port[:, int(sum(n_if[:4])) : int(sum(n_if[:5]))]  # Key step\n",
        "x0_fwtdc = X_futtdc[0, :]  # Key step\n",
        "\n",
        "for i in range(Ns):\n",
        "    X_s_fwtdc[i, :] = x0_fwtdc * np.exp(DeltaX_s_fwtdc[i, :])\n",
        "\n",
        "    V_fwtdc[i, :] = futuroTC(plazos_fwd, X_s_fwtdc[i, :((n_if[4][0]-1)//2)], X_s_fwtdc[i, ((n_if[4][0]-1)//2+1):(n_if[4][0])], X_s_fwtdc[i, (n_if[4][0]-1)], kst_fwd) * contratos_fwd * nominal_fwd\n",
        "\n",
        "    Vfr1_fwtdc[i, :] = futuroTC(plazos_fwd, X_s_fwtdc[i, :((n_if[4][0]-1)//2)], x0_fwtdc[((n_if[4][0]-1)//2+1):(n_if[4][0])], x0_fwtdc[(n_if[4][0]-1)], kst_fwd) * contratos_fwd * nominal_fwd\n",
        "\n",
        "    Vfr2_fwtdc[i, :] = futuroTC(plazos_fwd, x0_fwtdc[:((n_if[4][0]-1)//2)], X_s_fwtdc[i, ((n_if[4][0]-1)//2+1):(n_if[4][0])], x0_fwtdc[(n_if[4][0]-1)], kst_fwd) * contratos_fwd * nominal_fwd\n",
        "    Vfr3_fwtdc[i, :] = futuroTC(plazos_fwd, x0_fwtdc[:((n_if[4][0]-1)//2)], x0_fwtdc[((n_if[4][0]-1)//2+1):(n_if[4][0])], X_s_fwtdc[i, (n_if[4][0]-1)], kst_fwd) * contratos_fwd * nominal_fwd\n",
        "\n",
        "    PG_fwtdc[i, :] = V_fwtdc[i, :] - V0_fwtdc\n",
        "    PGfr1_fwtdc[i, :] = Vfr1_fwtdc[i, :] - V0_fwtdc\n",
        "    PGfr2_fwtdc[i, :] = Vfr2_fwtdc[i, :] - V0_fwtdc\n",
        "    PGfr3_fwtdc[i, :] = Vfr3_fwtdc[i, :] - V0_fwtdc\n",
        "\n",
        "    PGT_fwtdc[i, 0] = np.sum(PG_fwtdc[i, :])\n",
        "    PGfr1T_fwtdc[i, 0] = np.sum(PGfr1_fwtdc[i, :])\n",
        "    PGfr2T_fwtdc[i, 0] = np.sum(PGfr2_fwtdc[i, :])\n",
        "    PGfr3T_fwtdc[i, 0] = np.sum(PGfr3_fwtdc[i, :])\n",
        "\n",
        "#VaR por posición\n",
        "VaRCont_fwtdc=np.zeros((1, m))[0]\n",
        "VaRfr1_fwtdc=np.zeros((1, m))[0]\n",
        "VaRfr2_fwtdc=np.zeros((1, m))[0]\n",
        "VaRfr3_fwtdc=np.zeros((1, m))[0]\n",
        "CVaRCont_fwtdc=np.zeros((1, m))[0]\n",
        "CVaRfr1_fwtdc=np.zeros((1, m))[0]\n",
        "CVaRfr2_fwtdc=np.zeros((1, m))[0]\n",
        "CVaRfr3_fwtdc=np.zeros((1, m))[0]\n",
        "\n",
        "for i in range(m):\n",
        "  VaRCont_fwtdc[i]=np.quantile(PG_fwtdc[:, i], 1-alpha)\n",
        "  VaRfr1_fwtdc[i]=np.quantile(PGfr1_fwtdc[:, i], 1-alpha)\n",
        "  VaRfr2_fwtdc[i]=np.quantile(PGfr2_fwtdc[:, i], 1-alpha)\n",
        "  VaRfr3_fwtdc[i]=np.quantile(PGfr3_fwtdc[:, i], 1-alpha)\n",
        "\n",
        "  CVaRfr1_fwtdc[i]= np.mean(np.column_stack((np.arange(0, Ns),PGfr1_fwtdc[:, i]))[np.where(PGfr1_fwtdc[:, i] < VaRfr1_fwtdc[i])[0],1])\n",
        "  CVaRfr2_fwtdc[i]= np.mean(np.column_stack((np.arange(0, Ns),PGfr2_fwtdc[:, i]))[np.where(PGfr2_fwtdc[:, i] < VaRfr2_fwtdc[i])[0],1])\n",
        "  CVaRfr3_fwtdc[i]= np.mean(np.column_stack((np.arange(0, Ns),PGfr3_fwtdc[:, i]))[np.where(PGfr3_fwtdc[:, i] < VaRfr3_fwtdc[i])[0],1])\n",
        "  CVaRCont_fwtdc[i]= np.mean(np.column_stack((np.arange(0, Ns),PG_fwtdc[:, i]))[np.where(PG_fwtdc[:, i] < VaRCont_fwtdc[i])[0],1])\n",
        "\n",
        "VaRCont_fwtdc\n",
        "VaRfr1_fwtdc\n",
        "VaRfr2_fwtdc\n",
        "VaRfr3_fwtdc\n",
        "CVaRCont_fwtdc\n",
        "CVaRfr1_fwtdc\n",
        "CVaRfr2_fwtdc\n",
        "CVaRfr3_fwtdc\n",
        "\n",
        "\n",
        "#VaR Total\n",
        "VaRTotal_fwtdc = np.quantile(PGT_fwtdc, 1-alpha)\n",
        "VaRTotalfr1_fwtdc = np.quantile(PGfr1T_fwtdc, 1-alpha)\n",
        "VaRTotalfr2_fwtdc = np.quantile(PGfr2T_fwtdc, 1-alpha)\n",
        "VaRTotalfr3_fwtdc = np.quantile(PGfr3T_fwtdc, 1-alpha)\n",
        "\n",
        "CVaRTotal_fwtdc = np.mean(PGT_fwtdc[np.where(PGT_fwtdc < VaRTotal_fwtdc)])\n",
        "CVaRTotalfr1_fwtdc = np.mean(PGfr1T_fwtdc[np.where(PGfr1T_fwtdc < VaRTotalfr1_fwtdc)])\n",
        "CVaRTotalfr2_fwtdc = np.mean(PGfr2T_fwtdc[np.where(PGfr2T_fwtdc < VaRTotalfr2_fwtdc)])\n",
        "CVaRTotalfr3_fwtdc = np.mean(PGfr3T_fwtdc[np.where(PGfr2T_fwtdc < VaRTotalfr2_fwtdc)])\n",
        "\n",
        "print(VaRTotal_fwtdc)\n",
        "print(VaRTotalfr1_fwtdc)\n",
        "print(VaRTotalfr2_fwtdc)\n",
        "print(VaRTotalfr3_fwtdc)\n",
        "print(CVaRTotal_fwtdc)\n",
        "print(CVaRTotalfr1_fwtdc)\n",
        "print(CVaRTotalfr2_fwtdc)\n",
        "print(CVaRTotalfr3_fwtdc)"
      ],
      "metadata": {
        "colab": {
          "base_uri": "https://localhost:8080/"
        },
        "id": "sdehBp5Jh_Hp",
        "outputId": "9db0c78a-4c39-4d8b-b98a-07b62a5a52a8"
      },
      "execution_count": null,
      "outputs": [
        {
          "output_type": "stream",
          "name": "stdout",
          "text": [
            "7564.455540456817\n",
            "7679.821253361952\n",
            "7673.1241119542765\n",
            "7576.6767836451345\n",
            "7554.438257512803\n",
            "7675.041312710891\n",
            "7671.897617586019\n",
            "7588.276575121188\n"
          ]
        },
        {
          "output_type": "stream",
          "name": "stderr",
          "text": [
            "<ipython-input-31-a9e7f8b9d4a9>:18: DeprecationWarning: Conversion of an array with ndim > 0 to a scalar is deprecated, and will error in future. Ensure you extract a single element from your array before performing this operation. (Deprecated NumPy 1.25.)\n",
            "  DeltaX_s_fwtdc = DeltaX_port[:, int(sum(n_if[:4])) : int(sum(n_if[:5]))]  # Key step\n"
          ]
        }
      ]
    },
    {
      "cell_type": "code",
      "source": [
        "n_if[5][0]"
      ],
      "metadata": {
        "colab": {
          "base_uri": "https://localhost:8080/"
        },
        "id": "wruc3UbsBwc5",
        "outputId": "7bd66cbf-c538-44f2-abd7-7d3777277c10"
      },
      "execution_count": null,
      "outputs": [
        {
          "output_type": "execute_result",
          "data": {
            "text/plain": [
              "7"
            ]
          },
          "metadata": {},
          "execution_count": 21
        }
      ]
    },
    {
      "cell_type": "markdown",
      "source": [
        "## Forwards Indices"
      ],
      "metadata": {
        "id": "zBy3_RAOImoV"
      }
    },
    {
      "cell_type": "code",
      "source": [
        "#Cálculo de matriz de pérdidas y ganancias FUTUROS IPC\n",
        "m = len(plazos_fwd_ind)  # Número de columnas en plazos_fwd_ind (PASO CLAVE)\n",
        "X_s_fwind = np.zeros((Ns, n_if[5][0]))  # Factores de riesgo simulados (PASO CLAVE)\n",
        "V_fwind = np.zeros((Ns, m))\n",
        "Vfr1_fwind = np.zeros((Ns, m))\n",
        "Vfr2_fwind = np.zeros((Ns, m))\n",
        "Vfr3_fwind = np.zeros((Ns, m))\n",
        "PG_fwind = np.zeros((Ns, m))  # Pérdidas y ganancias\n",
        "PGfr1_fwind = np.zeros((Ns, m))\n",
        "PGfr2_fwind = np.zeros((Ns, m))\n",
        "PGfr3_fwind = np.zeros((Ns, m))\n",
        "\n",
        "PGT_fwind = np.zeros((Ns, 1))\n",
        "PGfr1T_fwind = np.zeros((Ns, 1))\n",
        "PGfr2T_fwind = np.zeros((Ns, 1))\n",
        "PGfr3T_fwind = np.zeros((Ns, 1))\n",
        "\n",
        "DeltaX_s_fwind=DeltaX_port[:, int(sum(n_if[:5])) : int(sum(n_if[:6]))]  # Key step\n",
        "x0_fwind=X_futind[0,:] # Key step\n",
        "\n",
        "for i in range(Ns):\n",
        "  X_s_fwind[i, :] = x0_fwind * np.exp(DeltaX_s_fwind[i, :])\n",
        "#No coinciden los valores pues son 2,2,3\n",
        "  plazos_fwd_ind_1 = X_s_fwind[i, :(n_if[5][0]-1)//2]#0-2\n",
        "  plazos_fwd_ind_2 = X_s_fwind[i, ((n_if[5][0]-1)//2+1):(n_if[5][0])]#2-4\n",
        "  plazos_fwd_ind_3 = X_s_fwind[i, (n_if[5][0]-1)]#4-7\n",
        "  # X_s_fwtdc[i, :((n_if[4][0]-1)//2)], X_s_fwtdc[i, ((n_if[4][0]-1)//2+1):(n_if[4][0])], X_s_fwtdc[i, (n_if[4][0]-1)],\n",
        "  V_fwind[i, :] = futuroTC(plazos_fwd_ind, plazos_fwd_ind_1, plazos_fwd_ind_2, plazos_fwd_ind_3, kst_fwd_ind) * contratos_fwd_ind * nominal_fwd_ind\n",
        "  # V0_fwind = futuroTC(plazos_fwd_ind, X1_fwind[0, :], X2_fwind[0, :], X3_find[0, :], kst_fwd_ind) * contratos_fwd_ind * nominal_fwd_ind\n",
        "  Vfr1_fwind[i, :] = V_fwind[i, :]\n",
        "  Vfr2_fwind[i, :] = V_fwind[i, :]\n",
        "  Vfr3_fwind[i, :] = V_fwind[i, :]\n",
        "\n",
        "  PG_fwind[i, :] = V_fwind[i, :] - V0_fwind\n",
        "  PGfr1_fwind[i, :] = Vfr1_fwind[i, :] - V0_fwind\n",
        "  PGfr2_fwind[i, :] = Vfr2_fwind[i, :] - V0_fwind\n",
        "  PGfr3_fwind[i, :] = Vfr3_fwind[i, :] - V0_fwind\n",
        "\n",
        "  PGT_fwind[i, 0] = np.sum(PG_fwind[i, :])\n",
        "  PGfr1T_fwind[i, 0] = np.sum(PGfr1_fwind[i, :])\n",
        "  PGfr2T_fwind[i, 0] = np.sum(PGfr2_fwind[i, :])\n",
        "  PGfr3T_fwind[i, 0] = np.sum(PGfr3_fwind[i, :])\n",
        "\n",
        "#VaR por posición\n",
        "VaRCont_fwind=np.zeros((1, m))[0]\n",
        "VaRfr1_fwind=np.zeros((1, m))[0]\n",
        "VaRfr2_fwind=np.zeros((1, m))[0]\n",
        "VaRfr3_fwind=np.zeros((1, m))[0]\n",
        "CVaRCont_fwind=np.zeros((1, m))[0]\n",
        "CVaRfr1_fwind=np.zeros((1, m))[0]\n",
        "CVaRfr2_fwind=np.zeros((1, m))[0]\n",
        "CVaRfr3_fwind=np.zeros((1, m))[0]\n",
        "\n",
        "for i in range(m):\n",
        "  VaRCont_fwind[i]=np.quantile(PG_fwind[:, i], 1-alpha)\n",
        "  VaRfr1_fwind[i]=np.quantile(PGfr1_fwind[:, i], 1-alpha)\n",
        "  VaRfr2_fwind[i]=np.quantile(PGfr2_fwind[:, i], 1-alpha)\n",
        "  VaRfr3_fwind[i]=np.quantile(PGfr3_fwind[:, i], 1-alpha)\n",
        "\n",
        "  CVaRfr1_fwind[i]= np.mean(np.column_stack((np.arange(0, Ns),PGfr1_fwind[:, i]))[np.where(PGfr1_fwind[:, i] < VaRfr1_fwind[i])[0],1])\n",
        "  CVaRfr2_fwind[i]= np.mean(np.column_stack((np.arange(0, Ns),PGfr2_fwind[:, i]))[np.where(PGfr2_fwind[:, i] < VaRfr2_fwind[i])[0],1])\n",
        "  CVaRfr3_fwind[i]= np.mean(np.column_stack((np.arange(0, Ns),PGfr3_fwind[:, i]))[np.where(PGfr3_fwind[:, i] < VaRfr3_fwind[i])[0],1])\n",
        "  CVaRCont_fwind[i]= np.mean(np.column_stack((np.arange(0, Ns),PG_fwind[:, i]))[np.where(PG_fwind[:, i] < VaRCont_fwind[i])[0],1])\n",
        "\n",
        "VaRCont_fwind\n",
        "VaRfr1_fwind\n",
        "VaRfr2_fwind\n",
        "CVaRCont_fwind\n",
        "CVaRfr1_fwind\n",
        "CVaRfr2_fwind\n",
        "\n",
        "#VaR Total\n",
        "\n",
        "VaRTotal_fwind=np.quantile(PGT_fwind, 1-alpha)\n",
        "VaRTotalfr1_fwind=np.quantile(PGfr1T_fwind, 1-alpha)\n",
        "VaRTotalfr2_fwind=np.quantile(PGfr2T_fwind, 1-alpha)\n",
        "VaRTotalfr3_fwind=np.quantile(PGfr3T_fwind, 1-alpha)\n",
        "\n",
        "CVaRTotal_fwind= np.mean(PGT_fwind[np.where(PGT_fwind < VaRTotal_fwind)])\n",
        "CVaRTotalfr1_fwind= np.mean(PGfr1T_fwind[np.where(PGfr1T_fwind < PGfr1T_fwind)])\n",
        "CVaRTotalfr2_fwind= np.mean(PGfr2T_fwind[np.where(PGfr2T_fwind < PGfr2T_fwind)])\n",
        "CVaRTotalfr3_fwind= np.mean(PGfr3T_fwind[np.where(PGfr3T_fwind < PGfr3T_fwind)])\n",
        "\n",
        "print(VaRTotal_fwind)\n",
        "print(VaRTotalfr1_fwind)\n",
        "print(VaRTotalfr2_fwind)\n",
        "print(VaRTotalfr3_fwind)\n",
        "print(CVaRTotal_fwind)\n",
        "print(CVaRTotalfr1_fwind)\n",
        "print(CVaRTotalfr2_fwind)\n",
        "print(CVaRTotalfr3_fwind)\n",
        "\n",
        "#VaR Total\n",
        "\n",
        "VaRTotal_fwind=np.quantile(PGT_fwind, 1-alpha)\n",
        "VaRTotalfr1_fwind=np.quantile(PGfr1T_fwind, 1-alpha)\n",
        "VaRTotalfr2_fwind=np.quantile(PGfr2T_fwind, 1-alpha)\n",
        "VaRTotalfr3_fwind=np.quantile(PGfr3T_fwind, 1-alpha)\n",
        "\n",
        "CVaRTotal_fwind= np.mean(PGT_fwind[np.where(PGT_fwind < VaRTotal_fwind)])\n",
        "CVaRTotalfr1_fwind= np.mean(PGfr1T_fwind[np.where(PGfr1T_fwind < PGfr1T_fwind)])\n",
        "CVaRTotalfr2_fwind= np.mean(PGfr2T_fwind[np.where(PGfr2T_fwind < PGfr2T_fwind)])\n",
        "CVaRTotalfr3_fwind= np.mean(PGfr3T_fwind[np.where(PGfr3T_fwind < PGfr3T_fwind)])\n",
        "\n",
        "print(VaRTotal_fwind)\n",
        "print(VaRTotalfr1_fwind)\n",
        "print(VaRTotalfr2_fwind)\n",
        "print(VaRTotalfr3_fwind)\n",
        "print(CVaRTotal_fwind)\n",
        "print(CVaRTotalfr1_fwind)\n",
        "print(CVaRTotalfr2_fwind)\n",
        "print(CVaRTotalfr3_fwind)"
      ],
      "metadata": {
        "colab": {
          "base_uri": "https://localhost:8080/"
        },
        "id": "eI4yojWiwXPq",
        "outputId": "faa789b9-489c-4f58-bd08-06bd65ce8ec4"
      },
      "execution_count": null,
      "outputs": [
        {
          "output_type": "stream",
          "name": "stdout",
          "text": [
            "137384.7686498867\n",
            "137384.7686498867\n",
            "137384.7686498867\n",
            "137384.7686498867\n",
            "136175.28088338076\n",
            "nan\n",
            "nan\n",
            "nan\n",
            "137384.7686498867\n",
            "137384.7686498867\n",
            "137384.7686498867\n",
            "137384.7686498867\n",
            "136175.28088338076\n",
            "nan\n",
            "nan\n",
            "nan\n"
          ]
        },
        {
          "output_type": "stream",
          "name": "stderr",
          "text": [
            "<ipython-input-30-4fcc48e6f919>:18: DeprecationWarning: Conversion of an array with ndim > 0 to a scalar is deprecated, and will error in future. Ensure you extract a single element from your array before performing this operation. (Deprecated NumPy 1.25.)\n",
            "  DeltaX_s_fwind=DeltaX_port[:, int(sum(n_if[:5])) : int(sum(n_if[:6]))]  # Key step\n"
          ]
        }
      ]
    },
    {
      "cell_type": "code",
      "source": [
        "X_s_fwind[i, (n_if[5][0]-1)]"
      ],
      "metadata": {
        "id": "o3cLMHZWKfNB",
        "outputId": "d0c9fcce-9f9c-4d4d-f1fb-6a4ff8e21529",
        "colab": {
          "base_uri": "https://localhost:8080/"
        }
      },
      "execution_count": null,
      "outputs": [
        {
          "output_type": "execute_result",
          "data": {
            "text/plain": [
              "50203.97996540688"
            ]
          },
          "metadata": {},
          "execution_count": 27
        }
      ]
    },
    {
      "cell_type": "markdown",
      "source": [
        "# Calculo de VaR del portafolio"
      ],
      "metadata": {
        "id": "qPfzJJSYBVqh"
      }
    },
    {
      "cell_type": "code",
      "source": [
        "# Acciones\n",
        "PGPort_ACC = PGfr2_acc_div #+ PGfr3T_fwind\n",
        "VaRPort_ACC = np.quantile(PGPort_ACC, 1-alpha)\n",
        "CVaRPort_ACC = np.mean(PGPort_ACC[PGPort_ACC < VaRPort_ACC])\n",
        "\n",
        "# Tasa de Interés\n",
        "PGPort_TI = PGT_bd + PGT_sw + PGfr1T_oir + PGfr2T_oir +  PGfr1T_fwtdc + PGfr2T_fwtdc #+ PGfr1T_fwind + PGfr2T_fwind\n",
        "VaRPort_TI = np.quantile(PGPort_TI, 1-alpha)\n",
        "CVaRPort_TI = np.mean(PGPort_TI[PGPort_TI < VaRPort_TI])\n",
        "\n",
        "# Tipo de cambio\n",
        "PGPort_TDC = PGfr1_acc_div + PGfr3T_fwtdc\n",
        "VaRPort_TDC = np.quantile(PGPort_TDC, 1-alpha)\n",
        "CVaRPort_TDC = np.mean(PGPort_TDC[PGPort_TDC < VaRPort_TDC])\n",
        "\n",
        "# Volatilidad\n",
        "PGPort_VOL = PGfr3T_oir\n",
        "VaRPort_VOL = np.quantile(PGPort_VOL, 1-alpha)\n",
        "CVaRPort_VOL = np.mean(PGPort_VOL[PGPort_VOL < VaRPort_VOL])\n",
        "\n",
        "# Riesgo de todo el portafolio\n",
        "PGT_Port = np.column_stack((PGPort_ACC, PGPort_TI, PGPort_TDC, PGPort_VOL))\n",
        "VaRTotal_Port = np.quantile(PGT_Port, 1-alpha)\n",
        "CVaRTotal_Port = np.mean(PGT_Port[PGT_Port < VaRTotal_Port])\n",
        "\n",
        "print(VaRTotal_Port)\n",
        "print(CVaRTotal_Port)\n",
        "print(V0T_port)"
      ],
      "metadata": {
        "colab": {
          "base_uri": "https://localhost:8080/"
        },
        "id": "QzwQ_4395yjM",
        "outputId": "6fa93503-036a-4bd8-c774-699ff816dae8"
      },
      "execution_count": null,
      "outputs": [
        {
          "output_type": "stream",
          "name": "stdout",
          "text": [
            "-20582.192032581916\n",
            "-34232.210281856846\n",
            "981899.493300085\n"
          ]
        }
      ]
    }
  ]
}