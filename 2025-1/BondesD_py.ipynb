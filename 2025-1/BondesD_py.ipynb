{
  "nbformat": 4,
  "nbformat_minor": 0,
  "metadata": {
    "colab": {
      "provenance": [],
      "authorship_tag": "ABX9TyMbpKUx+AXl9v8XKjodEI9q",
      "include_colab_link": true
    },
    "kernelspec": {
      "name": "python3",
      "display_name": "Python 3"
    },
    "language_info": {
      "name": "python"
    }
  },
  "cells": [
    {
      "cell_type": "markdown",
      "metadata": {
        "id": "view-in-github",
        "colab_type": "text"
      },
      "source": [
        "<a href=\"https://colab.research.google.com/github/pikey-msc/RiesgosFinancieros/blob/master/2025-1/BondesD_py.ipynb\" target=\"_parent\"><img src=\"https://colab.research.google.com/assets/colab-badge.svg\" alt=\"Open In Colab\"/></a>"
      ]
    },
    {
      "cell_type": "markdown",
      "source": [
        "#Cargar info de github"
      ],
      "metadata": {
        "id": "hFHGkWkHOKa1"
      }
    },
    {
      "cell_type": "code",
      "source": [
        "!rm -rf RiesgosFinancieros\n",
        "!git clone \"https://github.com/pikey-msc/RiesgosFinancieros/\""
      ],
      "metadata": {
        "colab": {
          "base_uri": "https://localhost:8080/"
        },
        "id": "MCuzR0HlOIMm",
        "outputId": "25b93ee6-0443-4668-b28c-3f625969dbb1"
      },
      "execution_count": 21,
      "outputs": [
        {
          "output_type": "stream",
          "name": "stdout",
          "text": [
            "Cloning into 'RiesgosFinancieros'...\n",
            "remote: Enumerating objects: 1100, done.\u001b[K\n",
            "remote: Counting objects: 100% (332/332), done.\u001b[K\n",
            "remote: Compressing objects: 100% (156/156), done.\u001b[K\n",
            "remote: Total 1100 (delta 185), reused 279 (delta 158), pack-reused 768 (from 1)\u001b[K\n",
            "Receiving objects: 100% (1100/1100), 63.87 MiB | 22.05 MiB/s, done.\n",
            "Resolving deltas: 100% (690/690), done.\n",
            "Updating files: 100% (434/434), done.\n"
          ]
        }
      ]
    },
    {
      "cell_type": "markdown",
      "source": [
        "## Carga información insumos"
      ],
      "metadata": {
        "id": "3zwbsG7sN_Hk"
      }
    },
    {
      "cell_type": "code",
      "execution_count": 22,
      "metadata": {
        "id": "xjOEQhxVM-xJ"
      },
      "outputs": [],
      "source": [
        "import pandas as pd\n",
        "import numpy as np\n",
        "from datetime import datetime, timedelta\n",
        "\n",
        "fval = datetime.strptime(\"20230310\", \"%Y%m%d\") #Fecha de valoración\n",
        "itpl = 0 #poner 0 si se quiere interpolación lineal o 1 si se quiere tasa alambrada\n",
        "alpha = 0.98 #Nivel de confianza para obtener estimaciones de riesgo\n",
        "\n",
        "#BONDE D\n",
        "# Leer datos de tasa_guber.txt\n",
        "base = \"RiesgosFinancieros/2024-1/Tarea/tasa_guber.txt\"\n",
        "btasadescst=\"RiesgosFinancieros/2024-1/Tarea/tasa_guber_st.txt\"\n",
        "btasafondeo=\"RiesgosFinancieros/2024-1/Tarea/tfondeo.txt\"\n",
        "plazos_bdm=np.array([358, 405, 550, 1200, 1800])\n",
        "plazocupon_bdm=np.array([28, 28, 28, 28, 28])\n",
        "contratos_bdm=np.array([220, -290, 290, -460, 100])\n",
        "nominal_bdm=100\n",
        "\n",
        "data1 = pd.read_table(base, sep=\"\\t\", header=None)\n",
        "n = data1.shape[0]\n",
        "m_bd = data1.shape[1]\n",
        "X_orig = data1.iloc[1:n, 0:m_bd]\n",
        "X1_orig = pd.DataFrame(data1.iloc[1:n, 1:m_bd], dtype=float)\n",
        "X1_orig['Date'] = pd.to_datetime(X_orig[0], format='%Y%m%d')\n",
        "nodos = data1.iloc[0, 1:m_bd]\n",
        "n -= 1\n",
        "\n",
        "# Leer datos de tasa_guber_st.txt\n",
        "data3 = pd.read_table(btasadescst, sep=\"\\t\", header=None)\n",
        "n3 = data3.shape[0]\n",
        "m3_bd = data3.shape[1]\n",
        "X3a_orig_bd = data3.iloc[1:n3, 0:m3_bd]\n",
        "X3_orig_bd = pd.DataFrame(data3.iloc[1:n3, 1:m3_bd], dtype=float)\n",
        "X3_orig_bd['Date'] = pd.to_datetime(X3a_orig_bd[0], format='%Y%m%d')\n",
        "nodos3_bd = data3.iloc[0, 1:m3_bd]\n",
        "n3 -= 1\n",
        "\n",
        "# # Leer datos de tfondeo.txt\n",
        "data2 = pd.read_table(btasafondeo, sep=\"\\t\", header=None)\n",
        "n2 = data2.shape[0]\n",
        "X2_orig = data2.iloc[1:n2, 0:2]\n",
        "X2_orig_bd = X2_orig.copy()\n",
        "X2_orig_bd[0] = pd.to_datetime(X2_orig_bd[0], format='%Y%m%d')\n",
        "X2_orig_bd[1] = X2_orig_bd[1].astype(float)\n",
        "\n",
        "# # Sucesión de días para tasa fondeo\n",
        "tfh = pd.date_range(start=min(X2_orig_bd[0]), end=max(X2_orig_bd[0]), freq='D')\n",
        "tfhd = pd.DataFrame({'fecha': tfh})\n",
        "\n",
        "\n",
        "# Asegúrate de que ambos DataFrames estén ordenados por la columna de fecha de manera descendente\n",
        "tfhd = tfhd.sort_values(by='fecha', ascending=True)\n",
        "X2_orig_bd = X2_orig_bd.sort_values(by=0, ascending=True)  # Asumiendo que la columna 'V1' es ahora la columna 0\n",
        "\n",
        "# Renombrar columnas para preparar para merge_asof\n",
        "# tfhd = tfhd.rename(columns={'fecha': 'join_date'})\n",
        "X2_orig_bd = X2_orig_bd.rename(columns={0: 'fecha'})\n",
        "\n",
        "# Realizar el rolling join con merge_asof\n",
        "X2_orig_bd = pd.merge_asof(tfhd, X2_orig_bd, on='fecha', direction='backward')\n",
        "\n",
        "\n",
        "# Si quieres que el resultado esté en el DataFrame original (tfhd), puedes hacer lo siguiente:\n",
        "X2_orig_bd = pd.merge(tfhd, X2_orig_bd, on='fecha', how='outer')\n",
        "\n",
        "X1_orig = X1_orig.rename(columns={0: \"fecha\"})\n",
        "# Filtrar tasas de fondeo\n",
        "\n",
        "tf_act = X2_orig_bd.loc[X2_orig_bd['fecha'] == fval, 1].values[0] / 100\n",
        "tf_int = X2_orig_bd.loc[(X2_orig_bd['fecha'] <= fval) & (X2_orig_bd['fecha'] >= (fval -  timedelta(int(plazocupon_bdm[0])))), 1] / 100\n",
        "tf_int=tf_int[::-1]  # se hace este cambio para ordenar de mayor a menor\n",
        "\n",
        "\n",
        "# Ordenar el DataFrame por la columna de unión\n",
        "X1_orig = X1_orig.sort_values('Date', ascending=True)\n",
        "\n",
        "# Agregar la columna join_date al DataFrame X1_orig\n",
        "X1_orig['join_date'] = X1_orig['Date']\n",
        "\n",
        "# Ordenar el DataFrame X2a_orig por la columna de unión\n",
        "X2_orig_bd = X2_orig_bd.sort_values('fecha', ascending=True)\n",
        "\n",
        "# Hacer el merge (join) de los DataFrames\n",
        "X2_pr = pd.merge_asof(X1_orig, X2_orig_bd, left_on='Date', right_on='fecha')\n"
      ]
    },
    {
      "cell_type": "markdown",
      "source": [
        "## Emparejar por fecha los insumos"
      ],
      "metadata": {
        "id": "66JAO2asZ078"
      }
    },
    {
      "cell_type": "code",
      "source": [
        "#función para unir por fecha\n",
        "def filter_on_date(base_df, join_df, description):\n",
        "    # Asegurarse de que ambos objetos sean DataFrames con una columna 'Date'\n",
        "    if not isinstance(base_df, pd.DataFrame):\n",
        "        base_df = pd.DataFrame({'Date': base_df})\n",
        "    if not isinstance(join_df, pd.DataFrame):\n",
        "        join_df = pd.DataFrame({'Date': join_df})\n",
        "\n",
        "    result = pd.merge(base_df, join_df, on='Date', how='inner')[['Date']].drop_duplicates()\n",
        "    print(f\"Number of rows in {description}: {len(result)}\")\n",
        "    return result\n",
        "\n",
        "# poner los conjuntos que se unirán quitando el primero\n",
        "dataframes_to_join = [(X3_orig_bd, \"Cetes_y_sobretasas\"),]\n",
        "\n",
        "#conjunto primero a unir por fecha\n",
        "current_df = X1_orig\n",
        "\n",
        "# ciclo para unir conjuntos por fecha\n",
        "for join_df, description in dataframes_to_join:\n",
        "    current_df = filter_on_date(current_df, join_df, description)\n",
        "\n",
        "# Mostrar el DataFrame final\n",
        "print(current_df.drop_duplicates())\n",
        "\n",
        "# Suponemos que lin_gub_bmybdst_flibfwdspind_swcupvp_oirsvpvol y otras DataFrames ya están definidas\n",
        "\n",
        "# Calcula el número de filas\n",
        "n = len(current_df)\n",
        "\n",
        "# ordenar data frame\n",
        "current_df=current_df.sort_values(by=\"Date\", ascending=False)\n",
        "\n",
        "# Borrar las fechas ya alineadas y ordenadas y quedarse con las tasas\n",
        "def join_and_drop_date(base_df, join_df, divide_by_100=False):\n",
        "    result = pd.merge(base_df, join_df, on='Date', how='inner').sort_values('Date', ascending=False)\n",
        "    result.drop(columns=['Date'], inplace=True)\n",
        "    if divide_by_100:\n",
        "        result = result / 100\n",
        "    return result\n",
        "\n",
        "# Historia de curvas de bonde\n",
        "X1_orig = join_and_drop_date(current_df, X1_orig)\n",
        "X1_orig.drop(columns=['join_date'], inplace=True)\n",
        "X3_orig_bd = join_and_drop_date(current_df, X3_orig_bd)\n"
      ],
      "metadata": {
        "colab": {
          "base_uri": "https://localhost:8080/"
        },
        "id": "O4XWTfo9Z4I5",
        "outputId": "7affca5e-a28f-421b-bd82-a19f04ece8e0"
      },
      "execution_count": 23,
      "outputs": [
        {
          "output_type": "stream",
          "name": "stdout",
          "text": [
            "Number of rows in Cetes_y_sobretasas: 255\n",
            "          Date\n",
            "0   2022-09-28\n",
            "1   2022-09-29\n",
            "2   2022-09-30\n",
            "3   2022-10-03\n",
            "4   2022-10-04\n",
            "..         ...\n",
            "250 2023-09-25\n",
            "251 2023-09-26\n",
            "252 2023-09-27\n",
            "253 2023-09-28\n",
            "254 2023-09-29\n",
            "\n",
            "[255 rows x 1 columns]\n"
          ]
        }
      ]
    },
    {
      "cell_type": "markdown",
      "source": [
        "# Enfoque a portafolio de insumos"
      ],
      "metadata": {
        "id": "yIViCi2gO6Qj"
      }
    },
    {
      "cell_type": "code",
      "source": [
        "m = len(plazos_bdm)\n",
        "N_bd = (plazos_bdm // plazocupon_bdm) + 1  # número de cupones a pagar\n",
        "\n",
        "# Inicialización de matrices/vectores\n",
        "VTplazos_bdm = np.zeros(np.sum(N_bd))\n",
        "contratos_bdmT = np.zeros(np.sum(N_bd))\n",
        "plazocupon_bdmT = np.zeros(np.sum(N_bd))\n",
        "tasafijaT_bd = np.zeros(np.sum(N_bd))\n",
        "ulNomT_bd = np.zeros(np.sum(N_bd))\n",
        "Xvp_bd = np.zeros((n, len(VTplazos_bdm)))\n",
        "Xst_bd = np.zeros((n, len(VTplazos_bdm)))\n",
        "\n",
        "# Cálculos adicionales\n",
        "plazini_bd = plazos_bdm - plazocupon_bdm * (N_bd - 1)\n",
        "ddv = plazocupon_bdm - plazini_bd\n",
        "tfcupon = np.zeros(m)\n",
        "tfcupondev = np.zeros(m)\n",
        "tfcupgen = ((1 + tf_act / 360)**(plazocupon_bdm[0]) - 1) * 360 / plazocupon_bdm[0]\n",
        "\n",
        "# Bucle para calcular tasas de cupón\n",
        "for j in range(m):  # en Python los índices comienzan en 0\n",
        "    tfcupondev[j] = ((np.prod(1 + tf_int[0:ddv[j]] / 360) - 1) * 360) / ddv[j]\n",
        "    tfcupon[j] = (((1 + tfcupondev[j] * ddv[j] / 360) * (1 + tf_act / 360)**(plazocupon_bdm[0] - ddv[j]) - 1) * 360) / plazocupon_bdm[0]\n",
        "\n",
        "print(tfcupondev)\n",
        "print(tfcupon)\n",
        "\n",
        "from scipy.interpolate import interp1d\n",
        "\n",
        "for j in range(m):\n",
        "    sum_N_bd = np.sum(N_bd[:j+1])\n",
        "    sum_N_bd_prev = np.sum(N_bd[:j]) if j > 0 else 0\n",
        "\n",
        "    if j == 0:\n",
        "        VTplazos_bdm[:sum_N_bd] = np.arange(plazini_bd[j], plazos_bdm[j] + 1, plazocupon_bdm[j])\n",
        "        contratos_bdmT[:sum_N_bd] = contratos_bdm[j]\n",
        "        plazocupon_bdmT[:sum_N_bd] = plazocupon_bdm[j]\n",
        "        ulNomT_bd[sum_N_bd - 1] = contratos_bdm[j]\n",
        "        tasafijaT_bd[0] = tfcupon[j]\n",
        "        tasafijaT_bd[1:sum_N_bd] = tfcupgen\n",
        "    else:\n",
        "        VTplazos_bdm[sum_N_bd_prev:sum_N_bd] = np.arange(plazini_bd[j], plazos_bdm[j] + 1, plazocupon_bdm[j])\n",
        "        contratos_bdmT[sum_N_bd_prev:sum_N_bd] = contratos_bdm[j]\n",
        "        plazocupon_bdmT[sum_N_bd_prev:sum_N_bd] = plazocupon_bdm[j]\n",
        "        tasafijaT_bd[sum_N_bd_prev] = tfcupon[j]\n",
        "        tasafijaT_bd[sum_N_bd_prev + 1:sum_N_bd] = tfcupgen\n",
        "        ulNomT_bd[sum_N_bd - 1] = contratos_bdm[j]\n",
        "\n",
        "for i in range(n):\n",
        "    if itpl == 0:\n",
        "        interpolator = interp1d(nodos, X1_orig.iloc[i, :], kind='linear', fill_value=\"interpolate\")\n",
        "        Xvp_bd[i, :] = interpolator(VTplazos_bdm)\n",
        "\n",
        "        interpolator3 = interp1d(nodos3_bd, X3_orig_bd.iloc[i, :], kind='linear', fill_value=\"interpolate\")\n",
        "        Xst_bd[i, :] = interpolator3(VTplazos_bdm)\n",
        "    else:\n",
        "        # Código para interpolación 'talamb' (no definido en el ejemplo de R original)\n",
        "        pass\n",
        "\n",
        "X2_pr=pd.merge(X2_orig_bd, current_df, left_on='fecha', right_on=\"Date\", how='inner').sort_values('Date', ascending=False)\n",
        "X_bd_tc = (np.ones((n, len(contratos_bdmT))).T * (np.array(X2_pr[1]) / 100)).T\n",
        "X_bd_ext = np.hstack((X_bd_tc, Xvp_bd, Xst_bd))\n"
      ],
      "metadata": {
        "colab": {
          "base_uri": "https://localhost:8080/"
        },
        "id": "UV7N55spO43O",
        "outputId": "9b22d806-425f-4bf9-b3ab-641e3d26ac06"
      },
      "execution_count": 25,
      "outputs": [
        {
          "output_type": "stream",
          "name": "stdout",
          "text": [
            "[0.11001729 0.11038289 0.11022157 0.10992531 0.11044562]\n",
            "[0.10980679 0.11015967 0.10996162 0.10974557 0.11031451]\n"
          ]
        }
      ]
    },
    {
      "cell_type": "markdown",
      "source": [
        "# Valuación\n",
        "\n",
        "**Características**\n",
        "\n",
        "Valor nominal: Generalmente, 100 pesos pero varía por emisora.\n",
        "\n",
        "Plazo: de 1 a 360 días, según las necesidades de financiamiento de la empresa emisora.\n",
        "\n",
        "Rendimiento: al igual que los bonos, este instrumento se compra a descuento respecto de su valor nominal, pero por lo general pagan una sobretasa referenciada a tasa fija o variable.\n",
        "\n",
        "Garantía: este título, por ser un pagaré, no ofrece ninguna garantía, por lo que es importante evaluar bien al emisor.\n"
      ],
      "metadata": {
        "id": "GnQ4Zs2XPKse"
      }
    },
    {
      "cell_type": "markdown",
      "source": [
        "\n",
        "$$\\Large V=\\sum_{i=1}^{n}\\frac{N\\cdot C \\cdot t_{c_{p_i}}\\cdot p_c/360}{(1+t_{vp_{p_i}} \\cdot p_i/360)} + \\frac{N\\cdot C}{(1+t_{vp_{p_n}} \\cdot p_n/360)}$$\n",
        "\tDonde: \\\\\n",
        "$N$: Valor Nominal del bono\\\n",
        "$C$: Número de contratos\\\n",
        "$p_{c}$: Plazo fijo para cada pago de intereses del cupón.\\\n",
        "$p_{i}$: Plazo acumulado (en días) al cupón $i$.\\\n",
        "$t_{c_{p_i}}$: Tasa cupón variable, se obtiene de la curva subyacente que le corresponda, casi siempre con la tasa forward entre $p_{i-1}$ y $p_i$.\\\n",
        "$t_{vp_{p_i}}$: Tasa valor presente que depende de la curva de bonos según el plazo acumulado al pago del cupón $i$.\n",
        "\n",
        "\n",
        "En general tenemos dos factores de riesgo subyacente (la curva de valor presente y la curva de cupones) pero como cada cupón tiene ``$n$'' flujos entonces tiene $n$ factores de riesgo para los valores presentes y $n$ factores de riesgo para los cupones, por lo que tienen $2n$ factores de riesgo específicos que provienen de dos factores de riesgo subyacentes.\n",
        "Para el caso de $K$ bonos cupón variable el número de factores de riesgo sería $2\\sum_{i=1}^{K}n_i$, donde $n_i$ es el número de cupones a pagar del bono $i$."
      ],
      "metadata": {
        "id": "S_ykOqBKQJNQ"
      }
    },
    {
      "cell_type": "code",
      "source": [
        "def bondeD(contratosT, nominal, tasafijaT, plazocuponT, VTplazos, Xvp, Xst, N, ulNomT):\n",
        "    V0 = np.zeros(len(N))  # Inicializa V0, equivalente a matrix(0, 1, nrow(as.matrix(N))) en R\n",
        "    V0f = (((contratosT * tasafijaT * (plazocuponT / 360)) + ulNomT) / (1 + (Xvp + Xst) * VTplazos / 360)) * nominal\n",
        "\n",
        "    for j in range(len(N)):  # Cambia índices de 1:nrow(as.matrix(N)) a 0:(len(N)-1)\n",
        "        if j == 0:  # Cambia de j==1 a j==0\n",
        "            V0[j] = np.sum(V0f[:N[j]])\n",
        "        else:\n",
        "            V0[j] = np.sum(V0f[np.sum(N[:j]):np.sum(N[:j+1])])\n",
        "\n",
        "    return V0\n",
        "\n",
        "# Suponiendo que contratosT, nominal, tasafijaT, plazocuponT, VTplazos, Xvp, Xst, y N ya están definidos\n",
        "V0_bd = bondeD(contratos_bdmT, nominal_bdm, tf_act, plazocupon_bdmT, VTplazos_bdm, Xvp_bd[0,], Xst_bd[0,], N_bd, ulNomT_bd)  # Cambia de Xvp[1, ] y Xst[1, ] a Xvp[0, :] y Xst[0, :]\n",
        "\n",
        "print(V0_bd)"
      ],
      "metadata": {
        "colab": {
          "base_uri": "https://localhost:8080/"
        },
        "id": "rDF8U9j6PMpa",
        "outputId": "de402918-1633-453b-d1a0-8aa042e35bab"
      },
      "execution_count": 26,
      "outputs": [
        {
          "output_type": "stream",
          "name": "stdout",
          "text": [
            "[ 22161.21115235 -29320.69510623  29377.07811909 -47181.61323033\n",
            "  10480.40284521]\n"
          ]
        }
      ]
    }
  ]
}