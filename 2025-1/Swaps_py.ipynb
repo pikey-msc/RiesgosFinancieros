{
  "nbformat": 4,
  "nbformat_minor": 0,
  "metadata": {
    "colab": {
      "provenance": [],
      "authorship_tag": "ABX9TyMjlfxOVhYDv3DJ1Hek4hZ0",
      "include_colab_link": true
    },
    "kernelspec": {
      "name": "python3",
      "display_name": "Python 3"
    },
    "language_info": {
      "name": "python"
    }
  },
  "cells": [
    {
      "cell_type": "markdown",
      "metadata": {
        "id": "view-in-github",
        "colab_type": "text"
      },
      "source": [
        "<a href=\"https://colab.research.google.com/github/pikey-msc/RiesgosFinancieros/blob/master/2025-1/Swaps_py.ipynb\" target=\"_parent\"><img src=\"https://colab.research.google.com/assets/colab-badge.svg\" alt=\"Open In Colab\"/></a>"
      ]
    },
    {
      "cell_type": "markdown",
      "source": [
        "#Cargar info de github"
      ],
      "metadata": {
        "id": "hFHGkWkHOKa1"
      }
    },
    {
      "cell_type": "code",
      "source": [
        "!rm -rf RiesgosFinancieros\n",
        "!git clone \"https://github.com/pikey-msc/RiesgosFinancieros/\""
      ],
      "metadata": {
        "colab": {
          "base_uri": "https://localhost:8080/"
        },
        "id": "MCuzR0HlOIMm",
        "outputId": "1e3656d1-a4be-4198-fc3a-9fe638358ffd"
      },
      "execution_count": 1,
      "outputs": [
        {
          "output_type": "stream",
          "name": "stdout",
          "text": [
            "Cloning into 'RiesgosFinancieros'...\n",
            "remote: Enumerating objects: 1108, done.\u001b[K\n",
            "remote: Counting objects: 100% (340/340), done.\u001b[K\n",
            "remote: Compressing objects: 100% (164/164), done.\u001b[K\n",
            "remote: Total 1108 (delta 189), reused 279 (delta 158), pack-reused 768 (from 1)\u001b[K\n",
            "Receiving objects: 100% (1108/1108), 63.88 MiB | 9.02 MiB/s, done.\n",
            "Resolving deltas: 100% (694/694), done.\n",
            "Updating files: 100% (436/436), done.\n"
          ]
        }
      ]
    },
    {
      "cell_type": "markdown",
      "source": [
        "## Carga información insumos"
      ],
      "metadata": {
        "id": "3zwbsG7sN_Hk"
      }
    },
    {
      "cell_type": "code",
      "execution_count": 2,
      "metadata": {
        "id": "xjOEQhxVM-xJ"
      },
      "outputs": [],
      "source": [
        "import pandas as pd\n",
        "import numpy as np\n",
        "from datetime import datetime, timedelta\n",
        "\n",
        "fval = datetime.strptime(\"20230310\", \"%Y%m%d\") #Fecha de valoración\n",
        "itpl = 0 #poner 0 si se quiere interpolación lineal o 1 si se quiere tasa alambrada\n",
        "alpha = 0.98 #Nivel de confianza para obtener estimaciones de riesgo\n",
        "\n",
        "#SWAP\n",
        "btasadesc_sw=\"RiesgosFinancieros/2024-1/Tarea/tasa_TIIE_SW_OP.txt\"\n",
        "btasacupvar_sw=\"RiesgosFinancieros/2024-1/Tarea/tasa_DIRS_SW_OP.txt\"\n",
        "tasafija_sw=np.array([0.079,0.075]) #se establece la tasa fija a pagar para cada swap\n",
        "plazos_sw=np.array([588,360]) #se establece el número de días que vivirá el swap\n",
        "plazocupon_sw=np.array([28,28]) #se establece el número de días que se pagará cada cupón\n",
        "contratos_sw=np.array([-1600,1000]) #se establece el número de contratos_sw de cada swap\n",
        "nominal_sw=np.array([1,1]) #se establece el nominal_sw de cada swap\n",
        "por_sw=np.array([0,0]) #se establece el porcentaje de cada swap\n",
        "\n",
        "\n",
        "\n",
        "data1 = pd.read_table(btasadesc_sw,header=None)\n",
        "n1 = data1.shape[0]\n",
        "m1_orig_sw = data1.shape[1]\n",
        "X1_orig_sw = pd.DataFrame(data1.iloc[1:n1, 1:m1_orig_sw], dtype=float)\n",
        "X1_orig_sw['Date'] = pd.to_datetime(data1.iloc[1:n1, 0], format = '%Y%m%d')\n",
        "nodos1_sw = data1.iloc[0, 1:m1_orig_sw]\n",
        "\n",
        "data2 = pd.read_table(btasacupvar_sw,header=None)\n",
        "n2 = data2.shape[0]\n",
        "m2_orig_sw = data2.shape[1]\n",
        "X2_orig_sw = pd.DataFrame(data2.iloc[1:n2, 1:m2_orig_sw], dtype=float)\n",
        "X2_orig_sw['Date'] = pd.to_datetime(data2.iloc[1:n1, 0], format = '%Y%m%d')\n",
        "nodos2_sw = data2.iloc[0, 1:m2_orig_sw]\n"
      ]
    },
    {
      "cell_type": "markdown",
      "source": [
        "## Emparejar por fecha los insumos"
      ],
      "metadata": {
        "id": "66JAO2asZ078"
      }
    },
    {
      "cell_type": "code",
      "source": [
        "#función para unir por fecha\n",
        "def filter_on_date(base_df, join_df, description):\n",
        "    # Asegurarse de que ambos objetos sean DataFrames con una columna 'Date'\n",
        "    if not isinstance(base_df, pd.DataFrame):\n",
        "        base_df = pd.DataFrame({'Date': base_df})\n",
        "    if not isinstance(join_df, pd.DataFrame):\n",
        "        join_df = pd.DataFrame({'Date': join_df})\n",
        "\n",
        "    result = pd.merge(base_df, join_df, on='Date', how='inner')[['Date']].drop_duplicates()\n",
        "    print(f\"Number of rows in {description}: {len(result)}\")\n",
        "    return result\n",
        "\n",
        "# poner los conjuntos que se unirán quitando el primero\n",
        "dataframes_to_join = [(X2_orig_sw, \"Swapsvp_swaps_cupon\"),]\n",
        "\n",
        "#conjunto primero a unir por fecha\n",
        "current_df = X1_orig_sw\n",
        "\n",
        "# ciclo para unir conjuntos por fecha\n",
        "for join_df, description in dataframes_to_join:\n",
        "    current_df = filter_on_date(current_df, join_df, description)\n",
        "\n",
        "# Mostrar el DataFrame final\n",
        "print(current_df.drop_duplicates())\n",
        "\n",
        "# Suponemos que lin_gub_bmybdst_flibfwdspind_swcupvp_oirsvpvol y otras DataFrames ya están definidas\n",
        "\n",
        "# Calcula el número de filas\n",
        "n = len(current_df)\n",
        "\n",
        "# ordenar data frame\n",
        "current_df=current_df.sort_values(by=\"Date\", ascending=False)\n",
        "\n",
        "# Borrar las fechas ya alineadas y ordenadas y quedarse con las tasas\n",
        "def join_and_drop_date(base_df, join_df, divide_by_100=False):\n",
        "    result = pd.merge(base_df, join_df, on='Date', how='inner').sort_values('Date', ascending=False)\n",
        "    result.drop(columns=['Date'], inplace=True)\n",
        "    if divide_by_100:\n",
        "        result = result / 100\n",
        "    return result\n",
        "\n",
        "# Historia de curvas de bonde\n",
        "X1_orig_sw = join_and_drop_date(current_df, X1_orig_sw)\n",
        "X2_orig_sw = join_and_drop_date(current_df, X2_orig_sw)\n"
      ],
      "metadata": {
        "colab": {
          "base_uri": "https://localhost:8080/"
        },
        "id": "O4XWTfo9Z4I5",
        "outputId": "8dd0e386-7845-4e13-df3e-f954a80b462c"
      },
      "execution_count": 3,
      "outputs": [
        {
          "output_type": "stream",
          "name": "stdout",
          "text": [
            "Number of rows in Swapsvp_swaps_cupon: 255\n",
            "          Date\n",
            "0   2023-09-29\n",
            "1   2023-09-28\n",
            "2   2023-09-27\n",
            "3   2023-09-26\n",
            "4   2023-09-25\n",
            "..         ...\n",
            "250 2022-10-04\n",
            "251 2022-10-03\n",
            "252 2022-09-30\n",
            "253 2022-09-29\n",
            "254 2022-09-28\n",
            "\n",
            "[255 rows x 1 columns]\n"
          ]
        }
      ]
    },
    {
      "cell_type": "markdown",
      "source": [
        "# Enfoque a portafolio de insumos"
      ],
      "metadata": {
        "id": "yIViCi2gO6Qj"
      }
    },
    {
      "cell_type": "code",
      "source": [
        "def approx(x, y, new_x, rule=2):\n",
        "    return np.interp(new_x, x, y.astype(float))\n",
        "\n",
        "\n",
        "nodosvp=nodos1_sw\n",
        "nodostc=nodos2_sw\n",
        "curvavp=X1_orig_sw\n",
        "curvatc=X2_orig_sw\n",
        "n1=len(curvavp)\n",
        "n2=len(curvatc)\n",
        "\n",
        "\n",
        "m = len(plazos_sw)\n",
        "N = (plazos_sw // plazocupon_sw) + 1  # número de cupones a pagar\n",
        "\n",
        "# Inicialización de matrices/vectores\n",
        "VTplazos_sw = np.zeros(np.sum(N))\n",
        "VTplazos_swc = np.zeros(np.sum(N))\n",
        "contratos_swT = np.zeros(np.sum(N))\n",
        "por_swT=np.zeros(sum(N)) #vector de todos los dummy si paga o recibe de todos los flujos de todos los contratos_sw\n",
        "plazocupon_swT = np.zeros(np.sum(N))\n",
        "tasafija_swT = np.zeros(np.sum(N))\n",
        "nominal_swT = np.zeros(np.sum(N))\n",
        "Xvp = np.zeros((n, len(VTplazos_sw)))\n",
        "Xtc = np.zeros((n, len(VTplazos_sw)))\n",
        "Xtcc = np.zeros((n, len(VTplazos_sw)))\n",
        "XtfwdT = np.zeros((n, len(VTplazos_sw)))\n",
        "\n",
        "# Cálculos adicionales\n",
        "plazini_sw = plazos_sw - plazocupon_sw * (N - 1)\n",
        "\n",
        "from scipy.interpolate import interp1d\n",
        "\n",
        "for j in range(m):\n",
        "    sum_N = np.sum(N[:j+1])\n",
        "    sum_N_prev = np.sum(N[:j]) if j > 0 else 0\n",
        "\n",
        "    if j == 0:\n",
        "        VTplazos_sw[:sum_N] = np.arange(plazini_sw[j], plazos_sw[j] + 1, plazocupon_sw[j])\n",
        "        VTplazos_swc[:sum_N] = np.concatenate(([0], VTplazos_sw[0:(sum_N - 1)]))\n",
        "        contratos_swT[:sum_N] = contratos_sw[j]\n",
        "        plazocupon_swT[:sum_N] = plazocupon_sw[j]\n",
        "        nominal_swT[:sum_N] = nominal_sw[j]\n",
        "        por_swT[:sum_N] = por_sw[j]\n",
        "        tasafija_swT[:sum_N] = tasafija_sw[j]\n",
        "    else:\n",
        "        VTplazos_sw[sum_N_prev:sum_N] = np.arange(plazini_sw[j], plazos_sw[j] + 1, plazocupon_sw[j])\n",
        "        VTplazos_swc[sum_N_prev:sum_N] = np.concatenate(([0], VTplazos_sw[sum_N_prev:(sum_N - 1)]))\n",
        "        contratos_swT[sum_N_prev:sum_N] = contratos_sw[j]\n",
        "        plazocupon_swT[sum_N_prev:sum_N] = plazocupon_sw[j]\n",
        "        nominal_swT[sum_N_prev:sum_N] = nominal_sw[j]\n",
        "        por_swT[sum_N_prev:sum_N] = por_sw[j]\n",
        "        tasafija_swT[sum_N_prev:sum_N] = tasafija_sw[j]\n",
        "\n",
        "\n",
        "for i in range(n):\n",
        "    if itpl == 0:\n",
        "        Xvp[i, :] = approx(nodosvp, curvavp.iloc[i, :], VTplazos_sw)\n",
        "        Xtc[i, :] = approx(nodostc, curvatc.iloc[i, :], VTplazos_sw)\n",
        "        Xtcc[i, :] = approx(nodostc, curvatc.iloc[i, :], VTplazos_swc)\n",
        "    else:\n",
        "        Xvp[i, :] = talamb(nodosvp, curvavp.iloc[i, :], VTplazos_sw)\n",
        "        Xtc[i, :] = talamb(nodostc, curvatc.iloc[i, :], VTplazos_sw)\n",
        "        Xtcc[i, :] = talamb(nodostc, curvatc.iloc[i, :], VTplazos_swc)\n",
        "\n",
        "    XtfwdT[i, :] = ((1 + Xtc[i, :] * VTplazos_sw / 360) / (1 + Xtcc[i, :] * VTplazos_swc / 360) - 1) * 360 / plazocupon_swT\n",
        "\n",
        "    j = 0\n",
        "    while j < len(VTplazos_sw):\n",
        "        if VTplazos_sw[j] <= plazocupon_swT[j]:\n",
        "            XtfwdT[i, j] = Xtc[i, j]\n",
        "        else:\n",
        "            j = np.sum(N[0:(j+1)]) - 1\n",
        "        j += 1\n",
        "\n",
        "X_sw = np.hstack((XtfwdT, Xvp))"
      ],
      "metadata": {
        "id": "UV7N55spO43O"
      },
      "execution_count": 4,
      "outputs": []
    },
    {
      "cell_type": "markdown",
      "source": [
        "# Valuación\n",
        "\n",
        "**Características**\n",
        "\n",
        "Valor nominal: Generalmente, 100 pesos pero varía por emisora.\n",
        "\n",
        "Plazo: de 1 a 360 días, según las necesidades de financiamiento de la empresa emisora.\n",
        "\n",
        "Rendimiento: al igual que los bonos, este instrumento se compra a descuento respecto de su valor nominal, pero por lo general pagan una sobretasa referenciada a tasa fija o variable.\n",
        "\n",
        "Garantía: este título, por ser un pagaré, no ofrece ninguna garantía, por lo que es importante evaluar bien al emisor.\n"
      ],
      "metadata": {
        "id": "GnQ4Zs2XPKse"
      }
    },
    {
      "cell_type": "markdown",
      "source": [
        "\n",
        "$$\\Large V=\\sum_{i=1}^{n}\\frac{N\\cdot C \\cdot t_{c_{p_i}}\\cdot p_c/360}{(1+t_{vp_{p_i}} \\cdot p_i/360)} + \\frac{N\\cdot C}{(1+t_{vp_{p_n}} \\cdot p_n/360)}$$\n",
        "\tDonde: \\\\\n",
        "$N$: Valor Nominal del bono\\\n",
        "$C$: Número de contratos\\\n",
        "$p_{c}$: Plazo fijo para cada pago de intereses del cupón.\\\n",
        "$p_{i}$: Plazo acumulado (en días) al cupón $i$.\\\n",
        "$t_{c_{p_i}}$: Tasa cupón variable, se obtiene de la curva subyacente que le corresponda, casi siempre con la tasa forward entre $p_{i-1}$ y $p_i$.\\\n",
        "$t_{vp_{p_i}}$: Tasa valor presente que depende de la curva de bonos según el plazo acumulado al pago del cupón $i$.\n",
        "\n",
        "\n",
        "En general tenemos dos factores de riesgo subyacente (la curva de valor presente y la curva de cupones) pero como cada cupón tiene ``$n$'' flujos entonces tiene $n$ factores de riesgo para los valores presentes y $n$ factores de riesgo para los cupones, por lo que tienen $2n$ factores de riesgo específicos que provienen de dos factores de riesgo subyacentes.\n",
        "Para el caso de $K$ bonos cupón variable el número de factores de riesgo sería $2\\sum_{i=1}^{K}n_i$, donde $n_i$ es el número de cupones a pagar del bono $i$."
      ],
      "metadata": {
        "id": "S_ykOqBKQJNQ"
      }
    },
    {
      "cell_type": "code",
      "source": [
        "\n",
        "def swap(por_swT, contratos_swT, nominal_swT, XtfwdT, tasafija_swT, plazocupon_swT, VTplazos_sw, Xvp, N):\n",
        "    V0 = np.zeros(len(N))\n",
        "    V0f = (contratos_swT * (XtfwdT - tasafija_swT) * (plazocupon_swT / 360)) / ((1 + Xvp * VTplazos_sw / 360) * nominal_swT * ((-1) ** por_swT))\n",
        "\n",
        "    for j in range(len(N)):\n",
        "        if j == 0:\n",
        "            V0[j] = np.sum(V0f[0:N[j]])\n",
        "        else:\n",
        "            V0[j] = np.sum(V0f[np.sum(N[0:j]):np.sum(N[0:(j+1)])])\n",
        "\n",
        "    return V0\n",
        "\n",
        "V0_sw = swap(por_swT, contratos_swT, nominal_swT, XtfwdT[0, :], tasafija_swT, plazocupon_swT, VTplazos_sw, Xvp[0, :], N)\n",
        "print(V0_sw)\n"
      ],
      "metadata": {
        "colab": {
          "base_uri": "https://localhost:8080/"
        },
        "id": "rDF8U9j6PMpa",
        "outputId": "4fc2448d-22e1-492a-fd67-ee6e3c05bab2"
      },
      "execution_count": 5,
      "outputs": [
        {
          "output_type": "stream",
          "name": "stdout",
          "text": [
            "[-2424.31271961   869.80812837]\n"
          ]
        }
      ]
    }
  ]
}