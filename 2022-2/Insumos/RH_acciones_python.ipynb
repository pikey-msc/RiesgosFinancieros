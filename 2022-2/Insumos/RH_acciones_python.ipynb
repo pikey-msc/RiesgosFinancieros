{
  "nbformat": 4,
  "nbformat_minor": 0,
  "metadata": {
    "colab": {
      "name": "Untitled6.ipynb",
      "provenance": [],
      "authorship_tag": "ABX9TyMlOOyhVV8ekZShKqKeww49",
      "include_colab_link": true
    },
    "kernelspec": {
      "name": "python3",
      "display_name": "Python 3"
    },
    "language_info": {
      "name": "python"
    }
  },
  "cells": [
    {
      "cell_type": "markdown",
      "metadata": {
        "id": "view-in-github",
        "colab_type": "text"
      },
      "source": [
        "<a href=\"https://colab.research.google.com/github/pikey-msc/RiesgosFinancieros/blob/master/2022-2/Insumos/RH_acciones_python.ipynb\" target=\"_parent\"><img src=\"https://colab.research.google.com/assets/colab-badge.svg\" alt=\"Open In Colab\"/></a>"
      ]
    },
    {
      "cell_type": "markdown",
      "source": [
        "#Riesgo de Mercado (Simulación Histórica)\n",
        "\n",
        "Existen trés métodos principales para medir el riesgo de mercado\n",
        "* Simulación histórica\n",
        "* Paramétrico\n",
        "* Simulación de Monte Carlo\n",
        "\n",
        "\n",
        "\n",
        "   **Pérdidas y Ganancias simulación histórica (sin alisado)**\n",
        "   \n",
        "Un enfoque más claro es suponer que tenemos:\n",
        "1.   Una matriz $X_{(n+1)\\times m}$ de $m$ factores de riesgo y $n+1$ observaciones. \n",
        "2.   Denotemos el vector de precios actual como $X_{00}:=(x_{0,1},x_{0,2},\\ldots,x_{0,m})$. \n",
        "3.   Sea $r$ el número de instrumentos de un portafolio, entonces cada instrumento tiene una función de valuación $f_i\\colon A_i \\to R$ para todo $x\\in X$, $i=1,\\ldots, r$, donde $A_i\\subset X_i$ con $\\#(A_i)\\leq \\#(X_i)$.\n",
        "5.   Sea $M_{1\\times r}=(m_1,\\ldots,m_r)$ el vector de posiciones nominales de cada instrumento, es decir, el número de contratos que se tienen por instrumento $m_i\\in R$ $(i=1,\\ldots,r)$."
      ],
      "metadata": {
        "id": "qaNMAFEoC_cG"
      }
    },
    {
      "cell_type": "code",
      "source": [
        "!pip install yfinance\n",
        "import yfinance as yf\n",
        "import pandas as pd\n",
        "import numpy as np\n"
      ],
      "metadata": {
        "id": "ZfObh47fDDLe",
        "colab": {
          "base_uri": "https://localhost:8080/"
        },
        "outputId": "b7773167-eb9f-49cf-fe28-2127dd5c2fae"
      },
      "execution_count": 29,
      "outputs": [
        {
          "output_type": "stream",
          "name": "stdout",
          "text": [
            "Looking in indexes: https://pypi.org/simple, https://us-python.pkg.dev/colab-wheels/public/simple/\n",
            "Requirement already satisfied: yfinance in /usr/local/lib/python3.7/dist-packages (0.1.74)\n",
            "Requirement already satisfied: requests>=2.26 in /usr/local/lib/python3.7/dist-packages (from yfinance) (2.28.1)\n",
            "Requirement already satisfied: lxml>=4.5.1 in /usr/local/lib/python3.7/dist-packages (from yfinance) (4.9.1)\n",
            "Requirement already satisfied: numpy>=1.15 in /usr/local/lib/python3.7/dist-packages (from yfinance) (1.21.6)\n",
            "Requirement already satisfied: multitasking>=0.0.7 in /usr/local/lib/python3.7/dist-packages (from yfinance) (0.0.11)\n",
            "Requirement already satisfied: pandas>=0.24.0 in /usr/local/lib/python3.7/dist-packages (from yfinance) (1.3.5)\n",
            "Requirement already satisfied: pytz>=2017.3 in /usr/local/lib/python3.7/dist-packages (from pandas>=0.24.0->yfinance) (2022.2.1)\n",
            "Requirement already satisfied: python-dateutil>=2.7.3 in /usr/local/lib/python3.7/dist-packages (from pandas>=0.24.0->yfinance) (2.8.2)\n",
            "Requirement already satisfied: six>=1.5 in /usr/local/lib/python3.7/dist-packages (from python-dateutil>=2.7.3->pandas>=0.24.0->yfinance) (1.15.0)\n",
            "Requirement already satisfied: idna<4,>=2.5 in /usr/local/lib/python3.7/dist-packages (from requests>=2.26->yfinance) (2.10)\n",
            "Requirement already satisfied: charset-normalizer<3,>=2 in /usr/local/lib/python3.7/dist-packages (from requests>=2.26->yfinance) (2.1.1)\n",
            "Requirement already satisfied: certifi>=2017.4.17 in /usr/local/lib/python3.7/dist-packages (from requests>=2.26->yfinance) (2022.6.15)\n",
            "Requirement already satisfied: urllib3<1.27,>=1.21.1 in /usr/local/lib/python3.7/dist-packages (from requests>=2.26->yfinance) (1.24.3)\n"
          ]
        }
      ]
    },
    {
      "cell_type": "code",
      "source": [
        "start = '2020-01-01'\n",
        "\n",
        "symbol = ['AAPL','MSFT','SQ','AMZN']\n",
        "stock_data = yf.download(symbol,start)\n",
        "# stock_data = stock_data.history(start=start)#, end=end) \n",
        "# symbol1='APPL'\n",
        "# stock_data = yf.Ticker(symbol)\n",
        "# stock_data = stock_data.history(start=start)#, end=end) \n",
        "\n"
      ],
      "metadata": {
        "colab": {
          "base_uri": "https://localhost:8080/"
        },
        "id": "gfH-istCZBOg",
        "outputId": "a10be54b-9cee-47e9-d5ab-d8b0668c0654"
      },
      "execution_count": 32,
      "outputs": [
        {
          "output_type": "stream",
          "name": "stdout",
          "text": [
            "[*********************100%***********************]  4 of 4 completed\n"
          ]
        }
      ]
    },
    {
      "cell_type": "markdown",
      "source": [
        "\n",
        "##Paso 1.\n",
        " (Generación de rendimientos) Construir ${\\Delta X}_{n\\times m}$ que es la matriz de diferencias basados en el operador $T_j$, es decir\n",
        "\t\t$${\\Delta X}_t=\\Big[ T_j(\\frac{x_{t,1}}{x_{t+1,1}}), T_j(\\frac{x_{t,2}}{x_{t+1,2}}),\\ldots, T_j(\\frac{x_{t,m}}{x_{t+1,m}})\\Big]\\quad t=0,1,\\ldots, n-1.$$"
      ],
      "metadata": {
        "id": "9I7OT80dy24f"
      }
    },
    {
      "cell_type": "code",
      "source": [
        "# yf.download?\n",
        "print(stock_data.Close.head(5))\n",
        "\n",
        "import numpy as np\n",
        "X=stock_data.Close\n",
        "X0=stock_data.Close.tail(1)\n",
        "DeltaX=np.log(stock_data.Close/stock_data.Close.shift(1))\n",
        "\n",
        "print(DeltaX.head())\n",
        "print(X0)\n"
      ],
      "metadata": {
        "colab": {
          "base_uri": "https://localhost:8080/"
        },
        "id": "dzMJ_z_SYCCd",
        "outputId": "aa781d2b-5859-4cb1-f0f2-e9a73dbe6913"
      },
      "execution_count": 33,
      "outputs": [
        {
          "output_type": "stream",
          "name": "stdout",
          "text": [
            "                 AAPL       AMZN        MSFT         SQ\n",
            "Date                                                   \n",
            "2020-01-02  75.087502  94.900497  160.619995  63.830002\n",
            "2020-01-03  74.357498  93.748497  158.619995  63.000000\n",
            "2020-01-06  74.949997  95.143997  159.029999  62.570000\n",
            "2020-01-07  74.597504  95.343002  157.580002  64.589996\n",
            "2020-01-08  75.797501  94.598503  160.089996  67.599998\n",
            "                AAPL      AMZN      MSFT        SQ\n",
            "Date                                              \n",
            "2020-01-02       NaN       NaN       NaN       NaN\n",
            "2020-01-03 -0.009770 -0.012213 -0.012530 -0.013089\n",
            "2020-01-06  0.007937  0.014776  0.002581 -0.006849\n",
            "2020-01-07 -0.004714  0.002089 -0.009160  0.031774\n",
            "2020-01-08  0.015958 -0.007839  0.015803  0.045548\n",
            "                  AAPL        AMZN        MSFT     SQ\n",
            "Date                                                 \n",
            "2022-09-12  163.429993  136.449997  266.649994  75.25\n"
          ]
        }
      ]
    },
    {
      "cell_type": "code",
      "source": [
        "import pandas as pd\n",
        "M=np.array([1000,5000,2000,100])\n",
        "print(M)\n",
        "\n",
        "#Valoración\n",
        "\n",
        "Y0=X0.squeeze()*M\n",
        "\n",
        "Y0\n",
        "\n"
      ],
      "metadata": {
        "colab": {
          "base_uri": "https://localhost:8080/"
        },
        "id": "C99BKappr5Za",
        "outputId": "3e1690ee-33a0-45e7-98f6-f6162d243920"
      },
      "execution_count": 34,
      "outputs": [
        {
          "output_type": "stream",
          "name": "stdout",
          "text": [
            "[1000 5000 2000  100]\n"
          ]
        },
        {
          "output_type": "execute_result",
          "data": {
            "text/plain": [
              "AAPL    163429.992676\n",
              "AMZN    682249.984741\n",
              "MSFT    533299.987793\n",
              "SQ        7525.000000\n",
              "Name: 2022-09-12 00:00:00, dtype: float64"
            ]
          },
          "metadata": {},
          "execution_count": 34
        }
      ]
    },
    {
      "cell_type": "markdown",
      "source": [
        "##Paso 2. \n",
        "Construir ${X^\\ast}_{n\\times m}$ que es la matriz de factores de riesgo simulada basada en el vector de precios actual $X_{00}$\n",
        "\t\t$$X_{t}^\\ast=\\Big[x_{0,1}T^{-1}_j(\\Delta x_{t,1}), x_{0,2}T^{-1}_j(\\Delta x_{t,2}),\\ldots, x_{0,m}T^{-1}_j(\\Delta x_{t,m})\\Big]\\quad (t=1,\\ldots,n\\quad j=1,2),$$\n",
        "\t\tdonde $T_1(x)=\\ln(x)$, $T_2(x)=x-1$.\n",
        "\n"
      ],
      "metadata": {
        "id": "7Uz38FmizEOO"
      }
    },
    {
      "cell_type": "code",
      "source": [
        "X_s=np.exp(DeltaX.squeeze())*X0.squeeze()\n",
        "X_s.head"
      ],
      "metadata": {
        "colab": {
          "base_uri": "https://localhost:8080/"
        },
        "id": "_YpS4IQMs9Hh",
        "outputId": "53ea17ec-62b7-4af7-8143-ad283e04407a"
      },
      "execution_count": 35,
      "outputs": [
        {
          "output_type": "execute_result",
          "data": {
            "text/plain": [
              "<bound method NDFrame.head of                   AAPL        AMZN        MSFT         SQ\n",
              "Date                                                     \n",
              "2020-01-02         NaN         NaN         NaN        NaN\n",
              "2020-01-03  161.841120  134.793626  263.329735  74.271500\n",
              "2020-01-06  164.732243  138.481133  267.339235  74.736389\n",
              "2020-01-07  162.661374  136.735399  264.218744  77.679355\n",
              "2020-01-08  166.058975  135.384508  270.897297  78.756776\n",
              "...                ...         ...         ...        ...\n",
              "2022-09-06  162.087395  134.951838  263.723782  74.081488\n",
              "2022-09-07  164.942360  140.096304  271.746085  78.153978\n",
              "2022-09-08  161.858147  136.808312  267.094248  78.323463\n",
              "2022-09-09  166.508973  140.076187  272.776799  79.194261\n",
              "2022-09-12  169.723348  139.705868  268.858132  76.222404\n",
              "\n",
              "[679 rows x 4 columns]>"
            ]
          },
          "metadata": {},
          "execution_count": 35
        }
      ]
    },
    {
      "cell_type": "markdown",
      "source": [
        "## Paso 3. \n",
        "Construcción de la matriz de reevaluación del portafolio basada en los escenarios históricos $Y_{n\\times r}$ de todos los instrumentos financieros, es decir\n",
        "\t\t$$Y_t=[m_1f_1(X_{t}^\\ast), m_2f_2(X_{t}^\\ast),\\ldots, m_rf_r(X_{t}^\\ast)]\\quad (t=1,\\ldots,n).$$\n",
        "    \n"
      ],
      "metadata": {
        "id": "440v6MiazKEQ"
      }
    },
    {
      "cell_type": "code",
      "source": [
        "Y_s=X_s*M.squeeze()\n",
        "Y_s.head\n"
      ],
      "metadata": {
        "colab": {
          "base_uri": "https://localhost:8080/"
        },
        "id": "c-dGnxo5zYgz",
        "outputId": "ea1d9ea0-1f66-4fd9-9a80-db9788fcfbda"
      },
      "execution_count": 36,
      "outputs": [
        {
          "output_type": "execute_result",
          "data": {
            "text/plain": [
              "<bound method NDFrame.head of                      AAPL           AMZN           MSFT           SQ\n",
              "Date                                                                \n",
              "2020-01-02            NaN            NaN            NaN          NaN\n",
              "2020-01-03  161841.120482  673968.128532  526659.469750  7427.150030\n",
              "2020-01-06  164732.242934  692405.667328  534678.470675  7473.638852\n",
              "2020-01-07  162661.373896  683676.992738  528437.487883  7767.935509\n",
              "2020-01-08  166058.974650  676922.540042  541794.593862  7875.677618\n",
              "...                   ...            ...            ...          ...\n",
              "2022-09-06  162087.394676  674759.191833  527447.563838  7408.148792\n",
              "2022-09-07  164942.360424  700481.521544  543492.169384  7815.397762\n",
              "2022-09-08  161858.147469  684041.558068  534188.496034  7832.346282\n",
              "2022-09-09  166508.973401  700380.937079  545553.598207  7919.426064\n",
              "2022-09-12  169723.348381  698529.341573  537716.263649  7622.240450\n",
              "\n",
              "[679 rows x 4 columns]>"
            ]
          },
          "metadata": {},
          "execution_count": 36
        }
      ]
    },
    {
      "cell_type": "markdown",
      "source": [
        "## Paso 4. \n",
        "Construcción de la matriz de pérdidas y ganancias del portafolio basada en los escenarios históricos $\\Delta Y_{n\\times r}$ de todos los instrumentos financieros, es decir\n",
        "\t\t$$\\Delta Y_t=Y_t-Y_{0}=[m_1(f_1(X_{00})-f_1(X_{t}^\\ast)), m_2( f_2(X_{00})-f_2(X_{t}^\\ast)),\\ldots, m_r(f_r(X_{00})-f_r(X_{t}^\\ast))],$$\n",
        "\t\tpara $(t=1,\\ldots,n)$. Se puede obtener el vector de pérdidas totales ${\\Delta YT}_{n\\times m}$ muy fácilmente, esto es $\\Delta YT=\\sum_{k=1}^r Y_{kt}$ $(t=1,\\ldots,n)$, incluso se puede hacer lo mismo por tipo de riesgo.\n"
      ],
      "metadata": {
        "id": "MIrkcbiSzOiR"
      }
    },
    {
      "cell_type": "code",
      "source": [
        "PL=Y_s-Y0\n",
        "\n",
        "cols=PL.shape[1]\n",
        "\n",
        "PL['Total']=PL.sum(axis=1)\n",
        "PL.head"
      ],
      "metadata": {
        "colab": {
          "base_uri": "https://localhost:8080/"
        },
        "id": "p--ugkyazdcL",
        "outputId": "851ac8cb-f2b0-4f04-85ac-232123460a1e"
      },
      "execution_count": 7,
      "outputs": [
        {
          "output_type": "execute_result",
          "data": {
            "text/plain": [
              "<bound method NDFrame.head of                    AAPL          AMZN          MSFT          SQ         Total\n",
              "Date                                                                         \n",
              "2020-01-02          NaN           NaN           NaN         NaN      0.000000\n",
              "2020-01-03 -1588.872194  -8281.856209  -6640.518043  -97.849970 -16609.096415\n",
              "2020-01-06  1302.250258  10155.682587   1378.482882  -51.361148  12785.054579\n",
              "2020-01-07  -768.618779   1427.007997  -4862.499910  242.935509  -3961.175184\n",
              "2020-01-08  2628.981974  -5327.444699   8494.606069  350.677618   6146.820962\n",
              "...                 ...           ...           ...         ...           ...\n",
              "2022-09-06 -1342.598000  -7490.792908  -5852.423955 -116.851208 -14802.666071\n",
              "2022-09-07  1512.367748  18231.536802  10192.181591  290.397762  30226.483903\n",
              "2022-09-08 -1571.845207   1791.573326    888.508241  307.346282   1415.582643\n",
              "2022-09-09  3078.980725  18130.952338  12253.610414  394.426064  33857.969541\n",
              "2022-09-12  6293.355705  16279.356832   4416.275856   97.240450  27086.228843\n",
              "\n",
              "[679 rows x 5 columns]>"
            ]
          },
          "metadata": {},
          "execution_count": 7
        }
      ]
    },
    {
      "cell_type": "markdown",
      "source": [
        "##Paso 5. \n",
        "Obtenerla medida de riesgo basado en un nivel de confianza de la matriz ${\\Delta Y}_{\\cdot k}$ $(k=1,\\ldots,r)$ y $\\Delta YT$.\n",
        "\n",
        "Las pérdidas y ganancias vía simulación histórica sin alisado es donde se ponderan los escenarios históricos con un mismo peso para todos, es decir cada escenario tiene una probabilidad de ocurrencia de $1/n$."
      ],
      "metadata": {
        "id": "WAdcqcF4znAR"
      }
    },
    {
      "cell_type": "code",
      "source": [
        "alpha = 0.98 #@param {type:\"slider\", min:0.8, max:1, step:0.001}"
      ],
      "metadata": {
        "id": "ePaAJfQXAhFb"
      },
      "execution_count": 37,
      "outputs": []
    },
    {
      "cell_type": "markdown",
      "source": [
        "###Valor en Riesgo (VaR)\n",
        "\n",
        "Es un cuantil a un $\\alpha$ de confianza de la distribución de pérdidas y ganancias, generalmente se expresa en términos monetarios.\n",
        "\n",
        "#VaR\n",
        "\n",
        "El valor en riesgo (VaR) es una estadística utilizada para tratar de cuantificar el nivel de riesgo financiero dentro de una empresa o cartera durante un período de tiempo específico. VaR proporciona una estimación de la pérdida máxima de una posición o cartera determinada durante un período de tiempo, y puede calcularla a través de varios niveles de confianza.\n",
        "\n",
        "Estimar el riesgo de una cartera es importante para el crecimiento del capital a largo plazo y la gestión del riesgo, en particular dentro de empresas o instituciones más grandes. El VaR generalmente se enmarca como algo como esto:\n",
        "\n",
        "“Tenemos un VaR de cartera de 250.000 USD para el próximo mes al 95% de confianza”\n",
        "Esto significa que, con un 95% de confianza, podemos decir que la pérdida de la cartera no superará los 250.000 USD en un mes.\n",
        "En esta publicación, lo guiaré a través de los pasos para calcular esta métrica en una cartera de acciones."
      ],
      "metadata": {
        "id": "tetUyVvJzuNi"
      }
    },
    {
      "cell_type": "code",
      "source": [
        "VaR=PL.quantile(1-alpha, numeric_only=False)\n",
        "\n",
        "print(VaR)\n",
        "\n",
        "print(sum(Y0))"
      ],
      "metadata": {
        "colab": {
          "base_uri": "https://localhost:8080/"
        },
        "id": "2SLu5LbSAHPc",
        "outputId": "ee9aea64-cb80-4bdb-85f1-68d2333faa04"
      },
      "execution_count": 38,
      "outputs": [
        {
          "output_type": "stream",
          "name": "stdout",
          "text": [
            "AAPL     -7658.126980\n",
            "AMZN    -35838.394058\n",
            "MSFT    -23086.524766\n",
            "SQ        -670.420290\n",
            "Total   -62256.289424\n",
            "Name: 0.020000000000000018, dtype: float64\n",
            "1386504.965209961\n"
          ]
        }
      ]
    },
    {
      "cell_type": "markdown",
      "source": [
        "### Valor en Riesgo sin Cuantil"
      ],
      "metadata": {
        "id": "0xWxSargVMNV"
      }
    },
    {
      "cell_type": "code",
      "source": [
        "esc_var=np.round(PL.shape[0]*(1-alpha),0)\n",
        "print(esc_var)\n",
        "VaR_r=PL.rank()\n",
        "VaR_nq=[]\n",
        "\n",
        "for i in range(0,PL.shape[1]):\n",
        "  VaR_nq_t=PL[VaR_r.iloc[:,i]==esc_var].iloc[:,i]\n",
        "  VaR_nq.append(VaR_nq_t)\n",
        "\n",
        "print(VaR_nq[0][0])"
      ],
      "metadata": {
        "colab": {
          "base_uri": "https://localhost:8080/"
        },
        "id": "KLUswbnuTDAw",
        "outputId": "82f2b8e6-4180-4b44-af11-3ab193f946ad"
      },
      "execution_count": 53,
      "outputs": [
        {
          "output_type": "stream",
          "name": "stdout",
          "text": [
            "14.0\n",
            "-7762.987662845844\n"
          ]
        }
      ]
    },
    {
      "cell_type": "markdown",
      "source": [
        "### Tarea: Crear una función que calcule el Valor en riesgo sin Cuantil "
      ],
      "metadata": {
        "id": "FJd-WqHqeobH"
      }
    },
    {
      "cell_type": "code",
      "source": [
        "def VaR_sq(x,alpha):\n",
        "  esc_var=np.round(x.shape[0]*(1-alpha),0)\n",
        "  x[x.rank().iloc[:]==esc_var]"
      ],
      "metadata": {
        "id": "pkrGEo0SVynF"
      },
      "execution_count": null,
      "outputs": []
    },
    {
      "cell_type": "markdown",
      "source": [
        "###Valor en Riesgo Condicional o \"Expected Shortfall\"\n",
        "\n",
        "Es el promedio de las pérdidas que son más severas que el Valor en Riesgo ($VaR_\\alpha$) a un $\\alpha$ de confianza, es decir:\n",
        "$$E(x|x\\le VaR_\\alpha)$$\n"
      ],
      "metadata": {
        "id": "o0ZOmnB_z5wL"
      }
    },
    {
      "cell_type": "code",
      "source": [
        "def VaR_Cond(x , VaR ):\n",
        "  return np.mean(x[x <= VaR])"
      ],
      "metadata": {
        "id": "FLd6lSMXA4pY"
      },
      "execution_count": 48,
      "outputs": []
    },
    {
      "cell_type": "code",
      "source": [
        "\n",
        "VaR_C=[]\n",
        "\n",
        "for i in range(0,PL.shape[1]):\n",
        "  VC=VaR_Cond(PL.iloc[:,i],VaR_nq[i][0])\n",
        "  VaR_C.append(VC)\n"
      ],
      "metadata": {
        "id": "W7ACgPC7ECw8"
      },
      "execution_count": 56,
      "outputs": []
    },
    {
      "cell_type": "code",
      "source": [
        "\n",
        "print(VaR)\n",
        "print(VaR_C)\n",
        "\n",
        "pd.concat([VaR,pd.DataFrame(VaR_C).squeeze()], axis=1, ignore_index=True)"
      ],
      "metadata": {
        "colab": {
          "base_uri": "https://localhost:8080/",
          "height": 484
        },
        "id": "i3rmVoZc0iwR",
        "outputId": "19ebb192-b210-4499-b8e6-52b0c823c303"
      },
      "execution_count": 55,
      "outputs": [
        {
          "output_type": "stream",
          "name": "stdout",
          "text": [
            "AAPL     -7658.126980\n",
            "AMZN    -35838.394058\n",
            "MSFT    -23086.524766\n",
            "SQ        -670.420290\n",
            "Total   -62256.289424\n",
            "Name: 0.020000000000000018, dtype: float64\n",
            "[-11099.532652140962, -47945.972658849845, -33230.28043523249, -946.3797906520676, -86658.51044281875]\n"
          ]
        },
        {
          "output_type": "execute_result",
          "data": {
            "text/plain": [
              "                  0             1\n",
              "AAPL   -7658.126980           NaN\n",
              "AMZN  -35838.394058           NaN\n",
              "MSFT  -23086.524766           NaN\n",
              "SQ      -670.420290           NaN\n",
              "Total -62256.289424           NaN\n",
              "0               NaN -11099.532652\n",
              "1               NaN -47945.972659\n",
              "2               NaN -33230.280435\n",
              "3               NaN   -946.379791\n",
              "4               NaN -86658.510443"
            ],
            "text/html": [
              "\n",
              "  <div id=\"df-b0dfadd5-aaa1-415f-989b-67058bd1763a\">\n",
              "    <div class=\"colab-df-container\">\n",
              "      <div>\n",
              "<style scoped>\n",
              "    .dataframe tbody tr th:only-of-type {\n",
              "        vertical-align: middle;\n",
              "    }\n",
              "\n",
              "    .dataframe tbody tr th {\n",
              "        vertical-align: top;\n",
              "    }\n",
              "\n",
              "    .dataframe thead th {\n",
              "        text-align: right;\n",
              "    }\n",
              "</style>\n",
              "<table border=\"1\" class=\"dataframe\">\n",
              "  <thead>\n",
              "    <tr style=\"text-align: right;\">\n",
              "      <th></th>\n",
              "      <th>0</th>\n",
              "      <th>1</th>\n",
              "    </tr>\n",
              "  </thead>\n",
              "  <tbody>\n",
              "    <tr>\n",
              "      <th>AAPL</th>\n",
              "      <td>-7658.126980</td>\n",
              "      <td>NaN</td>\n",
              "    </tr>\n",
              "    <tr>\n",
              "      <th>AMZN</th>\n",
              "      <td>-35838.394058</td>\n",
              "      <td>NaN</td>\n",
              "    </tr>\n",
              "    <tr>\n",
              "      <th>MSFT</th>\n",
              "      <td>-23086.524766</td>\n",
              "      <td>NaN</td>\n",
              "    </tr>\n",
              "    <tr>\n",
              "      <th>SQ</th>\n",
              "      <td>-670.420290</td>\n",
              "      <td>NaN</td>\n",
              "    </tr>\n",
              "    <tr>\n",
              "      <th>Total</th>\n",
              "      <td>-62256.289424</td>\n",
              "      <td>NaN</td>\n",
              "    </tr>\n",
              "    <tr>\n",
              "      <th>0</th>\n",
              "      <td>NaN</td>\n",
              "      <td>-11099.532652</td>\n",
              "    </tr>\n",
              "    <tr>\n",
              "      <th>1</th>\n",
              "      <td>NaN</td>\n",
              "      <td>-47945.972659</td>\n",
              "    </tr>\n",
              "    <tr>\n",
              "      <th>2</th>\n",
              "      <td>NaN</td>\n",
              "      <td>-33230.280435</td>\n",
              "    </tr>\n",
              "    <tr>\n",
              "      <th>3</th>\n",
              "      <td>NaN</td>\n",
              "      <td>-946.379791</td>\n",
              "    </tr>\n",
              "    <tr>\n",
              "      <th>4</th>\n",
              "      <td>NaN</td>\n",
              "      <td>-86658.510443</td>\n",
              "    </tr>\n",
              "  </tbody>\n",
              "</table>\n",
              "</div>\n",
              "      <button class=\"colab-df-convert\" onclick=\"convertToInteractive('df-b0dfadd5-aaa1-415f-989b-67058bd1763a')\"\n",
              "              title=\"Convert this dataframe to an interactive table.\"\n",
              "              style=\"display:none;\">\n",
              "        \n",
              "  <svg xmlns=\"http://www.w3.org/2000/svg\" height=\"24px\"viewBox=\"0 0 24 24\"\n",
              "       width=\"24px\">\n",
              "    <path d=\"M0 0h24v24H0V0z\" fill=\"none\"/>\n",
              "    <path d=\"M18.56 5.44l.94 2.06.94-2.06 2.06-.94-2.06-.94-.94-2.06-.94 2.06-2.06.94zm-11 1L8.5 8.5l.94-2.06 2.06-.94-2.06-.94L8.5 2.5l-.94 2.06-2.06.94zm10 10l.94 2.06.94-2.06 2.06-.94-2.06-.94-.94-2.06-.94 2.06-2.06.94z\"/><path d=\"M17.41 7.96l-1.37-1.37c-.4-.4-.92-.59-1.43-.59-.52 0-1.04.2-1.43.59L10.3 9.45l-7.72 7.72c-.78.78-.78 2.05 0 2.83L4 21.41c.39.39.9.59 1.41.59.51 0 1.02-.2 1.41-.59l7.78-7.78 2.81-2.81c.8-.78.8-2.07 0-2.86zM5.41 20L4 18.59l7.72-7.72 1.47 1.35L5.41 20z\"/>\n",
              "  </svg>\n",
              "      </button>\n",
              "      \n",
              "  <style>\n",
              "    .colab-df-container {\n",
              "      display:flex;\n",
              "      flex-wrap:wrap;\n",
              "      gap: 12px;\n",
              "    }\n",
              "\n",
              "    .colab-df-convert {\n",
              "      background-color: #E8F0FE;\n",
              "      border: none;\n",
              "      border-radius: 50%;\n",
              "      cursor: pointer;\n",
              "      display: none;\n",
              "      fill: #1967D2;\n",
              "      height: 32px;\n",
              "      padding: 0 0 0 0;\n",
              "      width: 32px;\n",
              "    }\n",
              "\n",
              "    .colab-df-convert:hover {\n",
              "      background-color: #E2EBFA;\n",
              "      box-shadow: 0px 1px 2px rgba(60, 64, 67, 0.3), 0px 1px 3px 1px rgba(60, 64, 67, 0.15);\n",
              "      fill: #174EA6;\n",
              "    }\n",
              "\n",
              "    [theme=dark] .colab-df-convert {\n",
              "      background-color: #3B4455;\n",
              "      fill: #D2E3FC;\n",
              "    }\n",
              "\n",
              "    [theme=dark] .colab-df-convert:hover {\n",
              "      background-color: #434B5C;\n",
              "      box-shadow: 0px 1px 3px 1px rgba(0, 0, 0, 0.15);\n",
              "      filter: drop-shadow(0px 1px 2px rgba(0, 0, 0, 0.3));\n",
              "      fill: #FFFFFF;\n",
              "    }\n",
              "  </style>\n",
              "\n",
              "      <script>\n",
              "        const buttonEl =\n",
              "          document.querySelector('#df-b0dfadd5-aaa1-415f-989b-67058bd1763a button.colab-df-convert');\n",
              "        buttonEl.style.display =\n",
              "          google.colab.kernel.accessAllowed ? 'block' : 'none';\n",
              "\n",
              "        async function convertToInteractive(key) {\n",
              "          const element = document.querySelector('#df-b0dfadd5-aaa1-415f-989b-67058bd1763a');\n",
              "          const dataTable =\n",
              "            await google.colab.kernel.invokeFunction('convertToInteractive',\n",
              "                                                     [key], {});\n",
              "          if (!dataTable) return;\n",
              "\n",
              "          const docLinkHtml = 'Like what you see? Visit the ' +\n",
              "            '<a target=\"_blank\" href=https://colab.research.google.com/notebooks/data_table.ipynb>data table notebook</a>'\n",
              "            + ' to learn more about interactive tables.';\n",
              "          element.innerHTML = '';\n",
              "          dataTable['output_type'] = 'display_data';\n",
              "          await google.colab.output.renderOutput(dataTable, element);\n",
              "          const docLink = document.createElement('div');\n",
              "          docLink.innerHTML = docLinkHtml;\n",
              "          element.appendChild(docLink);\n",
              "        }\n",
              "      </script>\n",
              "    </div>\n",
              "  </div>\n",
              "  "
            ]
          },
          "metadata": {},
          "execution_count": 55
        }
      ]
    },
    {
      "cell_type": "markdown",
      "source": [
        "### Tarea (3 puntos): Calcular función de VaR y CVaR con alisado.\n",
        "\n",
        "VaR_CA(x,alpha,p)\n",
        "VaR_CA(x,alpha,w0)\n",
        "\n",
        "CVaR_CA(x,alpha,p)\n",
        "CVaR_CA(x,alpha,w0)"
      ],
      "metadata": {
        "id": "PjrAFsKUfVEk"
      }
    },
    {
      "cell_type": "code",
      "source": [
        "#Exponential "
      ],
      "metadata": {
        "id": "JxA3-pOYgEJb"
      },
      "execution_count": null,
      "outputs": []
    }
  ]
}