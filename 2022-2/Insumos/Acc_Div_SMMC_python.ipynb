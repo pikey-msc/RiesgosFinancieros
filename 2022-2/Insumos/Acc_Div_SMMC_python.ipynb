{
  "cells": [
    {
      "cell_type": "markdown",
      "metadata": {
        "id": "view-in-github",
        "colab_type": "text"
      },
      "source": [
        "<a href=\"https://colab.research.google.com/github/pikey-msc/RiesgosFinancieros/blob/master/2022-2/Insumos/Acc_Div_SMMC_python.ipynb\" target=\"_parent\"><img src=\"https://colab.research.google.com/assets/colab-badge.svg\" alt=\"Open In Colab\"/></a>"
      ]
    },
    {
      "cell_type": "markdown",
      "metadata": {
        "id": "qaNMAFEoC_cG"
      },
      "source": [
        "#Riesgo de Mercado (Simulación Montecarlo)\n",
        "\n",
        "Existen trés métodos principales para medir el riesgo de mercado\n",
        "* Simulación histórica\n",
        "* Paramétrico\n",
        "* Simulación de Monte Carlo\n",
        "\n",
        "\n",
        "\n",
        "   **Pérdidas y Ganancias simulación histórica (sin alisado)**\n",
        "   \n",
        "Un enfoque más claro es suponer que tenemos:\n",
        "1.   Una matriz $X_{(n+1)\\times m}$ de $m$ factores de riesgo y $n+1$ observaciones. \n",
        "2.   Denotemos el vector de precios actual como $X_{00}:=(x_{0,1},x_{0,2},\\ldots,x_{0,m})$. \n",
        "3.   Sea $r$ el número de instrumentos de un portafolio, entonces cada instrumento tiene una función de valuación $f_i\\colon A_i \\to R$ para todo $x\\in X$, $i=1,\\ldots, r$, donde $A_i\\subset X_i$ con $\\#(A_i)\\leq \\#(X_i)$.\n",
        "4.   Sea $r$ el número de instrumentos de un portafolio, entonces cada instrumento tiene una función de valuación $f_i\\colon A_i \\to R$ para todo $x\\in X$, $i=1,\\ldots, r$, donde $A_i\\subset X_i$ con $\\#(A_i)\\leq \\#(X_i)$.\n",
        "5.   Sea $M_{1\\times r}=(m_1,\\ldots,m_r)$ el vector de posiciones nominales de cada instrumento, es decir, el número de contratos que se tienen por instrumento $m_i\\in R$ $(i=1,\\ldots,r)$."
      ]
    },
    {
      "cell_type": "code",
      "execution_count": 10,
      "metadata": {
        "colab": {
          "base_uri": "https://localhost:8080/"
        },
        "id": "ZfObh47fDDLe",
        "outputId": "75aadd0c-5df5-490a-9ef3-468387dbbd2c"
      },
      "outputs": [
        {
          "output_type": "stream",
          "name": "stdout",
          "text": [
            "Requirement already satisfied: yfinance in /usr/local/lib/python3.7/dist-packages (0.1.70)\n",
            "Requirement already satisfied: lxml>=4.5.1 in /usr/local/lib/python3.7/dist-packages (from yfinance) (4.8.0)\n",
            "Requirement already satisfied: requests>=2.26 in /usr/local/lib/python3.7/dist-packages (from yfinance) (2.27.1)\n",
            "Requirement already satisfied: numpy>=1.15 in /usr/local/lib/python3.7/dist-packages (from yfinance) (1.21.6)\n",
            "Requirement already satisfied: pandas>=0.24.0 in /usr/local/lib/python3.7/dist-packages (from yfinance) (1.3.5)\n",
            "Requirement already satisfied: multitasking>=0.0.7 in /usr/local/lib/python3.7/dist-packages (from yfinance) (0.0.10)\n",
            "Requirement already satisfied: pytz>=2017.3 in /usr/local/lib/python3.7/dist-packages (from pandas>=0.24.0->yfinance) (2022.1)\n",
            "Requirement already satisfied: python-dateutil>=2.7.3 in /usr/local/lib/python3.7/dist-packages (from pandas>=0.24.0->yfinance) (2.8.2)\n",
            "Requirement already satisfied: six>=1.5 in /usr/local/lib/python3.7/dist-packages (from python-dateutil>=2.7.3->pandas>=0.24.0->yfinance) (1.15.0)\n",
            "Requirement already satisfied: urllib3<1.27,>=1.21.1 in /usr/local/lib/python3.7/dist-packages (from requests>=2.26->yfinance) (1.24.3)\n",
            "Requirement already satisfied: charset-normalizer~=2.0.0 in /usr/local/lib/python3.7/dist-packages (from requests>=2.26->yfinance) (2.0.12)\n",
            "Requirement already satisfied: certifi>=2017.4.17 in /usr/local/lib/python3.7/dist-packages (from requests>=2.26->yfinance) (2021.10.8)\n",
            "Requirement already satisfied: idna<4,>=2.5 in /usr/local/lib/python3.7/dist-packages (from requests>=2.26->yfinance) (2.10)\n"
          ]
        }
      ],
      "source": [
        "!pip install yfinance\n",
        "import yfinance as yf\n",
        "import pandas as pd\n"
      ]
    },
    {
      "cell_type": "code",
      "execution_count": 11,
      "metadata": {
        "colab": {
          "base_uri": "https://localhost:8080/"
        },
        "id": "gfH-istCZBOg",
        "outputId": "90fc2908-b36f-44f5-b601-fd72ae8911ab"
      },
      "outputs": [
        {
          "output_type": "stream",
          "name": "stdout",
          "text": [
            "[*********************100%***********************]  4 of 4 completed\n"
          ]
        }
      ],
      "source": [
        "start = '2020-01-01'\n",
        "\n",
        "symbol = ['AAPL','MSFT','SQ','AMZN']\n",
        "stock_data = yf.download(symbol,start)\n",
        "# stock_data = stock_data.history(start=start)#, end=end) \n",
        "# symbol1='APPL'\n",
        "# stock_data = yf.Ticker(symbol)\n",
        "# stock_data = stock_data.history(start=start)#, end=end) \n"
      ]
    },
    {
      "cell_type": "markdown",
      "metadata": {
        "id": "9I7OT80dy24f"
      },
      "source": [
        "\n",
        "##Paso 1.\n",
        " (Generación de rendimientos) Construir ${\\Delta X}_{n\\times m}$ que es la matriz de diferencias basados en el operador $T_j$, es decir\n",
        "\t\t$${\\Delta X}_t=\\Big[ T_j(\\frac{x_{t,1}}{x_{t+1,1}}), T_j(\\frac{x_{t,2}}{x_{t+1,2}}),\\ldots, T_j(\\frac{x_{t,m}}{x_{t+1,m}})\\Big]\\quad t=0,1,\\ldots, n-1.$$"
      ]
    },
    {
      "cell_type": "code",
      "execution_count": 12,
      "metadata": {
        "colab": {
          "base_uri": "https://localhost:8080/"
        },
        "id": "dzMJ_z_SYCCd",
        "outputId": "ba7d2ff3-c864-4147-d109-40f2b14acde2"
      },
      "outputs": [
        {
          "output_type": "stream",
          "name": "stdout",
          "text": [
            "                 AAPL         AMZN        MSFT         SQ\n",
            "Date                                                     \n",
            "2020-01-02  75.087502  1898.010010  160.619995  63.830002\n",
            "2020-01-03  74.357498  1874.969971  158.619995  63.000000\n",
            "2020-01-06  74.949997  1902.880005  159.029999  62.570000\n",
            "2020-01-07  74.597504  1906.859985  157.580002  64.589996\n",
            "2020-01-08  75.797501  1891.969971  160.089996  67.599998\n",
            "                AAPL      AMZN      MSFT        SQ\n",
            "Date                                              \n",
            "2020-01-03 -0.009770 -0.012213 -0.012530 -0.013089\n",
            "2020-01-06  0.007937  0.014776  0.002581 -0.006849\n",
            "2020-01-07 -0.004714  0.002089 -0.009160  0.031774\n",
            "2020-01-08  0.015958 -0.007839  0.015803  0.045548\n",
            "2020-01-09  0.021018  0.004788  0.012416  0.004870\n",
            "             AAPL         AMZN        MSFT         SQ\n",
            "Date                                                 \n",
            "2022-05-11  146.5  2107.439941  260.549988  71.220001\n"
          ]
        }
      ],
      "source": [
        "# yf.download?\n",
        "print(stock_data.Close.head(5))\n",
        "\n",
        "import numpy as np\n",
        "X=stock_data.Close\n",
        "X0=stock_data.Close.tail(1)\n",
        "DeltaX=np.log(stock_data.Close/stock_data.Close.shift(1))\n",
        "DeltaX=DeltaX.dropna()\n",
        "\n",
        "print(DeltaX.head())\n",
        "print(X0)\n"
      ]
    },
    {
      "cell_type": "code",
      "execution_count": 13,
      "metadata": {
        "colab": {
          "base_uri": "https://localhost:8080/"
        },
        "id": "C99BKappr5Za",
        "outputId": "ac120bc2-9b67-4a22-e4fa-22915dd303d3"
      },
      "outputs": [
        {
          "output_type": "stream",
          "name": "stdout",
          "text": [
            "[1000 5000 2000  100]\n"
          ]
        },
        {
          "output_type": "execute_result",
          "data": {
            "text/plain": [
              "AAPL    1.465000e+05\n",
              "AMZN    1.053720e+07\n",
              "MSFT    5.211000e+05\n",
              "SQ      7.122000e+03\n",
              "Name: 2022-05-11 00:00:00, dtype: float64"
            ]
          },
          "metadata": {},
          "execution_count": 13
        }
      ],
      "source": [
        "import pandas as pd\n",
        "M=np.array([1000,5000,2000,100])\n",
        "print(M)\n",
        "\n",
        "#Valoración\n",
        "\n",
        "Y0=X0.squeeze()*M\n",
        "\n",
        "Y0\n",
        "\n"
      ]
    },
    {
      "cell_type": "markdown",
      "source": [
        "## Simulación"
      ],
      "metadata": {
        "id": "_YzLApAlzT_0"
      }
    },
    {
      "cell_type": "code",
      "source": [
        "Ns=10000 #Definimos número de simulaciones\n",
        "alpha=0.98 #Nivel de Confianza para las medidas de riesgo\n",
        "ChCP=1  #0 Cholesky, 1 Componentes Principales\n",
        "normempi=0 #0 normal, 1 empírico\n",
        "eta=.85 #Varianza explicada  (sólo aplica para Componentes Principales)\n",
        "DeltaX_port=DeltaX\n",
        "mT=DeltaX_port.shape[1]\n",
        "print(mT)\n",
        "\n",
        "print(np.cov(DeltaX_port.T)*(DeltaX_port.shape[1]/(DeltaX_port.shape[1]-1)))\n",
        "\n",
        "print(((DeltaX_port.shape[1])/(DeltaX_port.shape[1]-1)))\n",
        "\n",
        "\n",
        "VarDeltaX=np.where(ChCP==0,np.corrcoef(DeltaX_port.T),np.cov(DeltaX_port.T)*((DeltaX_port.shape[1])/(DeltaX_port.shape[1]-1)))\n",
        "\n",
        "\n",
        "if(ChCP==0):\n",
        "  CVarDeltaX=np.linalg.cholesky(VarDeltaX)\n",
        "  M=np.zeros([Ns, mT])\n",
        "  print((CVarDeltaX.shape[1]))\n",
        "  print(VarDeltaX.shape[1])\n",
        "  if normempi==1:\n",
        "    for i in range(mT):\n",
        "      M[:,i]=DeltaX_port.iloc[:,i].sort_values(ascending=True).quantile(1-np.random.uniform(0,1,Ns), interpolation = 'higher')\n",
        "    Met='Cholesky Empírico'\n",
        "  else:\n",
        "    for i in range(mT):\n",
        "      M[:,i]=np.random.normal(np.mean(DeltaX_port.iloc[:,i]), np.std(DeltaX_port.iloc[:,i]), size=(Ns, 1))\n",
        "    Met='Cholesky Normal'\n",
        "  DeltaX_s=M.dot(CVarDeltaX) "
      ],
      "metadata": {
        "colab": {
          "base_uri": "https://localhost:8080/"
        },
        "id": "M-94k3EZ1o8V",
        "outputId": "716fa776-6b92-4f21-ad1a-e0973311c0a8"
      },
      "execution_count": 14,
      "outputs": [
        {
          "output_type": "stream",
          "name": "stdout",
          "text": [
            "4\n",
            "[[0.0007233  0.00046131 0.00054877 0.00078667]\n",
            " [0.00046131 0.00069582 0.00045659 0.00075259]\n",
            " [0.00054877 0.00045659 0.00063789 0.00080399]\n",
            " [0.00078667 0.00075259 0.00080399 0.00268872]]\n",
            "1.3333333333333333\n"
          ]
        }
      ]
    },
    {
      "cell_type": "code",
      "source": [
        "Ns=10000 #Definimos número de simulaciones\n",
        "alpha=0.98 #Nivel de Confianza para las medidas de riesgo\n",
        "ChCP=1  #0 Cholesky, 1 Componentes Principales\n",
        "normempi=1 #0 normal, 1 empírico\n",
        "eta=.85 #Varianza explicada  (sólo aplica para Componentes Principales)\n",
        "DeltaX_port=DeltaX\n",
        "mT=ncol(DeltaX_port)\n",
        "\n",
        "\n",
        "VarDeltaX=np.where((ChCP==0),np.corrcoef(DeltaX_port),np.var(DeltaX_port)*((DeltaX_port.shape[1])/(DeltaX_port.shape[1]-1)))\n",
        "\n",
        "if(ChCP==0):\n",
        "  CVarDeltaX=as.matrix(np.linalg.cholesky(VarDeltaX,pivot=TRUE))\n",
        "  # CVarDeltaX[is.nan(CVarDeltaX)] <- 0 #quitamos NaN\n",
        "  # CVarDeltaX[is.na(CVarDeltaX)] <- 0 #quitamos Na\n",
        "  print((CVarDeltaX.shape[1]))\n",
        "  print(VarDeltaX.shape[1])\n",
        "  M=matrix(0, Ns,mT)\n",
        "  if normempi==1:\n",
        "    for i in range(mT):\n",
        "      M[,i]=DeltaX_port.iloc[,i].sort_values(ascending=True).quantile(1-np.random.uniform(-1,0,1000), interpolation = 'higher')\n",
        "    Met='Cholesky Empírico'\n",
        "  } else\t{\n",
        "    for (i in 1:mT)\n",
        "    {\n",
        "      M[,i]=rnorm(Ns)*sd(DeltaX_port[,i])*(mT/(mT-1))+mean(DeltaX_port[,i])\n",
        "    }\n",
        "    Met='Cholesky Normal'\n",
        "  }\n",
        "  DeltaX_s=M%*%CVarDeltaX  #Factores de riesgo simulados\n",
        "} else { #componentes principales\n",
        "  G<-eigen(VarDeltaX)      #eigenvectores\n",
        "  g1<-G$values                  #eigenvalores\n",
        "  g1p=g1/sum(g1)\n",
        "  \n",
        "  g1pac=cumsum(g1p) #suma acumulada de varianza\n",
        "  \n",
        "  k=which.max(g1pac>eta) #valor mínimo k\n",
        "  \n",
        "  y=as.matrix((DeltaX_port-colMeans(DeltaX_port)))%*%G$vectors[,1:k] #componentes principales\n",
        "  #/sqrt(diag(var(DeltaX))))\n",
        "  M=matrix(0, Ns,k)\n",
        "  if(normempi==0)\n",
        "  {\n",
        "    for (i in 1:k)\n",
        "    {\n",
        "      M[,i]=rnorm(Ns)*sd(y[,i])+mean(y[,i])\n",
        "    }\n",
        "    Met='Componentes Principales Normales'\n",
        "  } else\t{\n",
        "    for (i in 1:k)\n",
        "    {\n",
        "      M[,i]=quantile(y[,i],runif(Ns))\n",
        "    }\n",
        "    Met='Componentes Principales Empíricos'\n",
        "  }\n",
        "  DeltaX_s=M%*% t(G$vectors[,1:k]) #Factores de riesgo simulados\n",
        "}\n",
        "Met\n",
        "DeltaX_port[1:5,]\n",
        "\n",
        "\n",
        "Met\n",
        "\n",
        "\n",
        "Ms1='Se explica el' \n",
        "Ms2= 'de varianza'\n",
        "Ms3= 'de suma de var-cov'\n",
        "\n",
        "Ms1\n",
        "print(sum(diag(var(DeltaX_s)))/sum(diag(var(DeltaX_port)))) #Comprobación de matriz de varianza-cov vs original\n",
        "Ms2\n",
        "\n",
        "Ms1\n",
        "print(matrix(1,1,ncol(DeltaX_s))%*%var(DeltaX_s)%*%t(matrix(1,1,ncol(DeltaX_s)))/matrix(1,1,ncol(DeltaX_s))%*%var(DeltaX_port)%*%t(matrix(1,1,ncol(DeltaX_s)))) #Comprobación de matriz de varianza-cov vs original\n",
        "Ms3\n",
        "\n",
        "print(mT)\n",
        "print(k) #número de variables simuladas\n",
        "#print(g1pac)"
      ],
      "metadata": {
        "id": "ezdXisV0wDUA"
      },
      "execution_count": null,
      "outputs": []
    },
    {
      "cell_type": "markdown",
      "metadata": {
        "id": "7Uz38FmizEOO"
      },
      "source": [
        "##Paso 2. \n",
        "Construir ${X^\\ast}_{n\\times m}$ que es la matriz de factores de riesgo simulada basada en el vector de precios actual $X_{00}$\n",
        "\t\t$$X_{t}^\\ast=\\Big[x_{0,1}T^{-1}_j(\\Delta x_{t,1}), x_{0,2}T^{-1}_j(\\Delta x_{t,2}),\\ldots, x_{0,m}T^{-1}_j(\\Delta x_{t,m})\\Big]\\quad (t=1,\\ldots,n\\quad j=1,2),$$\n",
        "\t\tdonde $T_1(x)=\\ln(x)$, $T_2(x)=x-1$.\n",
        "\n"
      ]
    },
    {
      "cell_type": "code",
      "execution_count": null,
      "metadata": {
        "colab": {
          "base_uri": "https://localhost:8080/"
        },
        "id": "_YpS4IQMs9Hh",
        "outputId": "6261d6aa-07c4-4108-f06b-f4f9e4ddb911"
      },
      "outputs": [
        {
          "data": {
            "text/plain": [
              "<bound method NDFrame.head of                   AAPL         AMZN        MSFT          SQ\n",
              "Date                                                       \n",
              "2020-01-02         NaN          NaN         NaN         NaN\n",
              "2020-01-03  176.041718  3285.645295  309.951879  138.278241\n",
              "2020-01-06  179.186519  3375.529790  314.671256  139.143767\n",
              "2020-01-07  176.933944  3332.976577  310.998286  144.622965\n",
              "2020-01-08  180.629664  3300.048272  318.859267  146.628901\n",
              "...                ...          ...         ...         ...\n",
              "2022-03-24  181.801450  3330.935610  318.691197  139.748208\n",
              "2022-03-25  178.433814  3348.864228  313.426492  135.193502\n",
              "2022-03-28  178.665371  3411.141967  321.115331  148.473965\n",
              "2022-03-29  181.171526  3332.406721  318.617880  148.945012\n",
              "2022-03-30  176.587915  3266.813044  312.317584  133.669383\n",
              "\n",
              "[566 rows x 4 columns]>"
            ]
          },
          "execution_count": 5,
          "metadata": {},
          "output_type": "execute_result"
        }
      ],
      "source": [
        "X_s=np.exp(DeltaX.squeeze())*X0.squeeze()\n",
        "X_s.head"
      ]
    },
    {
      "cell_type": "markdown",
      "metadata": {
        "id": "440v6MiazKEQ"
      },
      "source": [
        "## Paso 3. \n",
        "Construcción de la matriz de reevaluación del portafolio basada en los escenarios históricos $Y_{n\\times r}$ de todos los instrumentos financieros, es decir\n",
        "\t\t$$Y_t=[m_1f_1(X_{t}^\\ast), m_2f_2(X_{t}^\\ast),\\ldots, m_rf_r(X_{t}^\\ast)]\\quad (t=1,\\ldots,n).$$\n",
        "    \n"
      ]
    },
    {
      "cell_type": "code",
      "execution_count": null,
      "metadata": {
        "colab": {
          "base_uri": "https://localhost:8080/"
        },
        "id": "c-dGnxo5zYgz",
        "outputId": "5cd6e41d-81ca-4274-874a-243f8bff3b25"
      },
      "outputs": [
        {
          "data": {
            "text/plain": [
              "<bound method NDFrame.head of                      AAPL          AMZN           MSFT            SQ\n",
              "Date                                                                \n",
              "2020-01-02            NaN           NaN            NaN           NaN\n",
              "2020-01-03  176041.717977  1.642823e+07  619903.758653  13827.824113\n",
              "2020-01-06  179186.519259  1.687765e+07  629342.511963  13914.376729\n",
              "2020-01-07  176933.943758  1.666488e+07  621996.572295  14462.296508\n",
              "2020-01-08  180629.663807  1.650024e+07  637718.534353  14662.890131\n",
              "...                   ...           ...            ...           ...\n",
              "2022-03-24  181801.449534  1.665468e+07  637382.393891  13974.820779\n",
              "2022-03-25  178433.814308  1.674432e+07  626852.983491  13519.350201\n",
              "2022-03-28  178665.370977  1.705571e+07  642230.661433  14847.396522\n",
              "2022-03-29  181171.526494  1.666203e+07  637235.759509  14894.501238\n",
              "2022-03-30  176587.914805  1.633407e+07  624635.168581  13366.938300\n",
              "\n",
              "[566 rows x 4 columns]>"
            ]
          },
          "execution_count": 6,
          "metadata": {},
          "output_type": "execute_result"
        }
      ],
      "source": [
        "Y_s=X_s*M.squeeze()\n",
        "Y_s.head\n"
      ]
    },
    {
      "cell_type": "markdown",
      "metadata": {
        "id": "MIrkcbiSzOiR"
      },
      "source": [
        "## Paso 4. \n",
        "Construcción de la matriz de pérdidas y ganancias del portafolio basada en los escenarios históricos $\\Delta Y_{n\\times r}$ de todos los instrumentos financieros, es decir\n",
        "\t\t$$\\Delta Y_t=Y_t-Y_{0}=[m_1(f_1(X_{00})-f_1(X_{t}^\\ast)), m_2( f_2(X_{00})-f_2(X_{t}^\\ast)),\\ldots, m_r(f_r(X_{00})-f_r(X_{t}^\\ast))],$$\n",
        "\t\tpara $(t=1,\\ldots,n)$. Se puede obtener el vector de pérdidas totales ${\\Delta YT}_{n\\times m}$ muy fácilmente, esto es $\\Delta YT=\\sum_{k=1}^r Y_{kt}$ $(t=1,\\ldots,n)$, incluso se puede hacer lo mismo por tipo de riesgo.\n"
      ]
    },
    {
      "cell_type": "code",
      "execution_count": null,
      "metadata": {
        "colab": {
          "base_uri": "https://localhost:8080/"
        },
        "id": "p--ugkyazdcL",
        "outputId": "c1e34365-ce45-4563-fd7a-765d2180806a"
      },
      "outputs": [
        {
          "data": {
            "text/plain": [
              "<bound method NDFrame.head of                    AAPL           AMZN          MSFT          SQ  \\\n",
              "Date                                                               \n",
              "2020-01-02          NaN            NaN           NaN         NaN   \n",
              "2020-01-03 -1728.286296 -201873.622316  -7816.212051 -182.176497   \n",
              "2020-01-06  1416.514987  247548.851123   1622.541260  -95.623882   \n",
              "2020-01-07  -836.060514   34782.788937  -5723.398408  452.295898   \n",
              "2020-01-08  2859.659535 -129858.739478   9998.563650  652.889521   \n",
              "...                 ...            ...           ...         ...   \n",
              "2022-03-24  4031.445261   24577.953606   9662.423188  -35.179831   \n",
              "2022-03-25   663.810036  114221.041465   -866.987212 -490.650409   \n",
              "2022-03-28   895.366705  425609.735891  14510.690730  837.395912   \n",
              "2022-03-29  3401.522222   31933.506724   9515.788806  884.500628   \n",
              "2022-03-30 -1182.089468 -296034.877785  -3084.802122 -643.062310   \n",
              "\n",
              "                    Total  \n",
              "Date                       \n",
              "2020-01-02       0.000000  \n",
              "2020-01-03 -211600.297160  \n",
              "2020-01-06  250492.283488  \n",
              "2020-01-07   28675.625913  \n",
              "2020-01-08 -116347.626772  \n",
              "...                   ...  \n",
              "2022-03-24   38236.642225  \n",
              "2022-03-25  113527.213879  \n",
              "2022-03-28  441853.189237  \n",
              "2022-03-29   45735.318379  \n",
              "2022-03-30 -300944.831684  \n",
              "\n",
              "[566 rows x 5 columns]>"
            ]
          },
          "execution_count": 7,
          "metadata": {},
          "output_type": "execute_result"
        }
      ],
      "source": [
        "PL=Y_s-Y0\n",
        "\n",
        "cols=PL.shape[1]\n",
        "\n",
        "PL['Total']=PL.sum(axis=1)\n",
        "PL.head"
      ]
    },
    {
      "cell_type": "markdown",
      "metadata": {
        "id": "WAdcqcF4znAR"
      },
      "source": [
        "##Paso 5. \n",
        "Obtenerla medida de riesgo basado en un nivel de confianza de la matriz ${\\Delta Y}_{\\cdot k}$ $(k=1,\\ldots,r)$ y $\\Delta YT$.\n",
        "\n",
        "Las pérdidas y ganancias vía simulación histórica sin alisado es donde se ponderan los escenarios históricos con un mismo peso para todos, es decir cada escenario tiene una probabilidad de ocurrencia de $1/n$."
      ]
    },
    {
      "cell_type": "code",
      "execution_count": null,
      "metadata": {
        "id": "ePaAJfQXAhFb"
      },
      "outputs": [],
      "source": [
        "alpha = 0.98 #@param {type:\"slider\", min:0.8, max:1, step:0.001}"
      ]
    },
    {
      "cell_type": "markdown",
      "metadata": {
        "id": "tetUyVvJzuNi"
      },
      "source": [
        "###Valor en Riesgo (VaR)\n",
        "\n",
        "Es un cuantil a un $\\alpha$ de confianza de la distribución de pérdidas y ganancias, generalmente se expresa en términos monetarios.\n",
        "\n",
        "#VaR\n",
        "\n",
        "El valor en riesgo (VaR) es una estadística utilizada para tratar de cuantificar el nivel de riesgo financiero dentro de una empresa o cartera durante un período de tiempo específico. VaR proporciona una estimación de la pérdida máxima de una posición o cartera determinada durante un período de tiempo, y puede calcularla a través de varios niveles de confianza.\n",
        "\n",
        "Estimar el riesgo de una cartera es importante para el crecimiento del capital a largo plazo y la gestión del riesgo, en particular dentro de empresas o instituciones más grandes. El VaR generalmente se enmarca como algo como esto:\n",
        "\n",
        "“Tenemos un VaR de cartera de 250.000 USD para el próximo mes al 95% de confianza”\n",
        "Esto significa que, con un 95% de confianza, podemos decir que la pérdida de la cartera no superará los 250.000 USD en un mes.\n",
        "En esta publicación, lo guiaré a través de los pasos para calcular esta métrica en una cartera de acciones."
      ]
    },
    {
      "cell_type": "code",
      "execution_count": null,
      "metadata": {
        "colab": {
          "base_uri": "https://localhost:8080/"
        },
        "id": "2SLu5LbSAHPc",
        "outputId": "b87b499b-5b5c-4808-f179-7b17d64ba0bb"
      },
      "outputs": [
        {
          "name": "stdout",
          "output_type": "stream",
          "text": [
            "AAPL      -8193.309543\n",
            "AMZN    -758814.358453\n",
            "MSFT     -26925.092186\n",
            "SQ        -1109.632491\n",
            "Total   -809806.864573\n",
            "Name: 0.020000000000000018, dtype: float64\n",
            "[-8091.457725118351, -730799.392254062, -26566.717137969215, -1052.1554296586746, -777416.0683959855]\n",
            "17449600.073242188\n"
          ]
        }
      ],
      "source": [
        "VaR=PL.quantile(1-alpha, numeric_only=False)\n",
        "\n",
        "print(VaR)\n",
        "\n",
        "\n",
        "VaRsi=[]\n",
        "\n",
        "for i in range(0,PL.shape[1]):\n",
        "  VC=PL.iloc[:,i].sort_values(ascending=True).quantile(1-alpha, interpolation = 'higher')\n",
        "  VaRsi.append(VC)\n",
        "\n",
        "print(VaRsi)\n",
        "\n",
        "print(sum(Y0))"
      ]
    },
    {
      "cell_type": "markdown",
      "metadata": {
        "id": "o0ZOmnB_z5wL"
      },
      "source": [
        "###Valor en Riesgo Condicional o \"Expected Shortfall\"\n",
        "\n",
        "Es el promedio de las pérdidas que son más severas que el Valor en Riesgo ($VaR_\\alpha$) a un $\\alpha$ de confianza, es decir:\n",
        "$$E(x|x\\le VaR_\\alpha)$$\n"
      ]
    },
    {
      "cell_type": "code",
      "execution_count": null,
      "metadata": {
        "id": "FLd6lSMXA4pY"
      },
      "outputs": [],
      "source": [
        "def VaR_Cond(x , VaR ):\n",
        "  return np.mean(x[x <= VaR])"
      ]
    },
    {
      "cell_type": "code",
      "execution_count": null,
      "metadata": {
        "id": "W7ACgPC7ECw8"
      },
      "outputs": [],
      "source": [
        "\n",
        "VaR_C=[]\n",
        "\n",
        "for i in range(0,PL.shape[1]):\n",
        "  VC=VaR_Cond(PL.iloc[:,i],VaR[i])\n",
        "  VaR_C.append(VC)\n"
      ]
    },
    {
      "cell_type": "code",
      "execution_count": null,
      "metadata": {
        "colab": {
          "base_uri": "https://localhost:8080/",
          "height": 485
        },
        "id": "i3rmVoZc0iwR",
        "outputId": "a8989132-dbd5-463a-8d2d-3c31c6012040"
      },
      "outputs": [
        {
          "name": "stdout",
          "output_type": "stream",
          "text": [
            "AAPL      -8193.309543\n",
            "AMZN    -758814.358453\n",
            "MSFT     -26925.092186\n",
            "SQ        -1109.632491\n",
            "Total   -809806.864573\n",
            "Name: 0.020000000000000018, dtype: float64\n",
            "[-12342.591980741228, -1012696.0297471011, -40780.820161650394, -1627.0165123262495, -1054330.3999173671]\n"
          ]
        },
        {
          "data": {
            "text/html": [
              "\n",
              "  <div id=\"df-2d2426b2-66fa-40b1-8b86-9aafb7104333\">\n",
              "    <div class=\"colab-df-container\">\n",
              "      <div>\n",
              "<style scoped>\n",
              "    .dataframe tbody tr th:only-of-type {\n",
              "        vertical-align: middle;\n",
              "    }\n",
              "\n",
              "    .dataframe tbody tr th {\n",
              "        vertical-align: top;\n",
              "    }\n",
              "\n",
              "    .dataframe thead th {\n",
              "        text-align: right;\n",
              "    }\n",
              "</style>\n",
              "<table border=\"1\" class=\"dataframe\">\n",
              "  <thead>\n",
              "    <tr style=\"text-align: right;\">\n",
              "      <th></th>\n",
              "      <th>0</th>\n",
              "      <th>1</th>\n",
              "    </tr>\n",
              "  </thead>\n",
              "  <tbody>\n",
              "    <tr>\n",
              "      <th>AAPL</th>\n",
              "      <td>-8193.309543</td>\n",
              "      <td>NaN</td>\n",
              "    </tr>\n",
              "    <tr>\n",
              "      <th>AMZN</th>\n",
              "      <td>-758814.358453</td>\n",
              "      <td>NaN</td>\n",
              "    </tr>\n",
              "    <tr>\n",
              "      <th>MSFT</th>\n",
              "      <td>-26925.092186</td>\n",
              "      <td>NaN</td>\n",
              "    </tr>\n",
              "    <tr>\n",
              "      <th>SQ</th>\n",
              "      <td>-1109.632491</td>\n",
              "      <td>NaN</td>\n",
              "    </tr>\n",
              "    <tr>\n",
              "      <th>Total</th>\n",
              "      <td>-809806.864573</td>\n",
              "      <td>NaN</td>\n",
              "    </tr>\n",
              "    <tr>\n",
              "      <th>0</th>\n",
              "      <td>NaN</td>\n",
              "      <td>-1.234259e+04</td>\n",
              "    </tr>\n",
              "    <tr>\n",
              "      <th>1</th>\n",
              "      <td>NaN</td>\n",
              "      <td>-1.012696e+06</td>\n",
              "    </tr>\n",
              "    <tr>\n",
              "      <th>2</th>\n",
              "      <td>NaN</td>\n",
              "      <td>-4.078082e+04</td>\n",
              "    </tr>\n",
              "    <tr>\n",
              "      <th>3</th>\n",
              "      <td>NaN</td>\n",
              "      <td>-1.627017e+03</td>\n",
              "    </tr>\n",
              "    <tr>\n",
              "      <th>4</th>\n",
              "      <td>NaN</td>\n",
              "      <td>-1.054330e+06</td>\n",
              "    </tr>\n",
              "  </tbody>\n",
              "</table>\n",
              "</div>\n",
              "      <button class=\"colab-df-convert\" onclick=\"convertToInteractive('df-2d2426b2-66fa-40b1-8b86-9aafb7104333')\"\n",
              "              title=\"Convert this dataframe to an interactive table.\"\n",
              "              style=\"display:none;\">\n",
              "        \n",
              "  <svg xmlns=\"http://www.w3.org/2000/svg\" height=\"24px\"viewBox=\"0 0 24 24\"\n",
              "       width=\"24px\">\n",
              "    <path d=\"M0 0h24v24H0V0z\" fill=\"none\"/>\n",
              "    <path d=\"M18.56 5.44l.94 2.06.94-2.06 2.06-.94-2.06-.94-.94-2.06-.94 2.06-2.06.94zm-11 1L8.5 8.5l.94-2.06 2.06-.94-2.06-.94L8.5 2.5l-.94 2.06-2.06.94zm10 10l.94 2.06.94-2.06 2.06-.94-2.06-.94-.94-2.06-.94 2.06-2.06.94z\"/><path d=\"M17.41 7.96l-1.37-1.37c-.4-.4-.92-.59-1.43-.59-.52 0-1.04.2-1.43.59L10.3 9.45l-7.72 7.72c-.78.78-.78 2.05 0 2.83L4 21.41c.39.39.9.59 1.41.59.51 0 1.02-.2 1.41-.59l7.78-7.78 2.81-2.81c.8-.78.8-2.07 0-2.86zM5.41 20L4 18.59l7.72-7.72 1.47 1.35L5.41 20z\"/>\n",
              "  </svg>\n",
              "      </button>\n",
              "      \n",
              "  <style>\n",
              "    .colab-df-container {\n",
              "      display:flex;\n",
              "      flex-wrap:wrap;\n",
              "      gap: 12px;\n",
              "    }\n",
              "\n",
              "    .colab-df-convert {\n",
              "      background-color: #E8F0FE;\n",
              "      border: none;\n",
              "      border-radius: 50%;\n",
              "      cursor: pointer;\n",
              "      display: none;\n",
              "      fill: #1967D2;\n",
              "      height: 32px;\n",
              "      padding: 0 0 0 0;\n",
              "      width: 32px;\n",
              "    }\n",
              "\n",
              "    .colab-df-convert:hover {\n",
              "      background-color: #E2EBFA;\n",
              "      box-shadow: 0px 1px 2px rgba(60, 64, 67, 0.3), 0px 1px 3px 1px rgba(60, 64, 67, 0.15);\n",
              "      fill: #174EA6;\n",
              "    }\n",
              "\n",
              "    [theme=dark] .colab-df-convert {\n",
              "      background-color: #3B4455;\n",
              "      fill: #D2E3FC;\n",
              "    }\n",
              "\n",
              "    [theme=dark] .colab-df-convert:hover {\n",
              "      background-color: #434B5C;\n",
              "      box-shadow: 0px 1px 3px 1px rgba(0, 0, 0, 0.15);\n",
              "      filter: drop-shadow(0px 1px 2px rgba(0, 0, 0, 0.3));\n",
              "      fill: #FFFFFF;\n",
              "    }\n",
              "  </style>\n",
              "\n",
              "      <script>\n",
              "        const buttonEl =\n",
              "          document.querySelector('#df-2d2426b2-66fa-40b1-8b86-9aafb7104333 button.colab-df-convert');\n",
              "        buttonEl.style.display =\n",
              "          google.colab.kernel.accessAllowed ? 'block' : 'none';\n",
              "\n",
              "        async function convertToInteractive(key) {\n",
              "          const element = document.querySelector('#df-2d2426b2-66fa-40b1-8b86-9aafb7104333');\n",
              "          const dataTable =\n",
              "            await google.colab.kernel.invokeFunction('convertToInteractive',\n",
              "                                                     [key], {});\n",
              "          if (!dataTable) return;\n",
              "\n",
              "          const docLinkHtml = 'Like what you see? Visit the ' +\n",
              "            '<a target=\"_blank\" href=https://colab.research.google.com/notebooks/data_table.ipynb>data table notebook</a>'\n",
              "            + ' to learn more about interactive tables.';\n",
              "          element.innerHTML = '';\n",
              "          dataTable['output_type'] = 'display_data';\n",
              "          await google.colab.output.renderOutput(dataTable, element);\n",
              "          const docLink = document.createElement('div');\n",
              "          docLink.innerHTML = docLinkHtml;\n",
              "          element.appendChild(docLink);\n",
              "        }\n",
              "      </script>\n",
              "    </div>\n",
              "  </div>\n",
              "  "
            ],
            "text/plain": [
              "                   0             1\n",
              "AAPL    -8193.309543           NaN\n",
              "AMZN  -758814.358453           NaN\n",
              "MSFT   -26925.092186           NaN\n",
              "SQ      -1109.632491           NaN\n",
              "Total -809806.864573           NaN\n",
              "0                NaN -1.234259e+04\n",
              "1                NaN -1.012696e+06\n",
              "2                NaN -4.078082e+04\n",
              "3                NaN -1.627017e+03\n",
              "4                NaN -1.054330e+06"
            ]
          },
          "execution_count": 12,
          "metadata": {},
          "output_type": "execute_result"
        }
      ],
      "source": [
        "\n",
        "print(VaR)\n",
        "print(VaR_C)\n",
        "\n",
        "pd.concat([VaR,pd.DataFrame(VaR_C).squeeze()], axis=1, ignore_index=True)"
      ]
    },
    {
      "cell_type": "code",
      "execution_count": null,
      "metadata": {
        "id": "TwoguQHG4JKw"
      },
      "outputs": [],
      "source": [
        ""
      ]
    }
  ],
  "metadata": {
    "colab": {
      "name": "Acc_Div_SMMC_python.ipynb",
      "provenance": [],
      "authorship_tag": "ABX9TyMlNkNOTIj18DbqZ9tE0SvZ",
      "include_colab_link": true
    },
    "kernelspec": {
      "display_name": "Python 3",
      "name": "python3"
    },
    "language_info": {
      "name": "python"
    }
  },
  "nbformat": 4,
  "nbformat_minor": 0
}