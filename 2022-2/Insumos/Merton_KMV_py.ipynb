{
  "nbformat": 4,
  "nbformat_minor": 0,
  "metadata": {
    "colab": {
      "name": "Merton_KMV_py.ipynb",
      "provenance": [],
      "authorship_tag": "ABX9TyNuC8zMp6/6t8fT1tw9IEha",
      "include_colab_link": true
    },
    "kernelspec": {
      "name": "python3",
      "display_name": "Python 3"
    },
    "language_info": {
      "name": "python"
    }
  },
  "cells": [
    {
      "cell_type": "markdown",
      "metadata": {
        "id": "view-in-github",
        "colab_type": "text"
      },
      "source": [
        "<a href=\"https://colab.research.google.com/github/pikey-msc/RiesgosFinancieros/blob/master/2022-2/Insumos/Merton_KMV_py.ipynb\" target=\"_parent\"><img src=\"https://colab.research.google.com/assets/colab-badge.svg\" alt=\"Open In Colab\"/></a>"
      ]
    },
    {
      "cell_type": "code",
      "execution_count": 1,
      "metadata": {
        "colab": {
          "base_uri": "https://localhost:8080/"
        },
        "id": "JZSo31yN27uJ",
        "outputId": "591222f1-8461-47b2-cef7-19c8427f02e1"
      },
      "outputs": [
        {
          "output_type": "stream",
          "name": "stdout",
          "text": [
            "Looking in indexes: https://pypi.org/simple, https://us-python.pkg.dev/colab-wheels/public/simple/\n",
            "Collecting yfinance\n",
            "  Downloading yfinance-0.1.70-py2.py3-none-any.whl (26 kB)\n",
            "Collecting requests>=2.26\n",
            "  Downloading requests-2.28.0-py3-none-any.whl (62 kB)\n",
            "\u001b[K     |████████████████████████████████| 62 kB 631 kB/s \n",
            "\u001b[?25hRequirement already satisfied: pandas>=0.24.0 in /usr/local/lib/python3.7/dist-packages (from yfinance) (1.3.5)\n",
            "Requirement already satisfied: multitasking>=0.0.7 in /usr/local/lib/python3.7/dist-packages (from yfinance) (0.0.10)\n",
            "Collecting lxml>=4.5.1\n",
            "  Downloading lxml-4.9.0-cp37-cp37m-manylinux_2_17_x86_64.manylinux2014_x86_64.manylinux_2_24_x86_64.whl (6.4 MB)\n",
            "\u001b[K     |████████████████████████████████| 6.4 MB 10.2 MB/s \n",
            "\u001b[?25hRequirement already satisfied: numpy>=1.15 in /usr/local/lib/python3.7/dist-packages (from yfinance) (1.21.6)\n",
            "Requirement already satisfied: pytz>=2017.3 in /usr/local/lib/python3.7/dist-packages (from pandas>=0.24.0->yfinance) (2022.1)\n",
            "Requirement already satisfied: python-dateutil>=2.7.3 in /usr/local/lib/python3.7/dist-packages (from pandas>=0.24.0->yfinance) (2.8.2)\n",
            "Requirement already satisfied: six>=1.5 in /usr/local/lib/python3.7/dist-packages (from python-dateutil>=2.7.3->pandas>=0.24.0->yfinance) (1.15.0)\n",
            "Requirement already satisfied: charset-normalizer~=2.0.0 in /usr/local/lib/python3.7/dist-packages (from requests>=2.26->yfinance) (2.0.12)\n",
            "Requirement already satisfied: certifi>=2017.4.17 in /usr/local/lib/python3.7/dist-packages (from requests>=2.26->yfinance) (2022.5.18.1)\n",
            "Requirement already satisfied: idna<4,>=2.5 in /usr/local/lib/python3.7/dist-packages (from requests>=2.26->yfinance) (2.10)\n",
            "Requirement already satisfied: urllib3<1.27,>=1.21.1 in /usr/local/lib/python3.7/dist-packages (from requests>=2.26->yfinance) (1.24.3)\n",
            "Installing collected packages: requests, lxml, yfinance\n",
            "  Attempting uninstall: requests\n",
            "    Found existing installation: requests 2.23.0\n",
            "    Uninstalling requests-2.23.0:\n",
            "      Successfully uninstalled requests-2.23.0\n",
            "  Attempting uninstall: lxml\n",
            "    Found existing installation: lxml 4.2.6\n",
            "    Uninstalling lxml-4.2.6:\n",
            "      Successfully uninstalled lxml-4.2.6\n",
            "\u001b[31mERROR: pip's dependency resolver does not currently take into account all the packages that are installed. This behaviour is the source of the following dependency conflicts.\n",
            "google-colab 1.0.0 requires requests~=2.23.0, but you have requests 2.28.0 which is incompatible.\n",
            "datascience 0.10.6 requires folium==0.2.1, but you have folium 0.8.3 which is incompatible.\u001b[0m\n",
            "Successfully installed lxml-4.9.0 requests-2.28.0 yfinance-0.1.70\n"
          ]
        }
      ],
      "source": [
        "!pip install yfinance\n",
        "import yfinance as yf\n"
      ]
    },
    {
      "cell_type": "code",
      "source": [
        "start = '2020-01-01'\n",
        "\n",
        "symbol = 'WALMEX.MX'\n",
        "stock_data = yf.Ticker(symbol)\n",
        "# stock_data = stock_data.history(start=start)#, end=end) \n"
      ],
      "metadata": {
        "id": "FtK97hgZ3dn-"
      },
      "execution_count": 2,
      "outputs": []
    },
    {
      "cell_type": "code",
      "source": [
        "stock_data.info"
      ],
      "metadata": {
        "colab": {
          "base_uri": "https://localhost:8080/"
        },
        "id": "37HaC4SgEvMs",
        "outputId": "f2ba82ae-cfd9-4cd7-e989-dfd380a4e35a"
      },
      "execution_count": 3,
      "outputs": [
        {
          "output_type": "execute_result",
          "data": {
            "text/plain": [
              "{'52WeekChange': 0.06348717,\n",
              " 'SandP52WeekChange': -0.029111743,\n",
              " 'address1': 'Nextengo #78',\n",
              " 'address2': 'Santa Cruz Acayucan',\n",
              " 'algorithm': None,\n",
              " 'annualHoldingsTurnover': None,\n",
              " 'annualReportExpenseRatio': None,\n",
              " 'ask': 68.8,\n",
              " 'askSize': 470000,\n",
              " 'averageDailyVolume10Day': 17604677,\n",
              " 'averageVolume': 17416640,\n",
              " 'averageVolume10days': 17604677,\n",
              " 'beta': 0.144347,\n",
              " 'beta3Year': None,\n",
              " 'bid': 68.52,\n",
              " 'bidSize': 50100,\n",
              " 'bookValue': 10.958,\n",
              " 'category': None,\n",
              " 'circulatingSupply': None,\n",
              " 'city': 'Mexico City',\n",
              " 'companyOfficers': [],\n",
              " 'country': 'Mexico',\n",
              " 'currency': 'MXN',\n",
              " 'currentPrice': 68.6,\n",
              " 'currentRatio': 1.161,\n",
              " 'dateShortInterest': None,\n",
              " 'dayHigh': 69.51,\n",
              " 'dayLow': 68.3,\n",
              " 'debtToEquity': 34.118,\n",
              " 'dividendRate': 1.9,\n",
              " 'dividendYield': 0.0277,\n",
              " 'earningsGrowth': 0.103,\n",
              " 'earningsQuarterlyGrowth': 0.103,\n",
              " 'ebitda': 78373167104,\n",
              " 'ebitdaMargins': 0.10418,\n",
              " 'enterpriseToEbitda': 15.837,\n",
              " 'enterpriseToRevenue': 1.65,\n",
              " 'enterpriseValue': 1241182240768,\n",
              " 'exDividendDate': 1668643200,\n",
              " 'exchange': 'MEX',\n",
              " 'exchangeTimezoneName': 'America/Mexico_City',\n",
              " 'exchangeTimezoneShortName': 'CDT',\n",
              " 'expireDate': None,\n",
              " 'fiftyDayAverage': 74.692,\n",
              " 'fiftyTwoWeekHigh': 82.93,\n",
              " 'fiftyTwoWeekLow': 62.5,\n",
              " 'financialCurrency': 'MXN',\n",
              " 'fiveYearAverageReturn': None,\n",
              " 'fiveYearAvgDividendYield': 1.44,\n",
              " 'floatShares': 5149367636,\n",
              " 'forwardEps': 3.16,\n",
              " 'forwardPE': 21.70886,\n",
              " 'freeCashflow': 2947113472,\n",
              " 'fromCurrency': None,\n",
              " 'fullTimeEmployees': 228362,\n",
              " 'fundFamily': None,\n",
              " 'fundInceptionDate': None,\n",
              " 'gmtOffSetMilliseconds': '-18000000',\n",
              " 'grossMargins': 0.23289,\n",
              " 'grossProfits': 170993007000,\n",
              " 'heldPercentInsiders': 0.7051,\n",
              " 'heldPercentInstitutions': 0.1268,\n",
              " 'impliedSharesOutstanding': 0,\n",
              " 'industry': 'Discount Stores',\n",
              " 'isEsgPopulated': False,\n",
              " 'lastCapGain': None,\n",
              " 'lastDividendDate': 1668643200,\n",
              " 'lastDividendValue': 0.71,\n",
              " 'lastFiscalYearEnd': 1640908800,\n",
              " 'lastMarket': None,\n",
              " 'lastSplitDate': 1271721600,\n",
              " 'lastSplitFactor': '2:1',\n",
              " 'legalType': None,\n",
              " 'logo_url': 'https://logo.clearbit.com/walmex.mx',\n",
              " 'longBusinessSummary': \"Wal-Mart de México, S.A.B. de C.V. owns and operates self-service stores in Mexico and Central America. The company operates discount warehouses and stores, hypermarkets, supermarkets, and membership self-service wholesale stores. It operates 2,198 Bodega Aurrerá discount stores, 294 Walmart hypermarkets, 14 Superama supermarkets, 85 Walmart Express supermarkets, and 165 Sam's Club membership self-service wholesale stores. The company also operates 572 Despensa Familiar and Palí discount stores; 98 Paiz, La Despensa de Don Juan, La Unión, and Más x Menos supermarkets; 158 Bodegas, Maxi Bodega, and Maxi Palí stores; and 36 Walmart hypermarkets in Costa Rica, Guatemala, Honduras, Nicaragua, and El Salvador. In addition, it imports and sells goods; develops properties; and manages real estate companies. The company was founded in 1958 and is headquartered in Mexico City, Mexico. Wal-Mart de México, S.A.B. de C.V. is a subsidiary of Intersalt, S. De R.l. De C.v.\",\n",
              " 'longName': 'Wal-Mart de México, S.A.B. de C.V.',\n",
              " 'market': 'mx_market',\n",
              " 'marketCap': 1197851934720,\n",
              " 'maxAge': 1,\n",
              " 'maxSupply': None,\n",
              " 'messageBoardId': 'finmb_875616',\n",
              " 'morningStarOverallRating': None,\n",
              " 'morningStarRiskRating': None,\n",
              " 'mostRecentQuarter': 1648684800,\n",
              " 'navPrice': None,\n",
              " 'netIncomeToCommon': 45176627200,\n",
              " 'nextFiscalYearEnd': 1703980800,\n",
              " 'numberOfAnalystOpinions': 24,\n",
              " 'open': 69.51,\n",
              " 'openInterest': None,\n",
              " 'operatingCashflow': 62730592256,\n",
              " 'operatingMargins': 0.085159995,\n",
              " 'payoutRatio': 0.3478,\n",
              " 'pegRatio': 2,\n",
              " 'preMarketPrice': None,\n",
              " 'previousClose': 69.35,\n",
              " 'priceHint': 2,\n",
              " 'priceToBook': 6.2602663,\n",
              " 'priceToSalesTrailing12Months': 1.5922858,\n",
              " 'profitMargins': 0.06005,\n",
              " 'quickRatio': 0.446,\n",
              " 'quoteType': 'EQUITY',\n",
              " 'recommendationKey': 'hold',\n",
              " 'recommendationMean': 2.7,\n",
              " 'regularMarketDayHigh': 69.51,\n",
              " 'regularMarketDayLow': 68.3,\n",
              " 'regularMarketOpen': 69.51,\n",
              " 'regularMarketPreviousClose': 69.35,\n",
              " 'regularMarketPrice': 68.6,\n",
              " 'regularMarketVolume': 8752719,\n",
              " 'returnOnAssets': 0.10855,\n",
              " 'returnOnEquity': 0.26196,\n",
              " 'revenueGrowth': 0.1,\n",
              " 'revenuePerShare': 43.087,\n",
              " 'revenueQuarterlyGrowth': None,\n",
              " 'sector': 'Consumer Defensive',\n",
              " 'sharesOutstanding': 17461399552,\n",
              " 'sharesPercentSharesOut': None,\n",
              " 'sharesShort': None,\n",
              " 'sharesShortPreviousMonthDate': None,\n",
              " 'sharesShortPriorMonth': None,\n",
              " 'shortName': 'WAL-MART DE MEXICO SAB DE CV',\n",
              " 'shortPercentOfFloat': None,\n",
              " 'shortRatio': None,\n",
              " 'startDate': None,\n",
              " 'state': 'DF',\n",
              " 'strikePrice': None,\n",
              " 'symbol': 'WALMEX.MX',\n",
              " 'targetHighPrice': 90,\n",
              " 'targetLowPrice': 60,\n",
              " 'targetMeanPrice': 78.8,\n",
              " 'targetMedianPrice': 80.19,\n",
              " 'threeYearAverageReturn': None,\n",
              " 'toCurrency': None,\n",
              " 'totalAssets': None,\n",
              " 'totalCash': 35045830656,\n",
              " 'totalCashPerShare': 2.007,\n",
              " 'totalDebt': 65279737856,\n",
              " 'totalRevenue': 752284532736,\n",
              " 'tradeable': False,\n",
              " 'trailingAnnualDividendRate': 1,\n",
              " 'trailingAnnualDividendYield': 0.014419611,\n",
              " 'trailingEps': 2.587,\n",
              " 'trailingPE': 26.517202,\n",
              " 'twoHundredDayAverage': 73.6231,\n",
              " 'volume': 8752719,\n",
              " 'volume24Hr': None,\n",
              " 'volumeAllCurrencies': None,\n",
              " 'website': 'https://www.walmex.mx',\n",
              " 'yield': None,\n",
              " 'ytdReturn': None,\n",
              " 'zip': '02770'}"
            ]
          },
          "metadata": {},
          "execution_count": 3
        }
      ]
    },
    {
      "cell_type": "code",
      "source": [
        "Acc=stock_data.info[\"sharesOutstanding\"]\n",
        "Kp=stock_data.info[\"enterpriseValue\"]\n",
        "Dp=stock_data.info[\"totalDebt\"]\n",
        "# print(stock_data.balance_sheet)\n",
        "import pandas as pd\n",
        "bs=pd.DataFrame(stock_data.balance_sheet)\n",
        "K_0=bs[[\"2021-12-31\"]].loc[\"Total Stockholder Equity\"]\n",
        "# bs[\"Total Stockholder Equity\"]\n",
        "D_0=bs[[\"2021-12-31\"]].loc[\"Total Liab\"]\n"
      ],
      "metadata": {
        "id": "CDQakV4BEtxn"
      },
      "execution_count": 22,
      "outputs": []
    },
    {
      "cell_type": "code",
      "source": [
        "print(Kp, \"vs\", K)\n",
        "print(Kp/K)\n",
        "print(Dp, \"vs\", D)\n",
        "print(Dp/D)"
      ],
      "metadata": {
        "colab": {
          "base_uri": "https://localhost:8080/"
        },
        "id": "Kg92GSxl2gLS",
        "outputId": "b2898aa6-9dad-4e3b-f0b2-b659a64a0b4e"
      },
      "execution_count": 24,
      "outputs": [
        {
          "output_type": "stream",
          "name": "stdout",
          "text": [
            "1241182240768 vs \n",
            "2021-12-31    1.858820e+11\n",
            "Name: Total Stockholder Equity, dtype: float64\n",
            "\n",
            "2021-12-31    6.677259\n",
            "Name: Total Stockholder Equity, dtype: float64\n",
            "65279737856 vs \n",
            "2021-12-31    2.085075e+11\n",
            "Name: Total Liab, dtype: float64\n",
            "\n",
            "2021-12-31    0.313081\n",
            "Name: Total Liab, dtype: float64\n"
          ]
        }
      ]
    },
    {
      "cell_type": "code",
      "source": [
        "import pandas as pd\n",
        "import numpy as np\n",
        "from statistics import stdev\n",
        "\n",
        "df = pd.DataFrame()\n",
        "\n",
        "hist=stock_data.history(period=\"max\", auto_adjust=True)\n",
        "\n",
        "df['ds'] = hist.index\n",
        "df['y'] = hist['Close'].values\n",
        "\n",
        "df.tail()"
      ],
      "metadata": {
        "colab": {
          "base_uri": "https://localhost:8080/",
          "height": 206
        },
        "id": "5lUKVPf91ibr",
        "outputId": "b8d2b70a-642f-4314-abeb-096c9d8466d1"
      },
      "execution_count": 26,
      "outputs": [
        {
          "output_type": "execute_result",
          "data": {
            "text/plain": [
              "             ds          y\n",
              "4914 2022-06-03  71.190002\n",
              "4915 2022-06-06  69.269997\n",
              "4916 2022-06-07  68.500000\n",
              "4917 2022-06-08  69.349998\n",
              "4918 2022-06-09  68.599998"
            ],
            "text/html": [
              "\n",
              "  <div id=\"df-e626a704-9c82-43dc-a83f-4627d42c8c4e\">\n",
              "    <div class=\"colab-df-container\">\n",
              "      <div>\n",
              "<style scoped>\n",
              "    .dataframe tbody tr th:only-of-type {\n",
              "        vertical-align: middle;\n",
              "    }\n",
              "\n",
              "    .dataframe tbody tr th {\n",
              "        vertical-align: top;\n",
              "    }\n",
              "\n",
              "    .dataframe thead th {\n",
              "        text-align: right;\n",
              "    }\n",
              "</style>\n",
              "<table border=\"1\" class=\"dataframe\">\n",
              "  <thead>\n",
              "    <tr style=\"text-align: right;\">\n",
              "      <th></th>\n",
              "      <th>ds</th>\n",
              "      <th>y</th>\n",
              "    </tr>\n",
              "  </thead>\n",
              "  <tbody>\n",
              "    <tr>\n",
              "      <th>4914</th>\n",
              "      <td>2022-06-03</td>\n",
              "      <td>71.190002</td>\n",
              "    </tr>\n",
              "    <tr>\n",
              "      <th>4915</th>\n",
              "      <td>2022-06-06</td>\n",
              "      <td>69.269997</td>\n",
              "    </tr>\n",
              "    <tr>\n",
              "      <th>4916</th>\n",
              "      <td>2022-06-07</td>\n",
              "      <td>68.500000</td>\n",
              "    </tr>\n",
              "    <tr>\n",
              "      <th>4917</th>\n",
              "      <td>2022-06-08</td>\n",
              "      <td>69.349998</td>\n",
              "    </tr>\n",
              "    <tr>\n",
              "      <th>4918</th>\n",
              "      <td>2022-06-09</td>\n",
              "      <td>68.599998</td>\n",
              "    </tr>\n",
              "  </tbody>\n",
              "</table>\n",
              "</div>\n",
              "      <button class=\"colab-df-convert\" onclick=\"convertToInteractive('df-e626a704-9c82-43dc-a83f-4627d42c8c4e')\"\n",
              "              title=\"Convert this dataframe to an interactive table.\"\n",
              "              style=\"display:none;\">\n",
              "        \n",
              "  <svg xmlns=\"http://www.w3.org/2000/svg\" height=\"24px\"viewBox=\"0 0 24 24\"\n",
              "       width=\"24px\">\n",
              "    <path d=\"M0 0h24v24H0V0z\" fill=\"none\"/>\n",
              "    <path d=\"M18.56 5.44l.94 2.06.94-2.06 2.06-.94-2.06-.94-.94-2.06-.94 2.06-2.06.94zm-11 1L8.5 8.5l.94-2.06 2.06-.94-2.06-.94L8.5 2.5l-.94 2.06-2.06.94zm10 10l.94 2.06.94-2.06 2.06-.94-2.06-.94-.94-2.06-.94 2.06-2.06.94z\"/><path d=\"M17.41 7.96l-1.37-1.37c-.4-.4-.92-.59-1.43-.59-.52 0-1.04.2-1.43.59L10.3 9.45l-7.72 7.72c-.78.78-.78 2.05 0 2.83L4 21.41c.39.39.9.59 1.41.59.51 0 1.02-.2 1.41-.59l7.78-7.78 2.81-2.81c.8-.78.8-2.07 0-2.86zM5.41 20L4 18.59l7.72-7.72 1.47 1.35L5.41 20z\"/>\n",
              "  </svg>\n",
              "      </button>\n",
              "      \n",
              "  <style>\n",
              "    .colab-df-container {\n",
              "      display:flex;\n",
              "      flex-wrap:wrap;\n",
              "      gap: 12px;\n",
              "    }\n",
              "\n",
              "    .colab-df-convert {\n",
              "      background-color: #E8F0FE;\n",
              "      border: none;\n",
              "      border-radius: 50%;\n",
              "      cursor: pointer;\n",
              "      display: none;\n",
              "      fill: #1967D2;\n",
              "      height: 32px;\n",
              "      padding: 0 0 0 0;\n",
              "      width: 32px;\n",
              "    }\n",
              "\n",
              "    .colab-df-convert:hover {\n",
              "      background-color: #E2EBFA;\n",
              "      box-shadow: 0px 1px 2px rgba(60, 64, 67, 0.3), 0px 1px 3px 1px rgba(60, 64, 67, 0.15);\n",
              "      fill: #174EA6;\n",
              "    }\n",
              "\n",
              "    [theme=dark] .colab-df-convert {\n",
              "      background-color: #3B4455;\n",
              "      fill: #D2E3FC;\n",
              "    }\n",
              "\n",
              "    [theme=dark] .colab-df-convert:hover {\n",
              "      background-color: #434B5C;\n",
              "      box-shadow: 0px 1px 3px 1px rgba(0, 0, 0, 0.15);\n",
              "      filter: drop-shadow(0px 1px 2px rgba(0, 0, 0, 0.3));\n",
              "      fill: #FFFFFF;\n",
              "    }\n",
              "  </style>\n",
              "\n",
              "      <script>\n",
              "        const buttonEl =\n",
              "          document.querySelector('#df-e626a704-9c82-43dc-a83f-4627d42c8c4e button.colab-df-convert');\n",
              "        buttonEl.style.display =\n",
              "          google.colab.kernel.accessAllowed ? 'block' : 'none';\n",
              "\n",
              "        async function convertToInteractive(key) {\n",
              "          const element = document.querySelector('#df-e626a704-9c82-43dc-a83f-4627d42c8c4e');\n",
              "          const dataTable =\n",
              "            await google.colab.kernel.invokeFunction('convertToInteractive',\n",
              "                                                     [key], {});\n",
              "          if (!dataTable) return;\n",
              "\n",
              "          const docLinkHtml = 'Like what you see? Visit the ' +\n",
              "            '<a target=\"_blank\" href=https://colab.research.google.com/notebooks/data_table.ipynb>data table notebook</a>'\n",
              "            + ' to learn more about interactive tables.';\n",
              "          element.innerHTML = '';\n",
              "          dataTable['output_type'] = 'display_data';\n",
              "          await google.colab.output.renderOutput(dataTable, element);\n",
              "          const docLink = document.createElement('div');\n",
              "          docLink.innerHTML = docLinkHtml;\n",
              "          element.appendChild(docLink);\n",
              "        }\n",
              "      </script>\n",
              "    </div>\n",
              "  </div>\n",
              "  "
            ]
          },
          "metadata": {},
          "execution_count": 26
        }
      ]
    },
    {
      "cell_type": "code",
      "source": [
        "Delta_A = df[df.ds<=\"2021-12-31\"]['y'].pct_change(1) # 1 for ONE DAY lookback\n",
        "vol_A=stdev(Delta_A[Delta_A.notnull()])*np.sqrt(252)\n",
        "\n",
        "vol_A"
      ],
      "metadata": {
        "colab": {
          "base_uri": "https://localhost:8080/"
        },
        "id": "It4s-uE52T13",
        "outputId": "1e34faf1-d1af-4074-f410-096ce4ed51cb"
      },
      "execution_count": 41,
      "outputs": [
        {
          "output_type": "execute_result",
          "data": {
            "text/plain": [
              "0.26430736486136486"
            ]
          },
          "metadata": {},
          "execution_count": 41
        }
      ]
    },
    {
      "cell_type": "code",
      "source": [
        "A_0=df[df.ds==\"2021-12-31\"]['y']\n",
        "A_0= A_0*Acc\n",
        "print(A)\n",
        "\n",
        "\n",
        "print(A/Kp)\n",
        "\n",
        "print(K)\n",
        "print(A/np.array(K))\n",
        "# print(K/A)\n"
      ],
      "metadata": {
        "colab": {
          "base_uri": "https://localhost:8080/"
        },
        "id": "-hW2WEi38oOM",
        "outputId": "2844714b-10bd-44a7-a5d7-be1556563d16"
      },
      "execution_count": 51,
      "outputs": [
        {
          "output_type": "stream",
          "name": "stdout",
          "text": [
            "4808    1.328638e+12\n",
            "Name: y, dtype: float64\n",
            "4808    1.070462\n",
            "Name: y, dtype: float64\n",
            "\n",
            "2021-12-31    1.858820e+11\n",
            "Name: Total Stockholder Equity, dtype: float64\n",
            "4808    7.147749\n",
            "Name: y, dtype: float64\n"
          ]
        }
      ]
    },
    {
      "cell_type": "code",
      "source": [
        "from scipy.optimize import fsolve\n",
        "from scipy.stats import norm\n",
        "norm.ppf(.5)\n",
        "x=c(D_0,vol_A)\n",
        "\n",
        "#Función para estimar vol_k y D\n",
        "def G(x):\n",
        "  vol_k = x[2]\n",
        "  D = x[1]\n",
        "  F[0]=A_0-K_0*norm.ppf((np.log(K_0/D)+(r+0.5*vol_k^2)*T)/(vol_k*sqrt(T)))+D*exp(-r*T)*pnorm((log(K_0/D)+(r-0.5*vol_k^2)*T)/(vol_k*sqrt(T)))\n",
        "  c(A_0-K_0*pnorm((log(K_0/D)+(r+0.5*vol_k^2)*T)/(vol_k*sqrt(T)))+D*exp(-r*T)*pnorm((log(K_0/D)+(r-0.5*vol_k^2)*T)/(vol_k*sqrt(T))),\n",
        "  A_0*vol_A-vol_k*K_0*pnorm((log(K_0/D)+(r+0.5*vol_k^2)*T)/(vol_k*sqrt(T))) )\n",
        "  \n",
        "\n",
        "\n",
        "G = function(x) \n",
        "{\n",
        "  vol_k <- x[2]\n",
        "  D <- x[1]\n",
        "  c(A_0-K_0*pnorm((log(K_0/D)+(r+0.5*vol_k^2)*T)/(vol_k*sqrt(T)))+D*exp(-r*T)*pnorm((log(K_0/D)+(r-0.5*vol_k^2)*T)/(vol_k*sqrt(T))),\n",
        "  A_0*vol_A-vol_k*K_0*pnorm((log(K_0/D)+(r+0.5*vol_k^2)*T)/(vol_k*sqrt(T))) )\n",
        "}\n",
        "\n",
        "#K_0=164370\n",
        "\n",
        "ss=multiroot(G,x,positive = TRUE) #RESOLVER EL SISTEMA.\n",
        "\n",
        "D=ss$root[1]\n",
        "vol_k=ss$root[2]\n",
        "ss$root[1]/D_0\n",
        "vol_A/ss$root[2]\n",
        "G(c(D,vol_k))\n",
        "\n",
        "#Probabilidad de incumplimiento\n",
        "PD_merton=1-pnorm((log(K_0/D)+(r+0.5*vol_k^2)*T)/(vol_k*sqrt(T)))\n",
        "PD_merton"
      ],
      "metadata": {
        "id": "IBOk-TJnHK7J"
      },
      "execution_count": null,
      "outputs": []
    }
  ]
}