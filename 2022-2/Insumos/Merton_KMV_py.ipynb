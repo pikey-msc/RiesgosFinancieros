{
  "nbformat": 4,
  "nbformat_minor": 0,
  "metadata": {
    "colab": {
      "provenance": [],
      "include_colab_link": true
    },
    "kernelspec": {
      "name": "python3",
      "display_name": "Python 3"
    },
    "language_info": {
      "name": "python"
    }
  },
  "cells": [
    {
      "cell_type": "markdown",
      "metadata": {
        "id": "view-in-github",
        "colab_type": "text"
      },
      "source": [
        "<a href=\"https://colab.research.google.com/github/pikey-msc/RiesgosFinancieros/blob/master/2022-2/Insumos/Merton_KMV_py.ipynb\" target=\"_parent\"><img src=\"https://colab.research.google.com/assets/colab-badge.svg\" alt=\"Open In Colab\"/></a>"
      ]
    },
    {
      "cell_type": "code",
      "execution_count": 1,
      "metadata": {
        "colab": {
          "base_uri": "https://localhost:8080/"
        },
        "id": "JZSo31yN27uJ",
        "outputId": "f0248e7b-c962-478a-ac4c-8a9636d2418c"
      },
      "outputs": [
        {
          "output_type": "stream",
          "name": "stdout",
          "text": [
            "Looking in indexes: https://pypi.org/simple, https://us-python.pkg.dev/colab-wheels/public/simple/\n",
            "Collecting yfinance\n",
            "  Downloading yfinance-0.1.87-py2.py3-none-any.whl (29 kB)\n",
            "Requirement already satisfied: appdirs>=1.4.4 in /usr/local/lib/python3.7/dist-packages (from yfinance) (1.4.4)\n",
            "Collecting requests>=2.26\n",
            "  Downloading requests-2.28.1-py3-none-any.whl (62 kB)\n",
            "\u001b[K     |████████████████████████████████| 62 kB 1.3 MB/s \n",
            "\u001b[?25hRequirement already satisfied: numpy>=1.15 in /usr/local/lib/python3.7/dist-packages (from yfinance) (1.21.6)\n",
            "Requirement already satisfied: multitasking>=0.0.7 in /usr/local/lib/python3.7/dist-packages (from yfinance) (0.0.11)\n",
            "Requirement already satisfied: lxml>=4.5.1 in /usr/local/lib/python3.7/dist-packages (from yfinance) (4.9.1)\n",
            "Requirement already satisfied: pandas>=0.24.0 in /usr/local/lib/python3.7/dist-packages (from yfinance) (1.3.5)\n",
            "Requirement already satisfied: pytz>=2017.3 in /usr/local/lib/python3.7/dist-packages (from pandas>=0.24.0->yfinance) (2022.6)\n",
            "Requirement already satisfied: python-dateutil>=2.7.3 in /usr/local/lib/python3.7/dist-packages (from pandas>=0.24.0->yfinance) (2.8.2)\n",
            "Requirement already satisfied: six>=1.5 in /usr/local/lib/python3.7/dist-packages (from python-dateutil>=2.7.3->pandas>=0.24.0->yfinance) (1.15.0)\n",
            "Requirement already satisfied: idna<4,>=2.5 in /usr/local/lib/python3.7/dist-packages (from requests>=2.26->yfinance) (2.10)\n",
            "Requirement already satisfied: charset-normalizer<3,>=2 in /usr/local/lib/python3.7/dist-packages (from requests>=2.26->yfinance) (2.1.1)\n",
            "Requirement already satisfied: urllib3<1.27,>=1.21.1 in /usr/local/lib/python3.7/dist-packages (from requests>=2.26->yfinance) (1.24.3)\n",
            "Requirement already satisfied: certifi>=2017.4.17 in /usr/local/lib/python3.7/dist-packages (from requests>=2.26->yfinance) (2022.9.24)\n",
            "Installing collected packages: requests, yfinance\n",
            "  Attempting uninstall: requests\n",
            "    Found existing installation: requests 2.23.0\n",
            "    Uninstalling requests-2.23.0:\n",
            "      Successfully uninstalled requests-2.23.0\n",
            "Successfully installed requests-2.28.1 yfinance-0.1.87\n"
          ]
        }
      ],
      "source": [
        "!pip install yfinance\n",
        "import yfinance as yf"
      ]
    },
    {
      "cell_type": "code",
      "source": [
        "start = '2020-01-01'\n",
        "symbol = 'WALMEX.MX'\n",
        "stock_data = yf.Ticker(symbol)\n",
        "# stock_data = stock_data.history(start=start)#, end=end) \n"
      ],
      "metadata": {
        "id": "FtK97hgZ3dn-"
      },
      "execution_count": 2,
      "outputs": []
    },
    {
      "cell_type": "code",
      "source": [
        "stock_data.info"
      ],
      "metadata": {
        "colab": {
          "base_uri": "https://localhost:8080/"
        },
        "id": "37HaC4SgEvMs",
        "outputId": "45e62488-9dc6-4b18-818e-e62a05c2e1ed"
      },
      "execution_count": 3,
      "outputs": [
        {
          "output_type": "execute_result",
          "data": {
            "text/plain": [
              "{'zip': '02770',\n",
              " 'sector': 'Consumer Defensive',\n",
              " 'fullTimeEmployees': 231927,\n",
              " 'longBusinessSummary': \"Wal-Mart de México, S.A.B. de C.V. owns and operates self-service stores in Mexico and Central America. The company operates discount warehouses and stores, hypermarkets, supermarkets, and membership self-service wholesale stores. It operates 2,198 Bodega Aurrerá discount stores, 294 Walmart hypermarkets, 14 Superama supermarkets, 85 Walmart Express supermarkets, and 165 Sam's Club membership self-service wholesale stores. The company also operates 572 Despensa Familiar and Palí discount stores; 98 Paiz, La Despensa de Don Juan, La Unión, and Más x Menos supermarkets; 158 Bodegas, Maxi Bodega, and Maxi Palí stores; and 36 Walmart hypermarkets in Costa Rica, Guatemala, Honduras, Nicaragua, and El Salvador. In addition, it imports and sells goods; develops properties; and manages real estate companies. The company was founded in 1958 and is headquartered in Mexico City, Mexico. Wal-Mart de México, S.A.B. de C.V. is a subsidiary of Intersalt, S. De R.l. De C.v.\",\n",
              " 'city': 'Mexico City',\n",
              " 'state': 'DF',\n",
              " 'country': 'Mexico',\n",
              " 'companyOfficers': [],\n",
              " 'website': 'https://www.walmex.mx',\n",
              " 'maxAge': 1,\n",
              " 'address1': 'Nextengo #78',\n",
              " 'industry': 'Discount Stores',\n",
              " 'address2': 'Santa Cruz Acayucan',\n",
              " 'ebitdaMargins': 0.10217,\n",
              " 'profitMargins': 0.05963,\n",
              " 'grossMargins': 0.23344,\n",
              " 'operatingCashflow': 62125613056,\n",
              " 'revenueGrowth': 0.124,\n",
              " 'operatingMargins': 0.083780006,\n",
              " 'ebitda': 81233756160,\n",
              " 'targetLowPrice': 67,\n",
              " 'recommendationKey': 'hold',\n",
              " 'grossProfits': 170993007000,\n",
              " 'freeCashflow': 33157548032,\n",
              " 'targetMedianPrice': 82.5,\n",
              " 'currentPrice': 72.84,\n",
              " 'earningsGrowth': 0.111,\n",
              " 'currentRatio': 1.043,\n",
              " 'returnOnAssets': 0.10159001,\n",
              " 'numberOfAnalystOpinions': 20,\n",
              " 'targetMeanPrice': 81.69,\n",
              " 'debtToEquity': 36.341,\n",
              " 'returnOnEquity': 0.26256,\n",
              " 'targetHighPrice': 93,\n",
              " 'totalCash': 52821204992,\n",
              " 'totalDebt': 68209000448,\n",
              " 'totalRevenue': 795072790528,\n",
              " 'totalCashPerShare': 3.025,\n",
              " 'financialCurrency': 'MXN',\n",
              " 'revenuePerShare': 45.58,\n",
              " 'quickRatio': 0.415,\n",
              " 'recommendationMean': 2.6,\n",
              " 'exchange': 'MEX',\n",
              " 'shortName': 'WAL-MART DE MEXICO SAB DE CV',\n",
              " 'longName': 'Wal-Mart de México, S.A.B. de C.V.',\n",
              " 'exchangeTimezoneName': 'America/Mexico_City',\n",
              " 'exchangeTimezoneShortName': 'CST',\n",
              " 'isEsgPopulated': False,\n",
              " 'gmtOffSetMilliseconds': '-21600000',\n",
              " 'quoteType': 'EQUITY',\n",
              " 'symbol': 'WALMEX.MX',\n",
              " 'messageBoardId': 'finmb_875616',\n",
              " 'market': 'mx_market',\n",
              " 'annualHoldingsTurnover': None,\n",
              " 'enterpriseToRevenue': 1.595,\n",
              " 'beta3Year': None,\n",
              " 'enterpriseToEbitda': 15.608,\n",
              " '52WeekChange': -0.010198474,\n",
              " 'morningStarRiskRating': None,\n",
              " 'forwardEps': 3.21,\n",
              " 'revenueQuarterlyGrowth': None,\n",
              " 'sharesOutstanding': 17461399552,\n",
              " 'fundInceptionDate': None,\n",
              " 'annualReportExpenseRatio': None,\n",
              " 'totalAssets': None,\n",
              " 'bookValue': 10.749,\n",
              " 'sharesShort': None,\n",
              " 'sharesPercentSharesOut': None,\n",
              " 'fundFamily': None,\n",
              " 'lastFiscalYearEnd': 1640908800,\n",
              " 'heldPercentInstitutions': 0.12526,\n",
              " 'netIncomeToCommon': 47407656960,\n",
              " 'trailingEps': 2.72,\n",
              " 'lastDividendValue': 0.71,\n",
              " 'SandP52WeekChange': -0.14864343,\n",
              " 'priceToBook': 6.7764444,\n",
              " 'heldPercentInsiders': 0.7051,\n",
              " 'nextFiscalYearEnd': 1703980800,\n",
              " 'yield': None,\n",
              " 'mostRecentQuarter': 1664496000,\n",
              " 'shortRatio': None,\n",
              " 'sharesShortPreviousMonthDate': None,\n",
              " 'floatShares': 5149367636,\n",
              " 'beta': 0.091585,\n",
              " 'enterpriseValue': 1267894190080,\n",
              " 'priceHint': 2,\n",
              " 'threeYearAverageReturn': None,\n",
              " 'lastSplitDate': 1271721600,\n",
              " 'lastSplitFactor': '2:1',\n",
              " 'legalType': None,\n",
              " 'lastDividendDate': 1668643200,\n",
              " 'morningStarOverallRating': None,\n",
              " 'earningsQuarterlyGrowth': 0.1,\n",
              " 'priceToSalesTrailing12Months': 1.599713,\n",
              " 'dateShortInterest': None,\n",
              " 'pegRatio': 2.78,\n",
              " 'ytdReturn': None,\n",
              " 'forwardPE': 22.691587,\n",
              " 'lastCapGain': None,\n",
              " 'shortPercentOfFloat': None,\n",
              " 'sharesShortPriorMonth': None,\n",
              " 'impliedSharesOutstanding': 0,\n",
              " 'category': None,\n",
              " 'fiveYearAverageReturn': None,\n",
              " 'previousClose': 71.73,\n",
              " 'regularMarketOpen': 71.73,\n",
              " 'twoHundredDayAverage': 73.19655,\n",
              " 'trailingAnnualDividendYield': 0.013941168,\n",
              " 'payoutRatio': 0.33110002,\n",
              " 'volume24Hr': None,\n",
              " 'regularMarketDayHigh': 73,\n",
              " 'navPrice': None,\n",
              " 'averageDailyVolume10Day': 15905326,\n",
              " 'regularMarketPreviousClose': 71.73,\n",
              " 'fiftyDayAverage': 73.6402,\n",
              " 'trailingAnnualDividendRate': 1,\n",
              " 'open': 71.73,\n",
              " 'toCurrency': None,\n",
              " 'averageVolume10days': 15905326,\n",
              " 'expireDate': None,\n",
              " 'algorithm': None,\n",
              " 'dividendRate': 1.9,\n",
              " 'exDividendDate': 1668643200,\n",
              " 'circulatingSupply': None,\n",
              " 'startDate': None,\n",
              " 'regularMarketDayLow': 71.01,\n",
              " 'currency': 'MXN',\n",
              " 'trailingPE': 26.77941,\n",
              " 'regularMarketVolume': 12401923,\n",
              " 'lastMarket': None,\n",
              " 'maxSupply': None,\n",
              " 'openInterest': None,\n",
              " 'marketCap': 1271888216064,\n",
              " 'volumeAllCurrencies': None,\n",
              " 'strikePrice': None,\n",
              " 'averageVolume': 14062844,\n",
              " 'dayLow': 71.01,\n",
              " 'ask': 72.94,\n",
              " 'askSize': 470000,\n",
              " 'volume': 12401923,\n",
              " 'fiftyTwoWeekHigh': 82.93,\n",
              " 'fromCurrency': None,\n",
              " 'fiveYearAvgDividendYield': 1.43,\n",
              " 'fiftyTwoWeekLow': 64.81,\n",
              " 'bid': 72.85,\n",
              " 'tradeable': False,\n",
              " 'dividendYield': 0.026500002,\n",
              " 'bidSize': 50100,\n",
              " 'dayHigh': 73,\n",
              " 'coinMarketCapLink': None,\n",
              " 'regularMarketPrice': 72.84,\n",
              " 'preMarketPrice': None,\n",
              " 'logo_url': 'https://logo.clearbit.com/walmex.mx',\n",
              " 'trailingPegRatio': None}"
            ]
          },
          "metadata": {},
          "execution_count": 3
        }
      ]
    },
    {
      "cell_type": "code",
      "source": [
        "Acc=stock_data.info[\"sharesOutstanding\"]\n",
        "Kp=stock_data.info[\"enterpriseValue\"]\n",
        "Dp=stock_data.info[\"totalDebt\"]"
      ],
      "metadata": {
        "id": "HSxyKIj3RaTu"
      },
      "execution_count": 4,
      "outputs": []
    },
    {
      "cell_type": "code",
      "source": [
        "Acc=stock_data.info[\"sharesOutstanding\"]\n",
        "Kp=stock_data.info[\"enterpriseValue\"]\n",
        "Dp=stock_data.info[\"totalDebt\"]\n",
        "# print(stock_data.balance_sheet)\n",
        "import pandas as pd\n",
        "bs=pd.DataFrame(stock_data.balance_sheet)\n",
        "K_0=bs[[\"2021-12-31\"]].loc[\"Total Stockholder Equity\"][0]\n",
        "# bs[\"Total Stockholder Equity\"]\n",
        "D_0=bs[[\"2021-12-31\"]].loc[\"Total Liab\"][0]\n",
        "\n",
        "stock_data.balance_sheet\n"
      ],
      "metadata": {
        "colab": {
          "base_uri": "https://localhost:8080/",
          "height": 771
        },
        "id": "CDQakV4BEtxn",
        "outputId": "67291b13-518f-42b4-fe46-f4a9026bc3a7"
      },
      "execution_count": 5,
      "outputs": [
        {
          "output_type": "execute_result",
          "data": {
            "text/plain": [
              "                                                2021-12-31    2020-12-31  \\\n",
              "Intangible Assets                             2.990808e+09  2.554636e+09   \n",
              "Capital Surplus                               4.908573e+09  4.543745e+09   \n",
              "Total Liab                                    2.085075e+11  1.927644e+11   \n",
              "Total Stockholder Equity                      1.858820e+11  1.691187e+11   \n",
              "Other Current Liab                            7.001646e+09  6.712921e+09   \n",
              "Total Assets                                  3.943895e+11  3.618831e+11   \n",
              "Common Stock                                  4.252663e+10  4.252663e+10   \n",
              "Retained Earnings                             1.273109e+11  1.113615e+11   \n",
              "Other Liab                                    1.454609e+10  1.317308e+10   \n",
              "Good Will                                     3.576724e+10  3.499738e+10   \n",
              "Gains Losses Not Affecting Retained Earnings  1.113593e+10  1.068678e+10   \n",
              "Other Assets                                  2.017972e+10  1.745775e+10   \n",
              "Cash                                          4.281654e+10  3.567036e+10   \n",
              "Total Current Liabilities                     1.327085e+11  1.230699e+11   \n",
              "Deferred Long Term Asset Charges              1.237423e+10  9.108261e+09   \n",
              "Other Stockholder Equity                      1.113593e+10  1.068678e+10   \n",
              "Property Plant Equipment                      1.946341e+11  1.851484e+11   \n",
              "Total Current Assets                          1.408176e+11  1.217249e+11   \n",
              "Net Tangible Assets                           1.471240e+11  1.315667e+11   \n",
              "Net Receivables                               1.682724e+10  1.699375e+10   \n",
              "Inventory                                     8.031697e+10  6.836047e+10   \n",
              "Accounts Payable                              9.663788e+10  9.235630e+10   \n",
              "Other Current Assets                                   NaN           NaN   \n",
              "\n",
              "                                                2019-12-31    2018-12-31  \n",
              "Intangible Assets                             1.938229e+09  2.008529e+09  \n",
              "Capital Surplus                               4.318104e+09  4.014804e+09  \n",
              "Total Liab                                    1.810275e+11  1.416148e+11  \n",
              "Total Stockholder Equity                      1.681448e+11  1.649141e+11  \n",
              "Other Current Liab                            5.839042e+09  2.738640e+10  \n",
              "Total Assets                                  3.491723e+11  3.065288e+11  \n",
              "Common Stock                                  4.252663e+10  4.252663e+10  \n",
              "Retained Earnings                             1.088602e+11  1.046387e+11  \n",
              "Other Liab                                    1.336026e+10  1.231978e+10  \n",
              "Good Will                                     3.514536e+10  3.498921e+10  \n",
              "Gains Losses Not Affecting Retained Earnings  1.243983e+10  1.373396e+10  \n",
              "Other Assets                                  1.638882e+10  1.454827e+10  \n",
              "Cash                                          3.085709e+10  3.882960e+10  \n",
              "Total Current Liabilities                     1.134989e+11  1.141655e+11  \n",
              "Deferred Long Term Asset Charges              7.908566e+09  7.467622e+09  \n",
              "Other Stockholder Equity                      1.243983e+10  1.373396e+10  \n",
              "Property Plant Equipment                      1.817947e+11  1.393680e+11  \n",
              "Total Current Assets                          1.139052e+11  1.156148e+11  \n",
              "Net Tangible Assets                           1.310612e+11  1.279163e+11  \n",
              "Net Receivables                               1.371696e+10  1.203503e+10  \n",
              "Inventory                                     6.755321e+10  6.334426e+10  \n",
              "Accounts Payable                              8.711582e+10  8.532700e+10  \n",
              "Other Current Assets                                   NaN  1.405924e+09  "
            ],
            "text/html": [
              "\n",
              "  <div id=\"df-48368b28-0949-4acf-b0ea-293d1c176728\">\n",
              "    <div class=\"colab-df-container\">\n",
              "      <div>\n",
              "<style scoped>\n",
              "    .dataframe tbody tr th:only-of-type {\n",
              "        vertical-align: middle;\n",
              "    }\n",
              "\n",
              "    .dataframe tbody tr th {\n",
              "        vertical-align: top;\n",
              "    }\n",
              "\n",
              "    .dataframe thead th {\n",
              "        text-align: right;\n",
              "    }\n",
              "</style>\n",
              "<table border=\"1\" class=\"dataframe\">\n",
              "  <thead>\n",
              "    <tr style=\"text-align: right;\">\n",
              "      <th></th>\n",
              "      <th>2021-12-31</th>\n",
              "      <th>2020-12-31</th>\n",
              "      <th>2019-12-31</th>\n",
              "      <th>2018-12-31</th>\n",
              "    </tr>\n",
              "  </thead>\n",
              "  <tbody>\n",
              "    <tr>\n",
              "      <th>Intangible Assets</th>\n",
              "      <td>2.990808e+09</td>\n",
              "      <td>2.554636e+09</td>\n",
              "      <td>1.938229e+09</td>\n",
              "      <td>2.008529e+09</td>\n",
              "    </tr>\n",
              "    <tr>\n",
              "      <th>Capital Surplus</th>\n",
              "      <td>4.908573e+09</td>\n",
              "      <td>4.543745e+09</td>\n",
              "      <td>4.318104e+09</td>\n",
              "      <td>4.014804e+09</td>\n",
              "    </tr>\n",
              "    <tr>\n",
              "      <th>Total Liab</th>\n",
              "      <td>2.085075e+11</td>\n",
              "      <td>1.927644e+11</td>\n",
              "      <td>1.810275e+11</td>\n",
              "      <td>1.416148e+11</td>\n",
              "    </tr>\n",
              "    <tr>\n",
              "      <th>Total Stockholder Equity</th>\n",
              "      <td>1.858820e+11</td>\n",
              "      <td>1.691187e+11</td>\n",
              "      <td>1.681448e+11</td>\n",
              "      <td>1.649141e+11</td>\n",
              "    </tr>\n",
              "    <tr>\n",
              "      <th>Other Current Liab</th>\n",
              "      <td>7.001646e+09</td>\n",
              "      <td>6.712921e+09</td>\n",
              "      <td>5.839042e+09</td>\n",
              "      <td>2.738640e+10</td>\n",
              "    </tr>\n",
              "    <tr>\n",
              "      <th>Total Assets</th>\n",
              "      <td>3.943895e+11</td>\n",
              "      <td>3.618831e+11</td>\n",
              "      <td>3.491723e+11</td>\n",
              "      <td>3.065288e+11</td>\n",
              "    </tr>\n",
              "    <tr>\n",
              "      <th>Common Stock</th>\n",
              "      <td>4.252663e+10</td>\n",
              "      <td>4.252663e+10</td>\n",
              "      <td>4.252663e+10</td>\n",
              "      <td>4.252663e+10</td>\n",
              "    </tr>\n",
              "    <tr>\n",
              "      <th>Retained Earnings</th>\n",
              "      <td>1.273109e+11</td>\n",
              "      <td>1.113615e+11</td>\n",
              "      <td>1.088602e+11</td>\n",
              "      <td>1.046387e+11</td>\n",
              "    </tr>\n",
              "    <tr>\n",
              "      <th>Other Liab</th>\n",
              "      <td>1.454609e+10</td>\n",
              "      <td>1.317308e+10</td>\n",
              "      <td>1.336026e+10</td>\n",
              "      <td>1.231978e+10</td>\n",
              "    </tr>\n",
              "    <tr>\n",
              "      <th>Good Will</th>\n",
              "      <td>3.576724e+10</td>\n",
              "      <td>3.499738e+10</td>\n",
              "      <td>3.514536e+10</td>\n",
              "      <td>3.498921e+10</td>\n",
              "    </tr>\n",
              "    <tr>\n",
              "      <th>Gains Losses Not Affecting Retained Earnings</th>\n",
              "      <td>1.113593e+10</td>\n",
              "      <td>1.068678e+10</td>\n",
              "      <td>1.243983e+10</td>\n",
              "      <td>1.373396e+10</td>\n",
              "    </tr>\n",
              "    <tr>\n",
              "      <th>Other Assets</th>\n",
              "      <td>2.017972e+10</td>\n",
              "      <td>1.745775e+10</td>\n",
              "      <td>1.638882e+10</td>\n",
              "      <td>1.454827e+10</td>\n",
              "    </tr>\n",
              "    <tr>\n",
              "      <th>Cash</th>\n",
              "      <td>4.281654e+10</td>\n",
              "      <td>3.567036e+10</td>\n",
              "      <td>3.085709e+10</td>\n",
              "      <td>3.882960e+10</td>\n",
              "    </tr>\n",
              "    <tr>\n",
              "      <th>Total Current Liabilities</th>\n",
              "      <td>1.327085e+11</td>\n",
              "      <td>1.230699e+11</td>\n",
              "      <td>1.134989e+11</td>\n",
              "      <td>1.141655e+11</td>\n",
              "    </tr>\n",
              "    <tr>\n",
              "      <th>Deferred Long Term Asset Charges</th>\n",
              "      <td>1.237423e+10</td>\n",
              "      <td>9.108261e+09</td>\n",
              "      <td>7.908566e+09</td>\n",
              "      <td>7.467622e+09</td>\n",
              "    </tr>\n",
              "    <tr>\n",
              "      <th>Other Stockholder Equity</th>\n",
              "      <td>1.113593e+10</td>\n",
              "      <td>1.068678e+10</td>\n",
              "      <td>1.243983e+10</td>\n",
              "      <td>1.373396e+10</td>\n",
              "    </tr>\n",
              "    <tr>\n",
              "      <th>Property Plant Equipment</th>\n",
              "      <td>1.946341e+11</td>\n",
              "      <td>1.851484e+11</td>\n",
              "      <td>1.817947e+11</td>\n",
              "      <td>1.393680e+11</td>\n",
              "    </tr>\n",
              "    <tr>\n",
              "      <th>Total Current Assets</th>\n",
              "      <td>1.408176e+11</td>\n",
              "      <td>1.217249e+11</td>\n",
              "      <td>1.139052e+11</td>\n",
              "      <td>1.156148e+11</td>\n",
              "    </tr>\n",
              "    <tr>\n",
              "      <th>Net Tangible Assets</th>\n",
              "      <td>1.471240e+11</td>\n",
              "      <td>1.315667e+11</td>\n",
              "      <td>1.310612e+11</td>\n",
              "      <td>1.279163e+11</td>\n",
              "    </tr>\n",
              "    <tr>\n",
              "      <th>Net Receivables</th>\n",
              "      <td>1.682724e+10</td>\n",
              "      <td>1.699375e+10</td>\n",
              "      <td>1.371696e+10</td>\n",
              "      <td>1.203503e+10</td>\n",
              "    </tr>\n",
              "    <tr>\n",
              "      <th>Inventory</th>\n",
              "      <td>8.031697e+10</td>\n",
              "      <td>6.836047e+10</td>\n",
              "      <td>6.755321e+10</td>\n",
              "      <td>6.334426e+10</td>\n",
              "    </tr>\n",
              "    <tr>\n",
              "      <th>Accounts Payable</th>\n",
              "      <td>9.663788e+10</td>\n",
              "      <td>9.235630e+10</td>\n",
              "      <td>8.711582e+10</td>\n",
              "      <td>8.532700e+10</td>\n",
              "    </tr>\n",
              "    <tr>\n",
              "      <th>Other Current Assets</th>\n",
              "      <td>NaN</td>\n",
              "      <td>NaN</td>\n",
              "      <td>NaN</td>\n",
              "      <td>1.405924e+09</td>\n",
              "    </tr>\n",
              "  </tbody>\n",
              "</table>\n",
              "</div>\n",
              "      <button class=\"colab-df-convert\" onclick=\"convertToInteractive('df-48368b28-0949-4acf-b0ea-293d1c176728')\"\n",
              "              title=\"Convert this dataframe to an interactive table.\"\n",
              "              style=\"display:none;\">\n",
              "        \n",
              "  <svg xmlns=\"http://www.w3.org/2000/svg\" height=\"24px\"viewBox=\"0 0 24 24\"\n",
              "       width=\"24px\">\n",
              "    <path d=\"M0 0h24v24H0V0z\" fill=\"none\"/>\n",
              "    <path d=\"M18.56 5.44l.94 2.06.94-2.06 2.06-.94-2.06-.94-.94-2.06-.94 2.06-2.06.94zm-11 1L8.5 8.5l.94-2.06 2.06-.94-2.06-.94L8.5 2.5l-.94 2.06-2.06.94zm10 10l.94 2.06.94-2.06 2.06-.94-2.06-.94-.94-2.06-.94 2.06-2.06.94z\"/><path d=\"M17.41 7.96l-1.37-1.37c-.4-.4-.92-.59-1.43-.59-.52 0-1.04.2-1.43.59L10.3 9.45l-7.72 7.72c-.78.78-.78 2.05 0 2.83L4 21.41c.39.39.9.59 1.41.59.51 0 1.02-.2 1.41-.59l7.78-7.78 2.81-2.81c.8-.78.8-2.07 0-2.86zM5.41 20L4 18.59l7.72-7.72 1.47 1.35L5.41 20z\"/>\n",
              "  </svg>\n",
              "      </button>\n",
              "      \n",
              "  <style>\n",
              "    .colab-df-container {\n",
              "      display:flex;\n",
              "      flex-wrap:wrap;\n",
              "      gap: 12px;\n",
              "    }\n",
              "\n",
              "    .colab-df-convert {\n",
              "      background-color: #E8F0FE;\n",
              "      border: none;\n",
              "      border-radius: 50%;\n",
              "      cursor: pointer;\n",
              "      display: none;\n",
              "      fill: #1967D2;\n",
              "      height: 32px;\n",
              "      padding: 0 0 0 0;\n",
              "      width: 32px;\n",
              "    }\n",
              "\n",
              "    .colab-df-convert:hover {\n",
              "      background-color: #E2EBFA;\n",
              "      box-shadow: 0px 1px 2px rgba(60, 64, 67, 0.3), 0px 1px 3px 1px rgba(60, 64, 67, 0.15);\n",
              "      fill: #174EA6;\n",
              "    }\n",
              "\n",
              "    [theme=dark] .colab-df-convert {\n",
              "      background-color: #3B4455;\n",
              "      fill: #D2E3FC;\n",
              "    }\n",
              "\n",
              "    [theme=dark] .colab-df-convert:hover {\n",
              "      background-color: #434B5C;\n",
              "      box-shadow: 0px 1px 3px 1px rgba(0, 0, 0, 0.15);\n",
              "      filter: drop-shadow(0px 1px 2px rgba(0, 0, 0, 0.3));\n",
              "      fill: #FFFFFF;\n",
              "    }\n",
              "  </style>\n",
              "\n",
              "      <script>\n",
              "        const buttonEl =\n",
              "          document.querySelector('#df-48368b28-0949-4acf-b0ea-293d1c176728 button.colab-df-convert');\n",
              "        buttonEl.style.display =\n",
              "          google.colab.kernel.accessAllowed ? 'block' : 'none';\n",
              "\n",
              "        async function convertToInteractive(key) {\n",
              "          const element = document.querySelector('#df-48368b28-0949-4acf-b0ea-293d1c176728');\n",
              "          const dataTable =\n",
              "            await google.colab.kernel.invokeFunction('convertToInteractive',\n",
              "                                                     [key], {});\n",
              "          if (!dataTable) return;\n",
              "\n",
              "          const docLinkHtml = 'Like what you see? Visit the ' +\n",
              "            '<a target=\"_blank\" href=https://colab.research.google.com/notebooks/data_table.ipynb>data table notebook</a>'\n",
              "            + ' to learn more about interactive tables.';\n",
              "          element.innerHTML = '';\n",
              "          dataTable['output_type'] = 'display_data';\n",
              "          await google.colab.output.renderOutput(dataTable, element);\n",
              "          const docLink = document.createElement('div');\n",
              "          docLink.innerHTML = docLinkHtml;\n",
              "          element.appendChild(docLink);\n",
              "        }\n",
              "      </script>\n",
              "    </div>\n",
              "  </div>\n",
              "  "
            ]
          },
          "metadata": {},
          "execution_count": 5
        }
      ]
    },
    {
      "cell_type": "code",
      "source": [
        "print(Kp, \"vs\", K_0)\n",
        "print(Kp/K_0)\n",
        "print(Dp, \"vs\", D_0)\n",
        "print(Dp/D_0)"
      ],
      "metadata": {
        "colab": {
          "base_uri": "https://localhost:8080/"
        },
        "id": "Kg92GSxl2gLS",
        "outputId": "25104e3d-9377-4206-ab9f-a14d86710de4"
      },
      "execution_count": 6,
      "outputs": [
        {
          "output_type": "stream",
          "name": "stdout",
          "text": [
            "1267894190080 vs 185882003000.0\n",
            "6.820962597869144\n",
            "68209000448 vs 208507468000.0\n",
            "0.3271297719082177\n"
          ]
        }
      ]
    },
    {
      "cell_type": "code",
      "source": [
        "import pandas as pd\n",
        "import numpy as np\n",
        "from statistics import stdev\n",
        "\n",
        "df = pd.DataFrame()\n",
        "\n",
        "hist=stock_data.history(period=\"max\", auto_adjust=True)\n",
        "\n",
        "df['ds'] = hist.index\n",
        "df['y'] = hist['Close'].values\n",
        "\n",
        "df.tail()"
      ],
      "metadata": {
        "colab": {
          "base_uri": "https://localhost:8080/",
          "height": 206
        },
        "id": "5lUKVPf91ibr",
        "outputId": "f1495682-f43d-4876-ba32-69c057a57320"
      },
      "execution_count": 7,
      "outputs": [
        {
          "output_type": "execute_result",
          "data": {
            "text/plain": [
              "                            ds          y\n",
              "5026 2022-11-10 00:00:00-06:00  73.400002\n",
              "5027 2022-11-11 00:00:00-06:00  72.690002\n",
              "5028 2022-11-14 00:00:00-06:00  72.120003\n",
              "5029 2022-11-15 00:00:00-06:00  71.820000\n",
              "5030 2022-11-16 00:00:00-06:00  72.839996"
            ],
            "text/html": [
              "\n",
              "  <div id=\"df-20f2abec-674c-4984-8953-002a8d2b0449\">\n",
              "    <div class=\"colab-df-container\">\n",
              "      <div>\n",
              "<style scoped>\n",
              "    .dataframe tbody tr th:only-of-type {\n",
              "        vertical-align: middle;\n",
              "    }\n",
              "\n",
              "    .dataframe tbody tr th {\n",
              "        vertical-align: top;\n",
              "    }\n",
              "\n",
              "    .dataframe thead th {\n",
              "        text-align: right;\n",
              "    }\n",
              "</style>\n",
              "<table border=\"1\" class=\"dataframe\">\n",
              "  <thead>\n",
              "    <tr style=\"text-align: right;\">\n",
              "      <th></th>\n",
              "      <th>ds</th>\n",
              "      <th>y</th>\n",
              "    </tr>\n",
              "  </thead>\n",
              "  <tbody>\n",
              "    <tr>\n",
              "      <th>5026</th>\n",
              "      <td>2022-11-10 00:00:00-06:00</td>\n",
              "      <td>73.400002</td>\n",
              "    </tr>\n",
              "    <tr>\n",
              "      <th>5027</th>\n",
              "      <td>2022-11-11 00:00:00-06:00</td>\n",
              "      <td>72.690002</td>\n",
              "    </tr>\n",
              "    <tr>\n",
              "      <th>5028</th>\n",
              "      <td>2022-11-14 00:00:00-06:00</td>\n",
              "      <td>72.120003</td>\n",
              "    </tr>\n",
              "    <tr>\n",
              "      <th>5029</th>\n",
              "      <td>2022-11-15 00:00:00-06:00</td>\n",
              "      <td>71.820000</td>\n",
              "    </tr>\n",
              "    <tr>\n",
              "      <th>5030</th>\n",
              "      <td>2022-11-16 00:00:00-06:00</td>\n",
              "      <td>72.839996</td>\n",
              "    </tr>\n",
              "  </tbody>\n",
              "</table>\n",
              "</div>\n",
              "      <button class=\"colab-df-convert\" onclick=\"convertToInteractive('df-20f2abec-674c-4984-8953-002a8d2b0449')\"\n",
              "              title=\"Convert this dataframe to an interactive table.\"\n",
              "              style=\"display:none;\">\n",
              "        \n",
              "  <svg xmlns=\"http://www.w3.org/2000/svg\" height=\"24px\"viewBox=\"0 0 24 24\"\n",
              "       width=\"24px\">\n",
              "    <path d=\"M0 0h24v24H0V0z\" fill=\"none\"/>\n",
              "    <path d=\"M18.56 5.44l.94 2.06.94-2.06 2.06-.94-2.06-.94-.94-2.06-.94 2.06-2.06.94zm-11 1L8.5 8.5l.94-2.06 2.06-.94-2.06-.94L8.5 2.5l-.94 2.06-2.06.94zm10 10l.94 2.06.94-2.06 2.06-.94-2.06-.94-.94-2.06-.94 2.06-2.06.94z\"/><path d=\"M17.41 7.96l-1.37-1.37c-.4-.4-.92-.59-1.43-.59-.52 0-1.04.2-1.43.59L10.3 9.45l-7.72 7.72c-.78.78-.78 2.05 0 2.83L4 21.41c.39.39.9.59 1.41.59.51 0 1.02-.2 1.41-.59l7.78-7.78 2.81-2.81c.8-.78.8-2.07 0-2.86zM5.41 20L4 18.59l7.72-7.72 1.47 1.35L5.41 20z\"/>\n",
              "  </svg>\n",
              "      </button>\n",
              "      \n",
              "  <style>\n",
              "    .colab-df-container {\n",
              "      display:flex;\n",
              "      flex-wrap:wrap;\n",
              "      gap: 12px;\n",
              "    }\n",
              "\n",
              "    .colab-df-convert {\n",
              "      background-color: #E8F0FE;\n",
              "      border: none;\n",
              "      border-radius: 50%;\n",
              "      cursor: pointer;\n",
              "      display: none;\n",
              "      fill: #1967D2;\n",
              "      height: 32px;\n",
              "      padding: 0 0 0 0;\n",
              "      width: 32px;\n",
              "    }\n",
              "\n",
              "    .colab-df-convert:hover {\n",
              "      background-color: #E2EBFA;\n",
              "      box-shadow: 0px 1px 2px rgba(60, 64, 67, 0.3), 0px 1px 3px 1px rgba(60, 64, 67, 0.15);\n",
              "      fill: #174EA6;\n",
              "    }\n",
              "\n",
              "    [theme=dark] .colab-df-convert {\n",
              "      background-color: #3B4455;\n",
              "      fill: #D2E3FC;\n",
              "    }\n",
              "\n",
              "    [theme=dark] .colab-df-convert:hover {\n",
              "      background-color: #434B5C;\n",
              "      box-shadow: 0px 1px 3px 1px rgba(0, 0, 0, 0.15);\n",
              "      filter: drop-shadow(0px 1px 2px rgba(0, 0, 0, 0.3));\n",
              "      fill: #FFFFFF;\n",
              "    }\n",
              "  </style>\n",
              "\n",
              "      <script>\n",
              "        const buttonEl =\n",
              "          document.querySelector('#df-20f2abec-674c-4984-8953-002a8d2b0449 button.colab-df-convert');\n",
              "        buttonEl.style.display =\n",
              "          google.colab.kernel.accessAllowed ? 'block' : 'none';\n",
              "\n",
              "        async function convertToInteractive(key) {\n",
              "          const element = document.querySelector('#df-20f2abec-674c-4984-8953-002a8d2b0449');\n",
              "          const dataTable =\n",
              "            await google.colab.kernel.invokeFunction('convertToInteractive',\n",
              "                                                     [key], {});\n",
              "          if (!dataTable) return;\n",
              "\n",
              "          const docLinkHtml = 'Like what you see? Visit the ' +\n",
              "            '<a target=\"_blank\" href=https://colab.research.google.com/notebooks/data_table.ipynb>data table notebook</a>'\n",
              "            + ' to learn more about interactive tables.';\n",
              "          element.innerHTML = '';\n",
              "          dataTable['output_type'] = 'display_data';\n",
              "          await google.colab.output.renderOutput(dataTable, element);\n",
              "          const docLink = document.createElement('div');\n",
              "          docLink.innerHTML = docLinkHtml;\n",
              "          element.appendChild(docLink);\n",
              "        }\n",
              "      </script>\n",
              "    </div>\n",
              "  </div>\n",
              "  "
            ]
          },
          "metadata": {},
          "execution_count": 7
        }
      ]
    },
    {
      "cell_type": "code",
      "source": [
        "Delta_A = df[df.ds<=\"2021-12-31\"]['y'].pct_change(1) # 1 for ONE DAY lookback\n",
        "vol_A=stdev(Delta_A[Delta_A.notnull()])*np.sqrt(252)\n",
        "\n",
        "vol_A"
      ],
      "metadata": {
        "colab": {
          "base_uri": "https://localhost:8080/"
        },
        "id": "It4s-uE52T13",
        "outputId": "5158975c-0880-4dd8-bc8a-27063fb30501"
      },
      "execution_count": 8,
      "outputs": [
        {
          "output_type": "execute_result",
          "data": {
            "text/plain": [
              "0.26430736797939924"
            ]
          },
          "metadata": {},
          "execution_count": 8
        }
      ]
    },
    {
      "cell_type": "code",
      "source": [
        "df[df.ds==\"2021-12-31\"]['y']*Acc"
      ],
      "metadata": {
        "id": "bTdfbE5JWDTT",
        "outputId": "ccfc1d36-0479-4168-b48c-2758572949f7",
        "colab": {
          "base_uri": "https://localhost:8080/"
        }
      },
      "execution_count": 9,
      "outputs": [
        {
          "output_type": "execute_result",
          "data": {
            "text/plain": [
              "4808    1.328638e+12\n",
              "Name: y, dtype: float64"
            ]
          },
          "metadata": {},
          "execution_count": 9
        }
      ]
    },
    {
      "cell_type": "code",
      "source": [
        "A_0=df[df.ds==\"2021-12-31\"]['y']\n",
        "A_0= A_0.values[0]*Acc\n",
        "print(A_0)\n",
        "\n",
        "\n",
        "print(A_0/Kp)\n",
        "\n",
        "print(K_0)\n",
        "print(A_0/np.array(K_0))\n",
        "# print(K/A)\n",
        "\n",
        "r=.05\n",
        "T=1\n"
      ],
      "metadata": {
        "colab": {
          "base_uri": "https://localhost:8080/"
        },
        "id": "-hW2WEi38oOM",
        "outputId": "adc1117e-7054-41d3-9b35-22d2ee93a7b8"
      },
      "execution_count": 10,
      "outputs": [
        {
          "output_type": "stream",
          "name": "stdout",
          "text": [
            "1328637827966.125\n",
            "1.0479090750327456\n",
            "185882003000.0\n",
            "7.147748606766008\n"
          ]
        }
      ]
    },
    {
      "cell_type": "code",
      "source": [
        "from scipy.optimize import fsolve\n",
        "from scipy.stats import norm\n",
        "import numpy as np\n",
        "x=np.array([D_0,vol_A])\n",
        "\n",
        "K_0=Kp\n",
        "\n",
        "A_0=A_0*1/2\n",
        "\n",
        "#Función para estimar vol_k y D\n",
        "def G(x):\n",
        "  vol_k = x[1]\n",
        "  D = x[0]\n",
        "  F=np.zeros(2)\n",
        "  F[0]=A_0-K_0*norm.cdf((np.log(K_0/D)+(r+0.5*vol_k**2)*T)/(vol_k*np.sqrt(T)),0,1)+D*np.exp(-r*T)*norm.cdf((np.log(K_0/D)+(r-0.5*vol_k**2)*T)/(vol_k*np.sqrt(T)),0,1)\n",
        "  F[1]=A_0*vol_A-vol_k*K_0*norm.cdf((np.log(K_0/D)+(r+0.5*vol_k**2)*T)/(vol_k*np.sqrt(T))) \n",
        "  return F\n",
        "\n",
        "\n",
        "ss=fsolve(G,x,full_output=True)\n",
        "\n",
        "print(ss)\n",
        "\n",
        "# !pip install gekko\n",
        "\n",
        "# from gekko import GEKKO\n",
        "# m=GEKKO()\n",
        "# D,vol_k=[m.Var(1) for i in range(2)]\n",
        "# m.Equations([A_0-K_0*norm.cdf((np.log(K_0/D)+(r+0.5*vol_k**2)*T)/(vol_k*np.sqrt(T)),0,1)+D*np.exp(-r*T)*norm.cdf((np.log(K_0/D)+(r-0.5*vol_k**2)*T)/(vol_k*np.sqrt(T)),0,1)==0, A_0*vol_A-vol_k*K_0*norm.cdf((np.log(K_0/D)+(r+0.5*vol_k**2)*T)/(vol_k*np.sqrt(T))) ==0 ])\n",
        "\n",
        "# m.solve(disp=False)\n",
        "# print(D.value,vol_k.value)\n",
        "\n",
        "\n",
        "print(G(ss[0]))\n",
        "\n",
        "\n",
        "\n",
        "D=ss[0][0]\n",
        "vol_k=ss[0][1]\n",
        "\n",
        "# print(D/D_0)\n",
        "# print(vol_A/vol_K)\n",
        "\n",
        "\n",
        "# #K_0=164370\n",
        "\n",
        "# ss=multiroot(G,x,positive = TRUE) #RESOLVER EL SISTEMA.\n",
        "\n",
        "# D=ss$root[1]\n",
        "# vol_k=ss$root[2]\n",
        "# ss$root[1]/D_0\n",
        "# vol_A/ss$root[2]\n",
        "# G(c(D,vol_k))\n",
        "#Probabilidad de incumplimiento\n",
        "PD_merton=1-norm.cdf((np.log(K_0/D)+(r+0.5*vol_k**2)*T)/(vol_k*np.sqrt(T)))\n",
        "print(PD_merton)"
      ],
      "metadata": {
        "colab": {
          "base_uri": "https://localhost:8080/"
        },
        "id": "IBOk-TJnHK7J",
        "outputId": "e79dbe1e-2d78-4a4b-baa3-ea10bb61f375"
      },
      "execution_count": null,
      "outputs": [
        {
          "output_type": "stream",
          "name": "stdout",
          "text": [
            "(array([6.34521243e+11, 1.38485053e-01]), {'nfev': 6, 'fjac': array([[-1.00000000e+00,  2.67037404e-07],\n",
            "       [-2.67037404e-07, -1.00000000e+00]]), 'r': array([-9.51229472e-01, -1.93423340e+05,  1.26789345e+12]), 'qtf': array([ 0.00073242, -0.0038147 ]), 'fvec': array([-1.22070312e-04,  3.05175781e-05])}, 1, 'The solution converged.')\n",
            "[-1.22070312e-04  3.05175781e-05]\n",
            "2.8340360835876766e-08\n"
          ]
        }
      ]
    },
    {
      "cell_type": "code",
      "source": [
        "D=ss[0][0]\n",
        "vol_k=ss[0][1]\n",
        "\n",
        "PD_merton=1-norm.cdf((np.log(K_0/D)+(r+0.5*vol_k**2)*T)/(vol_k*np.sqrt(T)))\n",
        "print(PD_merton)"
      ],
      "metadata": {
        "colab": {
          "base_uri": "https://localhost:8080/"
        },
        "id": "XS4u-Ue_y3m9",
        "outputId": "7059a622-cad2-4df2-bc27-50c9f172e1e3"
      },
      "execution_count": null,
      "outputs": [
        {
          "output_type": "stream",
          "name": "stdout",
          "text": [
            "2.8340360835876766e-08\n"
          ]
        }
      ]
    },
    {
      "cell_type": "code",
      "source": [
        "0.000000028340294555562195"
      ],
      "metadata": {
        "id": "ROVWsrdtXeJw",
        "outputId": "3b79cbc2-9cb6-4414-8da0-8ad332a02baf",
        "colab": {
          "base_uri": "https://localhost:8080/"
        }
      },
      "execution_count": null,
      "outputs": [
        {
          "output_type": "execute_result",
          "data": {
            "text/plain": [
              "2.8340294555562195e-08"
            ]
          },
          "metadata": {},
          "execution_count": 13
        }
      ]
    },
    {
      "cell_type": "markdown",
      "source": [
        "## Conclusiones\n",
        "\n",
        "1. Verificar el valor de $A_0$, que no sea mucho mayor que $K_0$.\n",
        "2. Verificar el valor de la deuda."
      ],
      "metadata": {
        "id": "mWMi2-zCzBnI"
      }
    },
    {
      "cell_type": "markdown",
      "source": [
        "# KMV\n"
      ],
      "metadata": {
        "id": "pTppO640zTvX"
      }
    },
    {
      "cell_type": "markdown",
      "source": [
        "En KMV se encuentra el valor de $K_0$ y $\\sigma_K$, dados los demás parámetros."
      ],
      "metadata": {
        "id": "KdnamzpAzjwf"
      }
    },
    {
      "cell_type": "code",
      "source": [
        "print(\"A_0:\", A_0)\n",
        "print(\"Valor de K_0\", K_0)\n",
        "print(\"Valor de vol_A\", vol_A)\n",
        "print(\"Valor de Deuda Actual\", D_0)\n",
        "print(\"Tasa libre de riesgo\", r)\n",
        "print(\"Temporalidad\", T)"
      ],
      "metadata": {
        "colab": {
          "base_uri": "https://localhost:8080/"
        },
        "id": "Che8UpUCzVTM",
        "outputId": "0a055771-a543-4b51-ce79-5b629ce6ecc9"
      },
      "execution_count": null,
      "outputs": [
        {
          "output_type": "stream",
          "name": "stdout",
          "text": [
            "A_0: 664318913983.0625\n",
            "Valor de K_0 1267894190080\n",
            "Valor de vol_A 0.26430737570914636\n",
            "Valor de Deuda Actual 208507468000.0\n",
            "Tasa libre de riesgo 0.05\n",
            "Temporalidad 1\n"
          ]
        }
      ]
    },
    {
      "cell_type": "code",
      "source": [
        "K_0=Kp\n",
        "\n",
        "x=np.array([K_0,vol_A])\n",
        "\n",
        "D=D_0*7\n",
        "#A_0=A_0*1/2\n",
        "\n",
        "#Función para estimar vol_k y K_0\n",
        "def G_kmv(x):\n",
        "  vol_k = x[1]\n",
        "  K_0 = x[0]  #modificar el valor inicial de K\n",
        "  F=np.zeros(2)\n",
        "  F[0]=A_0-K_0*norm.cdf((np.log(K_0/D)+(r+0.5*vol_k**2)*T)/(vol_k*np.sqrt(T)),0,1)+D*np.exp(-r*T)*norm.cdf((np.log(K_0/D)+(r-0.5*vol_k**2)*T)/(vol_k*np.sqrt(T)),0,1)\n",
        "  F[1]=A_0*vol_A-vol_k*K_0*norm.cdf((np.log(K_0/D)+(r+0.5*vol_k**2)*T)/(vol_k*np.sqrt(T))) \n",
        "  return F\n",
        "\n",
        "\n",
        "ss=fsolve(G_kmv,x,full_output=True)\n",
        "\n",
        "print(ss)\n",
        "\n",
        "\n",
        "\n",
        "\n",
        "\n",
        "K_e=ss[0][0]\n",
        "vol_k=ss[0][1]\n",
        "print(\"Cociente K_0/D_0\", K_e/D_0)\n",
        "print(\"Cociente vol_K/vol_A\",vol_k/vol_A)\n",
        "print(\"Valor de solución en función:\")\n",
        "G_kmv(ss[0])\n",
        "\n",
        "DI=(K_e-D)/(vol_k*K_e)\n",
        "print(\"DI\")\n",
        "DI\n",
        "EDF=norm.cdf(-DI,0,1)\n",
        "print(\"EDF Normal\")\n",
        "EDF\n"
      ],
      "metadata": {
        "colab": {
          "base_uri": "https://localhost:8080/"
        },
        "id": "CqGTc-jj0Ac3",
        "outputId": "57214cc6-59a9-4385-e1f9-dca0101c605e"
      },
      "execution_count": null,
      "outputs": [
        {
          "output_type": "stream",
          "name": "stdout",
          "text": [
            "(array([1.26789419e+12, 2.64307376e-01]), {'nfev': 15, 'fjac': array([[ 0.47671498,  0.87905792],\n",
            "       [-0.87905792,  0.47671498]]), 'r': array([nan, nan, nan]), 'qtf': array([ 3.06681911e+11, -4.89865112e+11]), 'fvec': array([5.76819668e+11, 3.60651250e+10])}, 5, 'The iteration is not making good progress, as measured by the \\n  improvement from the last ten iterations.')\n",
            "Cociente K_0/D_0 6.080809489662979\n",
            "Cociente vol_K/vol_A 1.0\n",
            "Valor de solución en función:\n",
            "DI\n",
            "EDF Normal\n"
          ]
        },
        {
          "output_type": "stream",
          "name": "stderr",
          "text": [
            "/usr/local/lib/python3.7/dist-packages/ipykernel_launcher.py:13: RuntimeWarning: invalid value encountered in log\n",
            "  del sys.path[0]\n",
            "/usr/local/lib/python3.7/dist-packages/ipykernel_launcher.py:14: RuntimeWarning: invalid value encountered in log\n",
            "  \n"
          ]
        },
        {
          "output_type": "execute_result",
          "data": {
            "text/plain": [
              "0.7163117204016772"
            ]
          },
          "metadata": {},
          "execution_count": 15
        }
      ]
    },
    {
      "cell_type": "markdown",
      "source": [
        "## Conclusiones\n",
        "\n",
        "Hace más sentido utilizar KMV cuando $A_0>K_0$, y tiene la ventaja de poder utilizar una deuda \"objetivo\", para calcular una probabilidad de incumplimiento."
      ],
      "metadata": {
        "id": "z4wozuec2OPp"
      }
    }
  ]
}