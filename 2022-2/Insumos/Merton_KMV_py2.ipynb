{
  "nbformat": 4,
  "nbformat_minor": 0,
  "metadata": {
    "colab": {
      "provenance": [],
      "include_colab_link": true
    },
    "kernelspec": {
      "name": "python3",
      "display_name": "Python 3"
    },
    "language_info": {
      "name": "python"
    }
  },
  "cells": [
    {
      "cell_type": "markdown",
      "metadata": {
        "id": "view-in-github",
        "colab_type": "text"
      },
      "source": [
        "<a href=\"https://colab.research.google.com/github/pikey-msc/RiesgosFinancieros/blob/master/2022-2/Insumos/Merton_KMV_py2.ipynb\" target=\"_parent\"><img src=\"https://colab.research.google.com/assets/colab-badge.svg\" alt=\"Open In Colab\"/></a>"
      ]
    },
    {
      "cell_type": "code",
      "execution_count": 30,
      "metadata": {
        "colab": {
          "base_uri": "https://localhost:8080/"
        },
        "id": "JZSo31yN27uJ",
        "outputId": "2613179a-6c90-4de1-ae30-50a6ebd086c5"
      },
      "outputs": [
        {
          "output_type": "stream",
          "name": "stdout",
          "text": [
            "Looking in indexes: https://pypi.org/simple, https://us-python.pkg.dev/colab-wheels/public/simple/\n",
            "Requirement already satisfied: yfinance in /usr/local/lib/python3.10/dist-packages (0.2.18)\n",
            "Requirement already satisfied: pandas>=1.3.0 in /usr/local/lib/python3.10/dist-packages (from yfinance) (1.5.3)\n",
            "Requirement already satisfied: numpy>=1.16.5 in /usr/local/lib/python3.10/dist-packages (from yfinance) (1.22.4)\n",
            "Requirement already satisfied: requests>=2.26 in /usr/local/lib/python3.10/dist-packages (from yfinance) (2.27.1)\n",
            "Requirement already satisfied: multitasking>=0.0.7 in /usr/local/lib/python3.10/dist-packages (from yfinance) (0.0.11)\n",
            "Requirement already satisfied: lxml>=4.9.1 in /usr/local/lib/python3.10/dist-packages (from yfinance) (4.9.2)\n",
            "Requirement already satisfied: appdirs>=1.4.4 in /usr/local/lib/python3.10/dist-packages (from yfinance) (1.4.4)\n",
            "Requirement already satisfied: pytz>=2022.5 in /usr/local/lib/python3.10/dist-packages (from yfinance) (2022.7.1)\n",
            "Requirement already satisfied: frozendict>=2.3.4 in /usr/local/lib/python3.10/dist-packages (from yfinance) (2.3.7)\n",
            "Requirement already satisfied: cryptography>=3.3.2 in /usr/local/lib/python3.10/dist-packages (from yfinance) (40.0.2)\n",
            "Requirement already satisfied: beautifulsoup4>=4.11.1 in /usr/local/lib/python3.10/dist-packages (from yfinance) (4.11.2)\n",
            "Requirement already satisfied: html5lib>=1.1 in /usr/local/lib/python3.10/dist-packages (from yfinance) (1.1)\n",
            "Requirement already satisfied: soupsieve>1.2 in /usr/local/lib/python3.10/dist-packages (from beautifulsoup4>=4.11.1->yfinance) (2.4.1)\n",
            "Requirement already satisfied: cffi>=1.12 in /usr/local/lib/python3.10/dist-packages (from cryptography>=3.3.2->yfinance) (1.15.1)\n",
            "Requirement already satisfied: six>=1.9 in /usr/local/lib/python3.10/dist-packages (from html5lib>=1.1->yfinance) (1.16.0)\n",
            "Requirement already satisfied: webencodings in /usr/local/lib/python3.10/dist-packages (from html5lib>=1.1->yfinance) (0.5.1)\n",
            "Requirement already satisfied: python-dateutil>=2.8.1 in /usr/local/lib/python3.10/dist-packages (from pandas>=1.3.0->yfinance) (2.8.2)\n",
            "Requirement already satisfied: urllib3<1.27,>=1.21.1 in /usr/local/lib/python3.10/dist-packages (from requests>=2.26->yfinance) (1.26.15)\n",
            "Requirement already satisfied: certifi>=2017.4.17 in /usr/local/lib/python3.10/dist-packages (from requests>=2.26->yfinance) (2022.12.7)\n",
            "Requirement already satisfied: charset-normalizer~=2.0.0 in /usr/local/lib/python3.10/dist-packages (from requests>=2.26->yfinance) (2.0.12)\n",
            "Requirement already satisfied: idna<4,>=2.5 in /usr/local/lib/python3.10/dist-packages (from requests>=2.26->yfinance) (3.4)\n",
            "Requirement already satisfied: pycparser in /usr/local/lib/python3.10/dist-packages (from cffi>=1.12->cryptography>=3.3.2->yfinance) (2.21)\n"
          ]
        }
      ],
      "source": [
        "!pip install --upgrade yfinance\n",
        "import yfinance as yf"
      ]
    },
    {
      "cell_type": "code",
      "source": [
        "K_0=202468383000\n",
        "D_0=216339988000"
      ],
      "metadata": {
        "id": "hl06CI-0gmY9"
      },
      "execution_count": 43,
      "outputs": []
    },
    {
      "cell_type": "code",
      "source": [
        "# import yfinance as yf\n",
        "\n",
        "symbol = 'WALMEX.MX'\n",
        "\n",
        "# Crear un objeto Ticker con el símbolo de la empresa\n",
        "ticker = yf.Ticker(symbol)\n",
        "\n",
        "# Obtener la información financiera más reciente\n",
        "info = ticker.info\n",
        "\n",
        "# Obtener los valores de interés\n",
        "Acc = info.get('sharesOutstanding')\n",
        "Kp = info.get('enterpriseValue')\n",
        "Dp = info.get('totalDebt')\n",
        "\n",
        "# Imprimir los resultados\n",
        "print(Kp, \"vs\", K_0)\n",
        "print(\"Valor empresa entre valor contable:\", Kp / K_0)\n",
        "print(Dp, \"vs\", D_0)\n",
        "print(\"Valor deuda entre pasivos totales:\", Dp / D_0)"
      ],
      "metadata": {
        "id": "oBvfAto3S0um",
        "outputId": "aa30bb18-4fa4-4417-cd26-f40462502300",
        "colab": {
          "base_uri": "https://localhost:8080/"
        }
      },
      "execution_count": 31,
      "outputs": [
        {
          "output_type": "stream",
          "name": "stdout",
          "text": [
            "1282728525824 vs 168144767000.0\n",
            "Valor empresa entre valor contable: 7.628715116801702\n",
            "70001532928 vs 113498948000.0\n",
            "Valor deuda entre pasivos totales: 0.6167593106501745\n"
          ]
        }
      ]
    },
    {
      "cell_type": "code",
      "source": [
        "import pandas as pd\n",
        "import numpy as np\n",
        "from statistics import stdev\n",
        "\n",
        "df = pd.DataFrame()\n",
        "\n",
        "\n",
        "hist=ticker.history(period=\"max\", auto_adjust=True)\n",
        "print(hist.head(3))\n",
        "\n",
        "df['ds'] = hist.index\n",
        "df['y'] = hist['Close'].values\n",
        "\n",
        "df.tail()"
      ],
      "metadata": {
        "colab": {
          "base_uri": "https://localhost:8080/",
          "height": 409
        },
        "id": "5lUKVPf91ibr",
        "outputId": "dc5780c3-11f7-4ad2-ad68-e198ee5213f1"
      },
      "execution_count": 34,
      "outputs": [
        {
          "output_type": "stream",
          "name": "stdout",
          "text": [
            "                               Open      High       Low     Close    Volume  \\\n",
            "Date                                                                          \n",
            "2003-01-01 00:00:00-06:00  4.241726  4.406275  4.241726  4.356911         0   \n",
            "2003-01-02 00:00:00-06:00  4.241726  4.406275  4.241726  4.356911   8334330   \n",
            "2003-01-03 00:00:00-06:00  4.351425  4.378850  4.334970  4.351425  18475096   \n",
            "\n",
            "                           Dividends  Stock Splits  \n",
            "Date                                                \n",
            "2003-01-01 00:00:00-06:00        0.0           0.0  \n",
            "2003-01-02 00:00:00-06:00        0.0           0.0  \n",
            "2003-01-03 00:00:00-06:00        0.0           0.0  \n"
          ]
        },
        {
          "output_type": "execute_result",
          "data": {
            "text/plain": [
              "                            ds          y\n",
              "5151 2023-05-16 00:00:00-06:00  72.779999\n",
              "5152 2023-05-17 00:00:00-06:00  72.279999\n",
              "5153 2023-05-18 00:00:00-06:00  72.010002\n",
              "5154 2023-05-19 00:00:00-06:00  72.169998\n",
              "5155 2023-05-22 00:00:00-06:00  70.610001"
            ],
            "text/html": [
              "\n",
              "  <div id=\"df-99afd6ee-6fd2-42f1-9695-b7e841b6bae6\">\n",
              "    <div class=\"colab-df-container\">\n",
              "      <div>\n",
              "<style scoped>\n",
              "    .dataframe tbody tr th:only-of-type {\n",
              "        vertical-align: middle;\n",
              "    }\n",
              "\n",
              "    .dataframe tbody tr th {\n",
              "        vertical-align: top;\n",
              "    }\n",
              "\n",
              "    .dataframe thead th {\n",
              "        text-align: right;\n",
              "    }\n",
              "</style>\n",
              "<table border=\"1\" class=\"dataframe\">\n",
              "  <thead>\n",
              "    <tr style=\"text-align: right;\">\n",
              "      <th></th>\n",
              "      <th>ds</th>\n",
              "      <th>y</th>\n",
              "    </tr>\n",
              "  </thead>\n",
              "  <tbody>\n",
              "    <tr>\n",
              "      <th>5151</th>\n",
              "      <td>2023-05-16 00:00:00-06:00</td>\n",
              "      <td>72.779999</td>\n",
              "    </tr>\n",
              "    <tr>\n",
              "      <th>5152</th>\n",
              "      <td>2023-05-17 00:00:00-06:00</td>\n",
              "      <td>72.279999</td>\n",
              "    </tr>\n",
              "    <tr>\n",
              "      <th>5153</th>\n",
              "      <td>2023-05-18 00:00:00-06:00</td>\n",
              "      <td>72.010002</td>\n",
              "    </tr>\n",
              "    <tr>\n",
              "      <th>5154</th>\n",
              "      <td>2023-05-19 00:00:00-06:00</td>\n",
              "      <td>72.169998</td>\n",
              "    </tr>\n",
              "    <tr>\n",
              "      <th>5155</th>\n",
              "      <td>2023-05-22 00:00:00-06:00</td>\n",
              "      <td>70.610001</td>\n",
              "    </tr>\n",
              "  </tbody>\n",
              "</table>\n",
              "</div>\n",
              "      <button class=\"colab-df-convert\" onclick=\"convertToInteractive('df-99afd6ee-6fd2-42f1-9695-b7e841b6bae6')\"\n",
              "              title=\"Convert this dataframe to an interactive table.\"\n",
              "              style=\"display:none;\">\n",
              "        \n",
              "  <svg xmlns=\"http://www.w3.org/2000/svg\" height=\"24px\"viewBox=\"0 0 24 24\"\n",
              "       width=\"24px\">\n",
              "    <path d=\"M0 0h24v24H0V0z\" fill=\"none\"/>\n",
              "    <path d=\"M18.56 5.44l.94 2.06.94-2.06 2.06-.94-2.06-.94-.94-2.06-.94 2.06-2.06.94zm-11 1L8.5 8.5l.94-2.06 2.06-.94-2.06-.94L8.5 2.5l-.94 2.06-2.06.94zm10 10l.94 2.06.94-2.06 2.06-.94-2.06-.94-.94-2.06-.94 2.06-2.06.94z\"/><path d=\"M17.41 7.96l-1.37-1.37c-.4-.4-.92-.59-1.43-.59-.52 0-1.04.2-1.43.59L10.3 9.45l-7.72 7.72c-.78.78-.78 2.05 0 2.83L4 21.41c.39.39.9.59 1.41.59.51 0 1.02-.2 1.41-.59l7.78-7.78 2.81-2.81c.8-.78.8-2.07 0-2.86zM5.41 20L4 18.59l7.72-7.72 1.47 1.35L5.41 20z\"/>\n",
              "  </svg>\n",
              "      </button>\n",
              "      \n",
              "  <style>\n",
              "    .colab-df-container {\n",
              "      display:flex;\n",
              "      flex-wrap:wrap;\n",
              "      gap: 12px;\n",
              "    }\n",
              "\n",
              "    .colab-df-convert {\n",
              "      background-color: #E8F0FE;\n",
              "      border: none;\n",
              "      border-radius: 50%;\n",
              "      cursor: pointer;\n",
              "      display: none;\n",
              "      fill: #1967D2;\n",
              "      height: 32px;\n",
              "      padding: 0 0 0 0;\n",
              "      width: 32px;\n",
              "    }\n",
              "\n",
              "    .colab-df-convert:hover {\n",
              "      background-color: #E2EBFA;\n",
              "      box-shadow: 0px 1px 2px rgba(60, 64, 67, 0.3), 0px 1px 3px 1px rgba(60, 64, 67, 0.15);\n",
              "      fill: #174EA6;\n",
              "    }\n",
              "\n",
              "    [theme=dark] .colab-df-convert {\n",
              "      background-color: #3B4455;\n",
              "      fill: #D2E3FC;\n",
              "    }\n",
              "\n",
              "    [theme=dark] .colab-df-convert:hover {\n",
              "      background-color: #434B5C;\n",
              "      box-shadow: 0px 1px 3px 1px rgba(0, 0, 0, 0.15);\n",
              "      filter: drop-shadow(0px 1px 2px rgba(0, 0, 0, 0.3));\n",
              "      fill: #FFFFFF;\n",
              "    }\n",
              "  </style>\n",
              "\n",
              "      <script>\n",
              "        const buttonEl =\n",
              "          document.querySelector('#df-99afd6ee-6fd2-42f1-9695-b7e841b6bae6 button.colab-df-convert');\n",
              "        buttonEl.style.display =\n",
              "          google.colab.kernel.accessAllowed ? 'block' : 'none';\n",
              "\n",
              "        async function convertToInteractive(key) {\n",
              "          const element = document.querySelector('#df-99afd6ee-6fd2-42f1-9695-b7e841b6bae6');\n",
              "          const dataTable =\n",
              "            await google.colab.kernel.invokeFunction('convertToInteractive',\n",
              "                                                     [key], {});\n",
              "          if (!dataTable) return;\n",
              "\n",
              "          const docLinkHtml = 'Like what you see? Visit the ' +\n",
              "            '<a target=\"_blank\" href=https://colab.research.google.com/notebooks/data_table.ipynb>data table notebook</a>'\n",
              "            + ' to learn more about interactive tables.';\n",
              "          element.innerHTML = '';\n",
              "          dataTable['output_type'] = 'display_data';\n",
              "          await google.colab.output.renderOutput(dataTable, element);\n",
              "          const docLink = document.createElement('div');\n",
              "          docLink.innerHTML = docLinkHtml;\n",
              "          element.appendChild(docLink);\n",
              "        }\n",
              "      </script>\n",
              "    </div>\n",
              "  </div>\n",
              "  "
            ]
          },
          "metadata": {},
          "execution_count": 34
        }
      ]
    },
    {
      "cell_type": "code",
      "source": [
        "Delta_A = df[df.ds<=\"2023-05-22\"]['y'].pct_change(1) # 1 for ONE DAY lookback\n",
        "vol_A=stdev(Delta_A[Delta_A.notnull()])*np.sqrt(252)\n",
        "\n",
        "vol_A"
      ],
      "metadata": {
        "colab": {
          "base_uri": "https://localhost:8080/"
        },
        "id": "It4s-uE52T13",
        "outputId": "092ff327-e45d-4971-b95a-96b5362d6fec"
      },
      "execution_count": 35,
      "outputs": [
        {
          "output_type": "execute_result",
          "data": {
            "text/plain": [
              "0.2635114887400905"
            ]
          },
          "metadata": {},
          "execution_count": 35
        }
      ]
    },
    {
      "cell_type": "code",
      "source": [
        "df[df.ds==\"2023-05-22\"]['y']*Acc\n",
        "# print(Acc)"
      ],
      "metadata": {
        "id": "bTdfbE5JWDTT",
        "outputId": "fa8b2942-3791-4dfd-a359-14cb1b2cf9a5",
        "colab": {
          "base_uri": "https://localhost:8080/"
        }
      },
      "execution_count": 39,
      "outputs": [
        {
          "output_type": "execute_result",
          "data": {
            "text/plain": [
              "5155    1.232949e+12\n",
              "Name: y, dtype: float64"
            ]
          },
          "metadata": {},
          "execution_count": 39
        }
      ]
    },
    {
      "cell_type": "code",
      "source": [
        "A_0=df[df.ds==\"2023-05-22\"]['y']\n",
        "A_0= A_0.values[0]*Acc\n",
        "print(A_0)\n",
        "\n",
        "\n",
        "print(\"Valor teórico de acciones entre valor de empresa yahoo\",A_0/Kp)\n",
        "\n",
        "print(K_0)\n",
        "print(\"Valor teórico de acciones entre valor de capital social contable\",A_0/np.array(K_0))\n",
        "# print(K/A)\n",
        "\n",
        "r=.113\n",
        "T=1\n"
      ],
      "metadata": {
        "colab": {
          "base_uri": "https://localhost:8080/"
        },
        "id": "-hW2WEi38oOM",
        "outputId": "030f225d-f1ce-4dd0-888f-537bae15da35"
      },
      "execution_count": 44,
      "outputs": [
        {
          "output_type": "stream",
          "name": "stdout",
          "text": [
            "1232949433024.3125\n",
            "Valor teórico de acciones entre valor de empresa yahoo 0.9611928075212093\n",
            "202468383000\n",
            "Valor teórico de acciones entre valor de capital social contable 6.089589963408324\n"
          ]
        }
      ]
    },
    {
      "cell_type": "code",
      "source": [
        "from scipy.optimize import fsolve\n",
        "from scipy.stats import norm\n",
        "import numpy as np\n",
        "x=np.array([D_0,vol_A])\n",
        "\n",
        "K_0=K_0\n",
        "\n",
        "A_0=A_0\n",
        "# *(1-vol_A)\n",
        "\n",
        "#Función para estimar vol_k y D\n",
        "def G(x):\n",
        "  vol_k = x[1]\n",
        "  D = x[0]\n",
        "  F=np.zeros(2)\n",
        "  F[0]=A_0-K_0*norm.cdf((np.log(K_0/D)+(r+0.5*vol_k**2)*T)/(vol_k*np.sqrt(T)),0,1)+D*np.exp(-r*T)*norm.cdf((np.log(K_0/D)+(r-0.5*vol_k**2)*T)/(vol_k*np.sqrt(T)),0,1)\n",
        "  F[1]=A_0*vol_A-vol_k*K_0*norm.cdf((np.log(K_0/D)+(r+0.5*vol_k**2)*T)/(vol_k*np.sqrt(T))) \n",
        "  return F\n",
        "\n",
        "\n",
        "ss=fsolve(G,x,full_output=True)\n",
        "\n",
        "print(ss)\n",
        "\n",
        "# !pip install gekko\n",
        "\n",
        "# from gekko import GEKKO\n",
        "# m=GEKKO()\n",
        "# D,vol_k=[m.Var(1) for i in range(2)]\n",
        "# m.Equations([A_0-K_0*norm.cdf((np.log(K_0/D)+(r+0.5*vol_k**2)*T)/(vol_k*np.sqrt(T)),0,1)+D*np.exp(-r*T)*norm.cdf((np.log(K_0/D)+(r-0.5*vol_k**2)*T)/(vol_k*np.sqrt(T)),0,1)==0, A_0*vol_A-vol_k*K_0*norm.cdf((np.log(K_0/D)+(r+0.5*vol_k**2)*T)/(vol_k*np.sqrt(T))) ==0 ])\n",
        "\n",
        "# m.solve(disp=False)\n",
        "# print(D.value,vol_k.value)\n",
        "\n",
        "\n",
        "print(G(ss[0]))\n",
        "\n",
        "\n",
        "\n",
        "D=ss[0][0]\n",
        "vol_k=ss[0][1]\n",
        "\n",
        "print(\"Valor de D\", D)\n",
        "print(\"Valor de vol_k\", vol_k)\n",
        "\n",
        "# print(D/D_0)\n",
        "# print(vol_A/vol_K)\n",
        "\n",
        "\n",
        "# #K_0=164370\n",
        "\n",
        "# ss=multiroot(G,x,positive = TRUE) #RESOLVER EL SISTEMA.\n",
        "\n",
        "# D=ss$root[1]\n",
        "# vol_k=ss$root[2]\n",
        "# ss$root[1]/D_0\n",
        "# vol_A/ss$root[2]\n",
        "# G(c(D,vol_k))\n",
        "#Probabilidad de incumplimiento\n",
        "PD_merton=1-norm.cdf((np.log(K_0/D)+(r+0.5*vol_k**2)*T)/(vol_k*np.sqrt(T)))\n",
        "print(PD_merton)"
      ],
      "metadata": {
        "colab": {
          "base_uri": "https://localhost:8080/"
        },
        "id": "IBOk-TJnHK7J",
        "outputId": "8101e616-5719-44d3-81c3-19c6df00222f"
      },
      "execution_count": 47,
      "outputs": [
        {
          "output_type": "stream",
          "name": "stdout",
          "text": [
            "(array([5.57342619e+10, 2.53285348e-01]), {'nfev': 5, 'fjac': array([[-1.00000000e+00, -1.88642137e-10],\n",
            "       [ 1.88642137e-10, -1.00000000e+00]]), 'r': array([-8.93150660e-01, -2.71014771e+02,  1.28272853e+12]), 'qtf': array([632.58208466,  27.28607166]), 'fvec': array([ 0.00000000e+00, -6.10351562e-05])}, 1, 'The solution converged.')\n",
            "[ 0.00000000e+00 -6.10351562e-05]\n",
            "Valor de D 55734261891.74116\n",
            "Valor de vol_k 0.25328534767618116\n",
            "0.0\n"
          ]
        }
      ]
    },
    {
      "cell_type": "markdown",
      "source": [
        "Si la ecuación no converge es porque $A_0>K_0$"
      ],
      "metadata": {
        "id": "XqCDJLAidOdx"
      }
    },
    {
      "cell_type": "code",
      "source": [
        "D=ss[0][0]\n",
        "vol_k=ss[0][1]\n",
        "\n",
        "PD_merton=1-norm.cdf((np.log(K_0/D)+(r+0.5*vol_k**2)*T)/(vol_k*np.sqrt(T)))\n",
        "print(PD_merton)"
      ],
      "metadata": {
        "colab": {
          "base_uri": "https://localhost:8080/"
        },
        "id": "XS4u-Ue_y3m9",
        "outputId": "8ed14a0e-fa88-48a4-efb1-9ffe70b378db"
      },
      "execution_count": null,
      "outputs": [
        {
          "output_type": "stream",
          "name": "stdout",
          "text": [
            "3.431250505947503e-09\n"
          ]
        }
      ]
    },
    {
      "cell_type": "markdown",
      "source": [
        "## Conclusiones\n",
        "\n",
        "1. Verificar el valor de $A_0$, que no sea mucho mayor que $K_0$.\n",
        "2. Verificar el valor de la deuda."
      ],
      "metadata": {
        "id": "mWMi2-zCzBnI"
      }
    },
    {
      "cell_type": "markdown",
      "source": [
        "# KMV\n"
      ],
      "metadata": {
        "id": "pTppO640zTvX"
      }
    },
    {
      "cell_type": "markdown",
      "source": [
        "En KMV se encuentra el valor de $K_0$ y $\\sigma_K$, dados los demás parámetros."
      ],
      "metadata": {
        "id": "KdnamzpAzjwf"
      }
    },
    {
      "cell_type": "code",
      "source": [
        "print(\"A_0:\", A_0)\n",
        "print(\"Valor de K_0\", K_0)\n",
        "print(\"Valor de vol_A\", vol_A)\n",
        "print(\"Valor de Deuda Actual\", D_0)\n",
        "print(\"Tasa libre de riesgo\", r)\n",
        "print(\"Temporalidad\", T)"
      ],
      "metadata": {
        "colab": {
          "base_uri": "https://localhost:8080/"
        },
        "id": "Che8UpUCzVTM",
        "outputId": "9f12cfd5-e192-493e-ac4c-679ebc1ad3ab"
      },
      "execution_count": null,
      "outputs": [
        {
          "output_type": "stream",
          "name": "stdout",
          "text": [
            "A_0: 748430637344.3221\n",
            "Valor de K_0 1267894190080\n",
            "Valor de vol_A 0.2644493138143713\n",
            "Valor de Deuda Actual 208507468000.0\n",
            "Tasa libre de riesgo 0.05\n",
            "Temporalidad 1\n"
          ]
        }
      ]
    },
    {
      "cell_type": "code",
      "source": [
        "K_0=Kp\n",
        "\n",
        "x=np.array([K_0,vol_A])\n",
        "\n",
        "D=D_0*4\n",
        "#A_0=A_0*1/2\n",
        "\n",
        "#Función para estimar vol_k y K_0\n",
        "def G_kmv(x):\n",
        "  vol_k = x[1]\n",
        "  K_0 = x[0]  #modificar el valor inicial de K\n",
        "  F=np.zeros(2)\n",
        "  F[0]=A_0-K_0*norm.cdf((np.log(K_0/D)+(r+0.5*vol_k**2)*T)/(vol_k*np.sqrt(T)),0,1)+D*np.exp(-r*T)*norm.cdf((np.log(K_0/D)+(r-0.5*vol_k**2)*T)/(vol_k*np.sqrt(T)),0,1)\n",
        "  F[1]=A_0*vol_A-vol_k*K_0*norm.cdf((np.log(K_0/D)+(r+0.5*vol_k**2)*T)/(vol_k*np.sqrt(T))) \n",
        "  return F\n",
        "\n",
        "\n",
        "ss=fsolve(G_kmv,x,full_output=True)\n",
        "\n",
        "print(ss)\n",
        "\n",
        "\n",
        "\n",
        "\n",
        "\n",
        "K_e=ss[0][0]\n",
        "vol_k=ss[0][1]\n",
        "print(\"Cociente K_0/D_0\", K_e/D_0)\n",
        "print(\"Cociente vol_K/vol_A\",vol_k/vol_A)\n",
        "print(\"Valor de solución en función:\")\n",
        "G_kmv(ss[0])\n",
        "\n",
        "print(\"Deuda\",D)\n",
        "print(\"Valor empresa estimada\",K_e)\n",
        "print(\"Valor vol_k\",vol_k)\n",
        "\n",
        "\n",
        "DI=(K_e-D)/(vol_k*K_e)\n",
        "print(\"DI\")\n",
        "DI\n",
        "EDF=norm.cdf(-DI,0,1)\n",
        "print(\"EDF Normal\")\n",
        "EDF\n"
      ],
      "metadata": {
        "colab": {
          "base_uri": "https://localhost:8080/"
        },
        "id": "CqGTc-jj0Ac3",
        "outputId": "65c19f7e-5764-4901-ab43-bc1f21df5d09"
      },
      "execution_count": null,
      "outputs": [
        {
          "output_type": "stream",
          "name": "stdout",
          "text": [
            "(array([1.54178439e+12, 1.28372025e-01]), {'nfev': 10, 'fjac': array([[-0.9982574 , -0.05900985],\n",
            "       [ 0.05900985, -0.9982574 ]]), 'r': array([1.02218804e+00, 9.82578485e+10, 1.50833272e+12]), 'qtf': array([  79.5539131 , -336.55786685]), 'fvec': array([ 0.00000000e+00, -3.05175781e-05])}, 1, 'The solution converged.')\n",
            "Cociente K_0/D_0 7.394384500387208\n",
            "Cociente vol_K/vol_A 0.48543149255760965\n",
            "Valor de solución en función:\n",
            "Deuda 834029872000.0\n",
            "Valor empresa estimada 1541784389594.1816\n",
            "Valor vol_k 0.12837202511074597\n",
            "DI\n",
            "EDF Normal\n"
          ]
        },
        {
          "output_type": "execute_result",
          "data": {
            "text/plain": [
              "0.00017449468649001438"
            ]
          },
          "metadata": {},
          "execution_count": 38
        }
      ]
    },
    {
      "cell_type": "markdown",
      "source": [
        "## Conclusiones\n",
        "\n",
        "Hace más sentido utilizar KMV cuando $A_0>K_0$, y tiene la ventaja de poder utilizar una deuda \"objetivo\", para calcular una probabilidad de incumplimiento."
      ],
      "metadata": {
        "id": "z4wozuec2OPp"
      }
    }
  ]
}